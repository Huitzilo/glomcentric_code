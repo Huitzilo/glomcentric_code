{
 "cells": [
  {
   "cell_type": "markdown",
   "metadata": {},
   "source": [
    "# Obtain MOR18-2 spectrum from factorization"
   ]
  },
  {
   "cell_type": "code",
   "execution_count": 26,
   "metadata": {
    "collapsed": false
   },
   "outputs": [],
   "source": [
    "#import sys\n",
    "#sys.path.append('/home/jan/Dokumente/Code/FUImaging/')"
   ]
  },
  {
   "cell_type": "code",
   "execution_count": 27,
   "metadata": {
    "collapsed": false
   },
   "outputs": [],
   "source": [
    "import matplotlib.pyplot as plt\n",
    "import matplotlib\n",
    "import numpy as np\n",
    "import os, glob, json, pickle, csv\n",
    "import scipy.stats\n",
    "from scipy.spatial.distance import pdist, squareform\n",
    "from scipy.cluster.hierarchy import linkage, dendrogram\n",
    "from collections import defaultdict\n",
    "from PIL import Image\n",
    "from sklearn.isotonic import IsotonicRegression\n",
    "\n",
    "import regnmf.ImageAnalysisComponents as ia\n",
    "from ModeSelector import AssignMode"
   ]
  },
  {
   "cell_type": "markdown",
   "metadata": {},
   "source": [
    "### Specify parameter"
   ]
  },
  {
   "cell_type": "code",
   "execution_count": 28,
   "metadata": {
    "collapsed": false
   },
   "outputs": [],
   "source": [
    "stim_window = (8,12) #(3,5) \n",
    "\n",
    "#method mask for components to be used. Use string with files to be opened. Use wildmark '*' for changing values.\n",
    "method =  'nnmf_20_sm5_convex_negTimelowSP_sp*_sph_meas' #'sica_200_ios_meas' #\n",
    "\n",
    "# datalocations [if you use the standard scheme, only modify basepath]\n",
    "basepath = os.path.realpath('../glomcentric_data_preprocessed')\n",
    "data_location = os.path.join(basepath, 'MOBdecomposed')\n",
    "bg_location = os.path.join(basepath, 'MOBconverted')\n",
    "aliasfile = os.path.join(basepath, 'DataDicts', 'alias_sph.json')\n",
    "datadict_path = os.path.join(basepath, 'DataDicts')\n",
    "savepath182modes = os.path.join(basepath, 'Vis', 'MOR18-2modes')\n",
    "mor182specSPH_file = os.path.join(basepath, 'DataDicts', 'MOR18-2spec_sph.json')\n",
    "mor182specIOS_file = os.path.join(basepath, 'DataDicts', 'MOR18-2spec.json')\n",
    "\n",
    "savepath182spec = os.path.join(basepath, 'Vis', 'MOR18-2spec')"
   ]
  },
  {
   "cell_type": "code",
   "execution_count": 8,
   "metadata": {
    "collapsed": false
   },
   "outputs": [],
   "source": [
    "animals = [a for a in os.listdir(data_location) if 'FRV' in a]"
   ]
  },
  {
   "cell_type": "markdown",
   "metadata": {},
   "source": [
    "### GUI to manually assign MOR18-2 mode"
   ]
  },
  {
   "cell_type": "markdown",
   "metadata": {},
   "source": [
    "Load or create dictionary with mode label (alias)"
   ]
  },
  {
   "cell_type": "code",
   "execution_count": 9,
   "metadata": {
    "collapsed": false
   },
   "outputs": [
    {
     "name": "stdout",
     "output_type": "stream",
     "text": [
      "Using previously populated alias file. Contains keys:\n",
      "nnmf_20_sm5_convex_negTimelowSP_sp*_sph_meas\n",
      "nnmf_50_sm2_convex_negTimelowSP_sp*_sph_meas\n",
      "WARNING: assigning modes will overwrite previous assignments for method\n",
      "nnmf_20_sm5_convex_negTimelowSP_sp*_sph_meas\n"
     ]
    }
   ],
   "source": [
    "if os.path.exists(aliasfile):\n",
    "    alias_dict = json.load(open(aliasfile))\n",
    "    print(\"Using previously populated alias file. Contains keys:\")\n",
    "    for k in alias_dict.keys(): \n",
    "        print(k)\n",
    "else:\n",
    "    alias_dict = {}\n",
    "if method not in alias_dict:\n",
    "    alias_dict[method]={}\n",
    "else:\n",
    "    print(\"WARNING: assigning modes will overwrite previous assignments for method\\n{}\".format(method))"
   ]
  },
  {
   "cell_type": "markdown",
   "metadata": {},
   "source": [
    "Left panel shows all extracted modes (blue modes with high stimulus correlation >0.5, grey all others). Right panel shows currently selected mode. Press any pixel to select the mode, most strongly participation in this pixel. Hit button to mark current mode as MOR18-2 mode (becomes red-yellow).\n",
    "\n",
    "Note: The ROIs extracted from the z-stacks are organized in the way, that MOR18-2 glomeruli are oultined first. That is the first ROI in the rois file is always a MOR18-2 glomerulus and sometimes the second, too. Therefore the first ROI is drawn in red and the second in magenta. Compare with the post-mortem sph stacks to identify if which should be selected."
   ]
  },
  {
   "cell_type": "code",
   "execution_count": 6,
   "metadata": {
    "collapsed": false
   },
   "outputs": [
    {
     "name": "stderr",
     "output_type": "stream",
     "text": [
      "regnmf/ImageAnalysisComponents.py:74: FutureWarning: elementwise comparison failed; returning scalar instead, but in the future will perform elementwise comparison\n",
      "  if not(series == ''):\n",
      "/Users/micha/anaconda/lib/python2.7/site-packages/matplotlib/collections.py:650: FutureWarning: elementwise comparison failed; returning scalar instead, but in the future will perform elementwise comparison\n",
      "  if self._edgecolors_original != str('face'):\n"
     ]
    },
    {
     "name": "stdout",
     "output_type": "stream",
     "text": [
      "assign modes for method\n",
      "nnmf_20_sm5_convex_negTimelowSP_sp*_sph_meas\n",
      "['/Users/micha/Documents/Manuscripts/MOL23/glomcentric_data_preprocessed/MOBdecomposed/120216FRVb/nnmf_20_sm5_convex_negTimelowSP_sp01_sph_meas.npy']\n",
      "['/Users/micha/Documents/Manuscripts/MOL23/glomcentric_data_preprocessed/MOBdecomposed/120217FRVg/nnmf_20_sm5_convex_negTimelowSP_sp02_sph_meas.npy']\n",
      "['/Users/micha/Documents/Manuscripts/MOL23/glomcentric_data_preprocessed/MOBdecomposed/120221FRVg/nnmf_20_sm5_convex_negTimelowSP_sp01_sph_meas.npy']\n",
      "['/Users/micha/Documents/Manuscripts/MOL23/glomcentric_data_preprocessed/MOBdecomposed/120222FRV/nnmf_20_sm5_convex_negTimelowSP_sp03_sph_meas.npy']\n",
      "['/Users/micha/Documents/Manuscripts/MOL23/glomcentric_data_preprocessed/MOBdecomposed/120223FRV/nnmf_20_sm5_convex_negTimelowSP_sp01_sph_meas.npy']\n",
      "['/Users/micha/Documents/Manuscripts/MOL23/glomcentric_data_preprocessed/MOBdecomposed/120224FRVg/nnmf_20_sm5_convex_negTimelowSP_sp03_sph_meas.npy']\n",
      "['/Users/micha/Documents/Manuscripts/MOL23/glomcentric_data_preprocessed/MOBdecomposed/120306FRV/nnmf_20_sm5_convex_negTimelowSP_sp01_sph_meas.npy']\n",
      "['/Users/micha/Documents/Manuscripts/MOL23/glomcentric_data_preprocessed/MOBdecomposed/120307FRV/nnmf_20_sm5_convex_negTimelowSP_sp02_sph_meas.npy']\n",
      "['/Users/micha/Documents/Manuscripts/MOL23/glomcentric_data_preprocessed/MOBdecomposed/120309FRV/nnmf_20_sm5_convex_negTimelowSP_sp01_sph_meas.npy']\n",
      "['/Users/micha/Documents/Manuscripts/MOL23/glomcentric_data_preprocessed/MOBdecomposed/120311FRVi/nnmf_20_sm5_convex_negTimelowSP_sp04_sph_meas.npy']\n",
      "['/Users/micha/Documents/Manuscripts/MOL23/glomcentric_data_preprocessed/MOBdecomposed/120314FRV/nnmf_20_sm5_convex_negTimelowSP_sp01_sph_meas.npy']\n",
      "['/Users/micha/Documents/Manuscripts/MOL23/glomcentric_data_preprocessed/MOBdecomposed/120315FRV/nnmf_20_sm5_convex_negTimelowSP_sp03_sph_meas.npy']\n",
      "['/Users/micha/Documents/Manuscripts/MOL23/glomcentric_data_preprocessed/MOBdecomposed/120325FRVil/nnmf_20_sm5_convex_negTimelowSP_sp02_sph_meas.npy']\n",
      "['/Users/micha/Documents/Manuscripts/MOL23/glomcentric_data_preprocessed/MOBdecomposed/120326FRV/nnmf_20_sm5_convex_negTimelowSP_sp01_sph_meas.npy']\n"
     ]
    },
    {
     "name": "stderr",
     "output_type": "stream",
     "text": [
      "/Users/micha/anaconda/lib/python2.7/site-packages/matplotlib/collections.py:590: FutureWarning: elementwise comparison failed; returning scalar instead, but in the future will perform elementwise comparison\n",
      "  if self._edgecolors == str('face'):\n"
     ]
    }
   ],
   "source": [
    "print(\"assign modes for method\\n{}\".format(method))\n",
    "for animal in np.sort(animals):\n",
    "    bg = plt.imread(os.path.join(bg_location, animal, 'bg.png'))\n",
    "    \n",
    "    rois = ia.TimeSeries()\n",
    "    rois.load(os.path.join(bg_location, animal, 'rois')) \n",
    "    roicolor = defaultdict(lambda: 'y')\n",
    "    roicolor[0] = 'r'\n",
    "    roicolor[1] = 'm'\n",
    "    roidict = {'data':rois, 'colors':roicolor}\n",
    "    \n",
    "    filename = glob.glob(os.path.realpath(os.path.join(data_location, animal, method+'.npy')))\n",
    "    print filename\n",
    "    assert len(filename)==1\n",
    "    filename = filename[0].split('.')[0]\n",
    "    ts = ia.TimeSeries()\n",
    "    ts.load(filename)\n",
    "    \n",
    "    odor_response = ia.TrialMean()(ia.CutOut(stim_window)(ts))\n",
    "    ts.t2t = ia.CalcStimulusDrive()(odor_response)._series.squeeze() \n",
    "      \n",
    "    if (animal in alias_dict[method]):\n",
    "        alias_method = alias_dict[method][animal]\n",
    "    else:\n",
    "        alias_method = {}\n",
    "    selector = AssignMode({'mf':ts, 'bg':bg, 'alias':alias_method, 'roi':roidict})\n",
    "    plt.show()\n",
    "    if selector.alias:\n",
    "        alias_dict[method][animal]=selector.alias\n",
    "    elif animal in alias_dict[method]:\n",
    "        alias_dict[method].pop(animal)"
   ]
  },
  {
   "cell_type": "markdown",
   "metadata": {},
   "source": [
    "save the assignment"
   ]
  },
  {
   "cell_type": "code",
   "execution_count": 12,
   "metadata": {
    "collapsed": false
   },
   "outputs": [],
   "source": [
    "json.dump(alias_dict, open(aliasfile, 'w'))"
   ]
  },
  {
   "cell_type": "markdown",
   "metadata": {},
   "source": [
    "### Summarize extracted modes for methods"
   ]
  },
  {
   "cell_type": "code",
   "execution_count": 10,
   "metadata": {
    "collapsed": false
   },
   "outputs": [
    {
     "name": "stdout",
     "output_type": "stream",
     "text": [
      "nnmf_20_sm5_convex_negTimelowSP_sp*_sph_meas with 12 identified MOR18-2 modes\n",
      "nnmf_50_sm2_convex_negTimelowSP_sp*_sph_meas with 12 identified MOR18-2 modes\n"
     ]
    }
   ],
   "source": [
    "for k, v in alias_dict.items():\n",
    "    print '%s with %d identified MOR18-2 modes'%(k, len(v))"
   ]
  },
  {
   "cell_type": "markdown",
   "metadata": {},
   "source": [
    "### Plot all extracted MOR18-2 modes"
   ]
  },
  {
   "cell_type": "code",
   "execution_count": 11,
   "metadata": {
    "collapsed": false
   },
   "outputs": [
    {
     "name": "stderr",
     "output_type": "stream",
     "text": [
      "regnmf/ImageAnalysisComponents.py:74: FutureWarning: elementwise comparison failed; returning scalar instead, but in the future will perform elementwise comparison\n",
      "  if not(series == ''):\n",
      "/Users/micha/anaconda/lib/python2.7/site-packages/matplotlib/collections.py:650: FutureWarning: elementwise comparison failed; returning scalar instead, but in the future will perform elementwise comparison\n",
      "  if self._edgecolors_original != str('face'):\n",
      "/Users/micha/anaconda/lib/python2.7/site-packages/matplotlib/collections.py:590: FutureWarning: elementwise comparison failed; returning scalar instead, but in the future will perform elementwise comparison\n",
      "  if self._edgecolors == str('face'):\n"
     ]
    }
   ],
   "source": [
    "methods = alias_dict.keys()\n",
    "\n",
    "for method in methods:\n",
    "    fig = plt.figure(figsize=(20, 3*len(alias_dict[method])))\n",
    "    gs = matplotlib.gridspec.GridSpec(len(alias_dict[method]),1, left=0.02, hspace=0.7, top=0.97, right=0.99)\n",
    "    \n",
    "    modecolors = ['g','b','c']\n",
    "    for ix, animal in enumerate(np.sort(alias_dict[method].keys())):\n",
    "        gs_inner = matplotlib.gridspec.GridSpecFromSubplotSpec(1,2, subplot_spec=gs[ix], width_ratios=(2,8))\n",
    "        ax = fig.add_subplot(gs_inner[0])    \n",
    "        bg = Image.open(os.path.join(bg_location, animal, 'bg.png'))\n",
    "        bg = bg.convert('L')\n",
    "        \n",
    "        mf = ia.TimeSeries()\n",
    "        filename = glob.glob(os.path.join(data_location, animal, method+'.npy'))\n",
    "        assert len(filename) == 1\n",
    "        filename = filename[0].split('.')[0]\n",
    "        mf.load(filename)\n",
    "        \n",
    "        bg = bg.resize(mf.base.shape[::-1])\n",
    "        bg = np.asarray(bg)\n",
    "        \n",
    "        mf = ia.SingleSampleResponse()(ia.TrialMean()(ia.CutOut(stim_window)(mf)))\n",
    "        order_ix = np.argsort(mf.label_stimuli)\n",
    "        mf = ia.SelectTrials()(mf, order_ix)\n",
    "        \n",
    "        myextent = np.array([0, mf.base.shape[1], mf.base.shape[0], 0])-0.5\n",
    "        ax.imshow(bg, interpolation='none', extent=myextent, cmap=plt.cm.bone)\n",
    "        for ix, base_ix in enumerate(alias_dict[method][animal]['MOR18-2']):\n",
    "            ax.contour(mf.base.shaped2D()[base_ix], [-0.3,0.3,0.7], colors=['m']+2*[modecolors[ix]], lw=2)\n",
    "        ax.set_xticks([])\n",
    "        ax.set_yticks([])\n",
    "        ax.set_ylabel(animal)\n",
    "        \n",
    "        ax = fig.add_subplot(gs_inner[1])\n",
    "        for ix, base_ix in enumerate(alias_dict[method][animal]['MOR18-2']):\n",
    "            ax.plot(mf.matrix_shaped()[:,base_ix], color=modecolors[ix])\n",
    "        ax.set_xticks(range(len(order_ix)))\n",
    "        ax.set_xticklabels(mf.label_stimuli, rotation='45', ha='right', size=10)\n",
    "        ax.set_xlim((-0.5,len(order_ix)-0.5))\n",
    "        ax.set_yticks([0,0.5])\n",
    "        \n",
    "    fig.savefig(os.path.join(savepath182modes, 'sph_' + ''.join(method.split('*')) + '.pdf'))\n",
    "    plt.close('all')"
   ]
  },
  {
   "cell_type": "markdown",
   "metadata": {},
   "source": [
    "### Collect and norm 18-2 response spectra "
   ]
  },
  {
   "cell_type": "code",
   "execution_count": 12,
   "metadata": {
    "collapsed": false
   },
   "outputs": [],
   "source": [
    "norm_to = '554-12-1' #'554-12-1' for Methyl propionate, None for unormed responses\n",
    "response_thres = 0.2 #exclude all modes where response to norm_to is below this [promille]\n",
    "skip = [] #animals to skip ('110623s' no undiluted odor)"
   ]
  },
  {
   "cell_type": "markdown",
   "metadata": {},
   "source": [
    "Define function to clear stimuli labels. Thus it determines which stimuli are grouped together. Currently remove 'rechts'/'links' labels, as they correspond to syringe used. And '50grad' as there is no visible effect. Same with old label (marks an old sample of Acetaldehyde)"
   ]
  },
  {
   "cell_type": "code",
   "execution_count": 13,
   "metadata": {
    "collapsed": false
   },
   "outputs": [],
   "source": [
    "to_remove = ['rechts','links','re','li','50grad','old', 'o']\n",
    "\n",
    "def clear_label(label):\n",
    "    if '_' in label:\n",
    "        label_split = label.split('_')\n",
    "    for remove in set(to_remove).intersection(label_split):\n",
    "        label_split.remove(remove)\n",
    "    label = '_'.join(label_split)\n",
    "    return label"
   ]
  },
  {
   "cell_type": "markdown",
   "metadata": {},
   "source": [
    "calculate normed response spec"
   ]
  },
  {
   "cell_type": "code",
   "execution_count": 14,
   "metadata": {
    "collapsed": false
   },
   "outputs": [
    {
     "name": "stdout",
     "output_type": "stream",
     "text": [
      "=========== nnmf_20_sm5_convex_negTimelowSP_sp*_sph_meas ============\n",
      "120216FRVb: mode 0 (of 1) excluded\n",
      "120222FRV: mode 0 (of 1) excluded\n",
      "120223FRV: mode 0 (of 1) excluded\n",
      "120315FRV: mode 0 (of 1) excluded\n",
      "120325FRVil: mode 0 (of 1) excluded\n",
      "=========== nnmf_50_sm2_convex_negTimelowSP_sp*_sph_meas ============\n",
      "120216FRVb: mode 0 (of 1) excluded\n",
      "120217FRVg: mode 0 (of 1) excluded\n",
      "120223FRV: mode 0 (of 1) excluded\n",
      "120325FRVil: mode 0 (of 1) excluded\n",
      "120326FRV: mode 0 (of 1) excluded\n"
     ]
    }
   ],
   "source": [
    "# load existing MOR18-2 spec\n",
    "if os.path.exists(mor182specSPH_file):\n",
    "    mor182spec = json.load(open(mor182specSPH_file))\n",
    "else:\n",
    "    mor182spec = {}\n",
    "\n",
    "for method in alias_dict:\n",
    "    print '=========== %s ============'%method\n",
    "    response_dict = defaultdict(list)\n",
    "    for ix, animal in enumerate(np.sort(alias_dict[method].keys())):\n",
    "        if animal in skip: \n",
    "            continue\n",
    "        \n",
    "        mf = ia.TimeSeries()\n",
    "        filename = glob.glob(os.path.join(data_location, animal, method+'.npy'))\n",
    "        assert len(filename) == 1\n",
    "        filename = filename[0].split('.')[0]\n",
    "        mf.load(filename)\n",
    "      \n",
    "        mf.label_stimuli = [clear_label(i) for i in mf.label_stimuli]\n",
    "        mf = ia.SingleSampleResponse()(ia.TrialMean()(ia.CutOut(stim_window)(mf)))        \n",
    "      \n",
    "        for ix, base_ix in enumerate(alias_dict[method][animal]['MOR18-2']):\n",
    "            resp = mf._series[:,base_ix]\n",
    "            # normieren\n",
    "            if norm_to:\n",
    "                if resp[mf.label_stimuli.index(norm_to)]>response_thres:\n",
    "                    resp /= resp[mf.label_stimuli.index(norm_to)]\n",
    "                    [response_dict[k].append(v) for k,v in zip(mf.label_stimuli, resp)]\n",
    "                else:\n",
    "                    print '%s: mode %d (of %d) excluded'%(animal,ix,len(alias_dict[method][animal]['MOR18-2']))\n",
    "            else:\n",
    "                [response_dict[k].append(v) for k,v in zip(mf.label_stimuli, resp)] \n",
    "    nameadd = 'normed' if norm_to else ''\n",
    "    mor182spec[method+nameadd] = response_dict\n",
    "json.dump(mor182spec, open(mor182specSPH_file, 'w'))"
   ]
  },
  {
   "cell_type": "markdown",
   "metadata": {},
   "source": [
    "## Plot spectra"
   ]
  },
  {
   "cell_type": "code",
   "execution_count": 15,
   "metadata": {
    "collapsed": false
   },
   "outputs": [],
   "source": [
    "method =  'nnmf_20_sm5_convex_negTimelowSP_sp*_sph_measnormed' #normed'\n",
    "average_function = np.median"
   ]
  },
  {
   "cell_type": "code",
   "execution_count": 16,
   "metadata": {
    "collapsed": false
   },
   "outputs": [],
   "source": [
    "def condense_list_dict(dic, reducefct=np.mean):\n",
    "    ''' apply reducefct to every value of dictionary'''\n",
    "    reduced_dict = {}\n",
    "    for k, v in dic.items():\n",
    "        reduced_dict[k] = reducefct(v)\n",
    "    return reduced_dict"
   ]
  },
  {
   "cell_type": "markdown",
   "metadata": {},
   "source": [
    "#### Select relevant odors and sort according to avarage strength"
   ]
  },
  {
   "cell_type": "code",
   "execution_count": 17,
   "metadata": {
    "collapsed": false
   },
   "outputs": [],
   "source": [
    "pure_odors = [o for o in mor182spec[method].keys() if (len(o.split('_'))<2)]\n",
    "pure_odor_resp = [average_function(mor182spec[method][o]) for o in pure_odors]\n",
    "odors_sorted = [pure_odors[i] for i in np.argsort(pure_odor_resp)]\n",
    "spec = [average_function(mor182spec[method][i]) for i in odors_sorted]"
   ]
  },
  {
   "cell_type": "markdown",
   "metadata": {},
   "source": [
    "#### Calculate significance of response to Argon ('7440-37-1') and 2M2P ('623-36-9')"
   ]
  },
  {
   "cell_type": "code",
   "execution_count": 18,
   "metadata": {
    "collapsed": false
   },
   "outputs": [],
   "source": [
    "test = scipy.stats.mannwhitneyu#scipy.stats.ttest_ind #\n",
    "\n",
    "p_val_argon = np.array([test(mor182spec[method]['7440-37-1'], mor182spec[method][i]) for i in odors_sorted])[:,1]\n",
    "p_val_argon[np.isnan(p_val_argon)] = 1\n",
    "p_val_argon[p_val_argon>0.05] = 1\n",
    "\n",
    "p_val_2m2p = np.array([test(mor182spec[method]['623-36-9'], mor182spec[method][i]) for i in odors_sorted])[:,1]\n",
    "p_val_2m2p[np.isnan(p_val_2m2p)] = 1\n",
    "p_val_2m2p[p_val_2m2p>0.05] = 1"
   ]
  },
  {
   "cell_type": "markdown",
   "metadata": {},
   "source": [
    "load odor names"
   ]
  },
  {
   "cell_type": "code",
   "execution_count": 19,
   "metadata": {
    "collapsed": false
   },
   "outputs": [],
   "source": [
    "cas2name = {l[0]:l[1] for l in csv.reader(open(os.path.join(datadict_path,'Name2MomCas.tab')),  delimiter='\\t')}"
   ]
  },
  {
   "cell_type": "markdown",
   "metadata": {},
   "source": [
    "#### Create figure"
   ]
  },
  {
   "cell_type": "code",
   "execution_count": 21,
   "metadata": {
    "collapsed": false
   },
   "outputs": [
    {
     "name": "stderr",
     "output_type": "stream",
     "text": [
      "/Users/micha/anaconda/lib/python2.7/site-packages/matplotlib/image.py:649: UserWarning: The backend (<class 'matplotlib.backends.backend_macosx.RendererMac'>) does not support interpolation='none'. The image will be interpolated with 'nearest` mode.\n",
      "  \"mode.\" % renderer.__class__)\n"
     ]
    }
   ],
   "source": [
    "fig = plt.figure(figsize=(7,7))\n",
    "\n",
    "gs = matplotlib.gridspec.GridSpec(2,1, bottom=0.2, top=0.95, left=0.15, right=0.95, height_ratios=[1,30], hspace=0)\n",
    "\n",
    "num_odors = len(spec)\n",
    "\n",
    "ax = fig.add_subplot(gs[0])\n",
    "ax.imshow(-np.log10(p_val_argon).reshape((1,-1)), plt.cm.binary, interpolation='none', aspect='auto', vmax=9.2)\n",
    "ax.set_xlim((-0.5, num_odors-0.5))\n",
    "ax.set_xticks([])\n",
    "ax.set_yticks([])\n",
    "ax.set_ylabel('p Argon', rotation='0', size=8)\n",
    "\n",
    "ax = fig.add_subplot(gs[1])\n",
    "# individual measurements\n",
    "for ix, mol in enumerate(odors_sorted):\n",
    "    ax.plot(ix, np.array(mor182spec[method][mol]).reshape((1,-1)), '.', mec='none', mfc='0.5')\n",
    "\n",
    "#average activation\n",
    "ax.step(np.arange(num_odors+1)-0.5, [spec[0]]+spec, 'b', lw=2)\n",
    "\n",
    "#decorate\n",
    "ax.set_xticks(np.arange(num_odors))\n",
    "ax.set_xticklabels([cas2name[m].decode(\"utf8\") for m in odors_sorted], rotation='45', ha='right', size=6)\n",
    "#ax.set_xticks(np.arange(0,num_odors,len(spec)/4))\n",
    "#ax.set_xticks([odors_sorted.index(i) for i in ['623-36-9', '7440-37-1',]], minor=True)\n",
    "#ax.set_xticklabels(['2M2P','Argon'], minor=True, size=8, rotation='45', ha='right')\n",
    "\n",
    "ax.set_xlim((-0.5, num_odors-0.5))\n",
    "ax.set_yticks([0,0.5,1])\n",
    "ax.grid()\n",
    "ax.set_ylabel('rel. response')\n",
    "ax.set_xlabel('odor #')\n",
    "\n",
    "fig.savefig(os.path.join(savepath182spec, 'sph_'+''.join(method.split('*'))+'.pdf'))\n",
    "\n",
    "plt.show()"
   ]
  },
  {
   "cell_type": "markdown",
   "metadata": {},
   "source": [
    "### Compare SPH to IOS response"
   ]
  },
  {
   "cell_type": "code",
   "execution_count": 22,
   "metadata": {
    "collapsed": false
   },
   "outputs": [],
   "source": [
    "methodIOS =  'nnmf_200_sm2_convex_negTimelowSP_sp*_ios_measnormed'\n",
    "mor182specIOS = json.load(open(mor182specIOS_file))\n",
    "\n",
    "#Get response for odors included in SPH measurements\n",
    "IOSspec = [average_function(mor182specIOS[methodIOS][o]) for o in odors_sorted]\n",
    "\n",
    "#mask to exclude odors with less than 3 IOS measurements\n",
    "num_IOS = [len(mor182specIOS[methodIOS][o]) for o in odors_sorted]\n",
    "mask = np.array(num_IOS)>3"
   ]
  },
  {
   "cell_type": "markdown",
   "metadata": {},
   "source": [
    "#### Isotonic Regression"
   ]
  },
  {
   "cell_type": "code",
   "execution_count": 23,
   "metadata": {
    "collapsed": false
   },
   "outputs": [
    {
     "data": {
      "text/plain": [
       "IsotonicRegression(increasing=True, out_of_bounds='nan', y_max=None,\n",
       "          y_min=None)"
      ]
     },
     "execution_count": 23,
     "metadata": {},
     "output_type": "execute_result"
    }
   ],
   "source": [
    "iso_r = IsotonicRegression()\n",
    "iso_r.fit(np.array(spec)[mask], np.array(IOSspec)[mask])"
   ]
  },
  {
   "cell_type": "code",
   "execution_count": 24,
   "metadata": {
    "collapsed": false
   },
   "outputs": [],
   "source": [
    "fig = plt.figure()\n",
    "ax = fig.add_axes([0.3,0.1,0.65,0.85])\n",
    "ax.plot(np.array(spec)[mask], np.array(IOSspec)[mask], 'o', mfc='none', mec='k', mew=2)\n",
    "ax.plot([-0.2,1.2],[-0.2,1.2],':k')\n",
    "ax.plot(iso_r.X_, iso_r.y_)\n",
    "ax.set_xticks([0,1])\n",
    "ax.set_yticks(np.array(IOSspec)[mask], minor=True)\n",
    "ax.set_yticklabels([cas2name[odors_sorted[i]].decode(\"utf8\") for i in np.where(mask)[0]], size=6, minor=True)\n",
    "ax.yaxis.set_tick_params(label2On=True, label1On=False)\n",
    "ax.set_yticks([0,1])\n",
    "#ax.yaxis.set_tick_params(label1On=True)\n",
    "plt.show()"
   ]
  },
  {
   "cell_type": "code",
   "execution_count": 25,
   "metadata": {
    "collapsed": false
   },
   "outputs": [
    {
     "name": "stdout",
     "output_type": "stream",
     "text": [
      "rank correlation 0.92, p=0.00000\n"
     ]
    }
   ],
   "source": [
    "print 'rank correlation %.2f, p=%.5f'%scipy.stats.spearmanr(np.array(spec)[mask], np.array(IOSspec)[mask])"
   ]
  },
  {
   "cell_type": "code",
   "execution_count": null,
   "metadata": {
    "collapsed": false
   },
   "outputs": [],
   "source": []
  }
 ],
 "metadata": {
  "kernelspec": {
   "display_name": "Python 2",
   "language": "python",
   "name": "python2"
  },
  "language_info": {
   "codemirror_mode": {
    "name": "ipython",
    "version": 2
   },
   "file_extension": ".py",
   "mimetype": "text/x-python",
   "name": "python",
   "nbconvert_exporter": "python",
   "pygments_lexer": "ipython2",
   "version": "2.7.10"
  }
 },
 "nbformat": 4,
 "nbformat_minor": 0
}
