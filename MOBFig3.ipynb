{
 "metadata": {
  "name": ""
 },
 "nbformat": 3,
 "nbformat_minor": 0,
 "worksheets": [
  {
   "cells": [
    {
     "cell_type": "heading",
     "level": 1,
     "metadata": {},
     "source": [
      "Chemical space of odor spectra: Predict and Compare"
     ]
    },
    {
     "cell_type": "code",
     "collapsed": false,
     "input": [
      "import sys\n",
      "sys.path.append('/home/jan/Dokumente/Code/FUImaging/')\n",
      "sys.path.append('/home/jan/Dokumente/Code/BootstrapPrediction/')\n",
      "\n",
      "import ImageAnalysisComponents as ia\n",
      "import datastructures as ds\n",
      "import bootstrap_predictor as bp"
     ],
     "language": "python",
     "metadata": {},
     "outputs": [],
     "prompt_number": 1
    },
    {
     "cell_type": "code",
     "collapsed": false,
     "input": [
      "import glob, csv, json, os, pickle, copy\n",
      "import logging\n",
      "import matplotlib\n",
      "\n",
      "import numpy as np\n",
      "import pylab as plt\n",
      "\n",
      "from scipy.spatial.distance import pdist, squareform\n",
      "from collections import defaultdict\n",
      "from sklearn.svm import SVR, NuSVR\n",
      "from sklearn.ensemble import RandomForestRegressor \n",
      "from sklearn.feature_selection import SelectKBest\n",
      "from sklearn.manifold import MDS\n",
      "from sklearn.isotonic import IsotonicRegression\n",
      "from sklearn.linear_model import LinearRegression\n",
      "from sklearn.metrics import r2_score"
     ],
     "language": "python",
     "metadata": {},
     "outputs": [],
     "prompt_number": 2
    },
    {
     "cell_type": "heading",
     "level": 4,
     "metadata": {},
     "source": [
      "Set level of output messages"
     ]
    },
    {
     "cell_type": "code",
     "collapsed": false,
     "input": [
      "logger = logging.getLogger()\n",
      "logger.setLevel('WARNING') #'DEBUG','INFO', 'WARNING'"
     ],
     "language": "python",
     "metadata": {},
     "outputs": [],
     "prompt_number": 3
    },
    {
     "cell_type": "heading",
     "level": 3,
     "metadata": {},
     "source": [
      "Define Helper Functions"
     ]
    },
    {
     "cell_type": "code",
     "collapsed": false,
     "input": [
      "def condense_list_dict(dic, reducefct=np.mean):\n",
      "    ''' apply reducefct to every value of dictionary'''\n",
      "    reduced_dict = {}\n",
      "    for k, v in dic.items():\n",
      "        reduced_dict[k] = reducefct(v)\n",
      "    return reduced_dict"
     ],
     "language": "python",
     "metadata": {},
     "outputs": [],
     "prompt_number": 4
    },
    {
     "cell_type": "heading",
     "level": 2,
     "metadata": {},
     "source": [
      "Read in Feature and Data"
     ]
    },
    {
     "cell_type": "heading",
     "level": 4,
     "metadata": {},
     "source": [
      "Specify parameter"
     ]
    },
    {
     "cell_type": "code",
     "collapsed": false,
     "input": [
      "basepath = os.path.join('/home/jan/Dokumente/MOBData')\n",
      "descriptorpath = os.path.join(basepath, 'ChemBase', 'odors_dez2013')\n",
      "vibpath = os.path.join(basepath, 'ChemBase', 'odors_dez2013', 'Vib')\n",
      "fullMOR182spec_file = os.path.join(basepath, 'DataDicts', 'MOR18-2spec.json')\n",
      "cas2molid_file = os.path.join(basepath, 'ChemBase','odors_dez2013','cas2molid.csv')\n",
      "cas2name_file = os.path.join(basepath, 'DataDicts', 'Name2MomCas.tab')\n",
      "savepath = os.path.join(basepath, 'Vis', 'ChemSpace')\n",
      "bg_path = os.path.join(basepath, 'MOBconverted')\n",
      "fingerprinted_specfile = os.path.join(basepath, 'DataDicts', \n",
      "                                      'spectra_correlation_average_nnmf_150_sm2_convex_sp*_ios_meas', 'ts')"
     ],
     "language": "python",
     "metadata": {},
     "outputs": [],
     "prompt_number": 5
    },
    {
     "cell_type": "heading",
     "level": 4,
     "metadata": {},
     "source": [
      "Create mapping CAS to molecule ID"
     ]
    },
    {
     "cell_type": "markdown",
     "metadata": {},
     "source": [
      "If CAS is ambiguous (enatiomeres), only one instance is picked"
     ]
    },
    {
     "cell_type": "code",
     "collapsed": false,
     "input": [
      "cas2molid = {l[0]:l[1] for l in csv.reader(open(cas2molid_file))}\n",
      "cas2name = {l[0]:l[1] for l in csv.reader(open(cas2name_file),  delimiter='\\t')}\n",
      "molid2name = {v:cas2name[k] for k,v in cas2molid.items() if k in cas2name}"
     ],
     "language": "python",
     "metadata": {},
     "outputs": [],
     "prompt_number": 6
    },
    {
     "cell_type": "heading",
     "level": 3,
     "metadata": {},
     "source": [
      "Load complete feature pickle"
     ]
    },
    {
     "cell_type": "code",
     "collapsed": false,
     "input": [
      "featurespaces = pickle.load(open(os.path.join(basepath, 'DataDicts','fspaces.pik')))"
     ],
     "language": "python",
     "metadata": {},
     "outputs": [],
     "prompt_number": 7
    },
    {
     "cell_type": "heading",
     "level": 3,
     "metadata": {},
     "source": [
      "Full MOR18-2 spectrum"
     ]
    },
    {
     "cell_type": "code",
     "collapsed": false,
     "input": [
      "method = 'nnmf_200_sm2_convex_negTimelowSP_sp*_ios_measnormed'\n",
      "aggregate = np.mean\n",
      "\n",
      "spec = json.load(open(fullMOR182spec_file))\n",
      "mor182_spec_temp = condense_list_dict(spec[method], aggregate)\n",
      "mor182_spec = {}\n",
      "for k, v in mor182_spec_temp.items():\n",
      "    k = k.strip()\n",
      "    if k in cas2molid:\n",
      "        mor182_spec[int(cas2molid[k])]=v\n",
      "    elif len(k.split('_')) == 1:\n",
      "        logger.warning('no molid found for %s'%k)\n",
      "    else:\n",
      "        logger.debug('no molid found for %s'%k)"
     ],
     "language": "python",
     "metadata": {},
     "outputs": [
      {
       "output_type": "stream",
       "stream": "stderr",
       "text": [
        "WARNING:root:no molid found for EA - GEO\n"
       ]
      },
      {
       "output_type": "stream",
       "stream": "stderr",
       "text": [
        "WARNING:root:no molid found for MP - GEO\n"
       ]
      },
      {
       "output_type": "stream",
       "stream": "stderr",
       "text": [
        "WARNING:root:no molid found for Anisole - GEO\n"
       ]
      },
      {
       "output_type": "stream",
       "stream": "stderr",
       "text": [
        "WARNING:root:no molid found for 2M2P-EA\n"
       ]
      },
      {
       "output_type": "stream",
       "stream": "stderr",
       "text": [
        "WARNING:root:no molid found for MP-EA\n"
       ]
      },
      {
       "output_type": "stream",
       "stream": "stderr",
       "text": [
        "WARNING:root:no molid found for Blood A\n"
       ]
      },
      {
       "output_type": "stream",
       "stream": "stderr",
       "text": [
        "WARNING:root:no molid found for 2M2P - GEO\n"
       ]
      },
      {
       "output_type": "stream",
       "stream": "stderr",
       "text": [
        "WARNING:root:no molid found for Blood B\n"
       ]
      },
      {
       "output_type": "stream",
       "stream": "stderr",
       "text": [
        "WARNING:root:no molid found for Anisole-EA\n"
       ]
      }
     ],
     "prompt_number": 8
    },
    {
     "cell_type": "heading",
     "level": 2,
     "metadata": {},
     "source": [
      "Prediction Models"
     ]
    },
    {
     "cell_type": "heading",
     "level": 3,
     "metadata": {},
     "source": [
      "Single Feature Relevance"
     ]
    },
    {
     "cell_type": "heading",
     "level": 4,
     "metadata": {},
     "source": [
      "Helper functions"
     ]
    },
    {
     "cell_type": "code",
     "collapsed": false,
     "input": [
      "class PyramidRegression():\n",
      "\n",
      "    def __init__(self):\n",
      "        self.zenith = None\n",
      "        self.ir1 = None\n",
      "        self.ir2 = None\n",
      "        \n",
      "    def fit(self,x,y):\n",
      "        \n",
      "        ir1 = extIsotonicRegression()\n",
      "        ir2 = extIsotonicRegression(increasing=False)\n",
      "        \n",
      "        order = np.argsort(x)\n",
      "        x = x[order]\n",
      "        y = y[order]\n",
      "        \n",
      "        se_list = []     \n",
      "        se_list.append(np.sum((y-ir1.fit_transform(x,y))**2))\n",
      "        for i in range(1,len(x)-1):\n",
      "            y1 = ir1.fit_transform(x[:i],y[:i])\n",
      "            y2 = ir2.fit_transform(x[i:],y[i:])\n",
      "            se_list.append(np.sum((y[:i]-y1)**2)+np.sum((y[i:]-y2)**2))\n",
      "        se_list.append(np.sum((y-ir2.fit_transform(x,y))**2))\n",
      "        self.turnpoint = np.argmin(se_list)\n",
      "        self.zenith = x[self.turnpoint]\n",
      "        self.X_ = x\n",
      "        # refit with best parameter\n",
      "        yhat1, yhat2 = [], []\n",
      "        if self.turnpoint>0:\n",
      "            self.ir1 = extIsotonicRegression()\n",
      "            yhat1 = self.ir1.fit_transform(x[:self.turnpoint],y[:self.turnpoint])            \n",
      "        if self.turnpoint<(len(x)-1):\n",
      "            self.ir2 = extIsotonicRegression(increasing=False)\n",
      "            yhat2 = self.ir2.fit_transform(x[self.turnpoint:],y[self.turnpoint:])\n",
      "        self.r2 = r2_score(y, np.hstack([yhat1, yhat2]))\n",
      "\n",
      "     \n",
      "    def transform(self,x):\n",
      "        out = np.zeros(x.shape)\n",
      "        mask_raise = x<self.zenith\n",
      "        mask_fall = x>=self.zenith              \n",
      "        if np.sum(mask_raise)>0:\n",
      "            out[mask_raise] = self.ir1.transform(x[mask_raise])\n",
      "        if np.sum(mask_fall)>0:\n",
      "            out[mask_fall] = self.ir2.transform(x[mask_fall])\n",
      "        return out\n",
      "    \n",
      "    def predict(self, x):\n",
      "        return self.transform(x)\n",
      "\n",
      "class extIsotonicRegression(IsotonicRegression):\n",
      "    \n",
      "    def __init__(self, **kwargs):\n",
      "        super(extIsotonicRegression, self).__init__(**kwargs)\n",
      "        \n",
      "    def transform(self, x):\n",
      "        xtemp =  x.copy()\n",
      "        xmin,xmax = np.min(self.X_), np.max(self.X_)\n",
      "        xtemp[xtemp<xmin]=xmin\n",
      "        xtemp[xtemp>xmax]=xmax\n",
      "        return super(extIsotonicRegression, self).transform(xtemp)\n",
      "    \n",
      "    def predict(self, x):\n",
      "        return self.transform(x)\n",
      "\n",
      "def pyramid_score(X,y):\n",
      "    r2 = []\n",
      "    for x in X.T:\n",
      "        py_reg = PyramidRegression()\n",
      "        py_reg.fit(x, y)\n",
      "        r2.append(py_reg.r2) \n",
      "    return np.array(r2), None"
     ],
     "language": "python",
     "metadata": {},
     "outputs": [],
     "prompt_number": 9
    },
    {
     "cell_type": "code",
     "collapsed": false,
     "input": [
      "redo = False\n",
      "\n",
      "if redo:\n",
      "    trainsets = {}\n",
      "    r2 = {}\n",
      "else:\n",
      "    tmp = pickle.load(open(os.path.join(basepath, 'DataDicts','univarreg.pik')))\n",
      "    r2 = tmp['r2']\n",
      "    trainsets = tmp['trainsets']"
     ],
     "language": "python",
     "metadata": {},
     "outputs": [],
     "prompt_number": 10
    },
    {
     "cell_type": "heading",
     "level": 4,
     "metadata": {},
     "source": [
      "Monotonic regressions"
     ]
    },
    {
     "cell_type": "code",
     "collapsed": false,
     "input": [
      "r2['monoincrease'] = defaultdict(list)\n",
      "r2['monodecrease'] = defaultdict(list)\n",
      "r2['linear'] = defaultdict(list)\n",
      "keys = ['edragon_all', 'eva_all', 'ir_all', 'raman_all', 'ijc']\n",
      "for k in keys:\n",
      "    feature = copy.deepcopy(featurespaces[k])\n",
      "    trainsets[k] = ds.TrainData(mor182_spec, feature)\n",
      "    y = trainsets[k].targets\n",
      "    for i, single_feat in enumerate(trainsets[k].features.T):\n",
      "        x = single_feat.copy()+np.random.randn(len(single_feat))*1E-5\n",
      "        ir_reg = IsotonicRegression()\n",
      "        yhat = ir_reg.fit_transform(x, y)\n",
      "        r2['monoincrease'][k].append(r2_score(y, yhat))\n",
      "        \n",
      "        ir_reg = IsotonicRegression(increasing=False)\n",
      "        yhat = ir_reg.fit_transform(x, y)\n",
      "        r2['monodecrease'][k].append(r2_score(y, yhat))\n",
      "        \n",
      "        x = x.reshape((-1,1))\n",
      "        lin_reg = LinearRegression()\n",
      "        lin_reg.fit(x, y)\n",
      "        yhat = lin_reg.predict(x)\n",
      "        r2['linear'][k].append(r2_score(y, yhat))"
     ],
     "language": "python",
     "metadata": {},
     "outputs": [],
     "prompt_number": 11
    },
    {
     "cell_type": "heading",
     "level": 4,
     "metadata": {},
     "source": [
      "Pyramid regression"
     ]
    },
    {
     "cell_type": "code",
     "collapsed": false,
     "input": [
      "keys = ['edragon_all', 'ijc', 'eva_all']\n",
      "r2['pyramid'] = {}\n",
      "for k in keys:\n",
      "    r2['pyramid'][k] = []\n",
      "    feature = copy.deepcopy(featurespaces[k])\n",
      "    trainsets[k] = ds.TrainData(mor182_spec, feature)\n",
      "    y = trainsets[k].targets\n",
      "    for i, single_feat in enumerate(trainsets[k].features.T):\n",
      "        x = single_feat.copy()+np.random.randn(len(single_feat))*1E-5\n",
      "        py_reg = PyramidRegression()\n",
      "        py_reg.fit(x, y)\n",
      "        r2['pyramid'][k].append(py_reg.r2)"
     ],
     "language": "python",
     "metadata": {},
     "outputs": [],
     "prompt_number": 12
    },
    {
     "cell_type": "code",
     "collapsed": false,
     "input": [
      "for m in ['linear', 'monoincrease', 'monodecrease', 'pyramid']: \n",
      "    print '========== %s =========='%m\n",
      "    for k in ['ijc', 'edragon_all', 'eva_all']:\n",
      "        i = np.argmax(r2[m][k])\n",
      "        print k, [trainsets[k].feat_name[i]], r2[m][k][i]"
     ],
     "language": "python",
     "metadata": {},
     "outputs": [
      {
       "output_type": "stream",
       "stream": "stdout",
       "text": [
        "========== linear ==========\n",
        "ijc ['CAtoms'] 0.04951333057\n",
        "edragon_all ['BEHp1'] 0.136101836232\n",
        "eva_all ['pureband1_1812'] 0.202863053516\n",
        "========== monoincrease ==========\n",
        "ijc ['VP ACD mmHG25'] 0.225366037079\n",
        "edragon_all ['E1u'] 0.236140751263\n",
        "eva_all ['pureband1_1813'] 0.305026912968\n",
        "========== monodecrease ==========\n",
        "ijc ['minRad'] 0.114482059385\n",
        "edragon_all ['ATS2p'] 0.286902266635\n",
        "eva_all ['pureband20_740'] 0.236787490385\n",
        "========== pyramid ==========\n",
        "ijc ['VP ACD mmHG25'] 0.296287274242\n",
        "edragon_all ['ATS2p'] 0.420188595964\n",
        "eva_all ['pureband5_1820'] 0.505079780889\n"
       ]
      }
     ],
     "prompt_number": 11
    },
    {
     "cell_type": "heading",
     "level": 3,
     "metadata": {},
     "source": [
      "MOR18-2 prediction for different Featurespaces"
     ]
    },
    {
     "cell_type": "code",
     "collapsed": false,
     "input": [
      "# exclude some featspaces to save memory\n",
      "[featurespaces.pop(k) for k in featurespaces.keys() if (('raman' in k) or ('ir' in k))] \n",
      "[featurespaces.pop(k) for k in ['all', 'eva_hcombi', 'eva200', 'edragon-evacombi', 'ijc', 'eva_all', \n",
      "                             'TOPOLOGICAL_CHARGE_INDICES'] if k in featurespaces]\n",
      "\n",
      "# clean mor182_spec\n",
      "remove = [140, 1016, 92, 164, 1000, 239, 1012, 312] #molecules with no features in some featurespace\n",
      "mor182_spec_clean = copy.deepcopy(mor182_spec)\n",
      "[mor182_spec_clean.pop(i) for i in remove]\n",
      "models_mor182 = {}"
     ],
     "language": "python",
     "metadata": {},
     "outputs": []
    },
    {
     "cell_type": "heading",
     "level": 4,
     "metadata": {},
     "source": [
      "Fit SVR models on bootstrap samples for validation"
     ]
    },
    {
     "cell_type": "code",
     "collapsed": false,
     "input": [
      "new_combi = {\n",
      "    'edragon-eva100': ds.combine_features([featurespaces[name] for name in ['edragon_all', 'eva100']]),\n",
      "    'edragon-eva20': ds.combine_features([featurespaces[name] for name in ['edragon_all', 'eva020']]),\n",
      "    'edragon-eva50': ds.combine_features([featurespaces[name] for name in ['edragon_all', 'eva050']]),\n",
      "    }\n",
      "featurespaces.update(new_combi)"
     ],
     "language": "python",
     "metadata": {},
     "outputs": [],
     "prompt_number": 10
    },
    {
     "cell_type": "code",
     "collapsed": false,
     "input": [
      "to_evaluate = featurespaces\n",
      "estimator_class = bp.BootstrapRegressor\n",
      "estimator_param ={'regressor': SVR, 'reg_param':{'C':5, 'epsilon':0.1}, 'n_member':50, 'strat_thres':2,\n",
      "                  'aggregate': np.mean}\n",
      "\n",
      "for ix, featspace in enumerate(to_evaluate):\n",
      "    feature = copy.deepcopy(featurespaces[featspace])\n",
      "    feature.zscore()\n",
      "    mytrain = ds.TrainData(mor182_spec_clean, feature)\n",
      "    estimator = estimator_class(**estimator_param) \n",
      "    estimator.fit(mytrain.features, mytrain.targets)\n",
      "    models_mor182[featspace] = (estimator, mytrain)"
     ],
     "language": "python",
     "metadata": {},
     "outputs": [],
     "prompt_number": 50
    },
    {
     "cell_type": "code",
     "collapsed": false,
     "input": [
      "save = False\n",
      "load = True\n",
      "\n",
      "if save:\n",
      "    pickle.dump(models_mor182, open('/media/jan/BackupWork/Documents/NewAnalysis/DataDicts/multivarreg.pik','w'))\n",
      "if load:\n",
      "    models_mor182 = pickle.load(open('/media/jan/BackupWork/Documents/NewAnalysis/DataDicts/multivarreg.pik'))"
     ],
     "language": "python",
     "metadata": {},
     "outputs": [],
     "prompt_number": 11
    },
    {
     "cell_type": "code",
     "collapsed": false,
     "input": [
      "f = 'edragon_all'\n",
      "feat = copy.copy(featurespaces[f])\n",
      "feat.zscore()\n",
      "mymodel = models_mor182[f]\n",
      "pred = mymodel[0].predict(feat.data)"
     ],
     "language": "python",
     "metadata": {},
     "outputs": [],
     "prompt_number": 33
    },
    {
     "cell_type": "code",
     "collapsed": false,
     "input": [
      "best = np.argsort(pred)\n",
      "for i in best[-1:-20:-1]:\n",
      "    print feat.obj_name[i], pred[i]"
     ],
     "language": "python",
     "metadata": {},
     "outputs": [
      {
       "output_type": "stream",
       "stream": "stdout",
       "text": [
        "73 1.00720508103\n",
        "160 0.848274560321\n",
        "1076 0.837773531479\n",
        "1096 0.812909667354\n",
        "1052 0.803250564126\n",
        "1086 0.801539726834\n",
        "162 0.773431608295\n",
        "116 0.706226209335\n",
        "1070 0.671177262041\n",
        "78 0.615403579777\n",
        "1109 0.6152113842\n",
        "1111 0.614587012418\n",
        "1068 0.608081123091\n",
        "1091 0.589673284922\n",
        "400 0.580391046367\n",
        "267 0.536979603009\n",
        "1062 0.491203514079\n",
        "254 0.487074686712\n",
        "408 0.483425677343\n"
       ]
      }
     ],
     "prompt_number": 34
    },
    {
     "cell_type": "heading",
     "level": 3,
     "metadata": {},
     "source": [
      "Create the Plot"
     ]
    },
    {
     "cell_type": "code",
     "collapsed": false,
     "input": [
      "alias = {\n",
      " 'FUNCTIONAL_GROUP_COUNTS': '#FGROUP',\n",
      " 'TWOD_AUTOCORRELATIONS': '2DAUTO',\n",
      " 'saito': 'SAITO',\n",
      " 'CONNECTIVITY_INDICES': 'C_IND',\n",
      " 'ATOMCENTRED_FRAGMENTS': 'A_FRAG',\n",
      " 'eva010': '$EVA_{10}$',\n",
      " 'eva050': '$EVA_{50}$',\n",
      " 'CONSTITUTIONAL': 'CONST',\n",
      " 'BURDEN_EIGENVALUES_DESCRIPTORS': 'BCUT',\n",
      " 'WHIM': 'WHIM',\n",
      " 'EDGE_ADJACENCY_INDICES': 'EA_IND',\n",
      " 'GETAWAY': 'GETAWAY',\n",
      " 'TOPOLOGICAL': 'TOPO',\n",
      " 'RDF': 'RDF',\n",
      " 'THREEDMORSE': '3DMORSE',\n",
      " 'EIGENVALUE_INDICES': 'EV_IND',\n",
      " 'eva100': '$EVA_{100}$',\n",
      " 'haddad': 'HADDAD',\n",
      " 'GEOMETRICAL': 'GEO',\n",
      " 'RANDIC_MOLECULAR PROFILES': 'RAND',\n",
      " 'MOLECULAR_PROPERTIES': 'MOL_PROP',\n",
      " 'edragon_all': 'eDRAGON',\n",
      " 'eva001':'$EVA_1$',\n",
      " 'WALK_PATH_COUNTS': 'WPATH',\n",
      " 'eva005':'$EVA_5$',\n",
      " 'eva020': '$EVA_{20}$',\n",
      " \n",
      " 'edragon-eva1': '$eDR-EVA_1$',\n",
      " 'edragon-eva5': '$eDR-EVA_5$',\n",
      " 'edragon-eva10': '$eDR-EVA_{10}$',\n",
      " 'edragon-eva20': '$eDR-EVA_{20}$', \n",
      " 'edragon-eva50': '$eDR-EVA_{50}$', \n",
      " 'edragon-eva100': '$eDR-EVA_{100}$'}\n",
      "\n"
     ],
     "language": "python",
     "metadata": {},
     "outputs": [],
     "prompt_number": 15
    },
    {
     "cell_type": "code",
     "collapsed": false,
     "input": [
      "fig_dim = (7.48/2, 9.4)\n",
      "global_fs= 7 \n",
      "\n",
      "layout = {   'axes.labelsize': 7,\n",
      "             'axes.linewidth': .5, \n",
      "             'xtick.major.size': 2,     # major tick size in points\n",
      "             'xtick.minor.size': 1,     # minor tick size in points\n",
      "             'xtick.labelsize': 7,       # fontsize of the tick labels\n",
      "             'xtick.major.pad': 2,  \n",
      "             \n",
      "             'ytick.major.size': 2,      # major tick size in points\n",
      "             'ytick.minor.size': 1,     # minor tick size in points\n",
      "             'ytick.labelsize':7,       # fontsize of the tick labels\n",
      "             'ytick.major.pad': 2,\n",
      "             \n",
      "             'mathtext.default' : 'regular' \n",
      "\n",
      "             }\n",
      "\n",
      "import matplotlib as mpl\n",
      "for k, v in layout.items():\n",
      "    mpl.rcParams[k] = v "
     ],
     "language": "python",
     "metadata": {},
     "outputs": [],
     "prompt_number": 24
    },
    {
     "cell_type": "code",
     "collapsed": false,
     "input": [
      "strat_thres = 2\n",
      "toplot = {'linear': (LinearRegression, 'eva_all', 'pureband1_1812'), \n",
      "          'monoincrease':(extIsotonicRegression, 'eva_all', 'pureband1_1813'), \n",
      "          'pyramid':(PyramidRegression, 'eva_all', 'pureband5_1820')}\n",
      "\n",
      "fig = plt.figure(figsize=fig_dim)\n",
      "\n",
      "gs = matplotlib.gridspec.GridSpec(7, 3, left=0.08, right=0.98, top=0.98, bottom=0.58, \n",
      "                                  hspace=0., wspace=0.3, height_ratios=[4, 1.8, 4, 1.8, 4, 3, 4])\n",
      "left1 = gs[0,1].get_position(fig).corners()[1,0]\n",
      "left2 = gs[0,2].get_position(fig).corners()[1,0]\n",
      "fig.text(0.07, 0.99, '(a)', ha='right', va='center', fontsize=8, fontweight='bold')\n",
      "fig.text(left1-0.01, 0.99, '(b)', ha='right', va='center', fontsize=8, fontweight='bold')\n",
      "fig.text(left2-0.01, 0.99, '(c)', ha='right', va='center', fontsize=8, fontweight='bold')\n",
      "\n",
      "top1 = gs[2,0].get_position(fig).corners()[1,1]+0.01\n",
      "top2 = gs[4,0].get_position(fig).corners()[1,1]+0.01\n",
      "top3 = gs[6,0].get_position(fig).corners()[1,1]+0.01\n",
      "\n",
      "fig.text(0.07, 0.975, 'I', ha='right', va='center', fontsize=8, fontweight='bold')\n",
      "fig.text(0.07, top1-0.015, 'II', ha='right', va='center', fontsize=8, fontweight='bold')\n",
      "fig.text(0.07, top2-0.015, 'III', ha='right', va='center', fontsize=8, fontweight='bold')\n",
      "\n",
      "\n",
      "#fig.text(0.07, top1, '(d)', ha='right', va='center', fontsize=8, fontweight='bold')\n",
      "#fig.text(left1-0.01, top1, '(e)', ha='right', va='center', fontsize=8, fontweight='bold')\n",
      "#fig.text(left2-0.01, top1, '(f)', ha='right', va='center', fontsize=8, fontweight='bold')\n",
      "#fig.text(0.07, top2, '(g)', ha='right', va='center', fontsize=8, fontweight='bold')\n",
      "#fig.text(left1-0.01, top2, '(h)', ha='right', va='center', fontsize=8, fontweight='bold')\n",
      "#fig.text(left2-0.01, top2, '(j)', ha='right', va='center', fontsize=8, fontweight='bold')\n",
      "fig.text(0.08, top3, '(d)', ha='right', va='center', fontsize=8, fontweight='bold')\n",
      "fig.text(left1, top3, '(e)', ha='right', va='center', fontsize=8, fontweight='bold')\n",
      "fig.text(left2, top3, '(f)', ha='right', va='center', fontsize=8, fontweight='bold')\n",
      "\n",
      "\n",
      "\n",
      "for k_ix, key in enumerate(['linear', 'monoincrease', 'pyramid']):\n",
      "\n",
      "    Regressor, fspace, feat = toplot[key]\n",
      "  \n",
      "    ind = trainsets[fspace].feat_name.index(feat)\n",
      "    x = trainsets[fspace].features[:,ind]\n",
      "    x += np.random.randn(trainsets[fspace].features.shape[0])*1E-5\n",
      "    y =  trainsets[fspace].targets\n",
      "\n",
      "    regressor = Regressor()\n",
      "    xfit = x.reshape((-1,1)) if (key == 'linear') else x \n",
      "    regressor.fit(xfit,y)\n",
      "    yhat = regressor.predict(xfit)\n",
      "    \n",
      "    estimator_param ={'regressor': Regressor, 'reg_param':{}, 'n_member':100, 'strat_thres':strat_thres}\n",
      "    estimator = bp.BootstrapRegressor(**estimator_param) \n",
      "    estimator.fit(xfit, y)\n",
      "    \n",
      "    # target vs feature\n",
      "    ax = fig.add_subplot(gs[2*k_ix,0])\n",
      "    ax.plot(x, y, 'o', mfc='none', mec='k', ms=3)\n",
      "    order = np.argsort(x)\n",
      "    ax.plot(x[order], yhat[order], 'b')\n",
      "    ax.set_yticks([0,1])\n",
      "    #ax.xaxis.set_major_locator(matplotlib.ticker.MaxNLocator(nbins=3))\n",
      "    if k_ix <2:\n",
      "        ax.set_xticks([0, 0.3])\n",
      "    else:\n",
      "        ax.set_xticks([0, 0.15])\n",
      "    ax.set_ylabel('$a_{rel}$', labelpad=-3)\n",
      "    xlabel = feat.split('_')\n",
      "    xlabel[0] = xlabel[0][-1]\n",
      "    ax.set_xlabel('$EVA^{%s}_{%s}$'%tuple(xlabel), labelpad=-4)\n",
      "    \n",
      "    # target vs. target fit \n",
      "    ax = fig.add_subplot(gs[2*k_ix,1])\n",
      "    ax.plot(yhat, y,  'o', mec='k', mfc='none', ms=3)\n",
      "    ax.plot([-0.2, 1.3], [-0.2, 1.3], 'k:')\n",
      "    ax.set_xticks([0,1])\n",
      "    ax.set_yticks([0,1])\n",
      "    ax.set_xlabel('$\\hat{a}_{rel}$', labelpad=-4)\n",
      "    ax.set_ylabel('$a_{rel}$', labelpad=-2)\n",
      "    r2loc = r2_score(np.array(y)[~np.isnan(yhat)], np.array(yhat)[~np.isnan(yhat)])\n",
      "    ax.text(0.97, 0.02, '$r^2=%.2f$'%r2loc, size=6, transform=ax.transAxes, horizontalalignment='right',\n",
      "            verticalalignment='bottom')\n",
      "    \n",
      "    # target vs bootstrap fit\n",
      "    ax = fig.add_subplot(gs[2*k_ix,2])\n",
      "    ax.plot(estimator.oob_prediction, estimator._train_targets.values(), 'o', mec='k', mfc='none', ms=3)\n",
      "    \n",
      "    yhat, y = estimator._oob_prediction_single()\n",
      "    q2 = r2_score(np.array(y)[~np.isnan(yhat)], np.array(yhat)[~np.isnan(yhat)])\n",
      "    ax.text(0.97, 0.02, '$q^2=%.2f$'%q2, size=6, transform=ax.transAxes, horizontalalignment='right',\n",
      "            verticalalignment='bottom')\n",
      "    \n",
      "    ax.plot([-0.2,1.3], [-0.2,1.3], 'k:')\n",
      "    ax.set_xticks([0,1])\n",
      "    ax.set_yticks([0,1])\n",
      "    ax.set_xlabel('$\\hat{a}_{rel}^{bst}$', labelpad=-4)\n",
      "    ax.set_ylabel('$a_{rel}$', labelpad=-2)\n",
      "    \n",
      "\n",
      "#plt.show()"
     ],
     "language": "python",
     "metadata": {},
     "outputs": [],
     "prompt_number": 48
    },
    {
     "cell_type": "heading",
     "level": 4,
     "metadata": {},
     "source": [
      "Multidimensional model "
     ]
    },
    {
     "cell_type": "code",
     "collapsed": false,
     "input": [
      "'''\n",
      "fig = plt.figure(figsize=fig_dim)\n",
      "gs = matplotlib.gridspec.GridSpec(4, 3, left=0.08, right=0.98, top=0.98, bottom=0.58, \n",
      "                                  hspace=0.5, wspace=0.3)\n",
      "'''\n",
      "model, traindata = models_mor182['edragon-eva5']\n",
      "order = np.argsort(traindata.targets)\n",
      "\n",
      "\n",
      "# Dataspace\n",
      "gs_inner = matplotlib.gridspec.GridSpecFromSubplotSpec(1,2,gs[6,0], wspace=0, width_ratios=[9,1])\n",
      "ax = fig.add_subplot(gs_inner[0])\n",
      "mds = MDS(random_state=4)\n",
      "X = mds.fit_transform(traindata.features)\n",
      "\n",
      "ax.scatter(*X[order].T, edgecolor='none', s=3, \n",
      "           linewidth=0.5, facecolor='k', alpha=0.2)\n",
      "ax.scatter(*X[order].T, edgecolor=[plt.cm.YlGn(i) for i in traindata.targets[order]], s=3, \n",
      "           linewidth=0.5, facecolor='none', alpha=0.8)        \n",
      "ax.set_xticks([-50,0,50])\n",
      "ax.set_yticks([-50,0])\n",
      "ax.set_ylim([-60, 55])\n",
      "ax.set_xlim([-60, 65])\n",
      "ax.set_xlabel('MDS1', labelpad=0.1)\n",
      "ax.set_ylabel('MDS2', labelpad=-7)\n",
      "ax.set_title('$eDR-EVA_5$', size=global_fs, y=0.98)\n",
      "\n",
      "ax = fig.add_subplot(gs_inner[1])\n",
      "cmap = plt.cm.YlGn\n",
      "norm = matplotlib.colors.Normalize(vmin=0, vmax=1)\n",
      "cbar = matplotlib.colorbar.ColorbarBase(ax, cmap=cmap, norm=norm, orientation='vertical')\n",
      "cbar.set_ticks([0, 1])\n",
      "#cbar.set_ticklabels(['0', 'max'])\n",
      "cbar.set_label('$a_{rel}$', fontsize=global_fs, labelpad=-4)\n",
      "\n",
      "\n",
      "# Model fit \n",
      "ax = fig.add_subplot(gs[6,1])\n",
      "y = traindata.targets\n",
      "yhat = model.full_regressor.predict(traindata.features)\n",
      "ax.plot(yhat, y, 'o', mfc='none', mec='k', ms=3)\n",
      "ax.plot([-0.2,1.3], [-0.2,1.3], 'k:')\n",
      "ax.set_xticks([0,1])\n",
      "ax.set_yticks([0,1])\n",
      "ax.set_xlabel('$\\hat{a}_{rel}$', labelpad=-4)\n",
      "ax.set_ylabel('$a_{rel}$', labelpad=-2)\n",
      "r2loc = r2_score(np.array(y)[~np.isnan(yhat)], np.array(yhat)[~np.isnan(yhat)])\n",
      "ax.text(0.97, 0.02, '$r^2=%.2f$'%r2loc, size=6, transform=ax.transAxes, horizontalalignment='right',\n",
      "            verticalalignment='bottom')\n",
      "# Bootstrap estimation\n",
      "ax = fig.add_subplot(gs[6, 2])\n",
      "#std =  [np.std(model._pred_dict[mol]) for mol in model._train_targets.keys()]\n",
      "ax.plot(model.oob_prediction, model._train_targets.values(),  'o',\n",
      "            mfc='none', mec='k', ms=3)\n",
      "ax.text(0.97, 0.02, '$q^2=%.2f$'%model.oob_score_single, size=6, transform=ax.transAxes, horizontalalignment='right',\n",
      "            verticalalignment='bottom')\n",
      "\n",
      "'''\n",
      "ax.errorbar(model.oob_prediction,model._train_targets.values(),  xerr=std, \n",
      "            fmt=None, ecolor='k', linewidth=0.5, capsize=1, alpha=0.5)\n",
      "'''\n",
      "ax.plot([-0.2,1.3], [-0.2,1.3], 'k:')\n",
      "ax.set_xticks([0,1])\n",
      "ax.set_yticks([0,1])\n",
      "ax.set_xlabel('$\\hat{a}_{rel}^{bst}$', labelpad=-4)\n",
      "ax.set_ylabel('$a_{rel}$', labelpad=-2)\n",
      "\n",
      "#fig.savefig('/home/jan/Dropbox/MOBPaper/Fig3.pdf', bbox_inches='tight')\n",
      "#plt.show()"
     ],
     "language": "python",
     "metadata": {},
     "outputs": [
      {
       "metadata": {},
       "output_type": "pyout",
       "prompt_number": 49,
       "text": [
        "<matplotlib.text.Text at 0xb10e12c>"
       ]
      }
     ],
     "prompt_number": 49
    },
    {
     "cell_type": "heading",
     "level": 4,
     "metadata": {},
     "source": [
      "Plot model performance of feature spaces"
     ]
    },
    {
     "cell_type": "code",
     "collapsed": false,
     "input": [
      "toplot1 = models_mor182.keys()\n",
      "toplot2 = ['edragon-eva1', 'edragon-eva5', 'edragon-eva10', 'edragon-eva20', 'edragon-eva50', 'edragon-eva100']\n",
      "_ = [toplot1.remove(i) for i in toplot2]\n"
     ],
     "language": "python",
     "metadata": {},
     "outputs": [],
     "prompt_number": 50
    },
    {
     "cell_type": "code",
     "collapsed": false,
     "input": [
      "#fig = plt.figure(figsize=fig_dim)\n",
      "gs = matplotlib.gridspec.GridSpec(1, 2, top=0.54, bottom=0.44, left=0.08, right=0.96, wspace=0.2,\n",
      "                                  width_ratios=[len(toplot1)+1, len(toplot2)+1])\n",
      "left1 = gs[1].get_position(fig).corners()[1,0]\n",
      "fig.text(0.07, 0.55, '(g)', ha='right', va='center', fontsize=8, fontweight='bold')\n",
      "fig.text(left1-0.01, 0.55, '(h)', ha='right', va='center', fontsize=8, fontweight='bold')\n",
      "\n",
      "for ix, toplot in  enumerate([toplot1, toplot2]):\n",
      "    performance = np.array([models_mor182[k][0].oob_score_single for k in toplot])\n",
      "    order = np.argsort(performance)\n",
      "\n",
      "    ax = fig.add_subplot(gs[ix])\n",
      "    x = np.arange(performance.size)\n",
      "    ax.bar(x, np.sort(performance))\n",
      "    ax.set_xticks(x+0.5)\n",
      "    ax.set_xticklabels([alias[toplot[i]] for i in order], rotation='90', ha='center', size=6)\n",
      "    ax.set_ylabel('q2', labelpad=-0.4)\n",
      "    ax.set_ylim([-0.1, 0.45])\n",
      "    ax.set_yticks(np.arange(0,0.5,0.1))\n",
      "    ax.set_yticklabels(['0','','.2','','.4'])\n",
      "    ax.set_xlim((-0.5, len(toplot)+0.5))\n",
      "    ax.yaxis.grid(True)\n",
      "    \n",
      "\n",
      "fig.savefig('/home/jan/Dropbox/MOBPaper/Fig3.pdf', bbox_inches='tight')\n",
      "plt.show()"
     ],
     "language": "python",
     "metadata": {},
     "outputs": [],
     "prompt_number": 51
    },
    {
     "cell_type": "heading",
     "level": 3,
     "metadata": {},
     "source": [
      "Prediction for fingerprinted spectra"
     ]
    },
    {
     "cell_type": "heading",
     "level": 4,
     "metadata": {},
     "source": [
      "Fit SVR models on bootstrap samples for validation"
     ]
    },
    {
     "cell_type": "code",
     "collapsed": false,
     "input": [
      "feat = copy.deepcopy(combi_feat['edragon-eva10'])\n",
      "feat.zscore()\n",
      "estimator_class = bp.BootstrapRegressor\n",
      "estimator_param ={'regressor': NuSVR, 'reg_param':{'C':10}, 'n_member':50, 'strat_thres':2}\n",
      "\n",
      "models_fingerprinted = {}\n",
      "\n",
      "for clustid in spec_dict: \n",
      "    spec_data = spec_dict[clustid]\n",
      "    mytrain = ds.TrainData(spec_data, feat)\n",
      "    estimator = estimator_class(**estimator_param) \n",
      "    estimator.fit(mytrain.features, mytrain.targets)\n",
      "    models_fingerprinted[clustid] = (estimator, mytrain)"
     ],
     "language": "python",
     "metadata": {},
     "outputs": [
      {
       "ename": "NameError",
       "evalue": "name 'combi_feat' is not defined",
       "output_type": "pyerr",
       "traceback": [
        "\u001b[1;31m---------------------------------------------------------------------------\u001b[0m\n\u001b[1;31mNameError\u001b[0m                                 Traceback (most recent call last)",
        "\u001b[1;32m<ipython-input-23-333ed20bb0c8>\u001b[0m in \u001b[0;36m<module>\u001b[1;34m()\u001b[0m\n\u001b[1;32m----> 1\u001b[1;33m \u001b[0mfeat\u001b[0m \u001b[1;33m=\u001b[0m \u001b[0mcopy\u001b[0m\u001b[1;33m.\u001b[0m\u001b[0mdeepcopy\u001b[0m\u001b[1;33m(\u001b[0m\u001b[0mcombi_feat\u001b[0m\u001b[1;33m[\u001b[0m\u001b[1;34m'edragon-eva10'\u001b[0m\u001b[1;33m]\u001b[0m\u001b[1;33m)\u001b[0m\u001b[1;33m\u001b[0m\u001b[0m\n\u001b[0m\u001b[0;32m      2\u001b[0m \u001b[0mfeat\u001b[0m\u001b[1;33m.\u001b[0m\u001b[0mzscore\u001b[0m\u001b[1;33m(\u001b[0m\u001b[1;33m)\u001b[0m\u001b[1;33m\u001b[0m\u001b[0m\n\u001b[0;32m      3\u001b[0m \u001b[0mestimator_class\u001b[0m \u001b[1;33m=\u001b[0m \u001b[0mbp\u001b[0m\u001b[1;33m.\u001b[0m\u001b[0mBootstrapRegressor\u001b[0m\u001b[1;33m\u001b[0m\u001b[0m\n\u001b[0;32m      4\u001b[0m \u001b[0mestimator_param\u001b[0m \u001b[1;33m=\u001b[0m\u001b[1;33m{\u001b[0m\u001b[1;34m'regressor'\u001b[0m\u001b[1;33m:\u001b[0m \u001b[0mNuSVR\u001b[0m\u001b[1;33m,\u001b[0m \u001b[1;34m'reg_param'\u001b[0m\u001b[1;33m:\u001b[0m\u001b[1;33m{\u001b[0m\u001b[1;34m'C'\u001b[0m\u001b[1;33m:\u001b[0m\u001b[1;36m10\u001b[0m\u001b[1;33m}\u001b[0m\u001b[1;33m,\u001b[0m \u001b[1;34m'n_member'\u001b[0m\u001b[1;33m:\u001b[0m\u001b[1;36m50\u001b[0m\u001b[1;33m,\u001b[0m \u001b[1;34m'strat_thres'\u001b[0m\u001b[1;33m:\u001b[0m\u001b[1;36m2\u001b[0m\u001b[1;33m}\u001b[0m\u001b[1;33m\u001b[0m\u001b[0m\n\u001b[0;32m      5\u001b[0m \u001b[1;33m\u001b[0m\u001b[0m\n",
        "\u001b[1;31mNameError\u001b[0m: name 'combi_feat' is not defined"
       ]
      }
     ],
     "prompt_number": 23
    },
    {
     "cell_type": "heading",
     "level": 4,
     "metadata": {},
     "source": [
      "Show prediction quality for different spectra"
     ]
    },
    {
     "cell_type": "code",
     "collapsed": false,
     "input": [
      "performance = np.array([i[0].oob_score_single for i in models_fingerprinted.values()])\n",
      "order = np.argsort(performance)\n",
      "\n",
      "fig = plt.figure()\n",
      "ax = fig.add_axes([0.15,0.35,0.8,0.6])\n",
      "x = np.arange(performance.size)\n",
      "ax.bar(x, np.sort(performance))\n",
      "ax.set_xticks(x+0.5)\n",
      "ax.set_xticklabels([models_fingerprinted.keys()[i] for i in order], rotation='45', ha='right', size=8)\n",
      "ax.set_ylabel('r2')\n",
      "plt.show()"
     ],
     "language": "python",
     "metadata": {},
     "outputs": [],
     "prompt_number": 34
    },
    {
     "cell_type": "heading",
     "level": 4,
     "metadata": {},
     "source": [
      "Bootstrap prediction vs. target plot "
     ]
    },
    {
     "cell_type": "code",
     "collapsed": false,
     "input": [
      "clustid = 'clust_362'\n",
      "model, traindata = models_fingerprinted[clustid]\n",
      "\n",
      "fig = plt.figure()\n",
      "ax = fig.add_subplot(111)\n",
      "aax = AnnotationAxes(ax)\n",
      "\n",
      "annotations = [molid2name[str(i)].decode('utf-8') if str(i) in molid2name else '' for i in traindata.obj_name]\n",
      "x = model._train_targets.values()\n",
      "y = model.oob_prediction #odel.full_regressor.predict(traindata.features) #\n",
      "std =  [np.std(model._pred_dict[mol]) for mol in model._train_targets.keys()]\n",
      "\n",
      "aax.scatter(x, y, annotations, facecolors='k')\n",
      "ax.errorbar(x, y, yerr=std, fmt=None, ecolor='k')\n",
      "ax.set_xlabel('bootstrap prediction')\n",
      "ax.set_ylabel('target')\n",
      "\n",
      "plt.plot([0,0.5], [0,0.5], 'k:')\n",
      "plt.show()"
     ],
     "language": "python",
     "metadata": {},
     "outputs": [],
     "prompt_number": 35
    },
    {
     "cell_type": "heading",
     "level": 3,
     "metadata": {},
     "source": [
      "Distance of MOR18-2 to other fingerprinted spectra"
     ]
    },
    {
     "cell_type": "code",
     "collapsed": false,
     "input": [
      "feat = copy.deepcopy(featurespaces['edragon-eva10'])\n",
      "feat.zscore()\n",
      "\n",
      "traindata = ds.TrainData(spec_dict['clust_200'], feat)\n",
      "rbf_dist = pdist(traindata.features, lambda u,v: 1-np.exp(-((u-v)**2).sum()/traindata.features.shape[1]))"
     ],
     "language": "python",
     "metadata": {},
     "outputs": [],
     "prompt_number": 19
    },
    {
     "cell_type": "heading",
     "level": 4,
     "metadata": {},
     "source": [
      "Calculate weighted distance of coactive molecules "
     ]
    },
    {
     "cell_type": "code",
     "collapsed": false,
     "input": [
      "reference = 'clust_200'\n",
      "rand = np.abs(np.random.randn(44)*1E-10)\n",
      "spec1 = [spec_dict[reference][i] for i in traindata.obj_name]+rand\n",
      "\n",
      "overlaps = {} \n",
      "for k  in spec_dict:\n",
      "    spec2 = [spec_dict[k][i] for i in traindata.obj_name]+rand\n",
      "    overlaps[k] = neighbourness(spec1, spec2, squareform(rbf_dist))\n",
      "mycmap = plt.cm.RdYlGn_r"
     ],
     "language": "python",
     "metadata": {},
     "outputs": [],
     "prompt_number": 28
    },
    {
     "cell_type": "heading",
     "level": 4,
     "metadata": {},
     "source": [
      "or calculate overlap of SVR models"
     ]
    },
    {
     "cell_type": "code",
     "collapsed": false,
     "input": [
      "reference = 'clust_200'\n",
      "svr1 = models_fingerprinted[reference][0].full_regressor\n",
      "\n",
      "overlaps = {} \n",
      "for k, (model, traindata) in models_fingerprinted.items():\n",
      "    overlaps[k] = sv_overlap(svr1, model.full_regressor, 1)\n",
      "mycmap = plt.cm.RdYlGn\n",
      "sortedval = np.sort(overlaps.values())\n",
      "distmin, distmax = sortedval[1], sortedval[-3]"
     ],
     "language": "python",
     "metadata": {},
     "outputs": [],
     "prompt_number": 30
    },
    {
     "cell_type": "heading",
     "level": 3,
     "metadata": {},
     "source": [
      "Visualization of chemical similarity"
     ]
    },
    {
     "cell_type": "heading",
     "level": 4,
     "metadata": {},
     "source": [
      "load bg images"
     ]
    },
    {
     "cell_type": "code",
     "collapsed": false,
     "input": [
      "animals = ['111210sph', '111221sph', '111222sph', '120107', '120119', '120121', '120125']\n",
      "turn = ['111222sph', '120119', '120121'] #turn if left bulb\n",
      "bg_list = [plt.imread(os.path.join(bg_path, measID, 'bg.png')) for measID in animals]\n",
      "for ani in turn:\n",
      "    bg_list[animals.index(ani)] = bg_list[animals.index(ani)][::-1]"
     ],
     "language": "python",
     "metadata": {},
     "outputs": [],
     "prompt_number": 21
    },
    {
     "cell_type": "heading",
     "level": 4,
     "metadata": {},
     "source": [
      "plot chemical distance to MOR18-2"
     ]
    },
    {
     "cell_type": "code",
     "collapsed": false,
     "input": [
      "fig = plt.figure(figsize=(15,7))\n",
      "axes= [fig.add_subplot(2,4,i+1) for i in range(7)]\n",
      "\n",
      "for i, ax in enumerate(axes):\n",
      "    ax.imshow(bg_list[i], interpolation='none', cmap=plt.cm.bone, extent=[0,84,64,0])\n",
      "    ax.set_axis_off()\n",
      "\n",
      "for clust_num, clust in enumerate(fp_spec.label_objects):\n",
      "    dist = (overlaps[clust]-distmin)/(distmax-distmin)\n",
      "    for ind, base in enumerate(fp_spec.base.objects_sample(clust_num)):\n",
      "        axes[ind].contourf(base, [0.5,2], colors=[mycmap(dist)])\n",
      "for ind, base in enumerate(fp_spec.base.objects_sample(fp_spec.label_objects.index(reference))):\n",
      "    axes[ind].contour(base, [0.5], colors=['m'])\n",
      "plt.show()"
     ],
     "language": "python",
     "metadata": {},
     "outputs": [],
     "prompt_number": 33
    },
    {
     "cell_type": "heading",
     "level": 3,
     "metadata": {},
     "source": [
      "Spectral embedding of receptive Fields in chemical Space"
     ]
    },
    {
     "cell_type": "code",
     "collapsed": false,
     "input": [
      "embedding = MDS(dissimilarity='precomputed', n_components=2, random_state=1)\n",
      "out = embedding.fit_transform(squareform(rbf_dist))\n",
      "\n",
      "fig = plt.figure()\n",
      "for ind, k in  enumerate(spec_dict):\n",
      "    ax = fig.add_subplot(7, 7, ind+1)\n",
      "    data = spec_dict[k]\n",
      "    norm = np.max(data.values())\n",
      "    ax.scatter(out[:,0], out[:,1], s=20, linewidths=1,\n",
      "                facecolor= [plt.cm.Greens(data[i]/norm) for i in traindata.obj_name],\n",
      "                edgecolor= '0.8', alpha=0.8)\n",
      "    ax.set_xticks([])\n",
      "    ax.set_yticks([])\n",
      "    ax.set_title(k)\n",
      "plt.show()"
     ],
     "language": "python",
     "metadata": {},
     "outputs": [],
     "prompt_number": 32
    },
    {
     "cell_type": "code",
     "collapsed": false,
     "input": [],
     "language": "python",
     "metadata": {},
     "outputs": []
    }
   ],
   "metadata": {}
  }
 ]
}