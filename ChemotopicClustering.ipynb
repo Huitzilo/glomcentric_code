{
 "metadata": {
  "name": ""
 },
 "nbformat": 3,
 "nbformat_minor": 0,
 "worksheets": [
  {
   "cells": [
    {
     "cell_type": "heading",
     "level": 1,
     "metadata": {},
     "source": [
      "Hierachical cluster odor spectra across animals"
     ]
    },
    {
     "cell_type": "code",
     "collapsed": false,
     "input": [
      "import sys\n",
      "sys.path.append('/home/jan/Dokumente/Code/FUImaging/')\n",
      "sys.path.append('/home/jan/Dokumente/Code/BootstrapPrediction/')"
     ],
     "language": "python",
     "metadata": {},
     "outputs": [],
     "prompt_number": 1
    },
    {
     "cell_type": "code",
     "collapsed": false,
     "input": [
      "import numpy as np\n",
      "import matplotlib.pyplot as plt\n",
      "import glob, csv, pickle, os, json\n",
      "import matplotlib, scipy\n",
      "from collections import defaultdict, OrderedDict\n",
      "from scipy.spatial.distance import pdist, squareform\n",
      "from scipy.cluster.hierarchy import linkage,dendrogram\n",
      "from matplotlib import gridspec\n",
      "from sklearn.manifold import MDS\n",
      "\n",
      "\n",
      "import copy\n",
      "\n",
      "import ImageAnalysisComponents as ia\n",
      "import datastructures as ds"
     ],
     "language": "python",
     "metadata": {},
     "outputs": [],
     "prompt_number": 2
    },
    {
     "cell_type": "code",
     "collapsed": false,
     "input": [
      "import warnings\n",
      "warnings.filterwarnings(\"ignore\", category=DeprecationWarning) "
     ],
     "language": "python",
     "metadata": {},
     "outputs": [],
     "prompt_number": 3
    },
    {
     "cell_type": "code",
     "collapsed": false,
     "input": [
      "fig_dim = (7.48,9.4)\n",
      "global_fs= 7 \n",
      "\n",
      "layout = {   'axes.labelsize': 7,\n",
      "             'axes.linewidth': .5, \n",
      "             'xtick.major.size': 2,     # major tick size in points\n",
      "             'xtick.minor.size': 1,     # minor tick size in points\n",
      "             'xtick.labelsize': 7,       # fontsize of the tick labels\n",
      "             'xtick.major.pad': 2,  \n",
      "             \n",
      "             'ytick.major.size': 2,      # major tick size in points\n",
      "             'ytick.minor.size': 1,     # minor tick size in points\n",
      "             'ytick.labelsize':7,       # fontsize of the tick labels\n",
      "             'ytick.major.pad': 2,\n",
      "             \n",
      "             'mathtext.default' : 'regular',\n",
      "             'legend.fontsize': 7\n",
      "             }\n",
      "\n",
      "import matplotlib as mpl\n",
      "for k, v in layout.items():\n",
      "    mpl.rcParams[k] = v "
     ],
     "language": "python",
     "metadata": {},
     "outputs": [],
     "prompt_number": 4
    },
    {
     "cell_type": "heading",
     "level": 2,
     "metadata": {},
     "source": [
      "Prepare Analysis"
     ]
    },
    {
     "cell_type": "heading",
     "level": 4,
     "metadata": {},
     "source": [
      "Specify parameter"
     ]
    },
    {
     "cell_type": "code",
     "collapsed": false,
     "input": [
      "method = 'nnmf_150_sm2_convex_sp*_ios_meas' #'sica_200_ios_meas' #\n",
      "animals =  ['111210sph', '111221sph','111222sph', '120107', '120119', '120121', '120125']\n",
      "stimulusdrive = 0.4 # maximale trial2trial correlation distance (aka 1-correlation) of modes to be included\n",
      "min_activation = 0.2 # maximale activation strength of modes to be included\n",
      "\n",
      "basepath = os.path.join('/home/jan/Dokumente/MOBData')\n",
      "datapath = '/media/jan/BackupWork/Documents/NewAnalysis'\n",
      "factorization_path = os.path.join(datapath, 'MOBdecomposed')\n",
      "bg_path = os.path.join(datapath, 'MOBconverted')\n",
      "cas2name_file = os.path.join(datapath, 'DataDicts', 'Name2MomCas.tab')\n",
      "cas2molid_file = os.path.join(basepath, 'ChemBase','odors_dez2013','cas2molid.csv')\n",
      "cluster_file = os.path.join(datapath, 'DataDicts', 'cluster_assignment.json')\n",
      "spec_savepath = os.path.join(datapath, 'DataDicts')\n",
      "vis_path = os.path.join(datapath, 'Vis')\n",
      "clustering_savepath = os.path.join(vis_path, 'Clustering')\n",
      "\n",
      "fingerprinted_specfile = os.path.join(datapath, 'DataDicts', \n",
      "                                      'spectra_correlation_average_nnmf_150_sm2_convex_sp_ios_meas', 'ts')"
     ],
     "language": "python",
     "metadata": {},
     "outputs": [],
     "prompt_number": 5
    },
    {
     "cell_type": "heading",
     "level": 4,
     "metadata": {},
     "source": [
      "Define Functions to process hierachichal cluster (linkages)"
     ]
    },
    {
     "cell_type": "code",
     "collapsed": false,
     "input": [
      "def return_all_childs(mylinkage, parent):\n",
      "    ''' recursive function returns all leafs of parent node in mylinkage'''    \n",
      "    num_leaves = mylinkage.shape[0]+1\n",
      "    if parent<num_leaves:\n",
      "        return [int(parent)]\n",
      "    else:\n",
      "        leftchild, rightchild = mylinkage[parent-num_leaves][:2]\n",
      "        return return_all_childs(mylinkage, parent=leftchild) + return_all_childs(mylinkage, parent=rightchild)\n",
      "\n",
      "def return_all_links(mylinkage, parent):\n",
      "    ''' recursive function returns all links of parent node in mylinkage''' \n",
      "    num_leaves = mylinkage.shape[0]+1\n",
      "    if parent<num_leaves:\n",
      "        return [parent]\n",
      "    else:\n",
      "        leftchild, rightchild = mylinkage[parent-num_leaves][:2]\n",
      "        return [parent] + return_all_links(mylinkage, parent=leftchild) + return_all_links(mylinkage, parent=rightchild)\n",
      "\n",
      "def color_clusters(cluster, color_dict = None):\n",
      "    ''' creates link-coloring function to color each cluster (given by parent node) '''\n",
      "    cluster_colors = defaultdict(lambda: '0.5')\n",
      "    for clust_ix, cluster_parent in enumerate(cluster):\n",
      "        clust_color = color_dict[cluster_parent] if color_dict else plt.cm.prism(1.*clust_ix/len(cluster)) \n",
      "        clust_color = matplotlib.colors.rgb2hex(clust_color)\n",
      "        colordict_update = {i: clust_color for i in return_all_links(link, cluster_parent+link.shape[0]+1)}\n",
      "        cluster_colors.update(colordict_update)\n",
      "    return lambda node: cluster_colors[node]"
     ],
     "language": "python",
     "metadata": {},
     "outputs": [],
     "prompt_number": 6
    },
    {
     "cell_type": "heading",
     "level": 4,
     "metadata": {},
     "source": [
      "Define function to create combined timeseries of all animals"
     ]
    },
    {
     "cell_type": "code",
     "collapsed": false,
     "input": [
      "def load_combined_series(allIDs, filemask, thres, min_strength, factorization_path):\n",
      "    ''' function to load and preprocess timeseries of multiple animals '''\n",
      "    \n",
      "    allgood, turn = [], []\n",
      "    for measID in allIDs:\n",
      "        \n",
      "        # load timeseries\n",
      "        ts = ia.TimeSeries()\n",
      "        filename = glob.glob(os.path.join(factorization_path, measID, filemask+'.npy'))\n",
      "        assert len(filename)==1\n",
      "        ts.load(filename[0].split('.')[0])\n",
      "        ts.label_stimuli = [i.split('_')[0] for i in ts.label_stimuli]\n",
      "        if '_l_' in ts.name: \n",
      "            turn.append(measID)\n",
      "            ts.base.set_series(ts.base.shaped2D()[:,::-1])\n",
      "        ts.name = measID\n",
      "        \n",
      "        # calc odor spectrum of modes\n",
      "        signal = ia.TrialMean()(ia.CutOut((2, 5))(ts))        \n",
      "        # calc t2t correlation, exclude modes with t2t < thres\n",
      "        mode_cor = ia.CalcStimulusDrive()(signal)\n",
      "        signal = ia.SelectObjects()(signal, mode_cor._series.squeeze()<thres)\n",
      "        \n",
      "        # calc single odor response\n",
      "        signal = ia.SingleSampleResponse()(signal)\n",
      "        \n",
      "        # selected only modes with maximal activation above min_strength\n",
      "        strength = np.max(signal._series,0)\n",
      "        signal = ia.SelectObjects()(signal, strength>min_strength)\n",
      "        \n",
      "        allgood.append(signal)\n",
      "        \n",
      "    allgood = ia.ObjectConcat(unequalsample=True)(allgood)\n",
      "    return allgood, turn"
     ],
     "language": "python",
     "metadata": {},
     "outputs": [],
     "prompt_number": 7
    },
    {
     "cell_type": "heading",
     "level": 4,
     "metadata": {},
     "source": [
      "Read in data"
     ]
    },
    {
     "cell_type": "code",
     "collapsed": false,
     "input": [
      "featurespaces = pickle.load(open(os.path.join(basepath, 'DataDicts','fspaces.pik')))"
     ],
     "language": "python",
     "metadata": {},
     "outputs": [],
     "prompt_number": 8
    },
    {
     "cell_type": "code",
     "collapsed": false,
     "input": [
      "cas2molid = {l[0]:l[1] for l in csv.reader(open(cas2molid_file))}\n",
      "cas2name = {l[0]:l[1] for l in csv.reader(open(cas2name_file),  delimiter='\\t')}\n",
      "molid2name = {v:cas2name[k] for k,v in cas2molid.items() if k in cas2name}\n",
      "\n",
      "ts, turn = load_combined_series(animals, method, stimulusdrive, min_activation, factorization_path)\n",
      "\n",
      "# load background images, turn if left bulb\n",
      "bg_dict = {measID: plt.imread(os.path.join(bg_path, measID, 'bg.png')) for measID in animals}\n",
      "for ani in turn:\n",
      "    bg_dict[ani] = bg_dict[ani][::-1]"
     ],
     "language": "python",
     "metadata": {},
     "outputs": [
      {
       "output_type": "stream",
       "stream": "stdout",
       "text": [
        "common sample  46\n",
        "111210sph  reduced from  46\n",
        "111221sph  reduced from  47\n",
        "111222sph  reduced from  46\n",
        "120107  reduced from  46\n",
        "120119  reduced from  46\n",
        "120121  reduced from  46\n",
        "120125  reduced from  52\n"
       ]
      }
     ],
     "prompt_number": 9
    },
    {
     "cell_type": "code",
     "collapsed": false,
     "input": [
      "fspace = 'edragon-eva5' # 'haddad' # \n",
      "feat = copy.deepcopy(featurespaces[fspace])\n",
      "feat.zscore()\n",
      "\n",
      "available = np.array([int(cas2molid[i.strip()]) in feat.obj_name for i in ts.label_stimuli])\n",
      "ts_pruned = ia.SelectTrials()(ts, available)\n",
      "norm = np.sum(np.abs(ts_pruned._series),0)\n",
      "ts_pruned._series /= norm\n",
      "\n",
      "pos = [feat.obj_name.index(int(cas2molid[i.strip()])) for i in ts_pruned.label_stimuli] \n",
      "fspace_data = feat.data[pos]"
     ],
     "language": "python",
     "metadata": {},
     "outputs": [],
     "prompt_number": 10
    },
    {
     "cell_type": "heading",
     "level": 4,
     "metadata": {},
     "source": [
      "Calculate barycenter of glomeruli in feature space"
     ]
    },
    {
     "cell_type": "code",
     "collapsed": false,
     "input": [
      "centers = np.dot(fspace_data.T, ts_pruned._series)\n",
      "ts._series = centers\n",
      "ts.label_stimuli = featurespaces[fspace].feat_name\n",
      "\n",
      "#ts._series = np.hstack([np.mean(fspace_data,0).reshape((-1,1)), centers])\n",
      "#ts.label_objects = ['center'] + ts.label_objects"
     ],
     "language": "python",
     "metadata": {},
     "outputs": [],
     "prompt_number": 11
    },
    {
     "cell_type": "code",
     "collapsed": false,
     "input": [
      "if False:\n",
      "    mask = np.sqrt(np.sum((ts._series - np.mean(fspace_data,0).reshape((-1,1)))**2, 0)) > 5\n",
      "    ts = ia.SelectObjects()(ts, mask)"
     ],
     "language": "python",
     "metadata": {},
     "outputs": [],
     "prompt_number": 12
    },
    {
     "cell_type": "code",
     "collapsed": false,
     "input": [
      "plt.hist(np.sqrt(np.sum((ts._series - np.mean(fspace_data,0).reshape((-1,1)))**2, 0)), np.linspace(0,100,101))\n",
      "plt.show()"
     ],
     "language": "python",
     "metadata": {},
     "outputs": [],
     "prompt_number": 13
    },
    {
     "cell_type": "heading",
     "level": 3,
     "metadata": {},
     "source": [
      "Load tunotopic cluster"
     ]
    },
    {
     "cell_type": "code",
     "collapsed": false,
     "input": [
      "fp_spec = ia.TimeSeries()\n",
      "fp_spec.load(fingerprinted_specfile)\n",
      "spec_dict = defaultdict(dict)\n",
      "for clust_id, clust in enumerate(fp_spec.label_objects):\n",
      "    for v, k in zip(fp_spec._series[:,clust_id], fp_spec.label_stimuli):\n",
      "        k = k.strip()\n",
      "        if k in cas2molid:\n",
      "            spec_dict[clust][int(cas2molid[k])]=v\n",
      "        else:\n",
      "            logger.info('no molid found for %s'%k)   "
     ],
     "language": "python",
     "metadata": {},
     "outputs": [],
     "prompt_number": 13
    },
    {
     "cell_type": "heading",
     "level": 2,
     "metadata": {},
     "source": [
      "Hierachical cluster data"
     ]
    },
    {
     "cell_type": "markdown",
     "metadata": {},
     "source": [
      "Plots a hierachical clustering. Colors cluster as defined in the file specified in cluster_file. Please add new cluster manually to cluster_file. "
     ]
    },
    {
     "cell_type": "code",
     "collapsed": false,
     "input": [
      "load_cluster = False # if already cluster assignments exist, load them\n",
      "cluster_metric = 'cosine'\n",
      "linkage_scheme = 'average'\n",
      "\n",
      "title = '_'.join((cluster_metric, linkage_scheme, method))\n",
      "cluster = json.load(open(cluster_file))[title] if load_cluster else None   \n",
      "\n",
      "# create hierachical clustering\n",
      "dist = pdist(ts._series.T, metric = cluster_metric)\n",
      "#dist= np.sqrt(dist)\n",
      "link = linkage(dist, method = linkage_scheme)\n",
      "\n",
      "# create function to color previous defined cluster if exist. Else color everything grey.\n",
      "link_coloring = color_clusters(cluster) if cluster else (lambda node: '0.5')\n",
      "    \n",
      "# create labels with abbreviations for animals. \n",
      "pseudo = dict(zip(animals, 'abcdefghij'))\n",
      "pseudo['center'] = 'center'\n",
      "pseudo_inv = {v: k for k, v in pseudo.items()}\n",
      "new_labels = [pseudo[i.split('_')[0]] + i.split('_mode')[-1] for i in ts.label_objects]\n",
      "# define color for each animal\n",
      "animal_colors = [plt.cm.spectral(1.*animals.index(i.split('_')[0])/len(animals)) if i.split('_')[0] in animals else '0.5'\n",
      "                 for i in ts.label_objects]\n",
      "\n",
      "# plot hierachical clustering\n",
      "fig = plt.figure(figsize=(7,len(new_labels)/10.))\n",
      "ax = fig.add_axes([0.1,0.01,0.89,0.94])\n",
      "d = dendrogram(link, link_color_func=link_coloring,  orientation='left',  count_sort='descending', labels=new_labels)\n",
      "#ax.set_xlim((0,0.2))\n",
      "\n",
      "# label coloring\n",
      "for l_ind, l in enumerate(ax.yaxis.get_ticklabels()):\n",
      "    mode = d['leaves'][l_ind]\n",
      "    l.set_color(animal_colors[mode])\n",
      "  \n",
      "# annotate nodes with node id\n",
      "node_order = list(np.sort(np.array(d['dcoord'])[:,1]))\n",
      "for di, dd in zip(d['icoord'], d['dcoord']):\n",
      "    y = 0.5 * sum(di[1:3])\n",
      "    x = dd[1]\n",
      "    ix = node_order.index(dd[1])\n",
      "    ax.annotate(\"%d\" % ix, (x, y), xytext=(1,1), textcoords='offset points', va='bottom', ha='left', size=8)    \n",
      "   \n",
      "# decorate axis\n",
      "ax.set_xlabel('distance')\n",
      "ax.yaxis.set_tick_params(labelsize=8)\n",
      "ax.xaxis.set_tick_params(labelsize=8)\n",
      "ax.xaxis.set_ticks_position('top')\n",
      "ax.xaxis.set_label_position('top')\n",
      "ax.set_title(title, y=1.02)\n",
      "\n",
      "fig.savefig('test.pdf')\n",
      "\n",
      "plt.show()"
     ],
     "language": "python",
     "metadata": {},
     "outputs": [],
     "prompt_number": 14
    },
    {
     "cell_type": "heading",
     "level": 2,
     "metadata": {},
     "source": [
      "Plot location and spectra of cluster"
     ]
    },
    {
     "cell_type": "heading",
     "level": 4,
     "metadata": {},
     "source": [
      "Functions to create cluster visualization"
     ]
    },
    {
     "cell_type": "code",
     "collapsed": false,
     "input": [
      "def plot_location(ts, link, cluster, bg_dict, ax_dict, color_dict, face=True, base_thres=0.3):\n",
      "    ''' plot cluster location'''\n",
      "    \n",
      "    # plot bg\n",
      "    for axname,ax in ax_dict.items():\n",
      "        bg = bg_dict[axname]\n",
      "        ax.imshow(bg_dict[axname], interpolation='none', cmap=plt.cm.bone, extent=[0,84,64,0])\n",
      "        ax.set_axis_off()\n",
      "\n",
      "    # plot location and timecouses of clusters\n",
      "    for clust in cluster:    \n",
      "        color = color_dict[clust]\n",
      "        spec_collection = []\n",
      "        for node in return_all_childs(link,clust+link.shape[0]+1):\n",
      "            # get animal of cluster member\n",
      "            measID = ts.label_objects[node].split('_')[0]\n",
      "            # print pixel participation\n",
      "            mode = ts.base.shaped2D()[node]    \n",
      "            if face:\n",
      "                ax_dict[measID].contourf(mode, [base_thres,1], colors=[color], alpha=0.5)\n",
      "            else:\n",
      "                ax_dict[measID].contour(mode, [base_thres], colors=[color], alpha=0.5, linewidths=[2])"
     ],
     "language": "python",
     "metadata": {},
     "outputs": [],
     "prompt_number": 15
    },
    {
     "cell_type": "heading",
     "level": 4,
     "metadata": {},
     "source": [
      "Chemical distance to MOR18-2"
     ]
    },
    {
     "cell_type": "code",
     "collapsed": false,
     "input": [
      "cluster_id = 132 # 249 #260\n",
      "metric = 'cosine' #'euclidean' #'cosine'\n",
      "what = ts\n",
      "\n",
      "protoype_idx = return_all_childs(link,cluster_id+link.shape[0]+1)\n",
      "prototype = np.mean(what._series[:,protoype_idx],1)\n",
      "cor = squareform(pdist(np.hstack([prototype[:,np.newaxis], what._series]).T, metric))[0,1:]"
     ],
     "language": "python",
     "metadata": {},
     "outputs": [],
     "prompt_number": 16
    },
    {
     "cell_type": "heading",
     "level": 3,
     "metadata": {},
     "source": [
      "Chemotopic Clustering"
     ]
    },
    {
     "cell_type": "code",
     "collapsed": false,
     "input": [
      "cdict = {'red': ((0, 0, 0),\n",
      "                 (0.075, 1, 1),\n",
      "                 (0.2, 1, 1),\n",
      "                 (1, 1, 1)),\n",
      "         'green': ((0, 1, 1),\n",
      "                 (0.075, 1, 1),\n",
      "                 (0.2, 0.5, 0.5),\n",
      "                 (1, 0, 0)),\n",
      "         'blue':  ((0, 0, 0),\n",
      "                 (0.075, 0, 0),\n",
      "                 (0.2, 0, 0),\n",
      "                 (1, 0, 0))}\n",
      "RdGr_compact = matplotlib.colors.LinearSegmentedColormap('my_colormap',cdict,256)"
     ],
     "language": "python",
     "metadata": {},
     "outputs": [],
     "prompt_number": 17
    },
    {
     "cell_type": "code",
     "collapsed": false,
     "input": [],
     "language": "python",
     "metadata": {},
     "outputs": [],
     "prompt_number": 17
    },
    {
     "cell_type": "code",
     "collapsed": false,
     "input": [
      "factor = 1/3.\n",
      "\n",
      "RdGr_compact = matplotlib.colors.ListedColormap([plt.cm.RdYlGn_r(i**factor) for i in np.linspace(0,1,101)], name='my_name')\n",
      "\n",
      "link2 = link.copy()\n",
      "link2[:,2] = (link[:,2])**factor"
     ],
     "language": "python",
     "metadata": {},
     "outputs": [],
     "prompt_number": 20
    },
    {
     "cell_type": "code",
     "collapsed": false,
     "input": [
      "yticks = [0, 0.1, 0.5, 1]\n",
      "cluster = [321,325,132,315] #,342,356,352,343,370,372,367,375,377]#[324, 298, 352, 360, 354, 365, 363, 258, 385, 359, 366, 369, 384, 401, 397]\n",
      "num_cluster = len(cluster)\n",
      "\n",
      "fig = plt.figure(figsize=fig_dim)\n",
      "gs_meta = matplotlib.gridspec.GridSpec(2, 1, bottom=0.7, top = 0.99, left = 0.05, right=0.99, \n",
      "                                       height_ratios=[1,1.4,num_cluster*0.15], hspace=0.04)\n",
      "\n",
      "num_animals = len(animals)\n",
      "num_stim = len(ts.label_stimuli)\n",
      "clust_colors = {clust: plt.cm.gist_rainbow_r(1.*cluster.index(clust)/num_cluster) for clust in cluster}\n",
      "\n",
      "gs_top = matplotlib.gridspec.GridSpecFromSubplotSpec(2, 3, gs_meta[0], hspace=0.01, height_ratios=[5,1], \n",
      "                                                     wspace=0.05, width_ratios=[16.5,0.3,0.5])\n",
      "\n",
      "# plot dendrogarm\n",
      "ax = fig.add_subplot(gs_top[0,0])\n",
      "top = gs_meta[0].get_position(fig).corners()[1,1]\n",
      "fig.text(0.005, top, '(a)', fontweight='bold', fontsize=global_fs, ha='left', va='center')\n",
      "d = dendrogram(link2, link_color_func = color_clusters(cluster, clust_colors), count_sort='descending')\n",
      "ax.set_xticks([])\n",
      "ax.set_yticks([i**factor for i in yticks])\n",
      "ax.set_yticklabels(yticks)\n",
      "ax.set_ylabel('$\\hat{d}_{cos}$', labelpad=-1)\n",
      "#ax.set_ylim([0,0.2])\n",
      "\n",
      "\n",
      "# plot MOR18-2 correlation\n",
      "ax = fig.add_subplot(gs_top[1,0])\n",
      "im = ax.imshow(((cor[d['leaves']]).reshape((1,-1))), cmap= RdGr_compact, interpolation='none', \n",
      "               aspect='auto', vmin=0, vmax=1)\n",
      "ax.set_yticks([])\n",
      "ax.set_xticks([])\n",
      "ax.set_xlabel('glomeruli', labelpad=2)\n",
      "# colorbar\n",
      "axbar = fig.add_subplot(gs_top[:,1])\n",
      "cbar = plt.colorbar(im, cax=axbar)\n",
      "cbar.set_ticks([0,1])\n",
      "cbar.set_ticklabels([1,0])\n",
      "cbar.set_label('$cos_{MOR18-2}$', labelpad=-2)\n",
      "\n",
      "\n",
      "# plot locations\n",
      "gs = matplotlib.gridspec.GridSpecFromSubplotSpec(1, num_animals, gs_meta[1,:], wspace=0.02)\n",
      "top = gs_meta[1].get_position(fig).corners()[1,1]\n",
      "fig.text(0.005, top-0.01, '(b)', fontweight='bold', fontsize=global_fs, ha='left', va='center')\n",
      "axbase = {animal: fig.add_subplot(gs[0,ix]) for ix, animal in enumerate(animals)}\n",
      "plot_location(ts, link, cluster, bg_dict, axbase, clust_colors)\n",
      "\n",
      "fig.savefig('///home/jan/Dokumente/Code/MOL2.3paper/MOBPaper/Fig6.pdf',bbox_inches='tight')\n",
      "\n",
      "plt.show()"
     ],
     "language": "python",
     "metadata": {},
     "outputs": [],
     "prompt_number": 22
    },
    {
     "cell_type": "code",
     "collapsed": false,
     "input": [
      "plt.colorbar?"
     ],
     "language": "python",
     "metadata": {},
     "outputs": [],
     "prompt_number": 38
    },
    {
     "cell_type": "code",
     "collapsed": false,
     "input": [
      "tunocluster_topplot = ['clust_%d'%i for i in [200, 172, 256, 254, 278]]"
     ],
     "language": "python",
     "metadata": {},
     "outputs": [],
     "prompt_number": 138
    },
    {
     "cell_type": "code",
     "collapsed": false,
     "input": [
      "spec_toplot = []\n",
      "for clust in tunocluster_topplot:\n",
      "    spec_toplot.append([spec_dict[clust][int(cas2molid[i.strip()])] for i in ts_pruned.label_stimuli])\n",
      "spec_toplot = np.array(spec_toplot).T\n",
      "norm = np.sum(np.abs(spec_toplot),0)\n",
      "spec_toplot /= norm"
     ],
     "language": "python",
     "metadata": {},
     "outputs": [],
     "prompt_number": 93
    },
    {
     "cell_type": "code",
     "collapsed": false,
     "input": [
      "centers_tunocluster = np.dot(fspace_data.T, spec_toplot)"
     ],
     "language": "python",
     "metadata": {},
     "outputs": [],
     "prompt_number": 94
    },
    {
     "cell_type": "code",
     "collapsed": false,
     "input": [
      "to_embedd = np.vstack([centers_tunocluster.T, fspace_data]) #fspace_data #\n",
      "dist = squareform(pdist(to_embedd, 'euclidean'))\n",
      "dist.shape"
     ],
     "language": "python",
     "metadata": {},
     "outputs": [
      {
       "metadata": {},
       "output_type": "pyout",
       "prompt_number": 95,
       "text": [
        "(49, 49)"
       ]
      }
     ],
     "prompt_number": 95
    },
    {
     "cell_type": "code",
     "collapsed": false,
     "input": [
      "embedding = MDS(dissimilarity='precomputed', n_components=2, random_state=3)\n",
      "out = embedding.fit_transform(dist)"
     ],
     "language": "python",
     "metadata": {},
     "outputs": [],
     "prompt_number": 96
    },
    {
     "cell_type": "code",
     "collapsed": false,
     "input": [
      "start = 5\n",
      "fig = plt.figure(figsize = (10,10))\n",
      "for ind, data in enumerate(spec_toplot.T):\n",
      "    ax = fig.add_subplot(3, 2, ind+1)\n",
      "    data /= np.max(data)\n",
      "    my_cmap = matplotlib.colors.LinearSegmentedColormap.from_list('my_cmap',\n",
      "                                               [(1,1,1,1), plt.cm.gist_rainbow(1.*ind/len(spec_toplot.T))])\n",
      "    ax.scatter(out[ind,0], out[ind,1], s=20, marker = 'x', linewidths=1,\n",
      "                facecolor= my_cmap(1),\n",
      "                edgecolor= '0.8')\n",
      "    ax.scatter(out[start:,0], out[start:,1], s=20, linewidths=1,\n",
      "                facecolor= [my_cmap(i) for i in data],\n",
      "                edgecolor= '0.8', alpha=0.8)\n",
      "    ax.set_xticks([])\n",
      "    ax.set_yticks([])\n",
      "    ax.set_title(k)\n",
      "plt.show()"
     ],
     "language": "python",
     "metadata": {},
     "outputs": [],
     "prompt_number": 97
    },
    {
     "cell_type": "heading",
     "level": 2,
     "metadata": {},
     "source": [
      "Chemotopic embedding"
     ]
    },
    {
     "cell_type": "heading",
     "level": 4,
     "metadata": {},
     "source": [
      "Spatial plot of all modes with functiona distance to prototype"
     ]
    },
    {
     "cell_type": "code",
     "collapsed": false,
     "input": [
      "cluster_id = 260\n",
      "metric = 'cosine'\n",
      "what = ts\n",
      "\n",
      "protoype_idx = return_all_childs(link,cluster_id+link.shape[0]+1)\n",
      "prototype = np.mean(what._series[:,protoype_idx],1)\n",
      "cor = squareform(pdist(np.hstack([prototype[:,np.newaxis], what._series]).T, metric))[0,1:]\n",
      "\n",
      "fig = plt.figure()\n",
      "gs = matplotlib.gridspec.GridSpec(3,int(np.ceil(num_animals/3.)))\n",
      "axbase = [fig.add_subplot(gs[i]) for i in range(num_animals)]\n",
      "\n",
      "\n",
      "for measID, ax in zip(animals, axbase):\n",
      "    bg = bg_dict[measID]\n",
      "    ax.imshow(bg, interpolation='none', cmap=plt.cm.bone, extent=[0,84,64,0], vmin=-1, vmax=1)\n",
      "    ax.set_axis_off() \n",
      "\n",
      "for obj_id in range(what.num_objects):\n",
      "    measID = what.label_objects[obj_id].split('_')[0]\n",
      "    pos = animals.index(measID)\n",
      "    base = what.base.shaped2D()[obj_id]\n",
      "    basecolor = plt.cm.RdYlGn_r(((cor[obj_id])/(np.max(cor)))**0.3) #if cor[obj_id]<1 else '0.7'\n",
      "    axbase[pos].contourf(base, [0.3,1], colors=[basecolor]) \n",
      "    \n",
      "fig.suptitle('chemical distance')    \n",
      "plt.show()"
     ],
     "language": "python",
     "metadata": {},
     "outputs": [],
     "prompt_number": 103
    },
    {
     "cell_type": "heading",
     "level": 4,
     "metadata": {},
     "source": [
      "Distribution of functional distances for spatial neigbours vs. non-neigbours"
     ]
    },
    {
     "cell_type": "markdown",
     "metadata": {},
     "source": [
      "Neigbours are calculated as overlapping modes after extending the custermodes with dilation "
     ]
    },
    {
     "cell_type": "code",
     "collapsed": false,
     "input": [
      "np.mean(dist[~member_mask])"
     ],
     "language": "python",
     "metadata": {},
     "outputs": [
      {
       "metadata": {},
       "output_type": "pyout",
       "prompt_number": 332,
       "text": [
        "13.186392476249875"
       ]
      }
     ],
     "prompt_number": 332
    },
    {
     "cell_type": "code",
     "collapsed": false,
     "input": [
      "for dilation in range(1, 35, 1):\n",
      "\n",
      "    thres = 0.6\n",
      "    #dilation = 2\n",
      "    metric='euclidean'\n",
      "    show = False\n",
      "    \n",
      "    # get cluster member\n",
      "    member_idx = return_all_childs(link,cluster_id+link.shape[0]+1)\n",
      "    member_mask = np.zeros(ts.num_objects).astype('bool')\n",
      "    member_mask[member_idx] = True\n",
      "    \n",
      "    \n",
      "    # calculate which modes overlap with cluster modes\n",
      "    neighbour_modes = np.zeros(ts.num_objects).astype('bool')\n",
      "    for animal in animals:\n",
      "        animal_mask = np.array([animal in mode for mode in ts.label_objects])\n",
      "        neighbour_pixel = np.logical_or(ts.base.shaped2D()[animal_mask*member_mask]>thres,0).squeeze()\n",
      "        if dilation:\n",
      "            neighbour_pixel = scipy.ndimage.morphology.binary_dilation(neighbour_pixel, iterations=dilation)\n",
      "        neighbour_modes[animal_mask] = np.max(ts.base._series[animal_mask][:,neighbour_pixel.flatten()],1)>thres\n",
      "    neighbour_modes[member_mask]=False    \n",
      "    \n",
      "    # calculate mode distances\n",
      "    prototype = np.mean(ts._series[:,member_idx],1)\n",
      "    dist = squareform(pdist(np.hstack([prototype[:,np.newaxis], ts._series]).T, metric))[0,1:]\n",
      "    dist_neighbours = dist[neighbour_modes]\n",
      "    dist_nonneighbours = dist[~(neighbour_modes+member_mask)]\n",
      "    \n",
      "    if show:\n",
      "        # plot distance distribution\n",
      "        ax = plt.subplot(111)\n",
      "        ax.hist(dist_nonneighbours, np.linspace(0,50,21), color=['0.5'], normed=True, lw=0, rwidth=1, label='non neighbours')\n",
      "        ax.hist(dist_neighbours, np.linspace(0,50,21), color='k', normed=True, histtype='step', lw=2, rwidth=1, label= 'neigbours')\n",
      "        ax.set_xlabel('distance')\n",
      "        ax.set_ylabel('rel. frequency')\n",
      "        ax.grid()\n",
      "        plt.legend()\n",
      "        \n",
      "        # plot neighbour modes\n",
      "        fig = plt.figure()\n",
      "        gs = matplotlib.gridspec.GridSpec(3,int(np.ceil(num_animals/3.)))\n",
      "        axbase = [fig.add_subplot(gs[i]) for i in range(num_animals)]\n",
      "        \n",
      "        \n",
      "        for measID, ax in zip(animals, axbase):\n",
      "            bg = bg_dict[measID]\n",
      "            ax.imshow(bg, interpolation='none', cmap=plt.cm.bone, extent=[0,84,64,0], vmin=-1, vmax=1)\n",
      "            ax.set_axis_off() \n",
      "        \n",
      "        for obj_id in range(what.num_objects):\n",
      "            measID = what.label_objects[obj_id].split('_')[0]\n",
      "            pos = animals.index(measID)\n",
      "            base = what.base.shaped2D()[obj_id]\n",
      "            basecolor ='g' if neighbour_modes[obj_id] else ('b' if member_mask[obj_id] else 'r')\n",
      "            axbase[pos].contourf(base, [thres,1], colors=[basecolor], alpha=0.5) # if cor[obj_id]<1 else (1.,0.1,0.1)], alpha=0.9)\n",
      "        plt.show()\n",
      "        \n",
      "        \n",
      "    # calculate significane of distribution difference\n",
      "    _, p_mwu = scipy.stats.mannwhitneyu(dist_neighbours, dist_nonneighbours)\n",
      "    _, p_ks = scipy.stats.ks_2samp(dist_neighbours, dist_nonneighbours)\n",
      "    _, p_tt = scipy.stats.ttest_ind(dist_neighbours, dist_nonneighbours)\n",
      "    print ' distance neighbours: %.2f, nonneighbours: %.2f, p_values -> MWU: %.2f, KS: %.2f, T: %.2f'%(np.mean(dist_neighbours),np.mean(dist_nonneighbours), p_mwu, p_ks, p_tt)"
     ],
     "language": "python",
     "metadata": {},
     "outputs": [
      {
       "output_type": "stream",
       "stream": "stdout",
       "text": [
        " distance neighbours: 8.34, nonneighbours: 13.21, p_values -> MWU: 0.02, KS: 0.02, T: 0.13\n",
        " distance neighbours: 10.56, nonneighbours: 13.29, p_values -> MWU: 0.00, KS: 0.03, T: 0.02"
       ]
      },
      {
       "output_type": "stream",
       "stream": "stdout",
       "text": [
        "\n",
        " distance neighbours: 10.97, nonneighbours: 13.32, p_values -> MWU: 0.00, KS: 0.01, T: 0.02"
       ]
      },
      {
       "output_type": "stream",
       "stream": "stdout",
       "text": [
        "\n",
        " distance neighbours: 10.97, nonneighbours: 13.37, p_values -> MWU: 0.00, KS: 0.01, T: 0.01"
       ]
      },
      {
       "output_type": "stream",
       "stream": "stdout",
       "text": [
        "\n",
        " distance neighbours: 11.30, nonneighbours: 13.36, p_values -> MWU: 0.00, KS: 0.01, T: 0.01"
       ]
      },
      {
       "output_type": "stream",
       "stream": "stdout",
       "text": [
        "\n",
        " distance neighbours: 11.59, nonneighbours: 13.35, p_values -> MWU: 0.01, KS: 0.02, T: 0.02"
       ]
      },
      {
       "output_type": "stream",
       "stream": "stdout",
       "text": [
        "\n",
        " distance neighbours: 12.49, nonneighbours: 13.27, p_values -> MWU: 0.03, KS: 0.03, T: 0.28"
       ]
      },
      {
       "output_type": "stream",
       "stream": "stdout",
       "text": [
        "\n",
        " distance neighbours: 12.57, nonneighbours: 13.28, p_values -> MWU: 0.04, KS: 0.03, T: 0.30"
       ]
      },
      {
       "output_type": "stream",
       "stream": "stdout",
       "text": [
        "\n",
        " distance neighbours: 12.65, nonneighbours: 13.27, p_values -> MWU: 0.06, KS: 0.08, T: 0.36"
       ]
      },
      {
       "output_type": "stream",
       "stream": "stdout",
       "text": [
        "\n",
        " distance neighbours: 12.67, nonneighbours: 13.28, p_values -> MWU: 0.08, KS: 0.17, T: 0.35"
       ]
      },
      {
       "output_type": "stream",
       "stream": "stdout",
       "text": [
        "\n",
        " distance neighbours: 12.65, nonneighbours: 13.29, p_values -> MWU: 0.08, KS: 0.22, T: 0.31"
       ]
      },
      {
       "output_type": "stream",
       "stream": "stdout",
       "text": [
        "\n",
        " distance neighbours: 12.48, nonneighbours: 13.33, p_values -> MWU: 0.04, KS: 0.16, T: 0.16"
       ]
      },
      {
       "output_type": "stream",
       "stream": "stdout",
       "text": [
        "\n",
        " distance neighbours: 12.56, nonneighbours: 13.33, p_values -> MWU: 0.04, KS: 0.15, T: 0.19"
       ]
      },
      {
       "output_type": "stream",
       "stream": "stdout",
       "text": [
        "\n",
        " distance neighbours: 12.64, nonneighbours: 13.33, p_values -> MWU: 0.06, KS: 0.22, T: 0.22"
       ]
      },
      {
       "output_type": "stream",
       "stream": "stdout",
       "text": [
        "\n",
        " distance neighbours: 12.76, nonneighbours: 13.31, p_values -> MWU: 0.10, KS: 0.45, T: 0.31"
       ]
      },
      {
       "output_type": "stream",
       "stream": "stdout",
       "text": [
        "\n",
        " distance neighbours: 12.79, nonneighbours: 13.32, p_values -> MWU: 0.14, KS: 0.52, T: 0.32"
       ]
      },
      {
       "output_type": "stream",
       "stream": "stdout",
       "text": [
        "\n",
        " distance neighbours: 12.69, nonneighbours: 13.37, p_values -> MWU: 0.09, KS: 0.49, T: 0.18"
       ]
      },
      {
       "output_type": "stream",
       "stream": "stdout",
       "text": [
        "\n",
        " distance neighbours: 12.63, nonneighbours: 13.42, p_values -> MWU: 0.07, KS: 0.50, T: 0.12"
       ]
      },
      {
       "output_type": "stream",
       "stream": "stdout",
       "text": [
        "\n",
        " distance neighbours: 12.87, nonneighbours: 13.34, p_values -> MWU: 0.18, KS: 0.46, T: 0.33"
       ]
      },
      {
       "output_type": "stream",
       "stream": "stdout",
       "text": [
        "\n",
        " distance neighbours: 13.11, nonneighbours: 13.23, p_values -> MWU: 0.48, KS: 0.94, T: 0.81"
       ]
      },
      {
       "output_type": "stream",
       "stream": "stdout",
       "text": [
        "\n",
        " distance neighbours: 13.04, nonneighbours: 13.27, p_values -> MWU: 0.39, KS: 0.74, T: 0.62"
       ]
      },
      {
       "output_type": "stream",
       "stream": "stdout",
       "text": [
        "\n",
        " distance neighbours: 13.11, nonneighbours: 13.23, p_values -> MWU: 0.46, KS: 0.99, T: 0.79"
       ]
      },
      {
       "output_type": "stream",
       "stream": "stdout",
       "text": [
        "\n",
        " distance neighbours: 13.09, nonneighbours: 13.26, p_values -> MWU: 0.46, KS: 0.99, T: 0.72"
       ]
      },
      {
       "output_type": "stream",
       "stream": "stdout",
       "text": [
        "\n",
        " distance neighbours: 13.12, nonneighbours: 13.24, p_values -> MWU: 0.41, KS: 0.96, T: 0.79"
       ]
      },
      {
       "output_type": "stream",
       "stream": "stdout",
       "text": [
        "\n",
        " distance neighbours: 13.09, nonneighbours: 13.26, p_values -> MWU: 0.44, KS: 0.95, T: 0.71"
       ]
      },
      {
       "output_type": "stream",
       "stream": "stdout",
       "text": [
        "\n",
        " distance neighbours: 13.02, nonneighbours: 13.34, p_values -> MWU: 0.50, KS: 0.77, T: 0.49"
       ]
      },
      {
       "output_type": "stream",
       "stream": "stdout",
       "text": [
        "\n",
        " distance neighbours: 13.00, nonneighbours: 13.36, p_values -> MWU: 0.47, KS: 0.72, T: 0.43"
       ]
      },
      {
       "output_type": "stream",
       "stream": "stdout",
       "text": [
        "\n",
        " distance neighbours: 12.95, nonneighbours: 13.43, p_values -> MWU: 0.41, KS: 0.46, T: 0.29"
       ]
      },
      {
       "output_type": "stream",
       "stream": "stdout",
       "text": [
        "\n",
        " distance neighbours: 12.93, nonneighbours: 13.48, p_values -> MWU: 0.28, KS: 0.44, T: 0.22"
       ]
      },
      {
       "output_type": "stream",
       "stream": "stdout",
       "text": [
        "\n",
        " distance neighbours: 12.95, nonneighbours: 13.49, p_values -> MWU: 0.35, KS: 0.44, T: 0.24"
       ]
      },
      {
       "output_type": "stream",
       "stream": "stdout",
       "text": [
        "\n",
        " distance neighbours: 13.05, nonneighbours: 13.39, p_values -> MWU: 0.44, KS: 0.51, T: 0.46"
       ]
      },
      {
       "output_type": "stream",
       "stream": "stdout",
       "text": [
        "\n",
        " distance neighbours: 12.99, nonneighbours: 13.49, p_values -> MWU: 0.33, KS: 0.25, T: 0.28"
       ]
      },
      {
       "output_type": "stream",
       "stream": "stdout",
       "text": [
        "\n",
        " distance neighbours: 12.98, nonneighbours: 13.52, p_values -> MWU: 0.28, KS: 0.17, T: 0.25"
       ]
      },
      {
       "output_type": "stream",
       "stream": "stdout",
       "text": [
        "\n",
        " distance neighbours: 12.96, nonneighbours: 13.62, p_values -> MWU: 0.20, KS: 0.17, T: 0.17"
       ]
      },
      {
       "output_type": "stream",
       "stream": "stdout",
       "text": [
        "\n"
       ]
      }
     ],
     "prompt_number": 335
    },
    {
     "cell_type": "code",
     "collapsed": false,
     "input": [
      "plt.close('all')"
     ],
     "language": "python",
     "metadata": {},
     "outputs": [],
     "prompt_number": 334
    },
    {
     "cell_type": "code",
     "collapsed": false,
     "input": [],
     "language": "python",
     "metadata": {},
     "outputs": []
    }
   ],
   "metadata": {}
  }
 ]
}