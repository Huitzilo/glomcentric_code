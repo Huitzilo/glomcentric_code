{
 "metadata": {
  "name": ""
 },
 "nbformat": 3,
 "nbformat_minor": 0,
 "worksheets": [
  {
   "cells": [
    {
     "cell_type": "code",
     "collapsed": false,
     "input": [
      "import sys\n",
      "sys.path.append('/home/jan/Dokumente/Code/FUImaging/')"
     ],
     "language": "python",
     "metadata": {},
     "outputs": [],
     "prompt_number": 1
    },
    {
     "cell_type": "code",
     "collapsed": false,
     "input": [
      "import os, csv, glob, json\n",
      "import scipy, matplotlib\n",
      "import pylab as plt\n",
      "import numpy as np\n",
      "from matplotlib import gridspec\n",
      "from collections import defaultdict\n",
      "from scipy.io import loadmat\n",
      "\n",
      "import ImageAnalysisComponents as ia"
     ],
     "language": "python",
     "metadata": {},
     "outputs": [],
     "prompt_number": 2
    },
    {
     "cell_type": "code",
     "collapsed": false,
     "input": [
      "fig_dim = (7.48,9.4)\n",
      "global_fs= 8 "
     ],
     "language": "python",
     "metadata": {},
     "outputs": [],
     "prompt_number": 3
    },
    {
     "cell_type": "code",
     "collapsed": false,
     "input": [
      "stim_cut =  (8,12) #(3,5) \n",
      "\n",
      "savefile = '/home/jan/Dokumente/MOBData/Vis/Paper/Fig2.pdf'\n",
      "basepath = '/media/jan/BackupWork/Documents/NewAnalysis/'\n",
      "datadict_path = os.path.join(basepath, 'DataDicts')\n",
      "\n",
      "cas2name = {l[0]:l[1] for l in csv.reader(open(os.path.join(datadict_path,'Name2MomCas.tab')),  delimiter='\\t')}\n",
      "cas2name['7440-37-1'] = 'Argon (Control)'"
     ],
     "language": "python",
     "metadata": {},
     "outputs": [],
     "prompt_number": 4
    },
    {
     "cell_type": "heading",
     "level": 2,
     "metadata": {},
     "source": [
      "Helper functions"
     ]
    },
    {
     "cell_type": "code",
     "collapsed": false,
     "input": [
      "def no_ticks(ax):\n",
      "    ax.set_xticks([])\n",
      "    ax.set_yticks([])\n",
      "  \n",
      "# timecourses plotter\n",
      "rep_param = defaultdict(lambda: {'linewidth':1, 'ls':'--', 'color':'0.8'})\n",
      "rep_param.update({0:{'linewidth':0.6, 'ls':'--' , 'color':'k','marker':'.', 'ms':2, 'dashes':(2,2)}, \n",
      "           1:{'linewidth':0.6, 'ls':'--', 'color':'0.4', 'marker':'.','ms':2, 'dashes':(2,2), 'mec':'0.4'}})\n",
      "def timeplot(ax, data, mode):\n",
      "    xtime = np.arange(12)\n",
      "    stimpos_dict = defaultdict(list)\n",
      "    for lab_ind, lab in enumerate(data.label_stimuli):\n",
      "        stimpos_dict[lab].append(lab_ind)\n",
      "    for stim_num, stim in enumerate(stimpos_dict.keys()):\n",
      "        for stimrep, stimpos in enumerate(stimpos_dict[stim]):\n",
      "            xpoints = xtime + stim_num*12\n",
      "            # only 2 repitions\n",
      "            if stimrep >1:\n",
      "                break          \n",
      "            \n",
      "            if stim_num == 0: # plot with legend\n",
      "                ax.plot(xpoints, data.trial_shaped()[stimpos,:,mode], label='trial %d'%(stimrep+1), **rep_param[stimrep])\n",
      "            else:\n",
      "                ax.plot(xpoints, data.trial_shaped()[stimpos,:,mode],**rep_param[stimrep])\n",
      "\n",
      "    myxticks = np.hstack([xtime+i*12 for i in range(len(stimpos_dict))])\n",
      "    yticks = [0,1,2]\n",
      "    ax.set_yticks(yticks)\n",
      "    ax.set_yticklabels(yticks)\n",
      "    ax.yaxis.set_tick_params(labelsize=7)\n",
      "    #ax.set_xticks(myxticks, minor=True)\n",
      "    ax.set_xticks(range(0, len(stimpos_dict)*12, 12))\n",
      "    ax.set_xticklabels([])\n",
      "    ax.set_xlim((0,len(stimpos_dict)*12))\n",
      "    ax.yaxis.set_ticks_position('right')\n",
      "\n",
      "def base_overlay(ax, bg, toplot, alpha_thres=0.3):\n",
      "    fig_temp = plt.figure()\n",
      "    ax_temp = fig_temp.add_subplot(111)\n",
      "    toplot_rgba = plt.cm.jet(toplot) #cmap_bases((toplot+1)/2.)\n",
      "    alpha =0.8*np.ones(toplot.shape)\n",
      "    alpha[np.abs(toplot)<alpha_thres]=0\n",
      "    toplot_rgba[:,:,3]=alpha\n",
      "    ax_temp.imshow(bg, interpolation='none', cmap=plt.cm.bone, \n",
      "                   extent=[-0.5,toplot.shape[0]-0.5,toplot.shape[1]-0.5,-0.5], vmin=-0.1)\n",
      "    ax_temp.hold(True)\n",
      "    ax_temp.imshow(toplot_rgba, interpolation='none')\n",
      "    ax_temp.set_axis_off()\n",
      "    no_ticks(ax_temp)\n",
      "    fig_temp.savefig('/home/jan/mytemp.png', bbox_inches='tight', pad_inches=0)\n",
      "    plt.close(fig_temp)\n",
      "    im = plt.imread('/home/jan/mytemp.png')\n",
      "    ax.imshow(im, interpolation='nearest', extent=[-0.5,toplot.shape[0]-0.5,toplot.shape[1]-0.5,-0.5])\n",
      "    no_ticks(ax)\n",
      "    \n",
      "def condense_list_dict(dic, reducefct=np.mean):\n",
      "    ''' apply reducefct to every value of dictionary'''\n",
      "    reduced_dict = {}\n",
      "    for k, v in dic.items():\n",
      "        reduced_dict[k] = reducefct(v)\n",
      "    return reduced_dict"
     ],
     "language": "python",
     "metadata": {},
     "outputs": [],
     "prompt_number": 5
    },
    {
     "cell_type": "heading",
     "level": 3,
     "metadata": {},
     "source": [
      "Get the data"
     ]
    },
    {
     "cell_type": "code",
     "collapsed": false,
     "input": [
      "animal = '120309FRV'\n",
      "method =  'nnmf_20_sm5_convex_negTimelowSP_sp*_sph_meas'\n",
      "\n",
      "filt_data_file = os.path.join(basepath, 'MOBconverted', animal, 'sph_meas')\n",
      "bg_file = os.path.join(basepath, 'MOBconverted', animal, 'bg.png')\n",
      "green_file = os.path.join(basepath, 'MOBconverted', animal, 'green.png')\n",
      "mf_filename = glob.glob(os.path.join(basepath, 'MOBdecomposed', animal, method+'.npy'))\n",
      "assert len(mf_filename)==1\n",
      "mf_filename = mf_filename[0].split('.')[0]\n",
      "\n",
      "frv_file = os.path.join(basepath, 'MOBraw', animal, '2p', 'zstack1.mat')\n",
      "frv_filepre = os.path.join(basepath, 'MOBraw', animal, '2p', 'zstack0.mat')"
     ],
     "language": "python",
     "metadata": {},
     "outputs": [],
     "prompt_number": 6
    },
    {
     "cell_type": "heading",
     "level": 4,
     "metadata": {},
     "source": [
      "Load example data"
     ]
    },
    {
     "cell_type": "code",
     "collapsed": false,
     "input": [
      "filt_data_raw = ia.TimeSeries()\n",
      "filt_data_raw.load(filt_data_file)\n",
      "filt_data = ia.TrialMean()(ia.CutOut(stim_cut)(filt_data_raw))\n",
      "odor_mask = np.array(['o' in lab for lab in filt_data.label_stimuli])\n",
      "filt_data = ia.SelectTrials()(filt_data, odor_mask)\n",
      "filt_data.label_stimuli = [i.split('_')[0] for i in filt_data.label_stimuli]\n",
      "filt_data = ia.SingleSampleResponse()(filt_data)\n",
      "\n",
      "mf = ia.TimeSeries()\n",
      "mf.load(mf_filename)\n",
      "odor_mask = np.array(['o' in lab for lab in mf.label_stimuli])\n",
      "mf = ia.SelectTrials()(mf, odor_mask)\n",
      "mf.label_stimuli = [i.split('_')[0] for i in mf.label_stimuli]\n",
      "\n",
      "bg = plt.imread(bg_file)\n",
      "frv = loadmat(frv_file)\n",
      "frvpre = loadmat(frv_filepre)\n",
      "\n",
      "rois = ia.TimeSeries()\n",
      "rois.load(os.path.join(basepath, 'MOBconverted', animal, 'rois'))"
     ],
     "language": "python",
     "metadata": {},
     "outputs": [],
     "prompt_number": 34
    },
    {
     "cell_type": "heading",
     "level": 4,
     "metadata": {},
     "source": [
      "Load sph spectrum"
     ]
    },
    {
     "cell_type": "code",
     "collapsed": false,
     "input": [
      "average_function = np.median\n",
      "method =  'nnmf_20_sm5_convex_negTimelowSP_sp*_sph_measnormed'\n",
      "mor182spec_file = os.path.join(basepath, 'DataDicts', 'MOR18-2spec_sph.json')\n",
      "mor182spec = json.load(open(mor182spec_file))\n",
      "\n",
      "#Select only pure odors\n",
      "pure_odors = [o for o in mor182spec[method].keys() if (len(o.split('_'))<2)]\n",
      "pure_odor_resp = [average_function(mor182spec[method][o]) for o in pure_odors]\n",
      "odors_sorted = [pure_odors[i] for i in np.argsort(pure_odor_resp)]\n",
      "spec = [average_function(mor182spec[method][i]) for i in odors_sorted]"
     ],
     "language": "python",
     "metadata": {},
     "outputs": [],
     "prompt_number": 8
    },
    {
     "cell_type": "heading",
     "level": 4,
     "metadata": {},
     "source": [
      "Load ios spectrum"
     ]
    },
    {
     "cell_type": "code",
     "collapsed": false,
     "input": [
      "methodIOS =  'nnmf_200_sm2_convex_negTimelowSP_sp*_ios_measnormed'\n",
      "mor182specIOS_file = os.path.join(basepath, 'DataDicts', 'MOR18-2spec.json')\n",
      "mor182specIOS = json.load(open(mor182specIOS_file))\n",
      "\n",
      "#Get response for odors included in SPH measurements\n",
      "IOSspec = [average_function(mor182specIOS[methodIOS][o]) for o in odors_sorted]\n",
      "\n",
      "#mask to exclude odors with less than 3 IOS measurements\n",
      "num_IOS = [len(mor182specIOS[methodIOS][o]) for o in odors_sorted]\n",
      "mask = np.array(num_IOS)>3"
     ],
     "language": "python",
     "metadata": {},
     "outputs": [],
     "prompt_number": 9
    },
    {
     "cell_type": "heading",
     "level": 2,
     "metadata": {},
     "source": [
      "Plot the data"
     ]
    },
    {
     "cell_type": "code",
     "collapsed": false,
     "input": [
      "for i in set(filt_data.label_stimuli):\n",
      "    print i, cas2name[i]"
     ],
     "language": "python",
     "metadata": {},
     "outputs": [
      {
       "output_type": "stream",
       "stream": "stdout",
       "text": [
        "109-60-4 Propyl acetate\n",
        "554-12-1 Methyl propionate\n",
        "7493-71-2 Allyl tiglate\n",
        "540-42-1 Isobutyl propionate\n",
        "110-19-0 Isobutyl acetate\n",
        "7440-37-1 Argon (Control)\n",
        "123-86-4 Butyl acetate\n",
        "105-37-3 Ethyl propionate\n",
        "106-36-5 Propyl propionate\n",
        "2408-20-0 Allyl propionate\n",
        "623-36-9 2-Methyl-2-pentenal\n",
        "75-07-0 Acetaldehyde\n",
        "591-87-7 Allyl acetate\n",
        "141-78-6 Ethyl acetate\n",
        "108-21-4 Isopropyl acetate\n"
       ]
      }
     ],
     "prompt_number": 31
    },
    {
     "cell_type": "code",
     "collapsed": false,
     "input": [
      "fig  = plt.figure(figsize=fig_dim)\n",
      "global_fs= 8 \n",
      "\n",
      "layout = {   'axes.labelsize': 8,\n",
      "             'axes.linewidth': .5, \n",
      "             'xtick.major.size': 2,     # major tick size in points\n",
      "             'xtick.minor.size': 1,     # minor tick size in points\n",
      "             'xtick.labelsize': 7,       # fontsize of the tick labels\n",
      "             'xtick.major.pad': 2,  \n",
      "             \n",
      "             'ytick.major.size': 2,      # major tick size in points\n",
      "             'ytick.minor.size': 1,     # minor tick size in points\n",
      "             'ytick.labelsize':7,       # fontsize of the tick labels\n",
      "             'ytick.major.pad': 2,\n",
      "             'mathtext.default' : 'regular'\n",
      "             }\n",
      "\n",
      "import matplotlib as mpl\n",
      "for k, v in layout.items():\n",
      "    mpl.rcParams[k] = v "
     ],
     "language": "python",
     "metadata": {},
     "outputs": [],
     "prompt_number": 45
    },
    {
     "cell_type": "code",
     "collapsed": false,
     "input": [
      "cas2plot =['7440-37-1', '591-87-7', '109-60-4', '554-12-1',  '105-37-3', '623-36-9']\n",
      "\n",
      "bottom_line1 = 0.88\n",
      "# plot resting fluo0 \n",
      "gs = gridspec.GridSpec(1,1)\n",
      "gs.update(**{'left':0.02, 'right':0.13, 'top':0.97, 'bottom':bottom_line1})\n",
      "ax = fig.add_subplot(gs[0])\n",
      "im_h = ax.imshow(np.mean(frvpre['ch2'][:,:,10:], axis=2), interpolation='none', cmap=plt.cm.bone)\n",
      "imsize = frvpre['ch2'].shape[:2]\n",
      "for roi in rois.shaped2D():\n",
      "    ax.contour(roi, [0.5], colors=['y'], extent=[0,imsize[0],0,imsize[1]])\n",
      "no_ticks(ax)\n",
      "\n",
      "# plot image maps\n",
      "gs = gridspec.GridSpec(1,6)\n",
      "gs.update(**{'left':0.14, 'right':0.79, 'top':0.97, 'bottom':bottom_line1, 'wspace':0.})\n",
      "for ix, cas in enumerate(cas2plot):\n",
      "    toplot = filt_data.shaped2D()[filt_data.label_stimuli.index(cas)]\n",
      "    ax = fig.add_subplot(gs[0,ix])\n",
      "    im_h = ax.imshow(toplot, interpolation='none', vmin=-1.2, vmax=1.2)\n",
      "    ax.set_title(cas2name[cas], size=6)\n",
      "    # draw rois\n",
      "    for roi in rois.shaped2D():\n",
      "        ax.contour(roi, [0.5], colors=['w'])\n",
      "    no_ticks(ax)\n",
      "    \n",
      "# add colorbar\n",
      "axbar = fig.add_axes([0.79, bottom_line1, 0.01, 0.97-bottom_line1])\n",
      "cbar = fig.colorbar(im_h, axbar)\n",
      "cbar.set_ticks([-1,0,1])\n",
      "cbar.set_label(r'$-\\Delta R/R$'+ u' [\\%]', size=global_fs, labelpad=-1)\n",
      "axbar.yaxis.set_tick_params(labelsize=global_fs, pad=2)\n",
      "      \n",
      "# plot resting fluo post mortem\n",
      "gs = gridspec.GridSpec(1,1)\n",
      "gs.update(**{'left':0.855, 'right':0.99, 'top':0.97, 'wspace':0., 'bottom':bottom_line1})\n",
      "'''\n",
      "ax = fig.add_subplot(gs[0])\n",
      "im_h = ax.imshow(np.mean(frv['ch2'], axis=2), interpolation='none', cmap=plt.cm.bone)\n",
      "no_ticks(ax)\n",
      "'''\n",
      "ax = fig.add_subplot(gs[0])\n",
      "im_h = ax.imshow(np.mean(frv['ch1'], axis=2), interpolation='none', cmap=plt.cm.bone)\n",
      "no_ticks(ax)\n",
      "\n",
      "plt.show()"
     ],
     "language": "python",
     "metadata": {},
     "outputs": [],
     "prompt_number": 46
    },
    {
     "cell_type": "code",
     "collapsed": false,
     "input": [
      "#fig  = plt.figure(figsize=fig_dim)\n",
      "\n",
      "components2plot = [1,2]\n",
      "\n",
      "gs = gridspec.GridSpec(2,2, width_ratios=[1,4])\n",
      "gs.update(**{'left':0.01, 'right':0.66, 'top':0.85, 'bottom':0.69, 'wspace':0.01, 'hspace':0.05})\n",
      "\n",
      "#ax.text(0.08, 1.03, '(d)', transform=ax.transAxes,\n",
      "#                fontsize=fs_num, fontweight='bold', va='bottom', ha='right') \n",
      "\n",
      "for ix, comp in enumerate(components2plot):\n",
      "    ax = fig.add_subplot(gs[ix,0])\n",
      "    base_overlay(ax, bg, mf.base.shaped2D()[comp], alpha_thres=0.1)\n",
      "    for roi in rois.shaped2D():\n",
      "        ax.contour(roi, [0.5], colors=['y'])\n",
      "    ax = fig.add_subplot(gs[ix,1])\n",
      "    timeplot(ax, mf, comp)\n",
      "    ax.set_ylabel('$a_s$' + u' [\\u2030]', size=global_fs, labelpad=4)\n",
      "    ax.set_ylim([-0.2,1.2])\n",
      "    ax.yaxis.set_tick_params(pad=2)\n",
      "    ax.yaxis.set_label_position('right')\n",
      "\n",
      "# make legend\n",
      "ax.legend(loc = 'upper right', numpoints=2, ncol=2, prop={'size':6}, columnspacing=0.5, \n",
      "          handlelength=2, handletextpad=0.3, frameon=False, borderaxespad=0.1)\n",
      "\n",
      "    \n",
      "# colorbar\n",
      "axbar = fig.add_axes([0.03,0.69,0.1,0.005])\n",
      "colordata = np.linspace(0,1,101)\n",
      "colordata[0:10]=0\n",
      "axbar.imshow(colordata[:,np.newaxis].T, cmap=plt.cm.jet, aspect='auto')\n",
      "axbar.set_yticks([])\n",
      "axbar.xaxis.set_tick_params(labelsize=global_fs, pad=2)\n",
      "axbar.set_xticks([0,31,101])\n",
      "axbar.set_xticklabels([0,0.3,1])\n",
      "axbar.set_xlabel('pixel participation', size=global_fs, labelpad=2)\n",
      "\n",
      "#plt.show()"
     ],
     "language": "python",
     "metadata": {},
     "outputs": [
      {
       "metadata": {},
       "output_type": "pyout",
       "prompt_number": 26,
       "text": [
        "<matplotlib.text.Text at 0xdddf7ac>"
       ]
      }
     ],
     "prompt_number": 26
    },
    {
     "cell_type": "code",
     "collapsed": false,
     "input": [
      "gs = matplotlib.gridspec.GridSpec(1,1, top=0.85, bottom=0.69, left=0.75, right=0.98)\n",
      "\n",
      "ax = fig.add_subplot(gs[0])\n",
      "ax.plot(np.array(spec)[mask], np.array(IOSspec)[mask], 'o', mfc='none', mec='k', ms=4, mew=1)\n",
      "ax.plot([-0.2,1.2],[-0.2,1.2],':k')\n",
      "#ax.plot(iso_r.X_, iso_r.y_)\n",
      "ax.xaxis.set_tick_params(labelsize=global_fs)\n",
      "ax.set_xticks([0,1])\n",
      "#ax.set_yticks(np.array(IOSspec)[mask], minor=True)\n",
      "#ax.set_yticklabels([cas2name[odors_sorted[i]].decode(\"utf8\") for i in np.where(mask)[0]], size=6, minor=True)\n",
      "ax.yaxis.set_tick_params(labelsize=global_fs)#label2On=True, label1On=False)\n",
      "ax.set_yticks([0,1])\n",
      "ax.set_ylabel('$a_{rel}^{IOS}$', size=global_fs, labelpad=-2)\n",
      "ax.set_xlabel('$a_{rel}^{SPH}$', size=global_fs, labelpad=-2)\n",
      "\n",
      "fig.savefig(savefile)\n",
      "plt.show()"
     ],
     "language": "python",
     "metadata": {},
     "outputs": [],
     "prompt_number": 27
    },
    {
     "cell_type": "code",
     "collapsed": false,
     "input": [],
     "language": "python",
     "metadata": {},
     "outputs": []
    }
   ],
   "metadata": {}
  }
 ]
}