{
 "cells": [
  {
   "cell_type": "markdown",
   "metadata": {},
   "source": [
    "# Figures 1 and 2\n",
    "This notebook creates the following figures:\n",
    "\n",
    "* Fig. 1: Automatic segmentation of putative glomeruli\n",
    "* Fig. 2: The spectrum of MOL2.3/MOR18-2\n",
    "* Supplementary Fig. S1: Exemplary odor responses.\n"
   ]
  },
  {
   "cell_type": "code",
   "execution_count": 1,
   "metadata": {
    "collapsed": false
   },
   "outputs": [],
   "source": [
    "import os \n",
    "import csv\n",
    "import glob\n",
    "import json\n",
    "import StringIO\n",
    "import scipy\n",
    "import matplotlib\n",
    "#import pylab\n",
    "import numpy as np\n",
    "from matplotlib import gridspec\n",
    "from collections import defaultdict\n"
   ]
  },
  {
   "cell_type": "code",
   "execution_count": 2,
   "metadata": {
    "collapsed": false
   },
   "outputs": [
    {
     "name": "stdout",
     "output_type": "stream",
     "text": [
      "Populating the interactive namespace from numpy and matplotlib\n"
     ]
    }
   ],
   "source": [
    "%pylab inline"
   ]
  },
  {
   "cell_type": "code",
   "execution_count": 3,
   "metadata": {
    "collapsed": false
   },
   "outputs": [],
   "source": [
    "# get the regnmf package from https://github.com/Huitzilo/FUImaging\n",
    "import regnmf.ImageAnalysisComponents as ia"
   ]
  },
  {
   "cell_type": "code",
   "execution_count": 4,
   "metadata": {
    "collapsed": false
   },
   "outputs": [],
   "source": [
    "# download the preprocessed data from XXX\n",
    "basepath = os.path.realpath(os.path.join(os.path.pardir, 'glomcentric_data_preprocessed'))\n",
    "datadict_path = os.path.join(basepath, 'DataDicts')\n",
    "savepath = os.path.realpath(os.path.join('.', 'MOBFig1_results'))\n"
   ]
  },
  {
   "cell_type": "code",
   "execution_count": 5,
   "metadata": {
    "collapsed": false
   },
   "outputs": [],
   "source": [
    "#some global settings\n",
    "fig_dim = (7.48,9.4) #dimensions of the figure\n",
    "global_fs= 8 #font size \n",
    "\n",
    "layout = {   'axes.labelsize': 8,\n",
    "             'axes.linewidth': .5, \n",
    "             'xtick.major.size': 2,     # major tick size in points\n",
    "             'xtick.minor.size': 1,     # minor tick size in points\n",
    "             'xtick.labelsize': 7,       # fontsize of the tick labels\n",
    "             'xtick.major.pad': 2,  \n",
    "             \n",
    "             'ytick.major.size': 2,      # major tick size in points\n",
    "             'ytick.minor.size': 1,     # minor tick size in points\n",
    "             'ytick.labelsize':7,       # fontsize of the tick labels\n",
    "             'ytick.major.pad': 2,\n",
    "             \n",
    "             'mathtext.default' : 'regular' \n",
    "             }\n",
    "\n",
    "import matplotlib as mpl\n",
    "for k, v in layout.items():\n",
    "    mpl.rcParams[k] = v "
   ]
  },
  {
   "cell_type": "code",
   "execution_count": 6,
   "metadata": {
    "collapsed": false
   },
   "outputs": [],
   "source": [
    "stim_cut = (3,5) \n",
    "\n",
    "#translate CAS numbers to molecule names\n",
    "cas2name = {l[0]:l[1] for l in csv.reader(open(os.path.join(datadict_path,'Name2MomCas.tab')),  delimiter='\\t')}\n",
    "cas2name['7440-37-1'] = 'Argon (Control)'\n",
    "\n",
    "# ... and the reverse lookup\n",
    "name2cas = dict([(n,c) for c,n in cas2name.items()])"
   ]
  },
  {
   "cell_type": "markdown",
   "metadata": {},
   "source": [
    "### Helper functions"
   ]
  },
  {
   "cell_type": "code",
   "execution_count": 7,
   "metadata": {
    "collapsed": false
   },
   "outputs": [],
   "source": [
    "def no_ticks(ax):\n",
    "    \"\"\"\n",
    "    remove ticks from axis.\n",
    "    \"\"\"\n",
    "    ax.set_xticks([])\n",
    "    ax.set_yticks([])\n",
    "    \n",
    "def no_spines(ax):\n",
    "    \"\"\"\n",
    "    remove spines from axis.\n",
    "    \"\"\"\n",
    "    for sploc in ['top', 'bottom', 'left', 'right']: \n",
    "        ax.spines[sploc].set_visible(False)\n",
    "  \n",
    "# timecourses plotter\n",
    "rep_param = defaultdict(lambda: {'linewidth':1, 'ls':'--', 'color':'0.8'})\n",
    "rep_param.update({0:{'linewidth':0.6, 'ls':'--' , 'color':'k','marker':'.', 'ms':2, 'dashes':(2,2)}, \n",
    "           1:{'linewidth':0.6, 'ls':'--', 'color':'0.4', 'marker':'.','ms':2, 'dashes':(2,2), 'mec':'0.4'}})\n",
    "\n",
    "def timeplot(ax, data, mode):\n",
    "    \"\"\"\n",
    "    Plot the time series of mode activations in the decomposed signal. \n",
    "    Assumes each odor is represented by five measurements.\n",
    "    \n",
    "    Parameters:\n",
    "        ax - axis to plot into.\n",
    "        data - TimeSeries object from a decomposed measurement file.\n",
    "        mode - index of the NMF mode extracted in the decomposed measurement file.\n",
    "        \n",
    "    Plot parameters are defined in global variable rep_param.\n",
    "    \"\"\"\n",
    "    xtime = np.arange(5)\n",
    "    stimpos_dict = defaultdict(list)\n",
    "    for lab_ind, lab in enumerate(data.label_stimuli):\n",
    "        stimpos_dict[lab].append(lab_ind)\n",
    "    for stim_num, stim in enumerate(stimpos_dict.keys()): #here I could sort the stimuli\n",
    "        for stimrep, stimpos in enumerate(stimpos_dict[stim]):\n",
    "            xpoints = xtime + stim_num*5\n",
    "            # only 2 repitions\n",
    "            if stimrep >1:\n",
    "                break          \n",
    "            \n",
    "            if stim_num == 0: # plot with legend\n",
    "                ax.plot(xpoints, data.trial_shaped()[stimpos,:,mode], label='trial %d'%(stimrep+1), **rep_param[stimrep])\n",
    "            else:\n",
    "                ax.plot(xpoints, data.trial_shaped()[stimpos,:,mode],**rep_param[stimrep])\n",
    "\n",
    "    myxticks = np.hstack([xtime+i*5 for i in range(len(stimpos_dict))])\n",
    "    yticks = [0,1,2]\n",
    "    ax.set_yticks(yticks)\n",
    "    ax.set_yticklabels(yticks)\n",
    "    ax.yaxis.set_tick_params(labelsize=7)\n",
    "    #ax.set_xticks(myxticks, minor=True)\n",
    "    ax.set_xticks(range(0, len(stimpos_dict)*5, 5))\n",
    "    ax.set_xticklabels([])\n",
    "    ax.set_xlim((0,len(stimpos_dict)*5))\n",
    "    ax.yaxis.set_ticks_position('right')\n",
    "\n",
    "def base_overlay(ax, bg, toplot, alpha_thres=0.3):\n",
    "    \"\"\"\n",
    "    Overlay an 2d-array over a background image.\n",
    "    \n",
    "    Parameters:\n",
    "    ax - the axis to plot in.\n",
    "    bg - the background image (e.g. from imread)\n",
    "    toplot - the 2D array to plot over bg\n",
    "    alpha_thresh - toplot will be transparent (alpha=0) for values below this. \n",
    "    \"\"\"\n",
    "#    fig_temp = plt.figure()\n",
    "#    ax_temp = fig_temp.add_subplot(111)\n",
    "    toplot_rgba = plt.cm.jet(toplot) #cmap_bases((toplot+1)/2.)\n",
    "    alpha =0.8*np.ones(toplot.shape)\n",
    "    alpha[np.abs(toplot)<alpha_thres]=0\n",
    "    toplot_rgba[:,:,3]=alpha\n",
    "    ax.imshow(bg, interpolation='nearest', cmap=plt.cm.bone, vmin=-.1)\n",
    "    ax.hold(True)\n",
    "    ax.imshow(toplot_rgba, interpolation='nearest')\n",
    "    ax.set_axis_off()\n",
    "    no_ticks(ax)\n",
    "#    ax_temp.imshow(bg, interpolation='none', cmap=plt.cm.bone, vmin=-.1)#, extent=[-0.5,168-0.5,128-0.5,-0.5], vmin=-0.1)\n",
    "#    ax_temp.hold(True)\n",
    "#    ax_temp.imshow(toplot_rgba, interpolation='none')\n",
    "#    ax_temp.set_axis_off()\n",
    "#    no_ticks(ax_temp)\n",
    "#    temppng = StringIO.StringIO()\n",
    "#    fig_temp.savefig(temppng, format='png', bbox_inches='tight', pad_inches=0)\n",
    "#    plt.close(fig_temp)\n",
    "#    temppng.seek(0)\n",
    "#    im = plt.imread(temppng)\n",
    "#    ax.imshow(im, interpolation='nearest')\n",
    "    no_ticks(ax)\n",
    "    \n",
    "def condense_list_dict(dic, reducefct=np.mean):\n",
    "    ''' apply reducefct to every value of dictionary'''\n",
    "    reduced_dict = {}\n",
    "    for k, v in dic.items():\n",
    "        reduced_dict[k] = reducefct(v)\n",
    "    return reduced_dict"
   ]
  },
  {
   "cell_type": "markdown",
   "metadata": {},
   "source": [
    "### Get the data"
   ]
  },
  {
   "cell_type": "markdown",
   "metadata": {},
   "source": [
    "Load data file from animal 110224 and compute mean response during stimulus."
   ]
  },
  {
   "cell_type": "code",
   "execution_count": 8,
   "metadata": {
    "collapsed": false
   },
   "outputs": [
    {
     "name": "stderr",
     "output_type": "stream",
     "text": [
      "regnmf/ImageAnalysisComponents.py:74: FutureWarning: elementwise comparison failed; returning scalar instead, but in the future will perform elementwise comparison\n",
      "  if not(series == ''):\n"
     ]
    }
   ],
   "source": [
    "#particularly useful animals with many modes\n",
    "# '110224' #two bulbs\n",
    "# 110210, 110211, 110215, 110505, 110506, 120107, 120125\n",
    "\n",
    "animals = {'110224':{}, #two bulbs\n",
    "           '110210':{}, \n",
    "           '110211':{}, # 4 MOL23 occurences, axons visible, but filtering artifacts\n",
    "           '110215':{},\n",
    "           '110505':{},\n",
    "           '110506':{},\n",
    "           '120107':{},\n",
    "           '120125':{}}\n",
    "\n",
    "animals['110224'] = {'mol23_mode':4,\n",
    "                     'other_mode':22,  #also have a look at 21, 50, 22\n",
    "                     'zoom_region': {'x':(200,500,950,1250), 'y':(300,800)},\n",
    "                     'mode_zoom_factor': 8.,\n",
    "                     'cas2plot': ['Ethyl propionate',\n",
    "                                  'Ethyl valerate',\n",
    "                                  'Butyl valerate',\n",
    "                                  'Argon (Control)']#u'105-37-3', u'105-54-4', u'5837-78-5', u'7440-37-1'] #u'141-78-6',\n",
    "                     }\n",
    "\n",
    "animals['110210'] = {'mol23_mode':23,\n",
    "                     'other_mode':140,  # close ones are 106, 13, 140, 108, 178, 107, 106\n",
    "                     'zoom_region': {'x':(200,950), 'y':(150,600)},\n",
    "                     'mode_zoom_factor': 16.,\n",
    "                     'cas2plot':['Ethyl acetate',\n",
    "                                 'Propyl acetate',\n",
    "                                 'Ethyl propionate',\n",
    "                                 'Argon (Control)']}\n",
    "\n",
    "animals['110211'] = {'mol23_mode':20, # but some axons seem to converge in mode 3\n",
    "                     'other_mode':15,  # close ones are 44, 15, 183, 146 , strong inh in 44\n",
    "                     'zoom_region': {'x':(200,950), 'y':(300,800)},\n",
    "                     'mode_zoom_factor': 16.,\n",
    "                     'cas2plot': ['Methyl propionate',\n",
    "                                  'Ethyl propionate',\n",
    "                                  'Ethyl valerate', # high response in neighboring mode\n",
    "                                  'Argon (Control)']\n",
    "                    }\n",
    "\n",
    "\n",
    "\n",
    "animal = '110211'\n",
    "\n",
    "# the index of the decomposition mode pertaining to MOL2.3\n",
    "mol23_mode = animals[animal]['mol23_mode']\n",
    "# another, neighboring mode for comparison\n",
    "other_mode = animals[animal]['other_mode']\n",
    "#the region to zoom in on for th MOL23 mode\n",
    "zoom_region = animals[animal]['zoom_region']\n",
    "# the mode has to be scaled by this factor to match the background image's size\n",
    "mode_zoom_factor = animals[animal]['mode_zoom_factor']\n",
    "# the top MOL23 ligands (plus argon) for this specimen will be plotted\n",
    "cas2plot = [name2cas[name] for name in animals[animal]['cas2plot']]\n",
    "\n",
    "#mol23_mode = 4\n",
    "#other_mode = 57 #also have a look at 21, 50, 22\n",
    "\n",
    "\n",
    "method =  'nnmf_200_sm2_convex_negTimelowSP_sp*_ios_meas'\n",
    "# meaning NNMF decomposition with 200 modes, \n",
    "# smoothness 2, \n",
    "# convex cone initialisation, \n",
    "# negTimelowSP - negative time course allowed (spatial mode still strictly positive), low sparseness\n",
    "# sp* - sparseness factor (wildcard because the value is autmatically adjusted to use the value \n",
    "#         when correlation between modes drops below 0.5)\n",
    "# ios_meas - prefix of original data file \n",
    "\n",
    "\n",
    "\n",
    "filt_data_file = os.path.join(basepath, 'MOBconverted', animal, 'ios_meas')\n",
    "filt_data = ia.TimeSeries()\n",
    "filt_data.load(filt_data_file)\n",
    "filt_data = ia.TrialMean()(ia.CutOut(stim_cut)(filt_data))\n",
    "filt_data.label_stimuli = [i.split('_')[0] for i in filt_data.label_stimuli]\n",
    "\n"
   ]
  },
  {
   "cell_type": "markdown",
   "metadata": {},
   "source": [
    "Load the background image with the GFP signal (bg.png) and the green image showing an overview of the imaged area."
   ]
  },
  {
   "cell_type": "code",
   "execution_count": 9,
   "metadata": {
    "collapsed": false
   },
   "outputs": [],
   "source": [
    "bg_file = os.path.join(basepath, 'MOBconverted', animal, 'bg.png')\n",
    "green_file = os.path.join(basepath, 'MOBconverted', animal, 'green.png')\n",
    "\n",
    "bg = plt.imread(bg_file)\n",
    "green = plt.imread(green_file)"
   ]
  },
  {
   "cell_type": "markdown",
   "metadata": {},
   "source": [
    "Load the decomposed data from the selected animal."
   ]
  },
  {
   "cell_type": "code",
   "execution_count": 10,
   "metadata": {
    "collapsed": false
   },
   "outputs": [],
   "source": [
    "mf_filename = glob.glob(os.path.join(basepath, 'MOBdecomposed', animal, method+'.npy'))\n",
    "assert len(mf_filename)==1\n",
    "mf_filename = mf_filename[0].split('.')[0]\n",
    "\n",
    "mf = ia.TimeSeries()\n",
    "mf.load(mf_filename)\n",
    "mf.label_stimuli = [i.split('_')[0] for i in mf.label_stimuli]\n"
   ]
  },
  {
   "cell_type": "markdown",
   "metadata": {},
   "source": [
    "## Figure 1: Decomposition of dorsal olfactory bulb recordings into putative glomeruli. "
   ]
  },
  {
   "cell_type": "code",
   "execution_count": 11,
   "metadata": {
    "collapsed": false
   },
   "outputs": [],
   "source": [
    "#prevent figure from showing upon creation\n",
    "#allows us to create the figure and only show it in the end.\n",
    "%config InlineBackend.close_figures=False  # disable auto-close\n",
    "pylab.ioff() #switch off interactive mode"
   ]
  },
  {
   "cell_type": "code",
   "execution_count": 12,
   "metadata": {
    "collapsed": false
   },
   "outputs": [],
   "source": [
    "# Partition panel and make all axes\n",
    "\n",
    "panel1 = plt.figure(figsize=(8, 4.))\n",
    "\n",
    "# the gridspec for the whole figure\n",
    "gs0 = gridspec.GridSpec(3,2)#, hspace=0.3)\n",
    "\n",
    "# gridspec for a and b\n",
    "gs_ab = gridspec.GridSpecFromSubplotSpec(1,2, subplot_spec=gs0[0,0])\n",
    "#axis for a \n",
    "a_ax = panel1.add_subplot(gs_ab[0,0])\n",
    "#axis for b\n",
    "b_ax = panel1.add_subplot(gs_ab[0,1])\n",
    "\n",
    "#gridspec for c\n",
    "gs_c = gridspec.GridSpecFromSubplotSpec(2,3, subplot_spec=gs0[1:,0], width_ratios=[0.465,0.465,0.07])\n",
    "#axes for c\n",
    "grid_locs = [(0,0),(0,1),(1,0),(1,1)]\n",
    "c_axes = [panel1.add_subplot(gs_c[gind]) for gind in grid_locs] \n",
    "axbar = panel1.add_subplot(gs_c[:,2])\n",
    "\n",
    "#gridspec for d and e\n",
    "gs_de = gridspec.GridSpecFromSubplotSpec(1,2, subplot_spec=gs0[0,1], wspace=0.3, width_ratios=[.33,.67])\n",
    "#axis for d\n",
    "d_ax = panel1.add_subplot(gs_de[0,0])\n",
    "\n",
    "#gridspec for e\n",
    "gs_e = gridspec.GridSpecFromSubplotSpec(1,4, subplot_spec=gs_de[0,1], wspace=0.08, hspace=0.3)\n",
    "e_axes = [panel1.add_subplot(gs_e[eind]) for eind in range(4)] \n",
    "\n",
    "#gridspec for f and g\n",
    "gs_fg = gridspec.GridSpecFromSubplotSpec(1,2, subplot_spec=gs0[1,1], wspace=0.3, width_ratios=[.33,.67])\n",
    "#axis for f\n",
    "f_ax = panel1.add_subplot(gs_fg[0,0])\n",
    "#gridspec for g\n",
    "gs_g = gridspec.GridSpecFromSubplotSpec(1,4, subplot_spec=gs_fg[0,1], wspace=0.08, hspace=0.3)\n",
    "g_axes = [panel1.add_subplot(gs_g[eind]) for eind in range(4)] \n",
    "\n",
    "#gridspec for h\n",
    "gs_h = gridspec.GridSpecFromSubplotSpec(1,1, subplot_spec=gs0[2,1])\n",
    "h_ax = panel1.add_subplot(gs_h[0])"
   ]
  },
  {
   "cell_type": "code",
   "execution_count": 13,
   "metadata": {
    "collapsed": false
   },
   "outputs": [],
   "source": [
    "# a)\n",
    "# plot green image\n",
    "im_h = a_ax.imshow(green, interpolation='none', cmap=plt.cm.bone)\n",
    "no_ticks(a_ax)\n",
    "no_spines(a_ax)\n",
    "a_label = a_ax.text(1,0,'(a)', ha='right', va='bottom', fontsize=global_fs, fontweight='bold')\n",
    "ap_arrowcolor = [1.,1.,1.]\n",
    "arr1 = a_ax.arrow(1200,150,-200,0, head_width=15., color=ap_arrowcolor)\n",
    "arr2 = a_ax.arrow(1200,150,0,200, head_width=15., color=ap_arrowcolor)\n",
    "arrlabA = a_ax.text(950,150, 'A', color=ap_arrowcolor, fontsize=6, ha='right', va='center')\n",
    "arrlabA = a_ax.text(1200,400, 'L', color=ap_arrowcolor, fontsize=6, ha='center', va='top')\n",
    "\n",
    "# Add scalebar\n",
    "# long edge: 1.63 mm on 1344 px (for single bulb image, double that size for double hemisphere image)\n",
    "pixel_size = 1.63/1344. *1000. #µm\n",
    "len_200 = 200./pixel_size   # 200 µm\n",
    "\n",
    "scale_bar = a_ax.plot((1200,1200-len_200),(900,900),'k')\n"
   ]
  },
  {
   "cell_type": "code",
   "execution_count": 14,
   "metadata": {
    "collapsed": false
   },
   "outputs": [],
   "source": [
    "# b)    \n",
    "# plot gfp image\n",
    "im_h = b_ax.imshow(bg, interpolation='nearest', cmap=plt.cm.binary_r, vmin=-0.1)\n",
    "scale_bar = b_ax.plot((1200,1200-len_200),(900,900),'w')\n",
    "no_spines(b_ax)\n",
    "no_ticks(b_ax)\n",
    "b_label = b_ax.text(1,0,'(b)', ha='right', va='bottom', fontsize=global_fs, fontweight='bold')\n",
    "# zoom window\n",
    "y1,y2 = zoom_region['y']\n",
    "zx = zoom_region['x']\n",
    "if len(zx) == 4: #two zoom windows, for double bulb imaging\n",
    "    x1, x2, x3, x4 = zx \n",
    "    b_pl1 = b_ax.plot([x1,x2,x2,x1,x1],[y1,y1,y2,y2,y1], color='white', alpha=0.2)\n",
    "    b_pl2 = b_ax.plot([x3,x4,x4,x3,x3],[y1,y1,y2,y2,y1], color='white', alpha=0.2)\n",
    "else:\n",
    "    x1, x2 = zx\n",
    "    b_pl1 = b_ax.plot([x1,x2,x2,x1,x1],[y1,y1,y2,y2,y1], color='white', alpha=0.2)"
   ]
  },
  {
   "cell_type": "code",
   "execution_count": 15,
   "metadata": {
    "collapsed": false
   },
   "outputs": [
    {
     "name": "stdout",
     "output_type": "stream",
     "text": [
      "Methyl propionate is at index 51.\n",
      "Ethyl propionate is at index 21.\n",
      "Ethyl valerate is at index 27.\n",
      "Argon (Control) is at index 29.\n"
     ]
    }
   ],
   "source": [
    "# c)\n",
    "# plot odor maps\n",
    "\n",
    "\n",
    "for cax, cas in zip(c_axes, cas2plot):\n",
    "    ind = filt_data.label_stimuli.index(cas)\n",
    "    toplot = filt_data.shaped2D()[ind] #only the first repetition \n",
    "    print(\"{} is at index {}.\".format(cas2name[cas], ind))\n",
    "    im_h = cax.imshow(toplot, interpolation='none', vmin=-3.5, vmax=3.5)\n",
    "    cax.set_title(cas2name[cas], size=7)\n",
    "    no_ticks(cax)    \n",
    "    no_spines(cax)\n",
    "    \n",
    "#scalebar\n",
    "func_scale_fac = toplot.shape[0]/float(bg.shape[0])\n",
    "sb_x = 1200 * func_scale_fac\n",
    "sb_y = 900 * func_scale_fac\n",
    "sb_len = len_200 * func_scale_fac\n",
    "scale_bar = c_axes[0].plot((sb_x,sb_x-sb_len),(sb_y,sb_y),'k')\n",
    "\n",
    "# add colorbar\n",
    "cbar = panel1.colorbar(im_h, axbar)\n",
    "cbar.set_ticks([-3,0,3])\n",
    "cbar.set_label(r'$-\\Delta R/R$'+ u' [\\u2030]', size=global_fs, labelpad=-2)\n",
    "axbar.yaxis.set_tick_params(labelsize=global_fs, pad=2)\n",
    "c_label = c_axes[0].text(1,0,'(c)', ha='right', va='bottom', fontsize=global_fs, fontweight='bold')"
   ]
  },
  {
   "cell_type": "code",
   "execution_count": 16,
   "metadata": {
    "collapsed": false
   },
   "outputs": [],
   "source": [
    "# d), e), f) and g)\n",
    "# two neighboring modes and example responses\n",
    "import scipy.ndimage\n",
    "\n",
    "def plot_mode_and_responses(modeax, respaxes, zoomreg, bg, modeind, data, cas2plot, letters=('d','e'), titles=True):\n",
    "    mode = mf.base.shaped2D()[mode_to_plot] \n",
    "    mode_bgsize = scipy.ndimage.zoom(mode, mode_zoom_factor, order=0)\n",
    "    #zoom into MOL2.3 region and show mode 4 on GFP pic\n",
    "    y1,y2 = zoomreg['y']\n",
    "    zx = zoomreg['x']\n",
    "    if len(zx) == 4: # double bulb\n",
    "        x1, x2, x3, x4 =  zx\n",
    "        zoom_bg_l = bg[y1:y2, x1:x2]\n",
    "        zoom_bg_r = bg[y1:y2, x3:x4]\n",
    "        bg_zoom = np.concatenate((zoom_bg_l, np.ones((y2-y1,10)), zoom_bg_r), axis=1)\n",
    "        mode_zoom_l = mode_bgsize[y1:y2, x1:x2]\n",
    "        mode_zoom_r = mode_bgsize[y1:y2, x3:x4]\n",
    "        mode_zoom = np.concatenate((mode_zoom_l, np.zeros((y2-y1,10)), mode_zoom_r), axis=1)\n",
    "    else:\n",
    "        x1, x2 = zx\n",
    "        bg_zoom = bg[y1:y2, x1:x2]\n",
    "        mode_zoom = mode_bgsize[y1:y2, x1:x2]\n",
    "    base_overlay(modeax, bg_zoom, mode_zoom, alpha_thres=0.1)\n",
    "    # put scalebar 50 px inwards from lower right edge\n",
    "    sb_y, sb_x = mode_zoom.shape \n",
    "    sb_x -= 50\n",
    "    sb_y -= 50\n",
    "    scale_bar = modeax.plot((sb_x,sb_x-len_200),(sb_y,sb_y),'w')\n",
    "\n",
    "    no_spines(modeax)\n",
    "    d_label = modeax.text(1.,-0.,'('+letters[0]+')', ha='right', va='bottom', size=global_fs, fontweight='bold' )\n",
    "\n",
    "\n",
    "    # parameters for odor responses\n",
    "    plot_param = {'color':'black', 'linewidth':0.5, 'marker':'.', 'ms':2, 'ls':'--', 'dashes':(2,1)}\n",
    "\n",
    "    for cas, e_ax in zip(cas2plot, respaxes):\n",
    "        indices = [i for i,cas_data in enumerate(mf.label_stimuli) if cas_data == cas]\n",
    "        for ind in indices:\n",
    "            e_ax.plot(range(1,6),mf.trial_shaped()[ind,:,mode_to_plot], **plot_param)\n",
    "            e_ax.hold(True)\n",
    "        e_ax.hold(False)\n",
    "        if titles:\n",
    "            title = e_ax.set_title(cas2name[cas].replace(' ','\\n'), fontsize=7, zorder=100000)\n",
    "            if cas2plot.index(cas) %2 == 1:\n",
    "                title.set_position((0.5, 0.95))\n",
    "        e_ax.set_ylim((-.5,2.5))\n",
    "        e_ax.set_xlim((0.9, 5.1))\n",
    "        if (cas == cas2plot[0]):\n",
    "            e_ax.spines['right'].set_visible(False)\n",
    "            e_ax.spines['top'].set_visible(False)\n",
    "            e_ax.spines['left'].set_position(('outward', 5))\n",
    "            e_ax.spines['bottom'].set_position(('outward', 2))\n",
    "            e_ax.set_yticklabels(['','0','','1','','2',''])\n",
    "            e_ax.xaxis.set_ticks_position('bottom')\n",
    "            e_ax.yaxis.set_ticks_position('left')\n",
    "            e_ax.set_xlabel('frame #', size=global_fs, labelpad=2)\n",
    "            e_ax.set_ylabel('$a_k$' + u' [\\u2030]', size=global_fs, labelpad=2)\n",
    "            e_label = e_ax.text(-1.8,2.5,'('+letters[1]+')', ha='right', va='bottom', size=global_fs, fontweight='bold' )\n",
    "        else:\n",
    "            no_spines(e_ax)\n",
    "            no_ticks(e_ax)\n",
    "        \n",
    "        \n",
    "mode_to_plot = mol23_mode #this is the MOL 2.3 mode in this specimen\n",
    "plot_mode_and_responses(d_ax, e_axes, zoom_region, bg, mode_to_plot, mf, cas2plot)\n",
    "\n",
    "mode_to_plot = other_mode #22 #a mode adjacent to the MOL2.3 mode\n",
    "plot_mode_and_responses(f_ax, g_axes, zoom_region, bg, mode_to_plot, mf, cas2plot, letters=('f','g'),titles=False)\n"
   ]
  },
  {
   "cell_type": "code",
   "execution_count": 17,
   "metadata": {
    "collapsed": false
   },
   "outputs": [
    {
     "name": "stdout",
     "output_type": "stream",
     "text": [
      "Methyl propionate is at 0\n",
      "Ethyl propionate is at 1\n",
      "Ethyl valerate is at 16\n",
      "Argon (Control) is at 40\n",
      "Top three MOL23 Ligands: ['Methyl propionate','Ethyl propionate','Propyl acetate']\n"
     ]
    }
   ],
   "source": [
    "# h)\n",
    "# the spectrum of the two modes in this specimen\n",
    "def extract_spectrum(data, mode, stimuli):\n",
    "    resp_dict = {}\n",
    "    for stim in stimuli:\n",
    "        indices = [i for i,cas_data in enumerate(data.label_stimuli) if cas_data == stim]\n",
    "        responses = data.trial_shaped()[indices,:,mode]\n",
    "        mean_resps = np.mean(responses, axis=1)\n",
    "        total_mean_resp = np.mean(mean_resps)\n",
    "        resp_dict[stim] = {'indices':indices, \n",
    "                           'resp':responses, \n",
    "                           'mean_resps': mean_resps, \n",
    "                           'total_mean_resp':total_mean_resp}\n",
    "    return resp_dict\n",
    "\n",
    "stimuli = list(set(mf.label_stimuli))\n",
    "mol23_resp_dict = extract_spectrum(mf, mol23_mode, stimuli)\n",
    "mol23_series = np.array([mol23_resp_dict[stim]['total_mean_resp'] for stim in stimuli])\n",
    "mol23_all = np.array([mol23_resp_dict[stim]['mean_resps'] for stim in stimuli])\n",
    "\n",
    "#arrange by mol23 activity\n",
    "seq = np.argsort(mol23_series)[::-1]\n",
    "\n",
    "other_resp_dict = extract_spectrum(mf, other_mode, stimuli)\n",
    "other_series = np.array([other_resp_dict[stim]['total_mean_resp'] for stim in stimuli])\n",
    "other_all = np.array([other_resp_dict[stim]['mean_resps'] for stim in stimuli])\n",
    "\n",
    "plot_params = {'marker':'.', 'ms':2, 'linestyle':'none'}\n",
    "error_params = {'linewidth':0.4, 'color':'black'}\n",
    "\n",
    "xaxis = np.arange(len(mol23_series))\n",
    "\n",
    "h_ax.plot(xaxis, mol23_series[seq], mec='k', **plot_params)\n",
    "h_ax.hold(True)\n",
    "h_ax.plot(xaxis+0.4, other_series[seq], mec='grey', **plot_params)\n",
    "for i,s in enumerate(seq):\n",
    "    y = mol23_all[s]\n",
    "    h_ax.plot(numpy.ones_like(y)*i, y, **error_params)\n",
    "    error_params['color'] = 'grey'\n",
    "    y = other_all[s]\n",
    "    h_ax.plot(numpy.ones_like(y)*i+0.4, y, **error_params)    \n",
    "h_ax.hold(False)\n",
    "h_ax.set_ylabel(u'$\\langle a_k {} \\\\rangle $ '.format(u'[\\u2030]') , size=global_fs, labelpad=2)\n",
    "h_ax.set_xlim((0,len(seq)))\n",
    "\n",
    "# positions of  example odors\n",
    "ticks = [list(seq).index(stimuli.index(c2p)) for c2p in cas2plot]\n",
    "ticklabels = ['','','EV','Ar'] # MP and EP at index 1 will be added by hand\n",
    "for c2p,tick in zip(cas2plot,ticks):\n",
    "    print(\"{} is at {}\".format(cas2name[c2p], tick))\n",
    "\n",
    "h_ax.set_xticks(ticks)\n",
    "h_ax.set_xticklabels(ticklabels)   \n",
    "h_ax.text(0.15,-.7,'MP', fontsize=7, va='top', ha='right')\n",
    "h_ax.text(0.85,-.7,'EP', fontsize=7,  va='top', ha='left')\n",
    "\n",
    "\n",
    "h_ax.spines['top'].set_visible(False)\n",
    "h_ax.spines['right'].set_visible(False)\n",
    "h_ax.spines['left'].set_position(('outward',5))\n",
    "h_ax.spines['bottom'].set_position(('outward',2))\n",
    "h_ax.xaxis.set_ticks_position('bottom')\n",
    "h_ax.yaxis.set_ticks_position('left')\n",
    "h_ax.set_yticks([-.5,0.,.5,1.0])\n",
    "h_ax.text(-5, 1., \"(h)\", ha='right', va='bottom', size=global_fs, fontweight='bold' )\n",
    "\n",
    "ligands_hitlist = [cas2name[stimuli[i]] for i in seq] \n",
    "\n",
    "print(\"Top three MOL23 Ligands: ['{}','{}','{}']\".format(ligands_hitlist[0], ligands_hitlist[1],ligands_hitlist[2]))"
   ]
  },
  {
   "cell_type": "code",
   "execution_count": 18,
   "metadata": {
    "collapsed": false
   },
   "outputs": [
    {
     "data": {
      "image/png": "[encoded data removed]",
      "text/plain": [
       "<matplotlib.figure.Figure at 0x110831f50>"
      ]
     },
     "metadata": {},
     "output_type": "display_data"
    }
   ],
   "source": [
    "plt.tight_layout()\n",
    "plt.show()\n",
    "panel1.savefig(os.path.join(savepath, 'MOB_Figure1.pdf'), dpi=300)\n"
   ]
  },
  {
   "cell_type": "code",
   "execution_count": 19,
   "metadata": {
    "collapsed": false
   },
   "outputs": [
    {
     "data": {
      "text/plain": [
       "'Ethyl valerate'"
      ]
     },
     "execution_count": 19,
     "metadata": {},
     "output_type": "execute_result"
    }
   ],
   "source": [
    "ligands_hitlist[16]"
   ]
  },
  {
   "cell_type": "code",
   "execution_count": 20,
   "metadata": {
    "collapsed": false
   },
   "outputs": [],
   "source": [
    "plt.close('all')"
   ]
  },
  {
   "cell_type": "markdown",
   "metadata": {},
   "source": [
    "# Figure 2: MOR18-2 spectrum. "
   ]
  },
  {
   "cell_type": "markdown",
   "metadata": {},
   "source": [
    "Load the MOL 2.3 spectrum."
   ]
  },
  {
   "cell_type": "code",
   "execution_count": 12,
   "metadata": {
    "collapsed": false
   },
   "outputs": [],
   "source": [
    "average_function = np.median\n",
    "methodspec =  'nnmf_200_sm2_convex_negTimelowSP_sp*_ios_measnormed'\n",
    "\n",
    "mor182specIOS_file = os.path.join(basepath, 'DataDicts', 'MOR18-2spec.json')\n",
    "mor182specIOS = json.load(open(mor182specIOS_file))\n",
    "\n",
    "#Select only pure odors. Hack! All mixtures contain either E or A \n",
    "pure_odors = [o for o in mor182specIOS[methodspec].keys() if (len(o.split('_'))<2) and ('E' not in o) and ('A' not in o) and  ('B' not in o) ] \n",
    "pure_odor_resp = [average_function(mor182specIOS[methodspec][o]) for o in pure_odors]\n",
    "odors_sorted = [pure_odors[i] for i in np.argsort(pure_odor_resp)] \n",
    "spec = [average_function(mor182specIOS[methodspec][i]) for i in odors_sorted]"
   ]
  },
  {
   "cell_type": "markdown",
   "metadata": {},
   "source": [
    "Test whether odor responses in MOL2.3 are significantly different from Argon responses."
   ]
  },
  {
   "cell_type": "code",
   "execution_count": 13,
   "metadata": {
    "collapsed": false
   },
   "outputs": [
    {
     "name": "stderr",
     "output_type": "stream",
     "text": [
      "/Users/micha/anaconda/lib/python2.7/site-packages/numpy/core/_methods.py:82: RuntimeWarning: Degrees of freedom <= 0 for slice\n",
      "  warnings.warn(\"Degrees of freedom <= 0 for slice\", RuntimeWarning)\n",
      "/Users/micha/anaconda/lib/python2.7/site-packages/numpy/core/_methods.py:116: RuntimeWarning: invalid value encountered in double_scalars\n",
      "  ret = ret.dtype.type(ret / rcount)\n"
     ]
    }
   ],
   "source": [
    "test =scipy.stats.ttest_ind # scipy.stats.mannwhitneyu#\n",
    "\n",
    "p_val_argon = np.array([test(mor182specIOS[methodspec]['7440-37-1'], mor182specIOS[methodspec][i]) for i in odors_sorted])[:,1]\n",
    "p_val_argon[np.isnan(p_val_argon)] = 1\n",
    "p_val_argon[p_val_argon>0.05] = 1"
   ]
  },
  {
   "cell_type": "markdown",
   "metadata": {},
   "source": [
    "Plot the MOL23 spectrum."
   ]
  },
  {
   "cell_type": "markdown",
   "metadata": {},
   "source": [
    "TODO:\n",
    "1. make it vertical - DONE\n",
    "2. come up with an odorant list, sorted by MOL23 activity, and create a table mapping number to odorant - was already there, Supplementary Table ST1"
   ]
  },
  {
   "cell_type": "code",
   "execution_count": 81,
   "metadata": {
    "collapsed": true
   },
   "outputs": [],
   "source": [
    "close('all')"
   ]
  },
  {
   "cell_type": "code",
   "execution_count": 82,
   "metadata": {
    "collapsed": false
   },
   "outputs": [
    {
     "data": {
      "image/png": "[encoded data removed]",
      "text/plain": [
       "<matplotlib.figure.Figure at 0x11c4df110>"
      ]
     },
     "metadata": {},
     "output_type": "display_data"
    }
   ],
   "source": [
    "fig  = plt.figure(figsize=(3,8))\n",
    "\n",
    "gs = matplotlib.gridspec.GridSpec(1,2, top=0.95, bottom=0.05,width_ratios=[25,1], wspace=0)\n",
    "gsbar = matplotlib.gridspec.GridSpec(1,1, top=0.95, bottom=0.6, left=0.92, right=0.95)\n",
    "axbar = fig.add_axes(bottom=0.5, left=0.)\n",
    "\n",
    "num_odors = len(spec)\n",
    "\n",
    "\n",
    "ax = fig.add_subplot(gs[0])\n",
    "# individual measurements\n",
    "for ix, mol in enumerate(odors_sorted):\n",
    "    points = ax.plot(np.array(mor182specIOS[methodspec][mol]).reshape((1,-1)), ix+1, '.', \n",
    "                     ms=2, mec='none', mfc='0.5')\n",
    "\n",
    "\n",
    "#average activation\n",
    "stairs = ax.step([spec[0]]+spec, np.arange(num_odors+1)+0.5, 'b', lw=2)\n",
    "\n",
    "#decorate. num_odors=214\n",
    "ax.set_yticks([num_odors, num_odors-50, num_odors-100, odors_sorted.index('7440-37-1'), num_odors-150, num_odors-200])\n",
    "ax.set_yticklabels(['1','50','100','Ar','150','200'], size=8)\n",
    "#ax.set_xticks([odors_sorted.index(i) for i in ['7440-37-1']], minor=True)\n",
    "#ax.set_xticklabels(['Ar'], minor=True, size=8, rotation='45', ha='right')\n",
    "\n",
    "ax.set_ylim((+0.5, num_odors+0.5))\n",
    "ax.set_xticks([0,0.5,1])\n",
    "ax.xaxis.set_tick_params(labelsize=8)\n",
    "ax.grid()\n",
    "ax.set_xlabel('$a_{rel}$', size=8, labelpad=1)\n",
    "ax.set_ylabel('odor #', size=8)\n",
    "ax.legend((points[0], stairs[0]), ('obs.', 'median'), loc='upper left', frameon=False,\n",
    "          fontsize=7, numpoints=1, handletextpad=0.5, labelspacing=0.3, markerscale=2)\n",
    "\n",
    "ax = fig.add_subplot(gs[1])\n",
    "im = ax.imshow(-np.log10(p_val_argon).reshape((1,-1)).T, plt.cm.binary, interpolation='none', aspect='auto', vmax=25)\n",
    "ax.set_ylim((-0.5, num_odors-0.5))\n",
    "ax.set_xticks([])\n",
    "ax.set_yticks([])\n",
    "#ax.set_ylabel('p Argon', rotation='0', ha='right', size=8)\n",
    "\n",
    "cbar = fig.add_subplot(gsbar[0])\n",
    "cbar = fig.colorbar(im, cax=cbar)\n",
    "cbar.set_label('$-{log}_{10}(\\mathit{p})$')\n",
    "cbar.set_ticks([0,3,10,20,25])\n",
    "\n",
    "fig.text(0.03, 0.95, '(a)', ha='right', va='bottom', fontsize=8, fontweight='bold')\n",
    "\n",
    "fig.savefig(os.path.join(savepath, 'FigMOR18-2spec.pdf'), bbox_inches='tight')\n",
    "plt.show()\n"
   ]
  },
  {
   "cell_type": "code",
   "execution_count": 25,
   "metadata": {
    "collapsed": false
   },
   "outputs": [
    {
     "name": "stdout",
     "output_type": "stream",
     "text": [
      "66\n"
     ]
    }
   ],
   "source": [
    "t2t = ia.CalcStimulusDrive()(mf)\n",
    "t2t_corr = t2t._series.flatten()\n",
    "t2t_sortind = np.argsort(t2t_corr)\n",
    "modes_above_06 =  t2t_sortind[np.where(t2t_corr[t2t_sortind] < 0.4)]\n",
    "print len(modes_above_06)\n"
   ]
  },
  {
   "cell_type": "code",
   "execution_count": 246,
   "metadata": {
    "collapsed": false
   },
   "outputs": [],
   "source": [
    "gs = plt.GridSpec(10,8)\n",
    "f = plt.figure(figsize=(20,16))\n",
    "for i,m in enumerate(modes_above_06):\n",
    "    ax = f.add_subplot(gs[i])\n",
    "    mode_bgsize = scipy.ndimage.zoom(mf.base.shaped2D()[m], mode_zoom_factor, order=0)\n",
    "    base_overlay(ax, bg, mode_bgsize, alpha_thres=0.1)\n",
    "    no_spines(ax)\n",
    "    d_label = ax.text(1.,-0.,'{}'.format(m), ha='right', va='bottom', size=6 )\n",
    "f.savefig(os.path.join(savepath,'all_modes_above_06.pdf'), dpi=300)"
   ]
  },
  {
   "cell_type": "code",
   "execution_count": 136,
   "metadata": {
    "collapsed": false
   },
   "outputs": [
    {
     "name": "stdout",
     "output_type": "stream",
     "text": [
      "(200, 64, 84)\n",
      "(1024, 1344)\n"
     ]
    },
    {
     "data": {
      "image/png": "[encoded data removed]",
      "text/plain": [
       "<matplotlib.figure.Figure at 0x11dd5fc90>"
      ]
     },
     "metadata": {},
     "output_type": "display_data"
    }
   ],
   "source": [
    "print mf.base.shaped2D().shape\n",
    "print bg.shape\n",
    "imshow(bg)\n",
    "plt.show()"
   ]
  },
  {
   "cell_type": "code",
   "execution_count": 139,
   "metadata": {
    "collapsed": false
   },
   "outputs": [],
   "source": [
    "close('all')"
   ]
  },
  {
   "cell_type": "markdown",
   "metadata": {},
   "source": [
    "Embed visualised chemical receptive range of MOL23."
   ]
  },
  {
   "cell_type": "code",
   "execution_count": 16,
   "metadata": {
    "collapsed": false
   },
   "outputs": [
    {
     "data": {
      "text/plain": [
       "[]"
      ]
     },
     "execution_count": 16,
     "metadata": {},
     "output_type": "execute_result"
    }
   ],
   "source": [
    "mrr = plt.imread('MRR182pic.png')\n",
    "gs = matplotlib.gridspec.GridSpec(1,1, top=0.51, bottom=0.02, left=0.05, right=0.98)\n",
    "ax = fig.add_subplot(gs[0])\n",
    "ax.imshow(mrr)\n",
    "for loc in ['left','right','top','bottom']:\n",
    "    ax.spines[loc].set_visible(False)\n",
    "ax.set_xticks([])\n",
    "ax.set_xticklabels([])\n",
    "ax.set_yticks([])\n",
    "ax.set_yticklabels([])\n"
   ]
  },
  {
   "cell_type": "code",
   "execution_count": 17,
   "metadata": {
    "collapsed": false
   },
   "outputs": [],
   "source": [
    "draw()\n"
   ]
  },
  {
   "cell_type": "code",
   "execution_count": 16,
   "metadata": {
    "collapsed": false
   },
   "outputs": [],
   "source": [
    "plt.draw()"
   ]
  },
  {
   "cell_type": "markdown",
   "metadata": {},
   "source": [
    "## Figure S1: exemplary odor responses (filtered but not decomposed). "
   ]
  },
  {
   "cell_type": "code",
   "execution_count": 30,
   "metadata": {
    "collapsed": false
   },
   "outputs": [],
   "source": [
    "mycas = ['141-78-6','109-60-4','123-86-4',\n",
    "         '554-12-1','105-37-3', '106-36-5', '2408-20-0',\n",
    "         '623-42-7', '105-54-4', '109-21-7', '540-42-1']\n",
    "         #'79-09-4', '78-98-8',]\n",
    "mean_maps = ia.SingleSampleResponse()(filt_data)\n",
    "\n",
    "\n",
    "fig  = plt.figure(figsize=fig_dim)\n",
    "\n",
    "# plot image maps\n",
    "gs = gridspec.GridSpec(6,4)\n",
    "gs.update(**{'left':0.05, 'right':0.95, 'top':0.97, 'bottom':0.05, 'wspace':0.01})\n",
    "#fig.text(0.185, 0.97, '(b)', ha='right', va='bottom', fontsize=8, fontweight='bold')\n",
    "for ix, cas in enumerate(mycas): #mean_maps.label_stimuli):\n",
    "    toplot = mean_maps.shaped2D()[mean_maps.label_stimuli.index(cas)]\n",
    "    ax = fig.add_subplot(gs[ix+1])\n",
    "    mymax = np.max(toplot)\n",
    "    #toplot /= mymax\n",
    "    #toplot[toplot<0] = 0\n",
    "    #alpha = 0.75*np.ones(toplot.shape)\n",
    "    #alpha[toplot<0.3] = 0\n",
    "    #toplot = plt.cm.jet(toplot)\n",
    "    #toplot[:,:,3] = alpha\n",
    "    \n",
    "    im_h = ax.imshow(toplot, interpolation='nearest', vmin=-3.5, vmax=3.5)\n",
    "    cont = ax.contour(bg, [0.4], extent=[0,164,0.5,128], colors=['w'])\n",
    "    #cont = ax.contour(green, [0.4], extent=[0,164,0.5,128], colors=['k'])\n",
    "    ax.set_title(cas2name[cas], size=6)\n",
    "    ax.set_xticks([])\n",
    "    ax.set_yticks([])\n",
    "\n",
    "#ax = fig.add_subplot(gs[0])   \n",
    "#im_h = ax.imshow(green, interpolation='none', cmap=plt.cm.bone)\n",
    "ax = fig.add_subplot(gs[0])   \n",
    "im_h = ax.imshow(bg, interpolation='none', extent=[0,164,128,0.5], cmap=plt.cm.binary_r, vmin=-0.1)\n",
    "# add colorbar\n",
    "'''\n",
    "axbar = fig.add_axes([0.77, bottom_line1, 0.01, 0.97-bottom_line1])\n",
    "cbar = fig.colorbar(im_h, axbar)\n",
    "cbar.set_ticks([-3,0,3])\n",
    "cbar.set_label(r'$-\\Delta R/R$'+ u' [\\u2030]', size=global_fs, labelpad=-2)\n",
    "axbar.yaxis.set_tick_params(labelsize=global_fs, pad=2)\n",
    "'''\n",
    "#fig.savefig(os.path.join(savepath,'S1.pdf'), bbox_inches='tight')\n",
    "plt.show()"
   ]
  },
  {
   "cell_type": "code",
   "execution_count": 18,
   "metadata": {
    "collapsed": true
   },
   "outputs": [],
   "source": [
    "import csv\n",
    "csv.writer?"
   ]
  },
  {
   "cell_type": "code",
   "execution_count": 28,
   "metadata": {
    "collapsed": false
   },
   "outputs": [],
   "source": [
    "import math\n",
    "import csv\n",
    "with open(os.path.join(savepath, 'MOR18-2spec_pval.csv'), 'w') as f:\n",
    "    writer = csv.writer(f, dialect='excel')\n",
    "    rank = 1\n",
    "    for i in range(len(spec)-1,0,-1):\n",
    "        cas = odors_sorted[i]\n",
    "        line = [rank, \n",
    "                cas,\n",
    "                cas2name[cas],\n",
    "                '%.3f'%spec[i], \n",
    "                '%g'%p_val_argon[i]]\n",
    "        writer.writerow(line)\n",
    "        rank += 1\n"
   ]
  },
  {
   "cell_type": "code",
   "execution_count": 17,
   "metadata": {
    "collapsed": false
   },
   "outputs": [
    {
     "name": "stdout",
     "output_type": "stream",
     "text": [
      "Allyl acetate 1.14 2.41 0.000\n",
      "Ethyl acetate 1.10 2.36 0.000\n",
      "Methyl propionate 1.00 2.26 0.000\n",
      "Propyl acetate 0.98 2.23 0.000\n",
      "Methyl acetate 0.97 2.22 0.000\n",
      "Ethyl propionate 0.90 2.14 0.000\n",
      "Acetaldehyde 0.75 1.95 0.000\n",
      "Allyl propionate 0.66 1.83 0.000\n",
      "Isobutyl acetate 0.58 1.72 0.000\n",
      "Propyl propionate 0.55 1.68 0.000\n",
      "Butyl acetate 0.50 1.60 0.000\n",
      "Acetic acid 0.48 1.56 1.000\n",
      "Methoxyacetone 0.46 1.54 0.000\n",
      "Azelaic acid 0.44 1.50 1.000\n",
      "cis-3-Hexenyl butyrate 0.40 1.42 1.000\n",
      "Ethyl formate 0.37 1.37 0.000\n",
      "Metaldehyde 0.37 1.37 1.000\n",
      "Paraldehyde 0.31 1.26 0.000\n",
      "Pyruvaldehyde 0.30 1.23 0.000\n",
      "Ethyl acrylate 0.29 1.22 0.000\n",
      "Hexyl trans-2-butenoate 0.28 1.18 1.000\n",
      "Allyl tiglate 0.27 1.17 0.000\n",
      "1-Ethylhexyl tiglate 0.27 1.17 0.000\n",
      "Heptyl isobutyrate 0.24 1.10 1.000\n",
      "Isobutyl propionate 0.23 1.08 0.000\n",
      "Isopropyl acetate 0.23 1.08 0.000\n",
      "3,4-Hexanedione 0.23 1.08 1.000\n",
      "Isoamyl tiglate 0.22 1.06 0.000\n",
      "Propyl heptanoate 0.22 1.06 1.000\n",
      "Isoamyl acetate 0.22 1.05 0.000\n",
      "Butyl butyrate 0.21 1.04 0.004\n",
      "Allyl butyrate 0.20 1.02 0.004\n",
      "Propyl butyrate 0.19 0.99 0.000\n",
      "2,3-Hexanedione 0.17 0.94 0.005\n",
      "Hexyl butyrate 0.17 0.94 0.000\n",
      "Isobutyltiglate 0.17 0.93 0.000\n",
      "Butyl formate 0.16 0.92 1.000\n",
      "Propionic acid 0.16 0.91 0.011\n",
      "amyl butyrate, mixture of isomers 0.16 0.91 0.000\n",
      "2,3-Heptanedione 0.16 0.89 0.000\n",
      "1-Butanethiol 0.15 0.88 1.000\n",
      "Ethyl (±)-2-hydroxycaproate 0.15 0.87 0.005\n",
      "Propanol 0.15 0.87 1.000\n",
      "Isovaleric acid 0.14 0.85 0.029\n",
      "Isopropyl propionate 0.14 0.84 1.000\n",
      "Ethyl 2-mercaptopropionate 0.14 0.83 0.004\n",
      "Pyruvic aldehyde dimethyl acetal 0.13 0.83 0.002\n",
      "Methyl formate 0.13 0.83 0.000\n",
      "Isopropyl tiglate 0.13 0.82 1.000\n",
      "3-Hexanol 0.13 0.81 1.000\n",
      "2,3-Butanedione 0.12 0.79 0.004\n",
      "Ethanol 0.12 0.79 1.000\n",
      "trans, trans-2,4-Nonadienal 0.12 0.79 1.000\n",
      "Methyl valerate 0.11 0.76 1.000\n",
      "alpha-Angelicalactone 0.11 0.73 0.001\n",
      "p-Tolyl acetate 0.10 0.72 1.000\n",
      "Isopropyl butyrate 0.10 0.72 0.007\n",
      "Butyric acid 0.09 0.69 1.000\n",
      "Anisyl acetate 0.09 0.67 1.000\n",
      "2,3-Pentanedione 0.09 0.67 1.000\n",
      "Isoamyl butyrate 0.09 0.67 0.020\n",
      "beta-Ionone 0.09 0.67 1.000\n",
      "cis-3-Hexenyl 3-methylbutanoate 0.09 0.66 1.000\n",
      "4-Pentenoic acid 0.08 0.65 1.000\n",
      "Furfuryl acetate 0.08 0.64 1.000\n",
      "3-Ethyl-2-hydroxy-2-cyclopenten-1-one 0.08 0.64 1.000\n",
      "Butyl valerate 0.08 0.64 1.000\n",
      "Diethyl carbonate 0.08 0.63 0.005\n",
      "Decanal 0.08 0.63 1.000\n",
      "2'-Methylacetophenone 0.08 0.63 1.000\n",
      "Ethyl valerate 0.08 0.63 0.031\n",
      "3-(Methylthio)propionaldehyde 0.08 0.63 1.000\n",
      "Amyl 2-furoate 0.08 0.63 1.000\n",
      "trans-2-Hexenyl acetate 0.08 0.63 0.001\n",
      "Eugenol 0.08 0.63 1.000\n",
      "Chloroacetaldehyde dimethyl acetal 0.07 0.60 1.000\n",
      "Furfuryl propionate 0.07 0.59 1.000\n",
      "Pyrrolidine 0.07 0.59 1.000\n",
      "Ethyl (methylthio)acetate 0.07 0.58 1.000\n",
      "(±)-2-Methylbutyric acid 0.07 0.58 1.000\n",
      "4-Methylvaleric acid 0.07 0.58 0.035\n",
      "gamma-Butyrolactone 0.07 0.58 1.000\n",
      "4-Methyl-5-vinylthiazole 0.07 0.58 1.000\n",
      "2-Acetylpyridine 0.06 0.57 1.000\n",
      "L-Glutamic acid 0.06 0.54 1.000\n",
      "Pentyl valerate 0.05 0.52 1.000\n",
      "3-Methyl-2-buten-1-ol 0.05 0.52 1.000\n",
      "Hexanoic acid 0.05 0.51 1.000\n",
      "Octyl acetate 0.05 0.51 1.000\n",
      "3-Heptanol 0.05 0.50 1.000\n",
      "d-Dihydrocarvone 0.05 0.50 1.000\n",
      "Methyl isobutyrate 0.05 0.50 1.000\n",
      "2-Ethyl-3-methoxypyrazine 0.05 0.49 1.000\n",
      "Ethyl lactate 0.04 0.48 0.034\n",
      "alpha,alpha-Dimethylphenethyl butyrate 0.04 0.45 1.000\n",
      "(+)-Menthone 0.04 0.45 1.000\n",
      "Methyl hexanoate 0.04 0.43 1.000\n",
      "Ethyl 2-methylbutyrate 0.04 0.42 1.000\n",
      "gamma-Valerolactone 0.04 0.42 1.000\n",
      "(±)-Citronellal 0.03 0.42 1.000\n",
      "Methyl octanoate 0.03 0.42 1.000\n",
      "(-)-alpha-Pinene 0.03 0.42 1.000\n",
      "3-Phenylpropyl isobutyrate 0.03 0.41 1.000\n",
      "Geraniol 0.03 0.41 1.000\n",
      "Ethyl 3-hydroxybutyrate 0.03 0.41 0.035\n",
      "Methyl butyrate 0.03 0.40 1.000\n",
      "1-Octanethiol 0.03 0.40 1.000\n",
      "(-)-Ethyl L-Lactate 0.03 0.39 1.000\n",
      "Pentyl acetate 0.03 0.39 0.023\n",
      "Allyl cyclohexanepropionate 0.03 0.38 1.000\n",
      "2-Methylheptanoic acid 0.03 0.38 1.000\n",
      "Decyl propionate 0.03 0.38 1.000\n",
      "Argon (Control) 0.03 0.38 1.000\n",
      "Quinoline 0.03 0.37 1.000\n",
      "n-Butyrophenone 0.03 0.37 1.000\n",
      "2-Phenethylamine 0.03 0.36 1.000\n",
      "Allyl phenylacetate 0.02 0.36 1.000\n",
      "Diethyl oxalate 0.02 0.35 1.000\n",
      "gamma-Hexalactone 0.02 0.35 1.000\n",
      "3,7-Dimethyl-2,6-octadienenitrile 0.02 0.34 1.000\n",
      "Isobutyl formate 0.02 0.34 1.000\n",
      "p-Anisaldehyde 0.02 0.33 1.000\n",
      "2-Furaldehyde 0.02 0.33 1.000\n",
      "5-Methyl-3-heptanone 0.02 0.32 1.000\n",
      "Diethyl maleate 0.02 0.30 1.000\n",
      "gamma-Undecanolactone 0.02 0.30 1.000\n",
      "Phenylacetic acid 0.01 0.28 1.000\n",
      "Ethyl 2-nonynoate 0.01 0.27 1.000\n",
      "Isobutyric acid 0.01 0.26 1.000\n",
      "(-)-Isopulegol 0.01 0.26 1.000\n",
      "Methyl salicylate 0.01 0.25 1.000\n",
      "Geranyl propionate 0.01 0.25 1.000\n",
      "Dimethyl succinate 0.01 0.24 1.000\n",
      "Methyl heptanoate 0.01 0.22 1.000\n",
      "Allyl hexanoate 0.01 0.21 1.000\n",
      "4-Methylthio-2-butanone 0.01 0.16 1.000\n",
      "trans-2-Hexenal 0.00 0.15 1.000\n",
      "Thiazole 0.00 0.12 1.000\n",
      "Amyl hexanoate -0.00 0.04 1.000\n",
      "2-Phenylethyl alcohol -0.00 0.08 1.000\n",
      "Hexyl acetate -0.00 0.10 1.000\n",
      "Allyl methyl carbonate -0.00 0.10 0.033\n",
      "Ethyl caprylate -0.00 0.11 0.025\n",
      "3-Hexanone -0.00 0.14 1.000\n",
      "Ethylene glycol vinyl ether -0.01 0.16 1.000\n",
      "Methyl benzoate -0.01 0.16 0.017\n",
      "Butyl heptanoate -0.01 0.18 1.000\n",
      "cis-3-Hexenyl tiglate -0.01 0.20 1.000\n",
      "(Methylthio)acetaldehyde dimethyl acetal -0.01 0.21 1.000\n",
      "Methyl 2-thiofuroate -0.01 0.22 1.000\n",
      "(R)-(+)-Pulegone -0.01 0.23 1.000\n",
      "Citronellol -0.01 0.23 1.000\n",
      "3-Methylbutyraldehyde -0.01 0.26 0.022\n",
      "3,7-Dimethyl-7-hydroxyoctanal -0.02 0.28 1.000\n",
      "Isoamyl propionate -0.02 0.30 1.000\n",
      "Butyl butyryllactate -0.02 0.33 1.000\n",
      "Acetophenone -0.02 0.33 0.036\n",
      "3-Methylbutanol -0.02 0.34 1.000\n",
      "Ethyl heptanoate -0.02 0.34 1.000\n",
      "Ethylene glycol diethyl ether -0.02 0.35 1.000\n",
      "Dipentene -0.02 0.35 0.035\n",
      "Linalool -0.02 0.35 1.000\n",
      "Ethyl benzoate -0.03 0.36 1.000\n",
      "2-Phenylethyl propionate -0.03 0.36 1.000\n",
      "2,3-Diethylpyrazine -0.03 0.41 1.000\n",
      "Geranyl acetate -0.03 0.41 1.000\n",
      "Ethyl butyrate -0.03 0.41 1.000\n",
      "Methyl tiglate -0.03 0.42 0.006\n",
      "2-Ethyl-3-methylpyrazine -0.03 0.42 1.000\n",
      "Citronellyl valerate -0.04 0.43 0.007\n",
      "Allyl benzene -0.04 0.44 1.000\n",
      "4-Methyl-5-thiazoleethanol -0.04 0.44 1.000\n",
      "Ethyl crotonate -0.04 0.44 1.000\n",
      "trans-2-Undecenal -0.04 0.47 1.000\n",
      "Methanol -0.05 0.48 1.000\n",
      "Dimethyl maleate -0.05 0.48 1.000\n",
      "Thiophenol -0.05 0.48 1.000\n",
      "Ethyl hexanoate -0.05 0.48 0.005\n",
      "Valerophenone -0.05 0.49 1.000\n",
      "2,5-Dimethylpyrazine -0.05 0.49 1.000\n",
      "3-Octanol -0.05 0.50 1.000\n",
      "Tetrahydrofurfuryl alcohol -0.05 0.51 0.014\n",
      "Cineole -0.05 0.53 0.029\n",
      "Benzaldehyde -0.06 0.55 0.000\n",
      "2-Pentanone -0.06 0.56 1.000\n",
      "Dihydrojasmone -0.06 0.56 1.000\n",
      "2-Butanone -0.07 0.58 0.023\n",
      "3-Nonanone -0.08 0.66 0.018\n",
      "2-Heptanol -0.09 0.66 0.005\n",
      "Ethyl 3-hexenoate -0.09 0.68 1.000\n",
      "Methyl isopropyl carbonate -0.09 0.68 0.000\n",
      "Terpinen-4-ol -0.09 0.68 1.000\n",
      "Ethylene glycol methyl ether methacrylate -0.10 0.71 0.000\n",
      "2-Hexanone -0.10 0.72 0.000\n",
      "Butyl propionate -0.11 0.74 0.002\n",
      "Propyl disulfide -0.11 0.74 0.007\n",
      "2,6-Lutidine -0.11 0.74 0.000\n",
      "tert-Butyl propionate -0.11 0.74 0.008\n",
      "1-Decanol -0.11 0.75 0.000\n",
      "6-Methyl-5-hepten-2-one -0.13 0.80 1.000\n",
      "Ethyl tiglate -0.13 0.81 0.001\n",
      "Valeraldehyde -0.13 0.81 1.000\n",
      "2-Methyl-2-pentenal -0.13 0.81 0.000\n",
      "Anisole -0.13 0.82 0.000\n",
      "2-Octanone -0.14 0.85 1.000\n",
      "2-Heptanone -0.15 0.86 0.000\n",
      "Octanal -0.15 0.88 0.000\n",
      "trans, trans-2,4-Decadienal -0.15 0.88 0.006\n",
      "3-Methylbut-2-enyl formate -0.17 0.94 0.000\n",
      "Geosmin -0.20 1.01 1.000\n",
      "Heptanal -0.28 1.20 1.000\n",
      "Trimethyl phosphite -0.32 1.29 0.000\n",
      "Hexanal -0.33 1.29 1.000\n"
     ]
    }
   ],
   "source": [
    "import math\n",
    "for i in range(len(spec)-1,0,-1):\n",
    "    print cas2name[odors_sorted[i]].decode('utf-8'), '%.3f'%spec[i], '%.2f'%(4*np.sqrt(np.abs(spec[i]/math.pi))), '%.3f'%p_val_argon[i]"
   ]
  },
  {
   "cell_type": "code",
   "execution_count": null,
   "metadata": {
    "collapsed": false
   },
   "outputs": [],
   "source": [
    "d = 2*np.sqrt(A/math.pi)"
   ]
  },
  {
   "cell_type": "code",
   "execution_count": null,
   "metadata": {
    "collapsed": false
   },
   "outputs": [],
   "source": [
    "p_val"
   ]
  },
  {
   "cell_type": "code",
   "execution_count": null,
   "metadata": {
    "collapsed": false
   },
   "outputs": [],
   "source": []
  },
  {
   "cell_type": "code",
   "execution_count": null,
   "metadata": {
    "collapsed": false
   },
   "outputs": [],
   "source": []
  },
  {
   "cell_type": "code",
   "execution_count": null,
   "metadata": {
    "collapsed": false
   },
   "outputs": [],
   "source": []
  },
  {
   "cell_type": "code",
   "execution_count": null,
   "metadata": {
    "collapsed": false
   },
   "outputs": [],
   "source": []
  },
  {
   "cell_type": "code",
   "execution_count": null,
   "metadata": {
    "collapsed": false
   },
   "outputs": [],
   "source": []
  },
  {
   "cell_type": "code",
   "execution_count": null,
   "metadata": {
    "collapsed": false
   },
   "outputs": [],
   "source": []
  },
  {
   "cell_type": "code",
   "execution_count": null,
   "metadata": {
    "collapsed": false
   },
   "outputs": [],
   "source": []
  },
  {
   "cell_type": "code",
   "execution_count": null,
   "metadata": {
    "collapsed": false
   },
   "outputs": [],
   "source": []
  }
 ],
 "metadata": {
  "kernelspec": {
   "display_name": "Python 2",
   "language": "python",
   "name": "python2"
  },
  "language_info": {
   "codemirror_mode": {
    "name": "ipython",
    "version": 2
   },
   "file_extension": ".py",
   "mimetype": "text/x-python",
   "name": "python",
   "nbconvert_exporter": "python",
   "pygments_lexer": "ipython2",
   "version": "2.7.10"
  }
 },
 "nbformat": 4,
 "nbformat_minor": 0
}
