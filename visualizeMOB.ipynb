{
 "metadata": {
  "name": "visualizeMOB"
 },
 "nbformat": 3,
 "nbformat_minor": 0,
 "worksheets": [
  {
   "cells": [
    {
     "cell_type": "heading",
     "level": 1,
     "metadata": {},
     "source": [
      "Create odor maps of MOB data"
     ]
    },
    {
     "cell_type": "markdown",
     "metadata": {},
     "source": [
      "Create odormaps sorted by animals and odormaps sorted by odors"
     ]
    },
    {
     "cell_type": "code",
     "collapsed": false,
     "input": [
      "import sys\n",
      "sys.path.append('/home/jan/workspace/FUimaging/')"
     ],
     "language": "python",
     "metadata": {},
     "outputs": [],
     "prompt_number": 1
    },
    {
     "cell_type": "code",
     "collapsed": false,
     "input": [
      "import os, glob, csv, json, pickle\n",
      "from PIL import Image\n",
      "from collections import defaultdict\n",
      "import matplotlib.pyplot as plt\n",
      "import numpy as np\n",
      "\n",
      "import ImageAnalysisComponents as ia"
     ],
     "language": "python",
     "metadata": {},
     "outputs": [],
     "prompt_number": 2
    },
    {
     "cell_type": "heading",
     "level": 3,
     "metadata": {},
     "source": [
      "Specify parameter"
     ]
    },
    {
     "cell_type": "code",
     "collapsed": false,
     "input": [
      "stim_cut = (3,5) #frames averagaed for odor maps [(3,5) for IOS prepro, (8,12) fro sph]\n",
      "draw_sphrois = False #True\n",
      "filename = 'ios_meas'\n",
      "datapath = '/home/jan/Documents/NewAnalysis/MOBconverted/'\n",
      "savepath_animalsorted = '/home/jan/Documents/NewAnalysis/Vis/Measurements'\n",
      "savepath_odorsorted = '/home/jan/Documents/NewAnalysis/Vis/Odormaps'\n",
      "sort_by_name = True # Display odor maps according to odor identity. Else in order of measurement\n",
      "cas2name = {l[0]:l[1] for l in csv.reader(open('/home/jan/Documents/NewAnalysis/DataDicts/Name2MomCas.tab'),  delimiter='\\t')}\n",
      "animals = [ani for ani in os.listdir(datapath)] #if ('sph' not in ani)]"
     ],
     "language": "python",
     "metadata": {},
     "outputs": [],
     "prompt_number": 3
    },
    {
     "cell_type": "heading",
     "level": 3,
     "metadata": {},
     "source": [
      "Generate odormaps for each animal across odors"
     ]
    },
    {
     "cell_type": "code",
     "collapsed": false,
     "input": [
      "for animal in np.sort(animals):\n",
      "    \n",
      "    bg = Image.open(os.path.join(datapath, animal, 'bg.png'))\n",
      "    bg = bg.convert('L')\n",
      "    \n",
      "    fileloc = os.path.join(datapath, animal, filename)\n",
      "    ts = ia.TimeSeries()\n",
      "    ts.load(fileloc)\n",
      "    ts = ia.TrialMean()(ia.CutOut(stim_cut)(ts))\n",
      "    if sort_by_name:\n",
      "        order_ix = np.argsort(ts.label_stimuli)\n",
      "        ts = ia.SelectTrials()(ts, order_ix)\n",
      "    \n",
      "    bg = bg.resize(ts.shape[::-1])\n",
      "    bg = np.asarray(bg)\n",
      "    \n",
      "    if draw_sphrois:\n",
      "        rois = ia.TimeSeries()\n",
      "        rois.load(os.path.join(datapath, animal, rois))\n",
      "    \n",
      "    rows = np.ceil((len(ts.label_stimuli)+1)/5.)\n",
      "    fig = plt.figure(figsize=(10, 1.5*int(rows)))\n",
      "    plt.subplots_adjust(left=0.02, bottom=0.02, right=0.98, top=0.95)\n",
      "    \n",
      "    ax = fig.add_subplot(rows, 5, 1)\n",
      "    ax.imshow(bg, origin='upper', cmap=plt.cm.bone)\n",
      "    ax.set_xticks([])\n",
      "    ax.set_yticks([])\n",
      "    \n",
      "    for oix, odormap in enumerate(ts.shaped2D()):\n",
      "        ax = fig.add_subplot(rows, 5, oix+2)\n",
      "        amax = np.percentile(np.abs(odormap),99.8)\n",
      "        ax.imshow(odormap, vmin=-amax, vmax=amax, interpolation='none', origin='upper')\n",
      "        if draw_sphrois:\n",
      "            for roi in rois.shaped2D():\n",
      "                ax.contour(roi, [0.5], colors=['w'])\n",
      "        else:\n",
      "            ax.contour(bg, [np.percentile(bg.flatten(),99.5)], colors=['w'])\n",
      "        ax.set_xticks([])\n",
      "        ax.set_yticks([])\n",
      "        stim_name = ts.label_stimuli[oix].split('_')\n",
      "        title = cas2name[stim_name[0]]\n",
      "        if len(stim_name)>1:\n",
      "            title = title.decode(\"utf8\") + ' (%s)'%';'.join(stim_name[1:])\n",
      "        \n",
      "        ax.set_title(title, size=5)\n",
      "        ax.set_ylabel('id:%s, max:%.2f'%(stim_name[0],amax), size=5)\n",
      "        \n",
      "    fig.savefig(os.path.join(savepath_animalsorted, animal+'.pdf'))\n",
      "    plt.close('all')   "
     ],
     "language": "python",
     "metadata": {},
     "outputs": [],
     "prompt_number": 4
    },
    {
     "cell_type": "heading",
     "level": 3,
     "metadata": {},
     "source": [
      "Generate odormaps for each odor across animals"
     ]
    },
    {
     "cell_type": "markdown",
     "metadata": {},
     "source": [
      "Define function to clear stimuli labels. Determines which stimuli are grouped together. Right know remove 'rechts'/'links' labels, as they correspond to syringe used. And '50grad' as there is no visible effect"
     ]
    },
    {
     "cell_type": "code",
     "collapsed": false,
     "input": [
      "to_remove = ['rechts','links','re','li','50grad']\n",
      "\n",
      "def clear_label(label):\n",
      "    if '_' in label:\n",
      "        label_split = label.split('_')\n",
      "        for remove in set(to_remove).intersection(label_split):\n",
      "            label_split.remove(remove)\n",
      "        label = '_'.join(label_split)\n",
      "    return label   "
     ],
     "language": "python",
     "metadata": {},
     "outputs": [],
     "prompt_number": 5
    },
    {
     "cell_type": "heading",
     "level": 4,
     "metadata": {},
     "source": [
      "collect odormaps"
     ]
    },
    {
     "cell_type": "code",
     "collapsed": false,
     "input": [
      "odormaps = defaultdict(list)\n",
      "for animal in np.sort(animals):\n",
      "       \n",
      "    fileloc = os.path.join(datapath, animal, filename)\n",
      "    ts = ia.TimeSeries()\n",
      "    ts.load(fileloc)\n",
      "    ts.label_stimuli = [clear_label(i) for i in ts.label_stimuli]\n",
      "    ts = ia.SingleSampleResponse()(ia.TrialMean()(ia.CutOut(stim_cut)(ts)))\n",
      "       \n",
      "    for oix, odormap in enumerate(ts.shaped2D()):\n",
      "        if 'l' in ts.name: odormap = odormap[::-1] #mirror image if from left bulb \n",
      "        stim_name = ts.label_stimuli[oix].split('_')\n",
      "        title = cas2name[stim_name[0]]\n",
      "        if len(stim_name)>1:\n",
      "            title = title.decode(\"utf8\") + ' (%s)'%';'.join(stim_name[1:])\n",
      "        odormaps[title].append((odormap, ts.name))"
     ],
     "language": "python",
     "metadata": {},
     "outputs": [],
     "prompt_number": 6
    },
    {
     "cell_type": "heading",
     "level": 4,
     "metadata": {},
     "source": [
      "Draw odormaps"
     ]
    },
    {
     "cell_type": "code",
     "collapsed": false,
     "input": [
      "for odor, data in odormaps.items():\n",
      "    \n",
      "    rows = int(np.ceil(len(data)/5.))\n",
      "    fig = plt.figure(figsize=(10, 1.5*rows))\n",
      "    plt.subplots_adjust(left=0.02, bottom=0.02, right=0.98, top=0.85)\n",
      "    \n",
      "    \n",
      "    for oix, (odormap, label) in enumerate(data):\n",
      "        ax = fig.add_subplot(rows, 5, oix+1)\n",
      "        amax = np.percentile(np.abs(odormap),99.8)\n",
      "        ax.imshow(odormap, vmin=-amax, vmax=amax, interpolation='none', origin='upper')\n",
      "\n",
      "        ax.set_xticks([])\n",
      "        ax.set_yticks([])\n",
      "        \n",
      "        ax.set_title(label, size=5)\n",
      "        ax.set_ylabel('max:%.2f'%amax, size=5)\n",
      "        \n",
      "    fig.suptitle(odor)\n",
      "    fig.savefig(os.path.join(savepath_odorsorted, odor+'.pdf'))\n",
      "    plt.close('all')   "
     ],
     "language": "python",
     "metadata": {},
     "outputs": [],
     "prompt_number": 8
    }
   ],
   "metadata": {}
  }
 ]
}