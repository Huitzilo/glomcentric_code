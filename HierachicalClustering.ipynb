{
 "metadata": {
  "name": "HierachicalClustering"
 },
 "nbformat": 3,
 "nbformat_minor": 0,
 "worksheets": [
  {
   "cells": [
    {
     "cell_type": "heading",
     "level": 1,
     "metadata": {},
     "source": [
      "Hierachical cluster odor spectra across animals"
     ]
    },
    {
     "cell_type": "code",
     "collapsed": false,
     "input": [
      "import sys\n",
      "sys.path.append('/home/jan/workspace/FUimaging')"
     ],
     "language": "python",
     "metadata": {},
     "outputs": [],
     "prompt_number": 1
    },
    {
     "cell_type": "code",
     "collapsed": false,
     "input": [
      "import numpy as np\n",
      "import matplotlib.pyplot as plt\n",
      "import glob, csv, pickle, os, json\n",
      "import matplotlib\n",
      "from collections import defaultdict, OrderedDict\n",
      "from scipy.spatial.distance import pdist, squareform\n",
      "from scipy.cluster.hierarchy import linkage,dendrogram\n",
      "from matplotlib import gridspec\n",
      "\n",
      "import ImageAnalysisComponents as ia"
     ],
     "language": "python",
     "metadata": {},
     "outputs": [],
     "prompt_number": 44
    },
    {
     "cell_type": "heading",
     "level": 2,
     "metadata": {},
     "source": [
      "Prepare Analysis"
     ]
    },
    {
     "cell_type": "heading",
     "level": 4,
     "metadata": {},
     "source": [
      "Specify parameter"
     ]
    },
    {
     "cell_type": "code",
     "collapsed": false,
     "input": [
      "method = 'nnmf_150_sm2_convex_sp*_ios_meas' #'sica_200_ios_meas' #\n",
      "animals =  ['111210sph', '111221sph','111222sph', '120107', '120119', '120121', '120125']\n",
      "stimulusdrive = 0.4 # maximale trial2trial correlation distance (aka 1-correlation) of modes to be included\n",
      "min_activation = 0.2 # maximale activation strength of modes to be included\n",
      "cluster_metric = 'correlation'\n",
      "\n",
      "datapath = '/home/jan/Documents/NewAnalysis/'\n",
      "factorization_path = os.path.join(datapath, 'MOBdecomposed')\n",
      "bg_path = os.path.join(datapath, 'MOBconverted')\n",
      "cas2name_file = os.path.join(datapath, 'DataDicts', 'Name2MomCas.tab')\n",
      "cluster_file = os.path.join(datapath, 'DataDicts', 'cluster_assignment.json')"
     ],
     "language": "python",
     "metadata": {},
     "outputs": [],
     "prompt_number": 3
    },
    {
     "cell_type": "heading",
     "level": 4,
     "metadata": {},
     "source": [
      "Define Functions to climb hierachichal cluster"
     ]
    },
    {
     "cell_type": "code",
     "collapsed": false,
     "input": [
      "def return_all_childs(mylinkage, parent):\n",
      "    ''' recursive function returns all leafs of parent node in mylinkage'''    \n",
      "    num_leaves = mylinkage.shape[0]+1\n",
      "    if parent<num_leaves:\n",
      "        return [int(parent)]\n",
      "    else:\n",
      "        leftchild, rightchild = mylinkage[parent-num_leaves][:2]\n",
      "        return return_all_childs(mylinkage, parent=leftchild) + return_all_childs(mylinkage, parent=rightchild)\n",
      "\n",
      "def return_all_links(mylinkage, parent):\n",
      "    ''' recursive function returns all links of parent node in mylinkage''' \n",
      "    num_leaves = mylinkage.shape[0]+1\n",
      "    if parent<num_leaves:\n",
      "        return [parent]\n",
      "    else:\n",
      "        leftchild, rightchild = mylinkage[parent-num_leaves][:2]\n",
      "        return [parent] + return_all_links(mylinkage, parent=leftchild) + return_all_links(mylinkage, parent=rightchild)\n",
      "\n",
      "def color_clusters(cluster, color_dict = None):\n",
      "    ''' creates link-coloring function to color each cluster (given by parent node) '''\n",
      "    cluster_colors = defaultdict(lambda: '0.5')\n",
      "    for clust_ix, cluster_parent in enumerate(cluster):\n",
      "        clust_color = color_dict[cluster_parent] if color_dict else plt.cm.prism(1.*clust_ix/len(cluster)) \n",
      "        clust_color = matplotlib.colors.rgb2hex(clust_color)\n",
      "        colordict_update = {i: clust_color for i in return_all_links(link, cluster_parent+link.shape[0]+1)}\n",
      "        cluster_colors.update(colordict_update)\n",
      "    return lambda node: cluster_colors[node]"
     ],
     "language": "python",
     "metadata": {},
     "outputs": [],
     "prompt_number": 66
    },
    {
     "cell_type": "heading",
     "level": 4,
     "metadata": {},
     "source": [
      "Define function to create combined timeseries of all animals"
     ]
    },
    {
     "cell_type": "code",
     "collapsed": false,
     "input": [
      "def load_combined_series(allIDs, filemask, thres, min_strength, factorization_path):\n",
      "    ''' function to load and create timeseries of multiple animals '''\n",
      "    \n",
      "    allgood, turn = [], []\n",
      "    for measID in allIDs:\n",
      "        \n",
      "        # load timeseries\n",
      "        ts = ia.TimeSeries()\n",
      "        filename = glob.glob(os.path.join(factorization_path, measID, filemask+'.npy'))\n",
      "        assert len(filename)==1\n",
      "        ts.load(filename[0].split('.')[0])\n",
      "        ts.label_stimuli = [i.split('_')[0] for i in ts.label_stimuli]\n",
      "        if '_l_' in ts.name: \n",
      "            turn.append(measID)\n",
      "            ts.base.set_series(ts.base.shaped2D()[:,::-1])\n",
      "        ts.name = measID\n",
      "        \n",
      "        # calc odor spectrum of modes\n",
      "        signal = ia.TrialMean()(ia.CutOut((2, 5))(ts))        \n",
      "        # calc t2t correlation, exclude modes with t2t < thres\n",
      "        mode_cor = ia.CalcStimulusDrive()(signal)\n",
      "        signal = ia.SelectObjects()(signal, mode_cor._series.squeeze()<thres)\n",
      "        \n",
      "        # calc single odor response\n",
      "        signal = ia.SingleSampleResponse()(signal)\n",
      "        \n",
      "        # selected only modes with maximal activation above min_strength\n",
      "        strength = np.max(signal._series,0)\n",
      "        signal = ia.SelectObjects()(signal, strength>min_strength)\n",
      "        \n",
      "        allgood.append(signal)\n",
      "        \n",
      "    allgood = ia.ObjectConcat(unequalsample=True)(allgood)\n",
      "    return allgood, turn"
     ],
     "language": "python",
     "metadata": {},
     "outputs": [],
     "prompt_number": 83
    },
    {
     "cell_type": "heading",
     "level": 4,
     "metadata": {},
     "source": [
      "Read in data"
     ]
    },
    {
     "cell_type": "code",
     "collapsed": false,
     "input": [
      "cas2name = {l[0]:l[1] for l in csv.reader(open(cas2name_file),  delimiter='\\t')}\n",
      "\n",
      "ts, turn = load_combined_series(animals, method, stimulusdrive, min_activation, factorization_path)\n",
      "\n",
      "# load background images, turn if left bulb\n",
      "bg_dict = {measID: plt.imread(os.path.join(bg_path, measID, 'bg.png')) for measID in animals}\n",
      "for ani in turn:\n",
      "    bg_dict[ani] = bg_dict[ani][::-1]\n",
      "\n",
      "title = '_'.join((cluster_metric, method))"
     ],
     "language": "python",
     "metadata": {},
     "outputs": [
      {
       "output_type": "stream",
       "stream": "stdout",
       "text": [
        "common sample  46\n",
        "111210sph  reduced from  46\n",
        "111221sph  reduced from  47\n",
        "111222sph  reduced from  46\n",
        "120107  reduced from  46\n",
        "120119  reduced from  46\n",
        "120121  reduced from  46\n",
        "120125  reduced from  52\n"
       ]
      }
     ],
     "prompt_number": 84
    },
    {
     "cell_type": "heading",
     "level": 4,
     "metadata": {},
     "source": [
      "Sort odors by similarity"
     ]
    },
    {
     "cell_type": "code",
     "collapsed": false,
     "input": [
      "odor_link = linkage(ts_normed._series, metric = 'correlation', method = 'average')\n",
      "\n",
      "fig = plt.figure()\n",
      "ax = fig.add_axes([0.1,0.2,0.85,0.75])\n",
      "odor_d = dendrogram(odor_link, distance_sort='descending')\n",
      "odor_order = np.array(odor_d['leaves'])\n",
      "\n",
      "ts = ia.SelectTrials()(ts, odor_order)\n",
      "ax.set_xticklabels([cas2name[i].decode('utf-8') for i in ts.label_stimuli], rotation='45', ha='right', size=10)\n",
      "\n",
      "plt.show()"
     ],
     "language": "python",
     "metadata": {},
     "outputs": [],
     "prompt_number": 111
    },
    {
     "cell_type": "heading",
     "level": 2,
     "metadata": {},
     "source": [
      "Hierachical cluster data"
     ]
    },
    {
     "cell_type": "markdown",
     "metadata": {},
     "source": [
      "if already cluster assignments exist, load them"
     ]
    },
    {
     "cell_type": "code",
     "collapsed": false,
     "input": [
      "load_cluster = True\n",
      "cluster = json.load(open(cluster_file))[title] if load_cluster else None   "
     ],
     "language": "python",
     "metadata": {},
     "outputs": [],
     "prompt_number": 102
    },
    {
     "cell_type": "code",
     "collapsed": false,
     "input": [
      "cluster_metric = 'correlation'\n",
      "\n",
      "# create copy of timeseries with timecourse of unit length (does not influence correlation/cosine but euclidean distance)\n",
      "ts_normed = ts.copy()\n",
      "norm = np.sqrt(np.sum((ts._series**2),0))\n",
      "ts_normed._series /= norm\n",
      "\n",
      "# create hierachical clustering\n",
      "link = linkage(ts_normed._series.T, metric = cluster_metric, method = 'average')\n",
      "\n",
      "# create function to color previous defined cluster if exist. Else color everything grey.\n",
      "link_coloring = color_clusters(cluster) if cluster else (lambda node: '0.5')\n",
      "    \n",
      "# create labels with abbreviations for animals. \n",
      "pseudo = dict(zip(animals, 'abcdefghij'))\n",
      "pseudo_inv = {v: k for k, v in pseudo.items()}\n",
      "new_labels = [pseudo[i.split('_')[0]] + i.split('_mode')[-1] for i in ts.label_objects]\n",
      "# define color for each animal\n",
      "animal_colors = [plt.cm.spectral(1.*animals.index(i.split('_')[0])/len(animals)) for i in ts.label_objects]\n",
      "\n",
      "# plot hierachical clustering\n",
      "fig = plt.figure(figsize=(7,len(new_labels)/10.))\n",
      "ax = fig.add_axes([0.1,0.01,0.89,0.94])\n",
      "d = dendrogram(link, link_color_func=link_coloring,  orientation='left',  count_sort='descending', labels=new_labels)\n",
      "\n",
      "\n",
      "# label coloring\n",
      "for l_ind, l in enumerate(ax.yaxis.get_ticklabels()):\n",
      "    mode = d['leaves'][l_ind]\n",
      "    l.set_color(animal_colors[mode])\n",
      "  \n",
      "# annotate nodes with node id\n",
      "node_order = list(np.sort(np.array(d['dcoord'])[:,1]))\n",
      "for di, dd in zip(d['icoord'], d['dcoord']):\n",
      "    y = 0.5 * sum(di[1:3])\n",
      "    x = dd[1]\n",
      "    ix = node_order.index(dd[1])\n",
      "    ax.annotate(\"%d\" % ix, (x, y), xytext=(1,1), textcoords='offset points', va='bottom', ha='left', size=8)    \n",
      "   \n",
      "# decorate axis\n",
      "ax.set_xlabel('distance')\n",
      "ax.yaxis.set_tick_params(labelsize=8)\n",
      "ax.xaxis.set_tick_params(labelsize=8)\n",
      "ax.xaxis.set_ticks_position('top')\n",
      "ax.xaxis.set_label_position('top')\n",
      "ax.set_title(title, y=1.02)\n",
      "\n",
      "fig.savefig('/home/jan/Documents/NewAnalysis/Vis/Clustering/%s.pdf'%title)\n",
      "plt.show()"
     ],
     "language": "python",
     "metadata": {},
     "outputs": [],
     "prompt_number": 103
    },
    {
     "cell_type": "heading",
     "level": 2,
     "metadata": {},
     "source": [
      "Plot location and spectra of cluster"
     ]
    },
    {
     "cell_type": "heading",
     "level": 4,
     "metadata": {},
     "source": [
      "Functions to plot collection of spectra"
     ]
    },
    {
     "cell_type": "code",
     "collapsed": false,
     "input": [
      "def allspec_plot(ax, spectra, color):\n",
      "   ''' plots all spectra individual'''\n",
      "   ax.plot(spectra, color=mycolor)\n",
      "\n",
      "def percentile_plot(ax, spectra, color):\n",
      "    '''plots median, quartiles and min/max of data'''\n",
      "    ax.plot(np.median(spectra,1), lw=2, color=color)\n",
      "    ax.fill_between(range(spectra.shape[0]), np.percentile(spectra,0,axis=1), np.percentile(spectra,100,axis=1), \n",
      "                    facecolor=color, alpha=0.25)\n",
      "    ax.fill_between(range(spectra.shape[0]), np.percentile(spectra,25,axis=1), np.percentile(spectra,75,axis=1), \n",
      "                    facecolor=color, alpha=0.25) \n"
     ],
     "language": "python",
     "metadata": {},
     "outputs": [],
     "prompt_number": 89
    },
    {
     "cell_type": "heading",
     "level": 4,
     "metadata": {},
     "source": [
      "Functions to create cluster visualization"
     ]
    },
    {
     "cell_type": "code",
     "collapsed": false,
     "input": [
      "def plot_location(ts, link, cluster, bg_dict, ax_dict, color_dict):\n",
      "    ''' plot cluster location'''\n",
      "    \n",
      "    # plot bg\n",
      "    for axname,ax in ax_dict.items():\n",
      "        bg = bg_dict[axname]\n",
      "        ax.imshow(bg_dict[axname], interpolation='none', cmap=plt.cm.bone, extent=[0,84,64,0])\n",
      "        ax.set_axis_off()\n",
      "\n",
      "    # plot location and timecouses of clusters\n",
      "    for clust in cluster:    \n",
      "        color = color_dict[clust]\n",
      "        spec_collection = []\n",
      "        for node in return_all_childs(link,clust+link.shape[0]+1):\n",
      "            # get animal of cluster member\n",
      "            measID = ts.label_objects[node].split('_')[0]\n",
      "            # print pixel participation\n",
      "            mode = ts.base.shaped2D()[node]    \n",
      "            ax_dict[measID].contourf(mode, [0.3,1], colors=[color], alpha=0.5)\n",
      "            \n",
      "            \n",
      "def plot_spec(ts, link, cluster, ax_dict, color_dict, plot_spec = allspec_plot, norm=None):            \n",
      "    ''' plot cluster spectra '''\n",
      "    \n",
      "    for clust in cluster:      \n",
      "        # get data\n",
      "        color = color_dict[clust]\n",
      "        nodes = return_all_childs(link,clust+link.shape[0]+1)\n",
      "        spec_collection = [ts.matrix_shaped()[:,node] for node in nodes]\n",
      "            \n",
      "        # plot spectrum\n",
      "        plot_spec(axtime[clust], np.array(spec_collection).T, color) \n",
      "        axtime[clust].set_xlim([-0.5, num_stim-0.5])   \n",
      "        \n",
      "        if norm != None:\n",
      "            # note response strength\n",
      "            axtime[clust].text(0.9,0.8, 'norm: %.1f'%np.mean(norm[nodes]),  transform=axtime[clust].transAxes)\n",
      "            \n",
      "    # decorate axes\n",
      "    for ax in axtime.values():\n",
      "        ax.set_xticklabels([])\n",
      "        ax.set_xticks(np.arange(num_stim), minor=True)\n",
      "        ax.set_xticks(np.arange(0,num_stim, 5))\n",
      "        ax.yaxis.get_major_locator().set_params(nbins=3, prune='both')  \n",
      "        ax.grid()\n",
      "    axtime.values()[-1].set_xticklabels([cas2name[i].decode('utf-8') for i in ts.label_stimuli], rotation='30', size=8, ha='right', minor=True)\n"
     ],
     "language": "python",
     "metadata": {},
     "outputs": [],
     "prompt_number": 92
    },
    {
     "cell_type": "heading",
     "level": 3,
     "metadata": {},
     "source": [
      "Example plot of clusters"
     ]
    },
    {
     "cell_type": "code",
     "collapsed": false,
     "input": [
      "cluster = [200, 292,257,228,264]\n",
      "\n",
      "num_cluster = len(cluster)\n",
      "num_animals = len(animals)\n",
      "num_stim = len(ts.label_stimuli)\n",
      "clust_colors = {clust: plt.cm.hsv(1.*cluster.index(clust)/num_cluster) for clust in cluster}\n",
      "\n",
      "fig = plt.figure(figsize=(15,12))\n",
      "\n",
      "# plot dendrogarm\n",
      "gs_top = matplotlib.gridspec.GridSpec(1,1)\n",
      "gs_top.update(bottom=0.86, top=0.99, left=0.05, right=0.95)\n",
      "ax = fig.add_subplot(gs_top[0])\n",
      "d = dendrogram(link, link_color_func = color_clusters(cluster, clust_colors), count_sort='descending')\n",
      "ax.set_xticks([])\n",
      "ax.set_yticks([0,0.3,1])\n",
      "\n",
      "# plot locations\n",
      "gs = matplotlib.gridspec.GridSpec(1, num_animals)\n",
      "gs.update(left=0.05, right=0.98, bottom=0.71, top=0.84)\n",
      "axbase = {animal: fig.add_subplot(gs[0,ix]) for ix, animal in enumerate(animals)}\n",
      "plot_location(ts_normed, link, cluster, bg_dict, axbase, clust_colors)\n",
      "\n",
      "# prepare axes for plotting spectra\n",
      "gs = matplotlib.gridspec.GridSpec(num_cluster,1)\n",
      "gs.update(left=0.05, right=0.98, bottom=0.1, top=0.7)\n",
      "axtime = OrderedDict([(clust,fig.add_subplot(gs[ix])) for ix, clust in enumerate(cluster)])\n",
      "plot_spec(ts_normed, link, cluster, axtime, clust_colors, percentile_plot, norm=norm)\n",
      "\n",
      "plt.show()"
     ],
     "language": "python",
     "metadata": {},
     "outputs": [],
     "prompt_number": 112
    },
    {
     "cell_type": "code",
     "collapsed": false,
     "input": [
      "ts_normed.label_stimuli"
     ],
     "language": "python",
     "metadata": {},
     "outputs": [
      {
       "output_type": "pyout",
       "prompt_number": 114,
       "text": [
        "[u'7440-37-1',\n",
        " u'60-12-8',\n",
        " u'89-82-7',\n",
        " u'106-23-0',\n",
        " u'25680-58-4 ',\n",
        " u'123-63-7',\n",
        " u'95-92-1 ',\n",
        " u'35466-83-2',\n",
        " u'105-58-8',\n",
        " u'93-58-3',\n",
        " u'7493-71-2',\n",
        " u'6622-76-0',\n",
        " u'78-98-8',\n",
        " u'431-03-8',\n",
        " u'600-14-6',\n",
        " u'3848-24-6',\n",
        " u'141-78-6',\n",
        " u'107-87-9',\n",
        " u'108-21-4',\n",
        " u'589-38-8',\n",
        " u'79-20-9',\n",
        " u'591-87-7',\n",
        " u'109-60-4',\n",
        " u'542-55-2',\n",
        " u'2408-20-0',\n",
        " u'106-36-5',\n",
        " u'554-12-1',\n",
        " u'105-37-3',\n",
        " u'140-88-5',\n",
        " u'540-42-1',\n",
        " u'110-19-0',\n",
        " u'628-63-7',\n",
        " u'123-86-4',\n",
        " u'2497-18-9',\n",
        " u'96-04-8',\n",
        " u'19788-49-9',\n",
        " u'109-79-5',\n",
        " u'590-01-2',\n",
        " u'470-67-7',\n",
        " u'75-07-0',\n",
        " u'590-86-3',\n",
        " u'623-36-9',\n",
        " u'7452-79-1',\n",
        " u'623-42-7',\n",
        " u'539-82-2',\n",
        " u'123-66-0']"
       ]
      }
     ],
     "prompt_number": 114
    },
    {
     "cell_type": "heading",
     "level": 4,
     "metadata": {},
     "source": [
      "Intra vs inter cluster distances (robustness of linkage)"
     ]
    },
    {
     "cell_type": "code",
     "collapsed": false,
     "input": [
      "mydist = 'correlation'\n",
      "plt.figure()\n",
      "for ix, cluster_id in enumerate(cluster):\n",
      "    plt.subplot(7,7,ix+1)\n",
      "    member_idx = return_all_childs(link,cluster_id+link.shape[0]+1)\n",
      "    member_mask = np.zeros(ts.num_objects).astype('bool')\n",
      "    member_mask[member_idx] = True\n",
      "    cor_inter = squareform(pdist(ts._series.T, mydist))[member_mask][:,np.logical_not(member_mask)]\n",
      "    cor_intra = squareform(squareform(pdist(ts._series.T, mydist))[member_mask][:,member_mask])\n",
      "\n",
      "    plt.hist([cor_inter, cor_intra], np.linspace(0,2,41), color=['r','g'], histtype='barstacked')\n",
      "    #plt.hist(cor_intra, np.linspace(0,2,41), color='g')\n",
      "    plt.gca().set_xticks([0.5, 0.75])\n",
      "    #plt.xlim([0,2])\n",
      "    plt.gca().set_yticks([1])\n",
      "    plt.ylim([0,10])\n",
      "    plt.title(cluster_id)\n",
      "    plt.grid()\n",
      "    ax = plt.gca()\n",
      "    for label in ax.get_xticklabels() + ax.get_yticklabels():\n",
      "        label.set_fontsize(6)\n",
      "    \n",
      "plt.show()"
     ],
     "language": "python",
     "metadata": {},
     "outputs": [],
     "prompt_number": 94
    },
    {
     "cell_type": "heading",
     "level": 4,
     "metadata": {},
     "source": [
      "Distance of cluster and non_cluster modes to prototype (robustness of linkage light)"
     ]
    },
    {
     "cell_type": "code",
     "collapsed": false,
     "input": [
      "mydist = 'correlation'\n",
      "for ix, cluster_id in enumerate(cluster):\n",
      "    plt.subplot(7,7,ix+1)\n",
      "    protoype_idx = return_all_childs(link,cluster_id+link.shape[0]+1)\n",
      "    prototype = np.mean(ts._series[:,protoype_idx],1)\n",
      "    cor = squareform(pdist(np.hstack([prototype[:,np.newaxis], ts._series]).T, mydist))[0,1:]\n",
      "    plt.hist(cor, np.linspace(0,2,41), color='r')\n",
      "    plt.hist(cor[protoype_idx], np.linspace(0,2,41), color='g')\n",
      "    plt.gca().set_xticks([0.5, 0.75])\n",
      "    #plt.xlim([0,2])\n",
      "    plt.gca().set_yticks([1])\n",
      "    plt.ylim([0,10])\n",
      "    plt.title(cluster_id)\n",
      "    plt.grid()\n",
      "    ax = plt.gca()\n",
      "    for label in ax.get_xticklabels() + ax.get_yticklabels():\n",
      "        label.set_fontsize(6) \n",
      "plt.show()"
     ],
     "language": "python",
     "metadata": {},
     "outputs": [],
     "prompt_number": 95
    },
    {
     "cell_type": "heading",
     "level": 4,
     "metadata": {},
     "source": [
      "Show distance to prototype"
     ]
    },
    {
     "cell_type": "code",
     "collapsed": false,
     "input": [
      "cluster_id = 200\n",
      "\n",
      "protoype_idx = return_all_childs(link,cluster_id+link.shape[0]+1)\n",
      "prototype = np.mean(ts._series[:,protoype_idx],1)\n",
      "cor = squareform(pdist(np.hstack([prototype[:,np.newaxis], ts._series]).T, mydist))[0,1:]\n",
      "\n",
      "fig = plt.figure()\n",
      "gs = matplotlib.gridspec.GridSpec(1,num_animals)\n",
      "axbase = [fig.add_subplot(gs[i]) for i in range(num_animals)]\n",
      "\n",
      "for measID, ax in zip(animals, axbase):\n",
      "    bg = bg_dict[measID][::-1] if (measID in turn) else bg_dict[measID]\n",
      "    ax.imshow(bg, interpolation='none', cmap=plt.cm.bone, extent=[0,84,64,0])\n",
      "    ax.set_axis_off() \n",
      "\n",
      "for obj_id in range(ts.num_objects):\n",
      "    measID = ts.label_objects[obj_id].split('_')[0]\n",
      "    pos = animals.index(measID)\n",
      "    base = ts.base.shaped2D()[obj_id][::-1] if (measID in turn) else ts.base.shaped2D()[obj_id]\n",
      "    axbase[pos].contourf(base, [0.3,1], colors=[plt.cm.jet(1-cor[obj_id])], alpha=0.5)\n",
      "    \n",
      "plt.show()"
     ],
     "language": "python",
     "metadata": {},
     "outputs": [
      {
       "ename": "NameError",
       "evalue": "name 'mydist' is not defined",
       "output_type": "pyerr",
       "traceback": [
        "\u001b[1;31m---------------------------------------------------------------------------\u001b[0m\n\u001b[1;31mNameError\u001b[0m                                 Traceback (most recent call last)",
        "\u001b[1;32m<ipython-input-21-61164f4ad350>\u001b[0m in \u001b[0;36m<module>\u001b[1;34m()\u001b[0m\n\u001b[0;32m      3\u001b[0m \u001b[0mprotoype_idx\u001b[0m \u001b[1;33m=\u001b[0m \u001b[0mreturn_all_childs\u001b[0m\u001b[1;33m(\u001b[0m\u001b[0mlink\u001b[0m\u001b[1;33m,\u001b[0m\u001b[0mcluster_id\u001b[0m\u001b[1;33m+\u001b[0m\u001b[0mlink\u001b[0m\u001b[1;33m.\u001b[0m\u001b[0mshape\u001b[0m\u001b[1;33m[\u001b[0m\u001b[1;36m0\u001b[0m\u001b[1;33m]\u001b[0m\u001b[1;33m+\u001b[0m\u001b[1;36m1\u001b[0m\u001b[1;33m)\u001b[0m\u001b[1;33m\u001b[0m\u001b[0m\n\u001b[0;32m      4\u001b[0m \u001b[0mprototype\u001b[0m \u001b[1;33m=\u001b[0m \u001b[0mnp\u001b[0m\u001b[1;33m.\u001b[0m\u001b[0mmean\u001b[0m\u001b[1;33m(\u001b[0m\u001b[0mts\u001b[0m\u001b[1;33m.\u001b[0m\u001b[0m_series\u001b[0m\u001b[1;33m[\u001b[0m\u001b[1;33m:\u001b[0m\u001b[1;33m,\u001b[0m\u001b[0mprotoype_idx\u001b[0m\u001b[1;33m]\u001b[0m\u001b[1;33m,\u001b[0m\u001b[1;36m1\u001b[0m\u001b[1;33m)\u001b[0m\u001b[1;33m\u001b[0m\u001b[0m\n\u001b[1;32m----> 5\u001b[1;33m \u001b[0mcor\u001b[0m \u001b[1;33m=\u001b[0m \u001b[0msquareform\u001b[0m\u001b[1;33m(\u001b[0m\u001b[0mpdist\u001b[0m\u001b[1;33m(\u001b[0m\u001b[0mnp\u001b[0m\u001b[1;33m.\u001b[0m\u001b[0mhstack\u001b[0m\u001b[1;33m(\u001b[0m\u001b[1;33m[\u001b[0m\u001b[0mprototype\u001b[0m\u001b[1;33m[\u001b[0m\u001b[1;33m:\u001b[0m\u001b[1;33m,\u001b[0m\u001b[0mnp\u001b[0m\u001b[1;33m.\u001b[0m\u001b[0mnewaxis\u001b[0m\u001b[1;33m]\u001b[0m\u001b[1;33m,\u001b[0m \u001b[0mts\u001b[0m\u001b[1;33m.\u001b[0m\u001b[0m_series\u001b[0m\u001b[1;33m]\u001b[0m\u001b[1;33m)\u001b[0m\u001b[1;33m.\u001b[0m\u001b[0mT\u001b[0m\u001b[1;33m,\u001b[0m \u001b[0mmydist\u001b[0m\u001b[1;33m)\u001b[0m\u001b[1;33m)\u001b[0m\u001b[1;33m[\u001b[0m\u001b[1;36m0\u001b[0m\u001b[1;33m,\u001b[0m\u001b[1;36m1\u001b[0m\u001b[1;33m:\u001b[0m\u001b[1;33m]\u001b[0m\u001b[1;33m\u001b[0m\u001b[0m\n\u001b[0m\u001b[0;32m      6\u001b[0m \u001b[1;33m\u001b[0m\u001b[0m\n\u001b[0;32m      7\u001b[0m \u001b[0mfig\u001b[0m \u001b[1;33m=\u001b[0m \u001b[0mplt\u001b[0m\u001b[1;33m.\u001b[0m\u001b[0mfigure\u001b[0m\u001b[1;33m(\u001b[0m\u001b[1;33m)\u001b[0m\u001b[1;33m\u001b[0m\u001b[0m\n",
        "\u001b[1;31mNameError\u001b[0m: name 'mydist' is not defined"
       ]
      }
     ],
     "prompt_number": 21
    },
    {
     "cell_type": "code",
     "collapsed": false,
     "input": [
      "cluster = []\n",
      "cluster += [152,197] #Dione 152 split possible 70,99\n",
      "cluster += [281,183,187,211] #Tiglate (239 not spatial consistent)\n",
      "cluster += [250, 256] #Valerate\n",
      "cluster += [201, 160] #2M2P\n",
      "cluster += [62, 146] #3Methylbutyraldhyde\n",
      "cluster += [131,133] #Butyrate\n",
      "cluster += [261,188,141,190,164] #2M2P + 3MB\n",
      "cluster += [200] #MOR18-2\n",
      "cluster += [292,257,228,264] #MOR18-2 area (Propionate)\n",
      "cluster += [192, 302, 300, 145]\n",
      "cluster += [220, 247]\n",
      "cluster += [290, 323, 322] #Cineole\n",
      "cluster += [303, 163, 343, 172, 319] #Isobutyl formate\n",
      "cluster += [299, 295, 276, 173] #Pentyl acetate\n",
      "cluster += [254] #Ketone + Ester\n",
      "cluster += [362] #Full mess"
     ],
     "language": "python",
     "metadata": {},
     "outputs": [],
     "prompt_number": 38
    },
    {
     "cell_type": "heading",
     "level": 3,
     "metadata": {},
     "source": [
      "Old stuff for chemotopy"
     ]
    },
    {
     "cell_type": "code",
     "collapsed": false,
     "input": [
      "desc = np.load('/home/jan/Documents/DoOr/DataRevision/all.npy')[:,1:].astype('float')\n",
      "all_mols = np.load('/home/jan/Documents/DoOr/DataRevision/all.npy')[:,0].astype('int')"
     ],
     "language": "python",
     "metadata": {},
     "outputs": [],
     "prompt_number": 123
    },
    {
     "cell_type": "code",
     "collapsed": false,
     "input": [
      "use_mask = np.array([i in list(all_mols) for i in ts.label_stimuli])\n",
      "ind = [list(all_mols).index(i) for i in ts.label_stimuli if i in list(all_mols)]"
     ],
     "language": "python",
     "metadata": {},
     "outputs": [],
     "prompt_number": 183
    },
    {
     "cell_type": "code",
     "collapsed": false,
     "input": [
      "from sklearn import preprocessing\n",
      "\n",
      "features = desc.copy()\n",
      "scaler = preprocessing.StandardScaler()\n",
      "features = scaler.fit_transform(features)\n",
      "\n",
      "\n",
      "rbf_dist = pdist(features[ind], lambda u,v: 1-np.exp(-((u-v)**2).sum()/features.shape[1]))"
     ],
     "language": "python",
     "metadata": {},
     "outputs": [],
     "prompt_number": 387
    },
    {
     "cell_type": "code",
     "collapsed": false,
     "input": [
      "from sklearn.manifold import MDS\n",
      "from sklearn.decomposition import PCA"
     ],
     "language": "python",
     "metadata": {},
     "outputs": [],
     "prompt_number": 388
    },
    {
     "cell_type": "code",
     "collapsed": false,
     "input": [
      "embedding = MDS(dissimilarity='precomputed', n_components=2, random_state=1)"
     ],
     "language": "python",
     "metadata": {},
     "outputs": [],
     "prompt_number": 401
    },
    {
     "cell_type": "code",
     "collapsed": false,
     "input": [
      "out = embedding.fit_transform(squareform(rbf_dist))"
     ],
     "language": "python",
     "metadata": {},
     "outputs": [],
     "prompt_number": 402
    },
    {
     "cell_type": "code",
     "collapsed": false,
     "input": [
      "fig = plt.figure()\n",
      "for i,w in  enumerate(prototype):\n",
      "    ax = fig.add_subplot(3,2, i+1)\n",
      "    \n",
      "    ax.scatter(out[:,0], out[:,1], s=50, linewidths=1,\n",
      "                facecolor= ['b' if i>0.3 else 'none' for i in w[use_mask]/np.max(w) ],\n",
      "                edgecolor= 'k', alpha=0.9)\n",
      "    ax.scatter(out[:,0], out[:,1], s=50, linewidths=1,\n",
      "                facecolor= [str(i) if i>0.3 else 'none' for i in w[use_mask]/np.max(w) ],\n",
      "                edgecolor= 'k', alpha=0.5)\n",
      "    '''\n",
      "    ax.scatter(out[:,0], out[:,1], s=100, marker='o', \n",
      "                facecolor= 'none',\n",
      "                edgecolor='k')\n",
      "    '''\n",
      "plt.show()"
     ],
     "language": "python",
     "metadata": {},
     "outputs": [],
     "prompt_number": 429
    },
    {
     "cell_type": "code",
     "collapsed": false,
     "input": [
      "from mpl_toolkits.mplot3d import Axes3D\n",
      "fig = plt.figure()\n",
      "ax = fig.add_subplot(111, projection='3d')\n",
      "\n",
      "ax.scatter(out[:,0], out[:,1],out[:,2], s=100, linewidths=3,\n",
      "            facecolor=[plt.cm.Greens(i) for i in prototype[use_mask]/np.max(prototype)],\n",
      "            edgecolor=[plt.cm.Reds(i) for i in prototype2[use_mask]/np.max(prototype2)])\n",
      "ax.scatter(out[:,0], out[:,1],out[:,2], s=30, marker='x', \n",
      "            facecolor= 'k',\n",
      "            edgecolor='k')\n",
      "plt.show()"
     ],
     "language": "python",
     "metadata": {},
     "outputs": [],
     "prompt_number": 323
    },
    {
     "cell_type": "code",
     "collapsed": false,
     "input": [
      "id1 = np.argsort(prototype[use_mask])[::-1]\n",
      "id2 = np.argsort(prototype2[use_mask])[::-1]"
     ],
     "language": "python",
     "metadata": {},
     "outputs": [],
     "prompt_number": 234
    },
    {
     "cell_type": "code",
     "collapsed": false,
     "input": [
      "plt.imshow(squareform(rbf_dist)[id1][:, id2], interpolation='none', vmax=0.5)\n",
      "plt.show()"
     ],
     "language": "python",
     "metadata": {},
     "outputs": [],
     "prompt_number": 243
    },
    {
     "cell_type": "code",
     "collapsed": false,
     "input": [
      "plt.cm.Blues(i)"
     ],
     "language": "python",
     "metadata": {},
     "outputs": [
      {
       "output_type": "pyout",
       "prompt_number": 427,
       "text": [
        "(0.95632449318380919, 0.97643983223858999, 0.9960630529067096, 1.0)"
       ]
      }
     ],
     "prompt_number": 427
    },
    {
     "cell_type": "code",
     "collapsed": false,
     "input": [
      "plt.rgrids"
     ],
     "language": "python",
     "metadata": {},
     "outputs": [],
     "prompt_number": 252
    },
    {
     "cell_type": "code",
     "collapsed": false,
     "input": [
      "np.sort(rbf_dist)"
     ],
     "language": "python",
     "metadata": {},
     "outputs": [
      {
       "output_type": "pyout",
       "prompt_number": 239,
       "text": [
        "array([ 0.03659935,  0.04989355,  0.05823154, ...,  0.99041083,\n",
        "        0.99267155,  0.99789793])"
       ]
      }
     ],
     "prompt_number": 239
    },
    {
     "cell_type": "code",
     "collapsed": false,
     "input": [],
     "language": "python",
     "metadata": {},
     "outputs": []
    }
   ],
   "metadata": {}
  }
 ]
}