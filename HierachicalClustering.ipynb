{
 "metadata": {
  "name": "HierachicalClustering"
 },
 "nbformat": 3,
 "nbformat_minor": 0,
 "worksheets": [
  {
   "cells": [
    {
     "cell_type": "heading",
     "level": 1,
     "metadata": {},
     "source": [
      "Hierachical cluster odor spectra across animals"
     ]
    },
    {
     "cell_type": "code",
     "collapsed": false,
     "input": [
      "import sys\n",
      "sys.path.append('/home/jan/workspace/FUimaging')"
     ],
     "language": "python",
     "metadata": {},
     "outputs": [],
     "prompt_number": 1
    },
    {
     "cell_type": "code",
     "collapsed": false,
     "input": [
      "import numpy as np\n",
      "import matplotlib.pyplot as plt\n",
      "import glob, csv, pickle, os, json\n",
      "import matplotlib, scipy\n",
      "from collections import defaultdict, OrderedDict\n",
      "from scipy.spatial.distance import pdist, squareform\n",
      "from scipy.cluster.hierarchy import linkage,dendrogram\n",
      "from matplotlib import gridspec\n",
      "\n",
      "import ImageAnalysisComponents as ia"
     ],
     "language": "python",
     "metadata": {},
     "outputs": [],
     "prompt_number": 64
    },
    {
     "cell_type": "heading",
     "level": 2,
     "metadata": {},
     "source": [
      "Prepare Analysis"
     ]
    },
    {
     "cell_type": "heading",
     "level": 4,
     "metadata": {},
     "source": [
      "Specify parameter"
     ]
    },
    {
     "cell_type": "code",
     "collapsed": false,
     "input": [
      "method = 'nnmf_150_sm2_convex_sp*_ios_meas' #'sica_200_ios_meas' #\n",
      "animals =  ['111210sph', '111221sph','111222sph', '120107', '120119', '120121', '120125']\n",
      "stimulusdrive = 0.4 # maximale trial2trial correlation distance (aka 1-correlation) of modes to be included\n",
      "min_activation = 0.2 # maximale activation strength of modes to be included\n",
      "\n",
      "datapath = '/home/jan/Documents/NewAnalysis/'\n",
      "factorization_path = os.path.join(datapath, 'MOBdecomposed')\n",
      "bg_path = os.path.join(datapath, 'MOBconverted')\n",
      "cas2name_file = os.path.join(datapath, 'DataDicts', 'Name2MomCas.tab')\n",
      "cluster_file = os.path.join(datapath, 'DataDicts', 'cluster_assignment.json')\n",
      "spec_savepath = os.path.join(datapath, 'DataDicts')\n",
      "vis_path = os.path.join(datapath, 'Vis')\n",
      "clustering_savepath = os.path.join(vis_path, 'Clustering') \n"
     ],
     "language": "python",
     "metadata": {},
     "outputs": [],
     "prompt_number": 238
    },
    {
     "cell_type": "heading",
     "level": 4,
     "metadata": {},
     "source": [
      "Define Functions to process hierachichal cluster (linkages)"
     ]
    },
    {
     "cell_type": "code",
     "collapsed": false,
     "input": [
      "def return_all_childs(mylinkage, parent):\n",
      "    ''' recursive function returns all leafs of parent node in mylinkage'''    \n",
      "    num_leaves = mylinkage.shape[0]+1\n",
      "    if parent<num_leaves:\n",
      "        return [int(parent)]\n",
      "    else:\n",
      "        leftchild, rightchild = mylinkage[parent-num_leaves][:2]\n",
      "        return return_all_childs(mylinkage, parent=leftchild) + return_all_childs(mylinkage, parent=rightchild)\n",
      "\n",
      "def return_all_links(mylinkage, parent):\n",
      "    ''' recursive function returns all links of parent node in mylinkage''' \n",
      "    num_leaves = mylinkage.shape[0]+1\n",
      "    if parent<num_leaves:\n",
      "        return [parent]\n",
      "    else:\n",
      "        leftchild, rightchild = mylinkage[parent-num_leaves][:2]\n",
      "        return [parent] + return_all_links(mylinkage, parent=leftchild) + return_all_links(mylinkage, parent=rightchild)\n",
      "\n",
      "def color_clusters(cluster, color_dict = None):\n",
      "    ''' creates link-coloring function to color each cluster (given by parent node) '''\n",
      "    cluster_colors = defaultdict(lambda: '0.5')\n",
      "    for clust_ix, cluster_parent in enumerate(cluster):\n",
      "        clust_color = color_dict[cluster_parent] if color_dict else plt.cm.prism(1.*clust_ix/len(cluster)) \n",
      "        clust_color = matplotlib.colors.rgb2hex(clust_color)\n",
      "        colordict_update = {i: clust_color for i in return_all_links(link, cluster_parent+link.shape[0]+1)}\n",
      "        cluster_colors.update(colordict_update)\n",
      "    return lambda node: cluster_colors[node]"
     ],
     "language": "python",
     "metadata": {},
     "outputs": [],
     "prompt_number": 4
    },
    {
     "cell_type": "heading",
     "level": 4,
     "metadata": {},
     "source": [
      "Define function to create combined timeseries of all animals"
     ]
    },
    {
     "cell_type": "code",
     "collapsed": false,
     "input": [
      "def load_combined_series(allIDs, filemask, thres, min_strength, factorization_path):\n",
      "    ''' function to load and preprocess timeseries of multiple animals '''\n",
      "    \n",
      "    allgood, turn = [], []\n",
      "    for measID in allIDs:\n",
      "        \n",
      "        # load timeseries\n",
      "        ts = ia.TimeSeries()\n",
      "        filename = glob.glob(os.path.join(factorization_path, measID, filemask+'.npy'))\n",
      "        assert len(filename)==1\n",
      "        ts.load(filename[0].split('.')[0])\n",
      "        ts.label_stimuli = [i.split('_')[0] for i in ts.label_stimuli]\n",
      "        if '_l_' in ts.name: \n",
      "            turn.append(measID)\n",
      "            ts.base.set_series(ts.base.shaped2D()[:,::-1])\n",
      "        ts.name = measID\n",
      "        \n",
      "        # calc odor spectrum of modes\n",
      "        signal = ia.TrialMean()(ia.CutOut((2, 5))(ts))        \n",
      "        # calc t2t correlation, exclude modes with t2t < thres\n",
      "        mode_cor = ia.CalcStimulusDrive()(signal)\n",
      "        signal = ia.SelectObjects()(signal, mode_cor._series.squeeze()<thres)\n",
      "        \n",
      "        # calc single odor response\n",
      "        signal = ia.SingleSampleResponse()(signal)\n",
      "        \n",
      "        # selected only modes with maximal activation above min_strength\n",
      "        strength = np.max(signal._series,0)\n",
      "        signal = ia.SelectObjects()(signal, strength>min_strength)\n",
      "        \n",
      "        allgood.append(signal)\n",
      "        \n",
      "    allgood = ia.ObjectConcat(unequalsample=True)(allgood)\n",
      "    return allgood, turn"
     ],
     "language": "python",
     "metadata": {},
     "outputs": [],
     "prompt_number": 5
    },
    {
     "cell_type": "heading",
     "level": 4,
     "metadata": {},
     "source": [
      "Read in data"
     ]
    },
    {
     "cell_type": "code",
     "collapsed": false,
     "input": [
      "cas2name = {l[0]:l[1] for l in csv.reader(open(cas2name_file),  delimiter='\\t')}\n",
      "\n",
      "ts, turn = load_combined_series(animals, method, stimulusdrive, min_activation, factorization_path)\n",
      "\n",
      "# load background images, turn if left bulb\n",
      "bg_dict = {measID: plt.imread(os.path.join(bg_path, measID, 'bg.png')) for measID in animals}\n",
      "for ani in turn:\n",
      "    bg_dict[ani] = bg_dict[ani][::-1]"
     ],
     "language": "python",
     "metadata": {},
     "outputs": [
      {
       "output_type": "stream",
       "stream": "stdout",
       "text": [
        "common sample  46\n",
        "111210sph  reduced from  46\n",
        "111221sph  reduced from  47\n",
        "111222sph  reduced from  46\n",
        "120107  reduced from  46\n",
        "120119  reduced from  46\n",
        "120121  reduced from  46\n",
        "120125  reduced from  52\n"
       ]
      }
     ],
     "prompt_number": 6
    },
    {
     "cell_type": "heading",
     "level": 4,
     "metadata": {},
     "source": [
      "Sort odors by similarity"
     ]
    },
    {
     "cell_type": "markdown",
     "metadata": {},
     "source": [
      "Define order (according to a hierachical clustering) in which odors are displayed. Shall provide a more intuitive reading of odor-spectra with nearby odors having similar glomerular activation profiles"
     ]
    },
    {
     "cell_type": "code",
     "collapsed": false,
     "input": [
      "odor_link = linkage(ts._series, metric = 'correlation', method = 'average')\n",
      "\n",
      "fig = plt.figure()\n",
      "ax = fig.add_axes([0.1,0.3,0.85,0.65])\n",
      "odor_d = dendrogram(odor_link, distance_sort='descending')\n",
      "odor_order = np.array(odor_d['leaves'])\n",
      "\n",
      "ts = ia.SelectTrials()(ts, odor_order)\n",
      "ax.set_xticklabels([cas2name[i].decode('utf-8') for i in ts.label_stimuli], rotation='45', ha='right', size=10)\n",
      "\n",
      "plt.show()"
     ],
     "language": "python",
     "metadata": {},
     "outputs": [],
     "prompt_number": 15
    },
    {
     "cell_type": "heading",
     "level": 2,
     "metadata": {},
     "source": [
      "Hierachical cluster data"
     ]
    },
    {
     "cell_type": "markdown",
     "metadata": {},
     "source": [
      "Plots a hierachical clustering. Colors cluster as defined in the file specified in cluster_file. Please add new cluster manually to cluster_file. "
     ]
    },
    {
     "cell_type": "code",
     "collapsed": false,
     "input": [
      "load_cluster = True #if already cluster assignments exist, load them\n",
      "cluster_metric = 'correlation'\n",
      "linkage_scheme = 'average'\n",
      "\n",
      "title = '_'.join((cluster_metric, linkage_scheme, method))\n",
      "cluster = json.load(open(cluster_file))[title] if load_cluster else None   \n",
      "# create copy of timeseries with timecourse of unit length (does not influence correlation/cosine but euclidean distance)\n",
      "ts_normed = ts.copy()\n",
      "norm = np.sqrt(np.sum((ts._series**2),0))\n",
      "ts_normed._series /= norm\n",
      "\n",
      "# create hierachical clustering\n",
      "link = linkage(ts_normed._series.T, metric = cluster_metric, method = linkage_scheme)\n",
      "\n",
      "# create function to color previous defined cluster if exist. Else color everything grey.\n",
      "link_coloring = color_clusters(cluster) if cluster else (lambda node: '0.5')\n",
      "    \n",
      "# create labels with abbreviations for animals. \n",
      "pseudo = dict(zip(animals, 'abcdefghij'))\n",
      "pseudo_inv = {v: k for k, v in pseudo.items()}\n",
      "new_labels = [pseudo[i.split('_')[0]] + i.split('_mode')[-1] for i in ts.label_objects]\n",
      "# define color for each animal\n",
      "animal_colors = [plt.cm.spectral(1.*animals.index(i.split('_')[0])/len(animals)) for i in ts.label_objects]\n",
      "\n",
      "# plot hierachical clustering\n",
      "fig = plt.figure(figsize=(7,len(new_labels)/10.))\n",
      "ax = fig.add_axes([0.1,0.01,0.89,0.94])\n",
      "d = dendrogram(link, link_color_func=link_coloring,  orientation='left',  count_sort='descending', labels=new_labels)\n",
      "\n",
      "\n",
      "# label coloring\n",
      "for l_ind, l in enumerate(ax.yaxis.get_ticklabels()):\n",
      "    mode = d['leaves'][l_ind]\n",
      "    l.set_color(animal_colors[mode])\n",
      "  \n",
      "# annotate nodes with node id\n",
      "node_order = list(np.sort(np.array(d['dcoord'])[:,1]))\n",
      "for di, dd in zip(d['icoord'], d['dcoord']):\n",
      "    y = 0.5 * sum(di[1:3])\n",
      "    x = dd[1]\n",
      "    ix = node_order.index(dd[1])\n",
      "    ax.annotate(\"%d\" % ix, (x, y), xytext=(1,1), textcoords='offset points', va='bottom', ha='left', size=8)    \n",
      "   \n",
      "# decorate axis\n",
      "ax.set_xlabel('distance')\n",
      "ax.yaxis.set_tick_params(labelsize=8)\n",
      "ax.xaxis.set_tick_params(labelsize=8)\n",
      "ax.xaxis.set_ticks_position('top')\n",
      "ax.xaxis.set_label_position('top')\n",
      "ax.set_title(title, y=1.02)\n",
      "\n",
      "fig.savefig(os.path.join(clustering_savepath, '%s.pdf'%title))\n",
      "plt.show()"
     ],
     "language": "python",
     "metadata": {},
     "outputs": [],
     "prompt_number": 261
    },
    {
     "cell_type": "heading",
     "level": 2,
     "metadata": {},
     "source": [
      "Plot location and spectra of cluster"
     ]
    },
    {
     "cell_type": "heading",
     "level": 4,
     "metadata": {},
     "source": [
      "Functions to plot collection of spectra"
     ]
    },
    {
     "cell_type": "code",
     "collapsed": false,
     "input": [
      "def allspec_plot(ax, spectra, color):\n",
      "   ''' plots all spectra individual'''\n",
      "   ax.plot(spectra, color=color)\n",
      "   ax.yaxis.get_major_locator().set_params(nbins=3, prune='both')   \n",
      "\n",
      "def percentile_plot(ax, spectra, color):\n",
      "    '''plots median, quartiles and min/max of data'''\n",
      "    ax.plot(np.median(spectra,1), lw=2, color=color)\n",
      "    for low, high in [(0,100), (25,75)]:\n",
      "        ax.fill_between(range(spectra.shape[0]), np.percentile(spectra,low,axis=1), np.percentile(spectra,high,axis=1), \n",
      "                    facecolor=color, alpha=0.25)\n",
      "    ax.yaxis.get_major_locator().set_params(nbins=3, prune='both')  \n",
      "\n",
      "def percentile_plot2(ax, spectra, color):\n",
      "    '''plots median, quartiles and min of data'''\n",
      "    ax.plot(np.median(spectra,1), lw=2, color=color)\n",
      "    for low, high in [(0,75), (25,75)]:\n",
      "        ax.fill_between(range(spectra.shape[0]), np.percentile(spectra,low,axis=1), np.percentile(spectra,high,axis=1), \n",
      "                    facecolor=color, alpha=0.25)\n",
      "    ax.yaxis.get_major_locator().set_params(nbins=3, prune='both')  \n",
      "    \n",
      "def mean_plot(ax, spectra, color):\n",
      "    '''plots mean'''\n",
      "    ax.plot(np.mean(spectra,1), lw=2, color=color)\n",
      "    ax.yaxis.get_major_locator().set_params(nbins=3, prune='both')  \n",
      "    \n",
      "def mean_plot_heatmap(ax, spectra, color):\n",
      "    '''plots mean, quartiles and min of data'''\n",
      "    mycmap = matplotlib.colors.LinearSegmentedColormap.from_list('tmp', ['0',color])\n",
      "    ax.imshow(np.mean(spectra,1).reshape((1,-1)), vmin=0, cmap=mycmap, aspect='auto', interpolation='none')\n",
      "    ax.set_yticks([])\n"
     ],
     "language": "python",
     "metadata": {},
     "outputs": [],
     "prompt_number": 264
    },
    {
     "cell_type": "heading",
     "level": 4,
     "metadata": {},
     "source": [
      "Functions to create cluster visualization"
     ]
    },
    {
     "cell_type": "code",
     "collapsed": false,
     "input": [
      "def plot_location(ts, link, cluster, bg_dict, ax_dict, color_dict, face=True, base_thres=0.3):\n",
      "    ''' plot cluster location'''\n",
      "    \n",
      "    # plot bg\n",
      "    for axname,ax in ax_dict.items():\n",
      "        bg = bg_dict[axname]\n",
      "        ax.imshow(bg_dict[axname], interpolation='none', cmap=plt.cm.bone, extent=[0,84,64,0])\n",
      "        ax.set_axis_off()\n",
      "\n",
      "    # plot location and timecouses of clusters\n",
      "    for clust in cluster:    \n",
      "        color = color_dict[clust]\n",
      "        spec_collection = []\n",
      "        for node in return_all_childs(link,clust+link.shape[0]+1):\n",
      "            # get animal of cluster member\n",
      "            measID = ts.label_objects[node].split('_')[0]\n",
      "            # print pixel participation\n",
      "            mode = ts.base.shaped2D()[node]    \n",
      "            if face:\n",
      "                ax_dict[measID].contourf(mode, [base_thres,1], colors=[color], alpha=0.5)\n",
      "            else:\n",
      "                ax_dict[measID].contour(mode, [base_thres], colors=[color], alpha=0.5, linewidths=[2])\n",
      "            \n",
      "            \n",
      "def plot_spec(ts, link, cluster, ax_dict, color_dict, plot_spec = allspec_plot, norm=None):            \n",
      "    ''' plot cluster spectra '''\n",
      "    \n",
      "    for clust in cluster:      \n",
      "        # get data\n",
      "        color = color_dict[clust]\n",
      "        nodes = return_all_childs(link,clust+link.shape[0]+1)\n",
      "        spec_collection = [ts.matrix_shaped()[:,node] for node in nodes]\n",
      "            \n",
      "        # plot spectrum\n",
      "        plot_spec(axtime[clust], np.array(spec_collection).T, color) \n",
      "        axtime[clust].set_xlim([-0.5, num_stim-0.5])   \n",
      "        \n",
      "        if norm != None:\n",
      "            # note response strength\n",
      "            axtime[clust].text(0.9,0.8, 'norm: %.1f'%np.mean(norm[nodes]),  transform=axtime[clust].transAxes)\n",
      "            \n",
      "    # decorate axes\n",
      "    for ax in axtime.values():\n",
      "        ax.set_xticklabels([])\n",
      "        ax.set_xticks(np.arange(num_stim), minor=True)\n",
      "        ax.set_xticks(np.arange(0,num_stim, 5))\n",
      "        ax.grid()\n",
      "    axtime.values()[-1].set_xticklabels([cas2name[i].decode('utf-8') for i in ts.label_stimuli], rotation='30', size=8, ha='right', minor=True)"
     ],
     "language": "python",
     "metadata": {},
     "outputs": [],
     "prompt_number": 266
    },
    {
     "cell_type": "heading",
     "level": 3,
     "metadata": {},
     "source": [
      "Overview of all Glomeruli clusters"
     ]
    },
    {
     "cell_type": "code",
     "collapsed": false,
     "input": [
      "num_cluster = len(cluster)\n",
      "num_animals = len(animals)\n",
      "num_stim = len(ts.label_stimuli)\n",
      "clust_colors = {clust: plt.cm.gist_rainbow(1.*cluster.index(clust)/num_cluster) for clust in cluster}\n",
      "\n",
      "fig = plt.figure(figsize=(15,0.25*num_cluster+4))\n",
      "gs_meta = matplotlib.gridspec.GridSpec(3, 1, bottom=0.1, top = 0.99, left = 0.05, right=0.95, height_ratios=[2,2,0.25*num_cluster], hspace=0.01)\n",
      "\n",
      "# plot dendrogarm\n",
      "gs_top = matplotlib.gridspec.GridSpecFromSubplotSpec(1,1, gs_meta[0])\n",
      "ax = fig.add_subplot(gs_top[0])\n",
      "d = dendrogram(link, link_color_func = color_clusters(cluster, clust_colors), count_sort='descending')\n",
      "ax.set_xticks([])\n",
      "ax.set_yticks([0,0.3,1])\n",
      "\n",
      "# plot locations\n",
      "gs = matplotlib.gridspec.GridSpecFromSubplotSpec(1, num_animals, gs_meta[1])\n",
      "axbase = {animal: fig.add_subplot(gs[0,ix]) for ix, animal in enumerate(animals)}\n",
      "plot_location(ts_normed, link, cluster, bg_dict, axbase, clust_colors)\n",
      "\n",
      "# prepare axes for plotting spectra\n",
      "gs = matplotlib.gridspec.GridSpecFromSubplotSpec(num_cluster,1, gs_meta[2], hspace=0)\n",
      "axtime = OrderedDict([(clust,fig.add_subplot(gs[ix])) for ix, clust in enumerate(cluster)])\n",
      "plot_spec(ts_normed, link, cluster, axtime, clust_colors, mean_plot_heatmap)\n",
      "\n",
      "savepath = os.path.join(vis_path, title)\n",
      "if not(os.path.exists(savepath)):\n",
      "    os.mkdir(savepath)\n",
      "fig.savefig(os.path.join(savepath, 'allSpec.pdf'))\n",
      "plt.close('all')"
     ],
     "language": "python",
     "metadata": {},
     "outputs": [],
     "prompt_number": 267
    },
    {
     "cell_type": "heading",
     "level": 4,
     "metadata": {},
     "source": [
      "Store and Save cluster prototype spectra"
     ]
    },
    {
     "cell_type": "code",
     "collapsed": false,
     "input": [
      "condense = np.median #how to calc prototype\n",
      "\n",
      "# calc cluster spec\n",
      "spec =[]\n",
      "for clust in cluster:\n",
      "    nodes = return_all_childs(link,clust+link.shape[0]+1)\n",
      "    spec_collection = np.array([ts_normed.matrix_shaped()[:,node] for node in nodes])    \n",
      "    spec.append(condense(spec_collection))\n",
      "\n",
      "# cast into timeseries object\n",
      "ts_glom = ts_normed.copy()\n",
      "ts_glom.label_objects = ['clust_%d'%clust for clust in cluster]\n",
      "ts_glom.name = title\n",
      "ts_glom._series = np.array(spec)\n",
      "# and save\n",
      "savefolder = os.path.join(spec_savepath, 'spectra_'+title)\n",
      "if not os.path.exists(savefolder):\n",
      "    os.mkdir(savefolder)\n",
      "ts_glom.save(os.path.join(savefolder, 'ts'))"
     ],
     "language": "python",
     "metadata": {},
     "outputs": [],
     "prompt_number": 242
    },
    {
     "cell_type": "heading",
     "level": 3,
     "metadata": {},
     "source": [
      "Evaluate Cluster quality"
     ]
    },
    {
     "cell_type": "heading",
     "level": 4,
     "metadata": {},
     "source": [
      "Functins to compute intra vs inter cluster distances (robustness of linkage)"
     ]
    },
    {
     "cell_type": "code",
     "collapsed": false,
     "input": [
      "def inter_intra_dist(ts, link, cluster_id, metric='correlation'):\n",
      "    ''' distance between cluster modes and distances of cluster modes to remaining modes'''\n",
      "    \n",
      "    member_idx = return_all_childs(link,cluster_id+link.shape[0]+1)\n",
      "    member_mask = np.zeros(ts.num_objects).astype('bool')\n",
      "    member_mask[member_idx] = True\n",
      "    dist = pdist(ts._series.T, metric)\n",
      "    dist_inter = squareform(dist)[member_mask][:,np.logical_not(member_mask)]\n",
      "    dist_intra = squareform(squareform(dist)[member_mask][:,member_mask])\n",
      "    return dist_inter, dist_intra\n",
      "\n",
      "def inter_intra_prototypedist(ts, link, cluster_id, metric='correlation', prototyping=np.mean):\n",
      "    ''' distance of cluster protoype (average cluster spectrum) to all cluster modes and to remaining modes'''\n",
      "    \n",
      "    member_idx = return_all_childs(link,cluster_id+link.shape[0]+1)\n",
      "    member_mask = np.zeros(ts.num_objects).astype('bool')\n",
      "    member_mask[member_idx] = True\n",
      "    prototype = np.mean(ts_normed._series[:,member_idx],1)\n",
      "    dist = squareform(pdist(np.hstack([prototype[:,np.newaxis], ts._series]).T, metric))[0,1:]\n",
      "    dist_inter = dist[np.logical_not(member_mask)]\n",
      "    dist_intra = dist[member_mask]\n",
      "    return dist_inter, dist_intra"
     ],
     "language": "python",
     "metadata": {},
     "outputs": [],
     "prompt_number": 246
    },
    {
     "cell_type": "heading",
     "level": 4,
     "metadata": {},
     "source": [
      "Plot of inter vs intra cluster distances (robustness of linkage)"
     ]
    },
    {
     "cell_type": "code",
     "collapsed": false,
     "input": [
      "metric = 'correlation'\n",
      "dim1 = int(np.ceil(len(cluster)/5.))\n",
      "fig = plt.figure(figsize=(15,dim1))\n",
      "fig.suptitle('inter vs intra distance')\n",
      "\n",
      "for ix, cluster_id in enumerate(cluster):\n",
      "    ax = fig.add_subplot(dim1,5,ix+1)\n",
      "    \n",
      "    cor_inter, cor_intra = inter_intra_dist(ts_normed, link, cluster_id, metric=metric)\n",
      "    ax.hist([cor_inter, cor_intra], np.linspace(0,2,41), color=['b','r'], histtype='barstacked', lw=0, rwidth=1)\n",
      "    \n",
      "    ax.set_xticks([0, 1])\n",
      "    ax.set_yticks([])\n",
      "    ax.set_ylim([0,10])\n",
      "    ax.set_ylabel('cluster %d'%cluster_id, size=8, labelpad=0.1)\n",
      "    ax.grid()\n",
      "    for label in ax.get_xticklabels() + ax.get_yticklabels():\n",
      "        label.set_fontsize(6)\n",
      "    \n",
      "plt.show()"
     ],
     "language": "python",
     "metadata": {},
     "outputs": [],
     "prompt_number": 259
    },
    {
     "cell_type": "heading",
     "level": 4,
     "metadata": {},
     "source": [
      "Plot distance of cluster and non_cluster modes to cluster prototype (robustness of linkage light)"
     ]
    },
    {
     "cell_type": "code",
     "collapsed": false,
     "input": [
      "metric = 'correlation'\n",
      "dim1 = int(np.ceil(len(cluster)/5.))\n",
      "fig = plt.figure(figsize=(15,dim1))\n",
      "fig.suptitle('distance to cluster prototype')\n",
      "\n",
      "for ix, cluster_id in enumerate(cluster):\n",
      "    ax = fig.add_subplot(dim1,5,ix+1)\n",
      "    \n",
      "    cor_inter, cor_intra = inter_intra_prototypedist(ts_normed, link, cluster_id, metric=metric)\n",
      "    ax.hist([cor_inter, cor_intra], np.linspace(0,2,41), color=['b','r'], histtype='barstacked', lw=0, rwidth=1)\n",
      "    \n",
      "    ax.set_xticks([0, 1])\n",
      "    ax.set_yticks([])\n",
      "    ax.set_ylim([0,10])\n",
      "    ax.set_ylabel('cluster %d'%cluster_id, size=8, labelpad=0.1)\n",
      "    ax.grid()\n",
      "    for label in ax.get_xticklabels() + ax.get_yticklabels():\n",
      "        label.set_fontsize(6)\n",
      "    \n",
      "plt.show()"
     ],
     "language": "python",
     "metadata": {},
     "outputs": []
    },
    {
     "cell_type": "heading",
     "level": 4,
     "metadata": {},
     "source": [
      "Influence of single odors to clustering"
     ]
    },
    {
     "cell_type": "markdown",
     "metadata": {},
     "source": [
      "Evaluate the separation distance of inter vs intra cluster distance if a single odor is left out"
     ]
    },
    {
     "cell_type": "code",
     "collapsed": false,
     "input": [
      "clust = 200 #cluster to investigate\n",
      "metric = 'correlation'\n",
      "what = ts_normed\n",
      "num_stim = len(ts_normed.label_stimuli)\n",
      "\n",
      "cor_inter, cor_intra = inter_intra_dist(what, link, clust, metric=metric)\n",
      "distances_before = [np.min(cor_inter), np.max(cor_intra)]\n",
      "print 'distances: max_intra %.2f, min_inter: %.2f'%(distances_before[1], distances_before[0])\n",
      "\n",
      "clust_distances = []\n",
      "for exclude_ix, odor in enumerate(what.label_stimuli):\n",
      "    reduced_ts = ts_normed.copy()\n",
      "    mask = np.ones(num_stim).astype('bool')\n",
      "    mask[exclude_ix]=False\n",
      "    reduced_ts = ia.SelectTrials()(what, mask)\n",
      "    cor_inter, cor_intra = inter_intra_dist(reduced_ts, link, clust, metric=metric)\n",
      "    clust_distances.append([np.min(cor_inter), np.max(cor_intra)])\n",
      "\n",
      "fig = plt.figure(figsize=(10,5))\n",
      "ax = fig.add_axes([0.1,0.3,0.8,0.6])\n",
      "ax.plot(range(what.num_stimuli),-np.diff(clust_distances))\n",
      "ax.set_xticks(range(what.num_stimuli))\n",
      "ax.set_xticklabels([cas2name[i].decode('utf-8') for i in what.label_stimuli], rotation='45', ha='right', size=8)\n",
      "ax.yaxis.get_major_locator().set_params(nbins=3)\n",
      "ax.grid()\n",
      "ax.set_ylabel('seperation of inter vs intra cluster distances')\n",
      "ax.set_title('Effect of leave one odor out')\n",
      "\n",
      "ax.hlines(-np.diff(distances_before).squeeze(), -0.5, what.num_stimuli-0.5, linestyles='dashed')\n",
      "plt.show()"
     ],
     "language": "python",
     "metadata": {},
     "outputs": [
      {
       "output_type": "stream",
       "stream": "stdout",
       "text": [
        "distances: max_intra 0.23, min_inter: 0.40\n"
       ]
      }
     ],
     "prompt_number": 269
    },
    {
     "cell_type": "heading",
     "level": 3,
     "metadata": {},
     "source": [
      "Plot single cluster data: Dendrogram location, inter-intra distance distribution, spatial location and single spectra"
     ]
    },
    {
     "cell_type": "code",
     "collapsed": false,
     "input": [
      "clust = 200\n",
      "savename = 'mor18-2cluster'\n",
      "\n",
      "num_animals = len(animals)\n",
      "num_stim = len(ts.label_stimuli)\n",
      "clust_colors = {clust: (0,1,0)}\n",
      "\n",
      "fig = plt.figure(figsize=(15,6))\n",
      "gs_meta = matplotlib.gridspec.GridSpec(3, 1, bottom=0.2, top = 0.97, left = 0.05, right=0.95, height_ratios=[1,1,1], hspace=0.5)\n",
      "\n",
      "# plot dendrogarm\n",
      "gs_top = matplotlib.gridspec.GridSpecFromSubplotSpec(1, 2, gs_meta[0], width_ratios=[6,1], wspace=0.1)\n",
      "ax = fig.add_subplot(gs_top[0])\n",
      "d = dendrogram(link, link_color_func = color_clusters([clust], clust_colors), count_sort='descending')\n",
      "ax.set_xticks([])\n",
      "ax.set_yticks([0,0.4,1])\n",
      "\n",
      "#plot inter vs intra cluster cor\n",
      "cor_inter, cor_intra = inter_intra_dist(ts_normed, link, clust, metric=metric)\n",
      "ax = fig.add_subplot(gs_top[1])\n",
      "ax.hist([1-cor_inter, 1-cor_intra], np.linspace(-1,1,41), color=['r','g'], log=True, histtype='barstacked', lw=0, rwidth=1)\n",
      "\n",
      "# plot locations\n",
      "gs = matplotlib.gridspec.GridSpecFromSubplotSpec(1, num_animals, gs_meta[1])\n",
      "axbase = {animal: fig.add_subplot(gs[0,ix]) for ix, animal in enumerate(animals)}\n",
      "plot_location(ts_normed, link, [clust], bg_dict, axbase, clust_colors, face=False)\n",
      "\n",
      "# plot spectrum\n",
      "axtime = {clust:fig.add_subplot(gs_meta[2])}\n",
      "\n",
      "\n",
      "# plot activation range of all glom not in clust\n",
      "'''\n",
      "member_idx = return_all_childs(link,clust+link.shape[0]+1)\n",
      "nonmember = np.ones(ts.num_objects).astype('bool')\n",
      "nonmember[member_idx] = False\n",
      "max_acti = np.max(ts_normed._series[:,nonmember],1)\n",
      "min_acti = np.min(ts_normed._series[:,nonmember],1)\n",
      "axtime[clust].fill_between(range(len(max_acti)), min_acti, max_acti, facecolor='0.5', alpha=0.25) \n",
      "'''\n",
      "\n",
      "# plot spectra of selected cust\n",
      "plot_spec(ts_normed, link, [clust], axtime, clust_colors)\n",
      "\n",
      "\n",
      "fig.savefig(os.path.join(savepath, '%s.pdf'%savename))\n",
      "plt.show()"
     ],
     "language": "python",
     "metadata": {},
     "outputs": [],
     "prompt_number": 104
    },
    {
     "cell_type": "heading",
     "level": 3,
     "metadata": {},
     "source": [
      "Examples of fingerprinted glomeruli"
     ]
    },
    {
     "cell_type": "code",
     "collapsed": false,
     "input": [
      "cluster = [200, 172, 256, 254, 278]\n",
      "metric = 'correlation'\n",
      "savename = 'fingerprint'\n",
      "\n",
      "def decorate_hist(ax):\n",
      "    new_ylim = list(ax.get_ylim())\n",
      "    new_ylim[0]=0.3\n",
      "    ax.set_ylim(new_ylim)\n",
      "    ax.set_yticks([1,10,100])\n",
      "    ax.set_xticks([-1, 0,1])\n",
      "    ax.xaxis.set_tick_params(labelsize=8, pad=0.1, gridOn=True)\n",
      "    ax.yaxis.set_tick_params(labelsize=8, pad=0.1)\n",
      "\n",
      "num_cluster = len(cluster[1:])\n",
      "num_animals = len(animals)\n",
      "num_stim = len(ts.label_stimuli)\n",
      "clust_colors = {clust: plt.cm.gist_rainbow(1.*cluster.index(clust)/num_cluster) for clust in cluster}\n",
      "\n",
      "fig = plt.figure(figsize=(15,1*(num_cluster+2)))\n",
      "gs_meta = matplotlib.gridspec.GridSpec(3, 1, bottom=0.2, top = 0.97, left = 0.05, right=0.95, height_ratios=[1,1.5,num_cluster], hspace=0.3)\n",
      "\n",
      "# plot dendrogarm\n",
      "ax = fig.add_subplot(gs_meta[0])\n",
      "d = dendrogram(link, link_color_func = color_clusters(cluster, clust_colors), count_sort='descending')\n",
      "ax.set_xticks([])\n",
      "ax.set_yticks([0,0.4,1])\n",
      "\n",
      "# plot locations\n",
      "gs = matplotlib.gridspec.GridSpecFromSubplotSpec(1, num_animals, gs_meta[1])\n",
      "axbase = {animal: fig.add_subplot(gs[0,ix]) for ix, animal in enumerate(animals)}\n",
      "plot_location(ts_normed, link, cluster[1:], bg_dict, axbase, clust_colors)\n",
      "plot_location(ts_normed, link, [cluster[0]], bg_dict, axbase, clust_colors)\n",
      "\n",
      "# prepare axes for plotting spectra and cluster distances\n",
      "gs = matplotlib.gridspec.GridSpecFromSubplotSpec(num_cluster, 3, gs_meta[2], hspace=0.2, width_ratios=[6,1,1])\n",
      "# plot spectra\n",
      "axtime = OrderedDict([(clust,fig.add_subplot(gs[ix,0])) for ix, clust in enumerate(cluster[1:])])\n",
      "plot_spec(ts_normed, link, cluster[1:], axtime, clust_colors, percentile_plot)\n",
      "\n",
      "# plot cluster seperation histogramms\n",
      "for ix, clust in enumerate(cluster[1:]):\n",
      "    cor_inter, cor_intra = inter_intra_dist(ts_normed, link, clust, metric=metric)\n",
      "    ax = fig.add_subplot(gs[ix,1])\n",
      "    ax.hist([1-cor_inter, 1-cor_intra], np.linspace(-1,1,41), color=['r','g'], log=True, histtype='barstacked', lw=0, rwidth=1)\n",
      "    decorate_hist(ax)\n",
      "    \n",
      "    cor_inter, cor_intra = inter_intra_prototypedist(ts_normed, link, clust, metric=metric)\n",
      "    ax = fig.add_subplot(gs[ix,2])\n",
      "    ax.hist([1-cor_inter, 1-cor_intra], np.linspace(-1,1,41), color=['r','g'], log=True, histtype='barstacked', lw=0, rwidth=1)\n",
      "    decorate_hist(ax)\n",
      "\n",
      "fig.savefig(os.path.join(savepath, '%s.pdf'%savename))\n",
      "plt.show()"
     ],
     "language": "python",
     "metadata": {},
     "outputs": [],
     "prompt_number": 307
    },
    {
     "cell_type": "heading",
     "level": 2,
     "metadata": {},
     "source": [
      "Tunotopic embedding"
     ]
    },
    {
     "cell_type": "heading",
     "level": 4,
     "metadata": {},
     "source": [
      "Spatial plot of all modes with functiona distance to prototype"
     ]
    },
    {
     "cell_type": "code",
     "collapsed": false,
     "input": [
      "cluster_id = 200\n",
      "metric = 'correlation'\n",
      "what = ts_normed\n",
      "\n",
      "protoype_idx = return_all_childs(link,cluster_id+link.shape[0]+1)\n",
      "prototype = np.mean(what._series[:,protoype_idx],1)\n",
      "cor = squareform(pdist(np.hstack([prototype[:,np.newaxis], what._series]).T, metric))[0,1:]\n",
      "\n",
      "fig = plt.figure()\n",
      "gs = matplotlib.gridspec.GridSpec(3,int(np.ceil(num_animals/3.)))\n",
      "axbase = [fig.add_subplot(gs[i]) for i in range(num_animals)]\n",
      "\n",
      "\n",
      "for measID, ax in zip(animals, axbase):\n",
      "    bg = bg_dict[measID]\n",
      "    ax.imshow(bg, interpolation='none', cmap=plt.cm.bone, extent=[0,84,64,0], vmin=-1, vmax=1)\n",
      "    ax.set_axis_off() \n",
      "\n",
      "for obj_id in range(what.num_objects):\n",
      "    measID = what.label_objects[obj_id].split('_')[0]\n",
      "    pos = animals.index(measID)\n",
      "    base = what.base.shaped2D()[obj_id]\n",
      "    basecolor = plt.cm.RdYlGn(cor[obj_id]) if cor[obj_id]<1 else '0.7'\n",
      "    axbase[pos].contourf(base, [0.3,1], colors=[basecolor]) \n",
      "    \n",
      "fig.suptitle('spectral correlation')    \n",
      "plt.show()"
     ],
     "language": "python",
     "metadata": {},
     "outputs": [],
     "prompt_number": 84
    },
    {
     "cell_type": "heading",
     "level": 4,
     "metadata": {},
     "source": [
      "Distribution of functional distances for spatial neigbours vs. non-neigbours"
     ]
    },
    {
     "cell_type": "markdown",
     "metadata": {},
     "source": [
      "Neigbours are calculated as overlapping modes after extending the custermodes with dilation "
     ]
    },
    {
     "cell_type": "code",
     "collapsed": false,
     "input": [
      "thres = 0.2\n",
      "dilation = 2\n",
      "metric='correlation'\n",
      "show = True\n",
      "\n",
      "# get cluster member\n",
      "member_idx = return_all_childs(link,cluster_id+link.shape[0]+1)\n",
      "member_mask = np.zeros(ts.num_objects).astype('bool')\n",
      "member_mask[member_idx] = True\n",
      "\n",
      "\n",
      "# calculate which modes overlap with cluster modes\n",
      "neighbour_modes = np.zeros(ts_normed.num_objects).astype('bool')\n",
      "for animal in animals:\n",
      "    animal_mask = np.array([animal in mode for mode in ts.label_objects])\n",
      "    neighbour_pixel = np.logical_or(ts_normed.base.shaped2D()[animal_mask*member_mask]>thres,0).squeeze()\n",
      "    if dilation:\n",
      "        neighbour_pixel = scipy.ndimage.morphology.binary_dilation(neighbour_pixel, iterations=dilation)\n",
      "    neighbour_modes[animal_mask] = np.max(ts_normed.base._series[animal_mask][:,neighbour_pixel.flatten()],1)>thres\n",
      "neighbour_modes[member_mask]=False    \n",
      "\n",
      "# calculate mode distances\n",
      "prototype = np.mean(ts_normed._series[:,member_idx],1)\n",
      "dist = squareform(pdist(np.hstack([prototype[:,np.newaxis], ts_normed._series]).T, metric))[0,1:]\n",
      "dist_neighbours = dist[neighbour_modes]\n",
      "dist_nonneighbours = dist[~(neighbour_modes+member_mask)]\n",
      "\n",
      "if show:\n",
      "    # plot distance distribution\n",
      "    ax = plt.subplot(111)\n",
      "    ax.hist(dist_nonneighbours, np.linspace(0.05,1.95,20), color=['0.5'], normed=True, lw=0, rwidth=1, label='non neighbours')\n",
      "    ax.hist(dist_neighbours, np.linspace(0.05,1.95,20), color='k', normed=True, histtype='step', lw=2, rwidth=1, label= 'neigbours')\n",
      "    ax.set_xlabel('distance')\n",
      "    ax.set_ylabel('rel. frequency')\n",
      "    ax.grid()\n",
      "    \n",
      "    # plot neighbour modes\n",
      "    fig = plt.figure()\n",
      "    gs = matplotlib.gridspec.GridSpec(3,int(np.ceil(num_animals/3.)))\n",
      "    axbase = [fig.add_subplot(gs[i]) for i in range(num_animals)]\n",
      "    \n",
      "    \n",
      "    for measID, ax in zip(animals, axbase):\n",
      "        bg = bg_dict[measID]\n",
      "        ax.imshow(bg, interpolation='none', cmap=plt.cm.bone, extent=[0,84,64,0], vmin=-1, vmax=1)\n",
      "        ax.set_axis_off() \n",
      "    \n",
      "    for obj_id in range(what.num_objects):\n",
      "        measID = what.label_objects[obj_id].split('_')[0]\n",
      "        pos = animals.index(measID)\n",
      "        base = what.base.shaped2D()[obj_id]\n",
      "        basecolor ='g' if neighbour_modes[obj_id] else ('b' if member_mask[obj_id] else 'r')\n",
      "        axbase[pos].contourf(base, [thres,1], colors=[basecolor], alpha=0.5) # if cor[obj_id]<1 else (1.,0.1,0.1)], alpha=0.9)\n",
      "    plt.show()\n",
      "    \n",
      "    \n",
      "# calculate significane of distribution difference\n",
      "_, p_mwu = scipy.stats.mannwhitneyu(dist_neighbours, dist_nonneighbours)\n",
      "_, p_ks = scipy.stats.ks_2samp(dist_neighbours, dist_nonneighbours)\n",
      "_, p_tt = scipy.stats.ttest_ind(dist_neighbours, dist_nonneighbours)\n",
      "print ' distance neighbours: %.2f, nonneighbours: %.2f, p_values -> MWU: %.2f, KS: %.2f, T: %.2f'%(np.mean(dist_neighbours),np.mean(dist_nonneighbours), p_mwu, p_ks, p_tt)"
     ],
     "language": "python",
     "metadata": {},
     "outputs": [
      {
       "output_type": "stream",
       "stream": "stdout",
       "text": [
        " distance neighbours: 0.92, nonneighbours: 0.99, p_values -> MWU: 0.02, KS: 0.13, T: 0.02\n"
       ]
      }
     ],
     "prompt_number": 95
    },
    {
     "cell_type": "heading",
     "level": 3,
     "metadata": {},
     "source": [
      "Plot MOR Tunotopic neighbourhood (1st hierachy)"
     ]
    },
    {
     "cell_type": "code",
     "collapsed": false,
     "input": [
      "cluster = [200,292,257,228,264]\n",
      "savename = 'mor18-2tunotopic-neighbour'\n",
      "\n",
      "num_cluster = len(cluster)\n",
      "num_animals = len(animals)\n",
      "num_stim = len(ts.label_stimuli)\n",
      "clust_colors = {clust: plt.cm.gist_rainbow(1.*cluster.index(clust)/num_cluster) for clust in cluster}\n",
      "\n",
      "fig = plt.figure(figsize=(13,1*(num_cluster+2)))\n",
      "gs_meta = matplotlib.gridspec.GridSpec(3, 1, bottom=0.2, top = 0.95, left = 0.07, right=0.95, height_ratios=[1,1,num_cluster], hspace=0.05)\n",
      "\n",
      "gs_top = matplotlib.gridspec.GridSpecFromSubplotSpec(2,1, gs_meta[0], hspace=0.01, height_ratios=[4,1])\n",
      "# plot dendrogarm\n",
      "ax = fig.add_subplot(gs_top[0])\n",
      "d = dendrogram(link, link_color_func = color_clusters(cluster, clust_colors), count_sort='descending')\n",
      "ax.set_xticks([])\n",
      "ax.set_yticks([0,0.4,1])\n",
      "# plot MOR18-2 correlation\n",
      "ax = fig.add_subplot(gs_top[1])\n",
      "ax.imshow((1-cor[d['leaves']]).reshape((1,-1)), cmap= plt.cm.RdYlGn, interpolation='none', aspect='auto', vmin=-1, vmax=1)\n",
      "ax.set_xticks([])\n",
      "ax.set_yticks([])\n",
      "ax.set_ylabel('cor2mol2.3', rotation='0', size=8)\n",
      "\n",
      "\n",
      "# plot locations\n",
      "gs = matplotlib.gridspec.GridSpecFromSubplotSpec(1, num_animals, gs_meta[1])\n",
      "axbase = {animal: fig.add_subplot(gs[0,ix]) for ix, animal in enumerate(animals)}\n",
      "plot_location(ts_normed, link, cluster, bg_dict, axbase, clust_colors, base_thres=0.1)\n",
      "\n",
      "# prepare axes for plotting spectra\n",
      "gs = matplotlib.gridspec.GridSpecFromSubplotSpec(num_cluster,1, gs_meta[2], hspace=0)\n",
      "axtime = OrderedDict([(clust,fig.add_subplot(gs[ix])) for ix, clust in enumerate(cluster)])\n",
      "plot_spec(ts_normed, link, cluster, axtime, clust_colors, percentile_plot)\n",
      "\n",
      "fig.savefig(os.path.join(savepath, '%s.pdf'%savename))\n",
      "\n",
      "plt.show()"
     ],
     "language": "python",
     "metadata": {},
     "outputs": [],
     "prompt_number": 121
    },
    {
     "cell_type": "heading",
     "level": 3,
     "metadata": {},
     "source": [
      "Plot MOR Tunotopic neighbourhood (2nd hierachy)"
     ]
    },
    {
     "cell_type": "code",
     "collapsed": false,
     "input": [
      "cluster1 = [387, 391, 389, 394, 383] #2nd level neigbourhood\n",
      "cluster2 = [399, 400] #3rd level neighbourhood\n",
      "savename = 'mor18-2tunotopic-hierachy'\n",
      "\n",
      "# define axes_layout\n",
      "h_dend = 2 #heigth of dendrogramms\n",
      "h_base = 2 #heigth of spatial plots\n",
      "h_time = 0.25 #hieght of timeplots\n",
      "\n",
      "\n",
      "clust_colors = {clust: plt.cm.gist_rainbow(1.*cluster1.index(clust)/len(cluster1)) for clust in cluster1}\n",
      "clust_colors.update({399:(0.6,0.2,0.9), 400:(0.41,0.74,0.41)})\n",
      "num_animals = len(animals)\n",
      "num_stim = len(ts.label_stimuli)\n",
      "\n",
      "fig = plt.figure(figsize=(15,2*h_dend+2*h_base+len(cluster1+cluster2)*h_time))\n",
      "gs_meta = matplotlib.gridspec.GridSpec(2, 1, bottom=0.2, top = 0.95, left = 0.05, right=0.95, \n",
      "          hspace=0.5, height_ratios=[h_dend+h_base+h_time*len(cluster1), h_dend+h_base+h_time*len(cluster2)])\n",
      "\n",
      "# plot first level cluster \n",
      "gs_inner = matplotlib.gridspec.GridSpecFromSubplotSpec(3,1,gs_meta[0], height_ratios=[h_dend,h_base,h_time*len(cluster1)])\n",
      "# plot dendrogram of first cluster\n",
      "ax = fig.add_subplot(gs_inner[0])\n",
      "d = dendrogram(link, link_color_func = color_clusters(cluster1, clust_colors), count_sort='descending')\n",
      "ax.set_xticks([])\n",
      "ax.set_yticks([0,0.4,1])\n",
      "\n",
      "# plot locations\n",
      "gs = matplotlib.gridspec.GridSpecFromSubplotSpec(1, num_animals, gs_inner[1])\n",
      "axbase = {animal: fig.add_subplot(gs[0,ix]) for ix, animal in enumerate(animals)}\n",
      "plot_location(ts_normed, link, cluster1, bg_dict, axbase, clust_colors, base_thres=0.1)\n",
      "\n",
      "# prepare axes for plotting spectra\n",
      "gs = matplotlib.gridspec.GridSpecFromSubplotSpec(len(cluster1),1, gs_inner[2], hspace=0)\n",
      "axtime = OrderedDict([(clust,fig.add_subplot(gs[ix])) for ix, clust in enumerate(cluster1)])\n",
      "plot_spec(ts_normed, link, cluster1, axtime, clust_colors, mean_plot_heatmap)\n",
      "\n",
      "# plot second level cluster \n",
      "gs_inner = matplotlib.gridspec.GridSpecFromSubplotSpec(3,1,gs_meta[1],height_ratios=[h_dend,h_base,h_time*len(cluster2)])\n",
      "# plot dendrogram of first cluster\n",
      "ax = fig.add_subplot(gs_inner[0])\n",
      "d = dendrogram(link, link_color_func = color_clusters(cluster2, clust_colors), count_sort='descending')\n",
      "ax.set_xticks([])\n",
      "ax.set_yticks([0,0.4,1])\n",
      "\n",
      "# plot locations\n",
      "gs = matplotlib.gridspec.GridSpecFromSubplotSpec(1, num_animals, gs_inner[1])\n",
      "axbase = {animal: fig.add_subplot(gs[0,ix]) for ix, animal in enumerate(animals)}\n",
      "plot_location(ts_normed, link, cluster2, bg_dict, axbase, clust_colors, base_thres=0.1)\n",
      "\n",
      "# prepare axes for plotting spectra\n",
      "gs = matplotlib.gridspec.GridSpecFromSubplotSpec(len(cluster2),1, gs_inner[2], hspace=0)\n",
      "axtime = OrderedDict([(clust,fig.add_subplot(gs[ix])) for ix, clust in enumerate(cluster2)])\n",
      "plot_spec(ts_normed, link, cluster2, axtime, clust_colors, mean_plot_heatmap)\n",
      "\n",
      "fig.savefig(os.path.join(savepath, '%s.pdf'%savename))\n",
      "plt.show()"
     ],
     "language": "python",
     "metadata": {},
     "outputs": [],
     "prompt_number": 272
    },
    {
     "cell_type": "heading",
     "level": 3,
     "metadata": {},
     "source": [
      "Visualization of other cluster combination of intrest"
     ]
    },
    {
     "cell_type": "code",
     "collapsed": false,
     "input": [
      "cluster = [200, 254, 289,204,279,258,220,183,281,257] #all tunotopic close clusters to MOR18-2\n",
      "#cluster = [200,250,211,172,300,264,257,292,261,131,146,62] #all spatial close clusters to MOR18-2\n",
      "\n",
      "num_cluster = len(cluster)\n",
      "num_animals = len(animals)\n",
      "num_stim = len(ts.label_stimuli)\n",
      "clust_colors = {clust: plt.cm.gist_rainbow(1.*cluster.index(clust)/num_cluster) for clust in cluster}\n",
      "\n",
      "fig = plt.figure(figsize=(15,1*(num_cluster+2)))\n",
      "gs_meta = matplotlib.gridspec.GridSpec(3, 1, bottom=0.1, top = 0.99, left = 0.05, right=0.95, height_ratios=[1,1,num_cluster], hspace=0.05)\n",
      "\n",
      "gs_top = matplotlib.gridspec.GridSpecFromSubplotSpec(2,1, gs_meta[0], hspace=0.01, height_ratios=[4,1])\n",
      "# plot dendrogarm\n",
      "ax = fig.add_subplot(gs_top[0])\n",
      "d = dendrogram(link, link_color_func = color_clusters(cluster, clust_colors), count_sort='descending')\n",
      "ax.set_xticks([])\n",
      "ax.set_yticks([0,0.4,1])\n",
      "# plot MOR18-2 correlation\n",
      "ax = fig.add_subplot(gs_top[1])\n",
      "ax.imshow((1-cor[d['leaves']]).reshape((1,-1)), cmap= plt.cm.RdYlGn, interpolation='none', aspect='auto', vmin=-1, vmax=1)\n",
      "ax.set_yticks([])\n",
      "\n",
      "# plot locations\n",
      "gs = matplotlib.gridspec.GridSpecFromSubplotSpec(1, num_animals, gs_meta[1])\n",
      "axbase = {animal: fig.add_subplot(gs[0,ix]) for ix, animal in enumerate(animals)}\n",
      "plot_location(ts_normed, link, cluster, bg_dict, axbase, clust_colors)\n",
      "\n",
      "# prepare axes for plotting spectra\n",
      "gs = matplotlib.gridspec.GridSpecFromSubplotSpec(num_cluster,1, gs_meta[2], hspace=0)\n",
      "axtime = OrderedDict([(clust,fig.add_subplot(gs[ix])) for ix, clust in enumerate(cluster)])\n",
      "plot_spec(ts_normed, link, cluster, axtime, clust_colors, percentile_plot, norm=np.sqrt(np.sum(ts_normed._series**2, 0)))\n",
      "\n",
      "plt.show()"
     ],
     "language": "python",
     "metadata": {},
     "outputs": [],
     "prompt_number": 273
    },
    {
     "cell_type": "heading",
     "level": 3,
     "metadata": {},
     "source": [
      "Old stuff for chemotopy"
     ]
    },
    {
     "cell_type": "code",
     "collapsed": false,
     "input": [
      "desc = np.load('/home/jan/Documents/DoOr/DataRevision/all.npy')[:,1:].astype('float')\n",
      "all_mols = np.load('/home/jan/Documents/DoOr/DataRevision/all.npy')[:,0].astype('int')"
     ],
     "language": "python",
     "metadata": {},
     "outputs": [],
     "prompt_number": 123
    },
    {
     "cell_type": "code",
     "collapsed": false,
     "input": [
      "use_mask = np.array([i in list(all_mols) for i in ts.label_stimuli])\n",
      "ind = [list(all_mols).index(i) for i in ts.label_stimuli if i in list(all_mols)]"
     ],
     "language": "python",
     "metadata": {},
     "outputs": [],
     "prompt_number": 183
    },
    {
     "cell_type": "code",
     "collapsed": false,
     "input": [
      "from sklearn import preprocessing\n",
      "\n",
      "features = desc.copy()\n",
      "scaler = preprocessing.StandardScaler()\n",
      "features = scaler.fit_transform(features)\n",
      "\n",
      "\n",
      "rbf_dist = pdist(features[ind], lambda u,v: 1-np.exp(-((u-v)**2).sum()/features.shape[1]))"
     ],
     "language": "python",
     "metadata": {},
     "outputs": [],
     "prompt_number": 387
    },
    {
     "cell_type": "code",
     "collapsed": false,
     "input": [
      "from sklearn.manifold import MDS\n",
      "from sklearn.decomposition import PCA"
     ],
     "language": "python",
     "metadata": {},
     "outputs": [],
     "prompt_number": 388
    },
    {
     "cell_type": "code",
     "collapsed": false,
     "input": [
      "embedding = MDS(dissimilarity='precomputed', n_components=2, random_state=1)"
     ],
     "language": "python",
     "metadata": {},
     "outputs": [],
     "prompt_number": 401
    },
    {
     "cell_type": "code",
     "collapsed": false,
     "input": [
      "out = embedding.fit_transform(squareform(rbf_dist))"
     ],
     "language": "python",
     "metadata": {},
     "outputs": [],
     "prompt_number": 402
    },
    {
     "cell_type": "code",
     "collapsed": false,
     "input": [
      "fig = plt.figure()\n",
      "for i,w in  enumerate(prototype):\n",
      "    ax = fig.add_subplot(3,2, i+1)\n",
      "    \n",
      "    ax.scatter(out[:,0], out[:,1], s=50, linewidths=1,\n",
      "                facecolor= ['b' if i>0.3 else 'none' for i in w[use_mask]/np.max(w) ],\n",
      "                edgecolor= 'k', alpha=0.9)\n",
      "    ax.scatter(out[:,0], out[:,1], s=50, linewidths=1,\n",
      "                facecolor= [str(i) if i>0.3 else 'none' for i in w[use_mask]/np.max(w) ],\n",
      "                edgecolor= 'k', alpha=0.5)\n",
      "    '''\n",
      "    ax.scatter(out[:,0], out[:,1], s=100, marker='o', \n",
      "                facecolor= 'none',\n",
      "                edgecolor='k')\n",
      "    '''\n",
      "plt.show()"
     ],
     "language": "python",
     "metadata": {},
     "outputs": [],
     "prompt_number": 429
    },
    {
     "cell_type": "code",
     "collapsed": false,
     "input": [
      "from mpl_toolkits.mplot3d import Axes3D\n",
      "fig = plt.figure()\n",
      "ax = fig.add_subplot(111, projection='3d')\n",
      "\n",
      "ax.scatter(out[:,0], out[:,1],out[:,2], s=100, linewidths=3,\n",
      "            facecolor=[plt.cm.Greens(i) for i in prototype[use_mask]/np.max(prototype)],\n",
      "            edgecolor=[plt.cm.Reds(i) for i in prototype2[use_mask]/np.max(prototype2)])\n",
      "ax.scatter(out[:,0], out[:,1],out[:,2], s=30, marker='x', \n",
      "            facecolor= 'k',\n",
      "            edgecolor='k')\n",
      "plt.show()"
     ],
     "language": "python",
     "metadata": {},
     "outputs": [],
     "prompt_number": 323
    },
    {
     "cell_type": "code",
     "collapsed": false,
     "input": [
      "id1 = np.argsort(prototype[use_mask])[::-1]\n",
      "id2 = np.argsort(prototype2[use_mask])[::-1]"
     ],
     "language": "python",
     "metadata": {},
     "outputs": [],
     "prompt_number": 234
    },
    {
     "cell_type": "code",
     "collapsed": false,
     "input": [
      "plt.imshow(squareform(rbf_dist)[id1][:, id2], interpolation='none', vmax=0.5)\n",
      "plt.show()"
     ],
     "language": "python",
     "metadata": {},
     "outputs": [],
     "prompt_number": 243
    },
    {
     "cell_type": "code",
     "collapsed": false,
     "input": [
      "plt.cm.Blues(i)"
     ],
     "language": "python",
     "metadata": {},
     "outputs": [
      {
       "output_type": "pyout",
       "prompt_number": 427,
       "text": [
        "(0.95632449318380919, 0.97643983223858999, 0.9960630529067096, 1.0)"
       ]
      }
     ],
     "prompt_number": 427
    },
    {
     "cell_type": "code",
     "collapsed": false,
     "input": [
      "plt.rgrids"
     ],
     "language": "python",
     "metadata": {},
     "outputs": [],
     "prompt_number": 252
    },
    {
     "cell_type": "heading",
     "level": 3,
     "metadata": {},
     "source": [
      "Toydata for statistical dependencies"
     ]
    },
    {
     "cell_type": "code",
     "collapsed": false,
     "input": [
      "sys.path.append('/home/jan/workspace/Surrogate/')\n",
      "import datamaker"
     ],
     "language": "python",
     "metadata": {},
     "outputs": [],
     "prompt_number": 173
    },
    {
     "cell_type": "code",
     "collapsed": false,
     "input": [
      "grid = np.mgrid[0:24:4,0:24:4]\n",
      "grid_flat = grid.reshape(2,-1)\n",
      "dist = pdist(grid_flat.T, 'euclidean')\n",
      "cor_dist = dist/np.max(dist)+0.3 + 0.1*np.random.randn(*dist.shape)\n",
      "\n",
      "m1 = datamaker.expon(scale=0.05)\n",
      "samples = datamaker.correlated_samples(squareform(cor_dist), 40, m1)"
     ],
     "language": "python",
     "metadata": {},
     "outputs": [],
     "prompt_number": 216
    },
    {
     "cell_type": "code",
     "collapsed": false,
     "input": [
      "plt.subplot(211)\n",
      "plt.plot(dist, cor_dist, 'x')\n",
      "plt.subplot(212)\n",
      "plt.plot(dist, pdist(samples.T, 'correlation'), 'x')\n",
      "linreg = scipy.stats.linregress(dist, pdist(samples.T, 'correlation'))\n",
      "print linreg[-2]\n",
      "plt.show()"
     ],
     "language": "python",
     "metadata": {},
     "outputs": [
      {
       "output_type": "stream",
       "stream": "stdout",
       "text": [
        "3.18018946282e-27\n"
       ]
      }
     ],
     "prompt_number": 217
    }
   ],
   "metadata": {}
  }
 ]
}