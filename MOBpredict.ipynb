{
 "metadata": {
  "name": "MOBpredict"
 },
 "nbformat": 3,
 "nbformat_minor": 0,
 "worksheets": [
  {
   "cells": [
    {
     "cell_type": "code",
     "collapsed": false,
     "input": [
      "import numpy as np\n",
      "import pylab as plt\n",
      "import glob, csv, json, os\n",
      "import copy\n",
      "from sklearn import preprocessing\n",
      "from collections import defaultdict\n",
      "from sklearn.svm import SVR, NuSVR\n",
      "from sklearn.metrics import r2_score\n",
      "from sklearn.gaussian_process import GaussianProcess\n",
      "from sklearn import linear_model\n",
      "from sklearn.ensemble import RandomForestRegressor, ExtraTreesRegressor, GradientBoostingRegressor\n",
      "from sklearn.neighbors import KNeighborsRegressor\n",
      "from sklearn.feature_selection import f_classif, SelectKBest, f_regression\n",
      "from sklearn.cross_validation import LeaveOneOut\n",
      "import sklearn.manifold as skm\n",
      "import pickle\n",
      "import sklearn.decomposition as skd"
     ],
     "language": "python",
     "metadata": {},
     "outputs": [],
     "prompt_number": 2
    },
    {
     "cell_type": "code",
     "collapsed": false,
     "input": [
      "class BootstrapRegressor():\n",
      "    \n",
      "    def __init__(self, regressor, reg_param, iterations=50, thres=0.5):\n",
      "        self.regressors = [regressor(**reg_param) for i in range(iterations+1)]\n",
      "        self.thres = thres\n",
      "        \n",
      "    def fit(self, features, targets):\n",
      "        self.regressors[0].fit(features, targets)\n",
      "        self._pred_dict = defaultdict(list)\n",
      "        for reg_ind, regressor in enumerate(self.regressors[1:]):            \n",
      "            train_idx = strat_bootstrap(targets, self.thres)\n",
      "            test_idx = list(set(range(len(targets))).difference(train_idx))\n",
      "            regressor.fit(features[train_idx], targets[train_idx])\n",
      "            prediction = regressor.predict(features[test_idx])\n",
      "            for tar, pred in zip(test_idx, prediction):\n",
      "                self._pred_dict[tar].append(pred)\n",
      "        self._train_targets = dict(zip(range(len(targets)), targets))\n",
      "    \n",
      "    def predict(self, features, condense=np.mean):\n",
      "        predictions = []\n",
      "        for reg_ind in range(1,len(self.regressors)):\n",
      "            predictions.append(self.regressors[reg_ind].predict(features))\n",
      "        return condense(np.vstack(predictions),0)\n",
      "    \n",
      "    def full_predict(self, features):\n",
      "        return self.regressors[0].predict(features)\n",
      "        \n",
      "    \n",
      "    def _single_predictions(self):\n",
      "        tar_list, pred_list = [], []\n",
      "        for tar_id, preds in self._pred_dict.items():\n",
      "            tar_list += [self._train_targets[tar_id]]*len(preds)\n",
      "            pred_list += preds\n",
      "        return pred_list, tar_list\n",
      "\n",
      "    def oob_prediction_(self):\n",
      "        return np.array([np.mean(self._pred_dict[i]) for i in self._train_targets])\n",
      "    \n",
      "    def oob_score_(self):\n",
      "        mask = np.isnan(self.oob_prediction_())\n",
      "        targets = np.array(self._train_targets.values())\n",
      "        prediction = self.oob_prediction_()\n",
      "        if np.sum(mask)>0:\n",
      "            print 'Warning, not all values bootstrap predicted'\n",
      "            targets = targets[~mask]\n",
      "            prediction = prediction[~mask]\n",
      "        return r2_score(targets, prediction)\n",
      "    \n",
      "    def oob_score_single(self):\n",
      "        pred, tar = self._single_predictions()\n",
      "        return r2_score(tar, pred)\n",
      "    \n",
      "def strat_bootstrap(targets, thres=0.5):\n",
      "    division = targets>=thres\n",
      "    ind1 = np.where(division)[0]\n",
      "    ind2 = np.where(~division)[0]\n",
      "    if len(ind1>1):\n",
      "        bootstr = np.hstack([ind1[np.random.random_integers(0,len(ind1)-1,len(ind1))], \n",
      "                             ind2[np.random.random_integers(0,len(ind2)-1,len(ind2))]])\n",
      "    else:\n",
      "        # no stratification\n",
      "        num = len(targets)\n",
      "        bootstr = np.random.random_integers(0,num-1,num)\n",
      "    return bootstr\n",
      "\n",
      "class FilteredRegressor():\n",
      "    \n",
      "    def __init__(self, filtering, regressor, filt_param={}, reg_param={}):\n",
      "        self.filtering = filtering(**filt_param)\n",
      "        self.regressor = regressor(**reg_param)\n",
      "       \n",
      "    def fit(self, features, targets):\n",
      "        fprep = self.filtering.fit_transform(features, targets)\n",
      "        self.regressor.fit(fprep, targets)\n",
      "    \n",
      "    def predict(self, features):\n",
      "        fprep = self.filtering.transform(features)\n",
      "        return self.regressor.predict(fprep)\n",
      "\n",
      "class ForestFilter():\n",
      "    \n",
      "    def __init__(self, **param):\n",
      "        self.forest = RandomForestRegressor(**param)\n",
      "        \n",
      "    def __call__(self, features, targets):\n",
      "        self.forest.fit(features, targets)     \n",
      "        return self.forest.feature_importances_, None"
     ],
     "language": "python",
     "metadata": {},
     "outputs": [],
     "prompt_number": 3
    },
    {
     "cell_type": "code",
     "collapsed": false,
     "input": [
      "class FeatureBank():\n",
      "    \n",
      "    def __init__(self, feat_name, obj_name, data):\n",
      "        self.feat_name = list(feat_name)\n",
      "        self.obj_name = list(obj_name)\n",
      "        self.data = data\n",
      "\n",
      "    def zscore(self):\n",
      "        self.scaler = preprocessing.StandardScaler()\n",
      "        self.data = self.scaler.fit_transform(self.data)\n",
      "    \n",
      "\n",
      "def combine_features(feature_bank_list):\n",
      "    \n",
      "    common_obj = list(reduce(lambda x,y: set(x).intersection(y), [f.obj_name for f in feature_bank_list]))\n",
      "    combined_feature, combined_feat_name = [],[]\n",
      "    for f_bank in feature_bank_list:\n",
      "        sel_obj = [f_bank.obj_name.index(i) for i in common_obj]\n",
      "        combined_feature.append(f_bank.data[sel_obj])\n",
      "        combined_feat_name += copy.copy(f_bank.feat_name)\n",
      "    new_f_bank = FeatureBank(combined_feat_name, common_obj, np.hstack(combined_feature))\n",
      "    return new_f_bank\n",
      "    \n",
      "    \n",
      "class TrainData():\n",
      "\n",
      "    def __init__(self, target_dict, feature_bank):   \n",
      "        \n",
      "        obj_wt_feature = list(feature_bank.obj_name)\n",
      "        targets_wt_feature = list(set(target_dict.keys()).intersection(obj_wt_feature))\n",
      "        print 'No feature available for: ', set(target_dict.keys()).difference(targets_wt_feature)\n",
      "        \n",
      "        self.targets = np.array([target_dict[i] for i in targets_wt_feature])\n",
      "        which_feature = [obj_wt_feature.index(i) for i in targets_wt_feature]\n",
      "        self.features = feature_bank.data[which_feature].copy()\n",
      "        self.obj_name = targets_wt_feature\n",
      "        self.feat_name = copy.copy(feature_bank.feat_name)\n",
      "    \n",
      "    def feature_selection(self, mask):\n",
      "        self.features = self.features[:,mask]\n",
      "        if self.feat_name:\n",
      "            self.feat_name = [self.feat_name[i] for i in np.where(mask)[0]]\n",
      "        \n",
      "    \n",
      "    def y_randomization(self):\n",
      "        permutation = np.random.permutation(range(len(self.targets)))\n",
      "        self.targets = self.targets[permutation]\n",
      "        self.obj_name = [self.obj_name[i] for i in permutation]"
     ],
     "language": "python",
     "metadata": {},
     "outputs": [],
     "prompt_number": 4
    },
    {
     "cell_type": "code",
     "collapsed": false,
     "input": [
      "def _gaussian(x, mu, sigma):\n",
      "    \"\"\"docstring for gaussian\"\"\"\n",
      "    return 1 / (sigma * np.sqrt(2 * np.pi)) * np.exp(-0.5 * ((x-mu)/float(sigma))**2)\n",
      "\n",
      "def _sum_of_gaussians(x_range, positions, heights, sigma):\n",
      "    \"\"\"docstring for sum_of_gaussians\"\"\"\n",
      "    assert len(positions) == len(heights)\n",
      "    return [np.sum(heights * _gaussian(x, positions, sigma)) for x in x_range]\n",
      "\n",
      "def calc_eva(spectra, spec_type='pure', kernel_width=10, bin_width=10, BFS_max=4000):\n",
      "    \"\"\" sum of gaussians, sampled at regular intervals \"\"\"\n",
      "    x_range = np.arange(0, BFS_max, bin_width)\n",
      "    features, molnames = [], []\n",
      "    for molid, spectrum in spectra.items():\n",
      "        # remove negative vibrations (result of imaginary frequencies)\n",
      "        valid_freqs = spectrum['freq'][spectrum['freq'] > 0]\n",
      "        intensities = spectrum[spec_type] if (spec_type != 'pure') else np.ones(len(spectrum['freq']))\n",
      "        features.append(_sum_of_gaussians(x_range, spectrum['freq'], intensities, kernel_width))\n",
      "        molnames.append(int(molid))\n",
      "        \n",
      "    feat_name = ['%sband%d_%d'%(spec_type,kernel_width,x) for x in x_range]\n",
      "    \n",
      "    features = FeatureBank(feat_name, molnames, np.array(features))\n",
      "    return features"
     ],
     "language": "python",
     "metadata": {},
     "outputs": [],
     "prompt_number": 5
    },
    {
     "cell_type": "code",
     "collapsed": false,
     "input": [
      "def load_feature(filename, filter_func=None, verbose=False):\n",
      "    ''' read in feature from csv file, return FeatureBank instance'''\n",
      "    descname = csv.reader(open(filename), delimiter=',').next()[2:]\n",
      "    desc = np.genfromtxt(filename,  usecols=range(2,len(descname)+2), delimiter=',', skip_header=1)\n",
      "    molid = np.genfromtxt(filename,  usecols=range(0,1), delimiter=',', skip_header=1, dtype=int)\n",
      "    if filter_func:\n",
      "        mask = np.sum(filter_func(desc),1) == 0\n",
      "        desc = desc[mask]\n",
      "        if verbose: print 'removed mols ', [molid[i] for i in np.where(mask==False)[0]]\n",
      "        molid = molid[mask]        \n",
      "    return FeatureBank(descname, molid, desc)"
     ],
     "language": "python",
     "metadata": {},
     "outputs": [],
     "prompt_number": 9
    },
    {
     "cell_type": "code",
     "collapsed": false,
     "input": [
      "filter_func = lambda x: np.logical_or(np.isnan(x), x==-999)\n",
      "\n",
      "all_featgroups = {}\n",
      "filenames = glob.glob('/home/jan/repos/ChemBase/eDragon/*.csv')\n",
      "for filename in filenames:\n",
      "    name = os.path.basename(filename).split('.')[0]    \n",
      "    if name == 'INFORMATION_INDICES':\n",
      "        continue\n",
      "    feat = load_feature(filename, filter_func)\n",
      "    feat.zscore()\n",
      "    all_featgroups[name] = feat"
     ],
     "language": "python",
     "metadata": {},
     "outputs": [],
     "prompt_number": 10
    },
    {
     "cell_type": "code",
     "collapsed": false,
     "input": [],
     "language": "python",
     "metadata": {},
     "outputs": [],
     "prompt_number": 399
    },
    {
     "cell_type": "code",
     "collapsed": false,
     "input": [],
     "language": "python",
     "metadata": {},
     "outputs": [],
     "prompt_number": 387
    },
    {
     "cell_type": "code",
     "collapsed": false,
     "input": [
      "temp = []\n",
      "for i in [1052,73,162,116,160,78,254,267,312]:\n",
      "    temp.append(eva.data[eva.obj_name.index(i)])\n",
      "temp = np.array(temp)"
     ],
     "language": "python",
     "metadata": {},
     "outputs": [
      {
       "ename": "NameError",
       "evalue": "name 'eva' is not defined",
       "output_type": "pyerr",
       "traceback": [
        "\u001b[1;31m---------------------------------------------------------------------------\u001b[0m\n\u001b[1;31mNameError\u001b[0m                                 Traceback (most recent call last)",
        "\u001b[1;32m<ipython-input-8-abc25c178d4f>\u001b[0m in \u001b[0;36m<module>\u001b[1;34m()\u001b[0m\n\u001b[0;32m      1\u001b[0m \u001b[0mtemp\u001b[0m \u001b[1;33m=\u001b[0m \u001b[1;33m[\u001b[0m\u001b[1;33m]\u001b[0m\u001b[1;33m\u001b[0m\u001b[0m\n\u001b[0;32m      2\u001b[0m \u001b[1;32mfor\u001b[0m \u001b[0mi\u001b[0m \u001b[1;32min\u001b[0m \u001b[1;33m[\u001b[0m\u001b[1;36m1052\u001b[0m\u001b[1;33m,\u001b[0m\u001b[1;36m73\u001b[0m\u001b[1;33m,\u001b[0m\u001b[1;36m162\u001b[0m\u001b[1;33m,\u001b[0m\u001b[1;36m116\u001b[0m\u001b[1;33m,\u001b[0m\u001b[1;36m160\u001b[0m\u001b[1;33m,\u001b[0m\u001b[1;36m78\u001b[0m\u001b[1;33m,\u001b[0m\u001b[1;36m254\u001b[0m\u001b[1;33m,\u001b[0m\u001b[1;36m267\u001b[0m\u001b[1;33m,\u001b[0m\u001b[1;36m312\u001b[0m\u001b[1;33m]\u001b[0m\u001b[1;33m:\u001b[0m\u001b[1;33m\u001b[0m\u001b[0m\n\u001b[1;32m----> 3\u001b[1;33m     \u001b[0mtemp\u001b[0m\u001b[1;33m.\u001b[0m\u001b[0mappend\u001b[0m\u001b[1;33m(\u001b[0m\u001b[0meva\u001b[0m\u001b[1;33m.\u001b[0m\u001b[0mdata\u001b[0m\u001b[1;33m[\u001b[0m\u001b[0meva\u001b[0m\u001b[1;33m.\u001b[0m\u001b[0mobj_name\u001b[0m\u001b[1;33m.\u001b[0m\u001b[0mindex\u001b[0m\u001b[1;33m(\u001b[0m\u001b[0mi\u001b[0m\u001b[1;33m)\u001b[0m\u001b[1;33m]\u001b[0m\u001b[1;33m)\u001b[0m\u001b[1;33m\u001b[0m\u001b[0m\n\u001b[0m\u001b[0;32m      4\u001b[0m \u001b[0mtemp\u001b[0m \u001b[1;33m=\u001b[0m \u001b[0mnp\u001b[0m\u001b[1;33m.\u001b[0m\u001b[0marray\u001b[0m\u001b[1;33m(\u001b[0m\u001b[0mtemp\u001b[0m\u001b[1;33m)\u001b[0m\u001b[1;33m\u001b[0m\u001b[0m\n",
        "\u001b[1;31mNameError\u001b[0m: name 'eva' is not defined"
       ]
      }
     ],
     "prompt_number": 8
    },
    {
     "cell_type": "code",
     "collapsed": false,
     "input": [
      "plt.plot(np.min(temp, 0))\n",
      "plt.plot(np.max(temp, 0))\n",
      "#plt.plot(np.mean(eva.data, 0))\n",
      "plt.show()"
     ],
     "language": "python",
     "metadata": {},
     "outputs": [
      {
       "ename": "NameError",
       "evalue": "name 'plt' is not defined",
       "output_type": "pyerr",
       "traceback": [
        "\u001b[1;31m---------------------------------------------------------------------------\u001b[0m\n\u001b[1;31mNameError\u001b[0m                                 Traceback (most recent call last)",
        "\u001b[1;32m<ipython-input-1-bb883900c8d4>\u001b[0m in \u001b[0;36m<module>\u001b[1;34m()\u001b[0m\n\u001b[1;32m----> 1\u001b[1;33m \u001b[0mplt\u001b[0m\u001b[1;33m.\u001b[0m\u001b[0mplot\u001b[0m\u001b[1;33m(\u001b[0m\u001b[0mnp\u001b[0m\u001b[1;33m.\u001b[0m\u001b[0mmin\u001b[0m\u001b[1;33m(\u001b[0m\u001b[0mtemp\u001b[0m\u001b[1;33m,\u001b[0m \u001b[1;36m0\u001b[0m\u001b[1;33m)\u001b[0m\u001b[1;33m)\u001b[0m\u001b[1;33m\u001b[0m\u001b[0m\n\u001b[0m\u001b[0;32m      2\u001b[0m \u001b[0mplt\u001b[0m\u001b[1;33m.\u001b[0m\u001b[0mplot\u001b[0m\u001b[1;33m(\u001b[0m\u001b[0mnp\u001b[0m\u001b[1;33m.\u001b[0m\u001b[0mmax\u001b[0m\u001b[1;33m(\u001b[0m\u001b[0mtemp\u001b[0m\u001b[1;33m,\u001b[0m \u001b[1;36m0\u001b[0m\u001b[1;33m)\u001b[0m\u001b[1;33m)\u001b[0m\u001b[1;33m\u001b[0m\u001b[0m\n\u001b[0;32m      3\u001b[0m \u001b[1;31m#plt.plot(np.mean(eva.data, 0))\u001b[0m\u001b[1;33m\u001b[0m\u001b[1;33m\u001b[0m\u001b[0m\n\u001b[0;32m      4\u001b[0m \u001b[0mplt\u001b[0m\u001b[1;33m.\u001b[0m\u001b[0mshow\u001b[0m\u001b[1;33m(\u001b[0m\u001b[1;33m)\u001b[0m\u001b[1;33m\u001b[0m\u001b[0m\n",
        "\u001b[1;31mNameError\u001b[0m: name 'plt' is not defined"
       ]
      }
     ],
     "prompt_number": 1
    },
    {
     "cell_type": "code",
     "collapsed": false,
     "input": [
      "edragon_all = combine_features(all_featgroups.values())\n",
      "edragon_all.zscore()"
     ],
     "language": "python",
     "metadata": {},
     "outputs": [],
     "prompt_number": 11
    },
    {
     "cell_type": "code",
     "collapsed": false,
     "input": [
      "def condense_list_dict(dic, reducefct=np.mean):\n",
      "    ''' apply reducefct to every value of dictionary'''\n",
      "    reduced_dict = {}\n",
      "    for k, v in dic.items():\n",
      "        reduced_dict[k] = reducefct(v)\n",
      "    return reduced_dict"
     ],
     "language": "python",
     "metadata": {},
     "outputs": [],
     "prompt_number": 35
    },
    {
     "cell_type": "code",
     "collapsed": false,
     "input": [
      "spec = json.load(open('/home/jan/Documents/NewAnalysis/DataDicts/MOR18-2spec.json'))"
     ],
     "language": "python",
     "metadata": {},
     "outputs": [],
     "prompt_number": 36
    },
    {
     "cell_type": "code",
     "collapsed": false,
     "input": [
      "mor182_spec = condense_list_dict(spec['nnmf_200_*_sm2convexNN_gauss_t5'], np.median)\n",
      "mor182_spec = {int(k):v for k,v in mor182_spec.items()}"
     ],
     "language": "python",
     "metadata": {},
     "outputs": [],
     "prompt_number": 239
    },
    {
     "cell_type": "code",
     "collapsed": false,
     "input": [
      "[mor182_spec.keys()[i] for i in np.argsort(mor182_spec.values())[-1:-10:-1]]"
     ],
     "language": "python",
     "metadata": {},
     "outputs": [
      {
       "output_type": "pyout",
       "prompt_number": 351,
       "text": [
        "[1052, 73, 162, 116, 160, 78, 254, 267, 312]"
       ]
      }
     ],
     "prompt_number": 351
    },
    {
     "cell_type": "code",
     "collapsed": false,
     "input": [
      "filename = '/home/jan/IJCProjects/OdorDB/Features2013/IJC_shape.csv'\n",
      "IJC_feat = load_feature(filename, filter_func)\n",
      "IJC_feat.zscore()"
     ],
     "language": "python",
     "metadata": {},
     "outputs": [
      {
       "output_type": "stream",
       "stream": "stdout",
       "text": [
        "(1068,)\n",
        "removed mols  [375, 395, 460, 474, 475, 854, 860, 877, 903, 1106]\n"
       ]
      }
     ],
     "prompt_number": 556
    },
    {
     "cell_type": "code",
     "collapsed": false,
     "input": [
      "IJC_feat.feat_name"
     ],
     "language": "python",
     "metadata": {},
     "outputs": [
      {
       "output_type": "pyout",
       "prompt_number": 549,
       "text": [
        "['VP ACD mmHG25',\n",
        " 'CAtoms',\n",
        " 'chainlength',\n",
        " 'minArea',\n",
        " 'maxArea',\n",
        " 'minRad',\n",
        " 'maxRad']"
       ]
      }
     ],
     "prompt_number": 549
    },
    {
     "cell_type": "code",
     "collapsed": false,
     "input": [
      "spec = pickle.load(open('/home/jan/repos/ChemBase/Vib/freq.pckl'))\n",
      "for k in [50,100,150,200,250]:    \n",
      "    eva = calc_eva(spec, bin_width=2*k, kernel_width=k)\n",
      "    eva.zscore()\n",
      "    mytrain = TrainData(mor182_spec, eva) #edragon_all)\n",
      "    rfr = RFR(n_estimators=50, compute_importances=True, oob_score=True)\n",
      "    rfr.fit(mytrain.features, mytrain.targets)\n",
      "    print '%d: %.2f'%(k, rfr.oob_score_)"
     ],
     "language": "python",
     "metadata": {},
     "outputs": [
      {
       "output_type": "stream",
       "stream": "stdout",
       "text": [
        "No feature available for:  set([164, 1000, 140, 239, 1012, 1016, 92])\n",
        "50: 0.11"
       ]
      },
      {
       "output_type": "stream",
       "stream": "stdout",
       "text": [
        "\n",
        "No feature available for: "
       ]
      },
      {
       "output_type": "stream",
       "stream": "stdout",
       "text": [
        " set([164, 1000, 140, 239, 1012, 1016, 92])\n",
        "100: 0.12"
       ]
      },
      {
       "output_type": "stream",
       "stream": "stdout",
       "text": [
        "\n",
        "No feature available for: "
       ]
      },
      {
       "output_type": "stream",
       "stream": "stdout",
       "text": [
        " set([164, 1000, 140, 239, 1012, 1016, 92])\n",
        "150: 0.15"
       ]
      },
      {
       "output_type": "stream",
       "stream": "stdout",
       "text": [
        "\n",
        "No feature available for: "
       ]
      },
      {
       "output_type": "stream",
       "stream": "stdout",
       "text": [
        " set([164, 1000, 140, 239, 1012, 1016, 92])\n",
        "200: 0.06"
       ]
      },
      {
       "output_type": "stream",
       "stream": "stdout",
       "text": [
        "\n",
        "No feature available for: "
       ]
      },
      {
       "output_type": "stream",
       "stream": "stdout",
       "text": [
        " set([164, 1000, 140, 239, 1012, 1016, 92])\n",
        "250: 0.05"
       ]
      },
      {
       "output_type": "stream",
       "stream": "stdout",
       "text": [
        "\n"
       ]
      }
     ],
     "prompt_number": 521
    },
    {
     "cell_type": "code",
     "collapsed": false,
     "input": [
      "eva1000 = calc_eva(spec, bin_width=500, kernel_width=500)\n",
      "plt.plot(eva1000.data[eva1000.obj_name.index(162)])\n",
      "plt.show()"
     ],
     "language": "python",
     "metadata": {},
     "outputs": [],
     "prompt_number": 586
    },
    {
     "cell_type": "code",
     "collapsed": false,
     "input": [
      "eva50 = calc_eva(spec, bin_width=25, kernel_width=50)\n",
      "eva100 = calc_eva(spec, bin_width=50, kernel_width=100)\n",
      "eva200 = calc_eva(spec, bin_width=100, kernel_width=200)\n",
      "eva500 = calc_eva(spec, bin_width=250, kernel_width=500)\n",
      "eva_combi = combine_features([eva50, eva100, eva200, eva500])\n",
      "eva_combi.zscore()\n",
      "\n",
      "ir50 = calc_eva(spec, 'ir', bin_width=25, kernel_width=50)\n",
      "ir100 = calc_eva(spec, 'ir', bin_width=50, kernel_width=100)\n",
      "ir200 = calc_eva(spec, 'ir',bin_width=100, kernel_width=200)\n",
      "ir500 = calc_eva(spec, 'ir', bin_width=250, kernel_width=500)\n",
      "ir_combi = combine_features([ir50, ir100, ir200, ir500])\n",
      "ir_combi.zscore()\n",
      "\n",
      "raman50 = calc_eva(spec, 'raman', bin_width=25, kernel_width=50)\n",
      "raman100 = calc_eva(spec, 'raman', bin_width=50, kernel_width=100)\n",
      "raman200 = calc_eva(spec, 'raman', bin_width=100, kernel_width=200)\n",
      "raman500 = calc_eva(spec, 'raman', bin_width=250, kernel_width=500)\n",
      "raman_combi = combine_features([raman50, raman100, raman200, raman500])\n",
      "raman_combi.zscore()"
     ],
     "language": "python",
     "metadata": {},
     "outputs": [],
     "prompt_number": 634
    },
    {
     "cell_type": "code",
     "collapsed": false,
     "input": [
      "combi_feat = combine_features([eva_combi, IJC_feat, edragon_all])\n",
      "evaIJC = combine_features([eva_combi, IJC_feat])\n",
      "spectral = combine_features([eva_combi, ir_combi, raman_combi, IJC_feat])\n",
      "combi2 = combine_features([eva_combi, ir_combi, raman_combi, IJC_feat, edragon_all])"
     ],
     "language": "python",
     "metadata": {},
     "outputs": [],
     "prompt_number": 637
    },
    {
     "cell_type": "code",
     "collapsed": false,
     "input": [
      "mytrain = TrainData(mor182_spec, combi_feat)\n",
      "mytrain2 = TrainData(mor182_spec, edragon_all)\n",
      "mytrain3 = TrainData(mor182_spec, evaIJC)\n",
      "mytrain4= TrainData(mor182_spec, spectral)\n",
      "mytrain5 = TrainData(mor182_spec, combi2)"
     ],
     "language": "python",
     "metadata": {},
     "outputs": [
      {
       "output_type": "stream",
       "stream": "stdout",
       "text": [
        "No feature available for:  set([140, 1016, 92, 164, 1000, 239, 1012, 312])\n",
        "No feature available for:  set([1000, 312])\n",
        "No feature available for:  set([164, 1000, 140, 239, 1012, 1016, 92])\n",
        "No feature available for:  set([164, 1000, 140, 239, 1012, 1016, 92])\n",
        "No feature available for:  set([140, 1016, 92, 164, 1000, 239, 1012, 312])\n"
       ]
      }
     ],
     "prompt_number": 638
    },
    {
     "cell_type": "code",
     "collapsed": false,
     "input": [
      "estimator = BootstrapRegressor(NuSVR, {'C':10}, 50, 2)\n",
      "estimator.fit(mytrain.features, mytrain.targets)\n",
      "oob = estimator.oob_score_()\n",
      "print oob, estimator.oob_score_single()"
     ],
     "language": "python",
     "metadata": {},
     "outputs": [
      {
       "output_type": "stream",
       "stream": "stdout",
       "text": [
        "0.395708563912 0.194172696291\n"
       ]
      }
     ],
     "prompt_number": 650
    },
    {
     "cell_type": "code",
     "collapsed": false,
     "input": [
      "outall2 = {}\n",
      "for k in range(1,100,2):\n",
      "    forest_importance = ForestFilter(n_estimators=10, compute_importances=True) \n",
      "    freg_param = {'filtering': SelectKBest, 'filt_param':{'score_func':forest_importance, 'k':k}, \n",
      "                              'regressor': NuSVR, 'reg_param':{'C':10}}\n",
      "    estimator = BootstrapRegressor(FilteredRegressor, freg_param, 50, 0.5)\n",
      "    estimator.fit(mytrain5.features, mytrain5.targets)\n",
      "    outall2[k] = estimator\n",
      "    oob = estimator.oob_score_()\n",
      "    print k, oob"
     ],
     "language": "python",
     "metadata": {},
     "outputs": [
      {
       "output_type": "stream",
       "stream": "stdout",
       "text": [
        "1 0.0668275614718\n",
        "3"
       ]
      },
      {
       "output_type": "stream",
       "stream": "stdout",
       "text": [
        " 0.12087365619\n",
        "5"
       ]
      },
      {
       "output_type": "stream",
       "stream": "stdout",
       "text": [
        " 0.196829327335\n",
        "7"
       ]
      },
      {
       "output_type": "stream",
       "stream": "stdout",
       "text": [
        " 0.264537658829\n",
        "9"
       ]
      },
      {
       "output_type": "stream",
       "stream": "stdout",
       "text": [
        " 0.24688880995\n",
        "11"
       ]
      },
      {
       "output_type": "stream",
       "stream": "stdout",
       "text": [
        " 0.273112804259\n",
        "13"
       ]
      },
      {
       "output_type": "stream",
       "stream": "stdout",
       "text": [
        " 0.32407817341\n",
        "15"
       ]
      },
      {
       "output_type": "stream",
       "stream": "stdout",
       "text": [
        " 0.35379175779\n",
        "17"
       ]
      },
      {
       "output_type": "stream",
       "stream": "stdout",
       "text": [
        " 0.398634938562\n",
        "19"
       ]
      },
      {
       "output_type": "stream",
       "stream": "stdout",
       "text": [
        " 0.434719951837\n",
        "21"
       ]
      },
      {
       "output_type": "stream",
       "stream": "stdout",
       "text": [
        " 0.448465192834\n",
        "23"
       ]
      },
      {
       "output_type": "stream",
       "stream": "stdout",
       "text": [
        " 0.408870022403\n",
        "25"
       ]
      },
      {
       "output_type": "stream",
       "stream": "stdout",
       "text": [
        " 0.384534446728\n",
        "27"
       ]
      },
      {
       "output_type": "stream",
       "stream": "stdout",
       "text": [
        " 0.417926543072\n",
        "29"
       ]
      },
      {
       "output_type": "stream",
       "stream": "stdout",
       "text": [
        " 0.432876625215\n",
        "31"
       ]
      },
      {
       "output_type": "stream",
       "stream": "stdout",
       "text": [
        " 0.445510344128\n",
        "33"
       ]
      },
      {
       "output_type": "stream",
       "stream": "stdout",
       "text": [
        " 0.433677042554\n",
        "35"
       ]
      },
      {
       "output_type": "stream",
       "stream": "stdout",
       "text": [
        " 0.455735636886\n",
        "37"
       ]
      },
      {
       "output_type": "stream",
       "stream": "stdout",
       "text": [
        " 0.446117721648\n",
        "39"
       ]
      },
      {
       "output_type": "stream",
       "stream": "stdout",
       "text": [
        " 0.449495650664\n",
        "41"
       ]
      },
      {
       "output_type": "stream",
       "stream": "stdout",
       "text": [
        " 0.466355234373\n",
        "43"
       ]
      },
      {
       "output_type": "stream",
       "stream": "stdout",
       "text": [
        " 0.457160824541\n",
        "45"
       ]
      },
      {
       "output_type": "stream",
       "stream": "stdout",
       "text": [
        " 0.452191542622\n",
        "47"
       ]
      },
      {
       "output_type": "stream",
       "stream": "stdout",
       "text": [
        " 0.43348275449\n",
        "49"
       ]
      },
      {
       "output_type": "stream",
       "stream": "stdout",
       "text": [
        " 0.452569169016\n",
        "51"
       ]
      },
      {
       "output_type": "stream",
       "stream": "stdout",
       "text": [
        " 0.426590820202\n",
        "53"
       ]
      },
      {
       "output_type": "stream",
       "stream": "stdout",
       "text": [
        " 0.431656611252\n",
        "55"
       ]
      },
      {
       "output_type": "stream",
       "stream": "stdout",
       "text": [
        " 0.485748465309\n",
        "57"
       ]
      },
      {
       "output_type": "stream",
       "stream": "stdout",
       "text": [
        " 0.449370127819\n",
        "59"
       ]
      },
      {
       "output_type": "stream",
       "stream": "stdout",
       "text": [
        " 0.4893792432\n",
        "61"
       ]
      },
      {
       "output_type": "stream",
       "stream": "stdout",
       "text": [
        " 0.440873133568\n",
        "63"
       ]
      },
      {
       "output_type": "stream",
       "stream": "stdout",
       "text": [
        " 0.46522384375\n",
        "65"
       ]
      },
      {
       "output_type": "stream",
       "stream": "stdout",
       "text": [
        " 0.436891830297\n",
        "67"
       ]
      },
      {
       "output_type": "stream",
       "stream": "stdout",
       "text": [
        " 0.437154781579\n",
        "69"
       ]
      },
      {
       "output_type": "stream",
       "stream": "stdout",
       "text": [
        " 0.472461493479\n",
        "71"
       ]
      },
      {
       "output_type": "stream",
       "stream": "stdout",
       "text": [
        " 0.473268159763\n",
        "73"
       ]
      },
      {
       "output_type": "stream",
       "stream": "stdout",
       "text": [
        " 0.418034053495\n",
        "75"
       ]
      },
      {
       "output_type": "stream",
       "stream": "stdout",
       "text": [
        " 0.461844911586\n",
        "77"
       ]
      },
      {
       "output_type": "stream",
       "stream": "stdout",
       "text": [
        " 0.422753159826\n",
        "79"
       ]
      },
      {
       "output_type": "stream",
       "stream": "stdout",
       "text": [
        " 0.446910279408\n",
        "81"
       ]
      },
      {
       "output_type": "stream",
       "stream": "stdout",
       "text": [
        " 0.444316456224\n",
        "83"
       ]
      },
      {
       "output_type": "stream",
       "stream": "stdout",
       "text": [
        " 0.438826702314\n",
        "85"
       ]
      },
      {
       "output_type": "stream",
       "stream": "stdout",
       "text": [
        " 0.450375401262\n",
        "87"
       ]
      },
      {
       "output_type": "stream",
       "stream": "stdout",
       "text": [
        " 0.44124892896\n",
        "89"
       ]
      },
      {
       "output_type": "stream",
       "stream": "stdout",
       "text": [
        " 0.449739461158\n",
        "91"
       ]
      },
      {
       "output_type": "stream",
       "stream": "stdout",
       "text": [
        " 0.451536829749\n",
        "93"
       ]
      },
      {
       "output_type": "stream",
       "stream": "stdout",
       "text": [
        " 0.451847389809\n",
        "95"
       ]
      },
      {
       "output_type": "stream",
       "stream": "stdout",
       "text": [
        " 0.440032863708\n",
        "97"
       ]
      },
      {
       "output_type": "stream",
       "stream": "stdout",
       "text": [
        " 0.451220393191\n",
        "99"
       ]
      },
      {
       "output_type": "stream",
       "stream": "stdout",
       "text": [
        " 0.454884823119\n"
       ]
      }
     ],
     "prompt_number": 641
    },
    {
     "cell_type": "code",
     "collapsed": false,
     "input": [
      "outall = {}\n",
      "for k in range(1,100,2):\n",
      "    forest_importance = ForestFilter(n_estimators=10, compute_importances=True) \n",
      "    freg_param = {'filtering': SelectKBest, 'filt_param':{'score_func':forest_importance, 'k':k}, \n",
      "                              'regressor': NuSVR, 'reg_param':{'C':10}}\n",
      "    estimator = BootstrapRegressor(FilteredRegressor, freg_param, 50, 0.5)\n",
      "    estimator.fit(mytrain.features, mytrain.targets)\n",
      "    outall[k] = estimator\n",
      "    oob = estimator.oob_score_()\n",
      "    print k, oob"
     ],
     "language": "python",
     "metadata": {},
     "outputs": [
      {
       "output_type": "stream",
       "stream": "stdout",
       "text": [
        "1 0.0646946150785\n",
        "3"
       ]
      },
      {
       "output_type": "stream",
       "stream": "stdout",
       "text": [
        " 0.117071623994\n",
        "5"
       ]
      },
      {
       "output_type": "stream",
       "stream": "stdout",
       "text": [
        " 0.180886226196\n",
        "7"
       ]
      },
      {
       "output_type": "stream",
       "stream": "stdout",
       "text": [
        " 0.2455149272\n",
        "9"
       ]
      },
      {
       "output_type": "stream",
       "stream": "stdout",
       "text": [
        " 0.283214789147\n",
        "11"
       ]
      },
      {
       "output_type": "stream",
       "stream": "stdout",
       "text": [
        " 0.331454839177\n",
        "13"
       ]
      },
      {
       "output_type": "stream",
       "stream": "stdout",
       "text": [
        " 0.322636984862\n",
        "15"
       ]
      },
      {
       "output_type": "stream",
       "stream": "stdout",
       "text": [
        " 0.400762232573\n",
        "17"
       ]
      },
      {
       "output_type": "stream",
       "stream": "stdout",
       "text": [
        " 0.412894931862\n",
        "19"
       ]
      },
      {
       "output_type": "stream",
       "stream": "stdout",
       "text": [
        " 0.420867007419\n",
        "21"
       ]
      },
      {
       "output_type": "stream",
       "stream": "stdout",
       "text": [
        " 0.410213137085\n",
        "23"
       ]
      },
      {
       "output_type": "stream",
       "stream": "stdout",
       "text": [
        " 0.462996270547\n",
        "25"
       ]
      },
      {
       "output_type": "stream",
       "stream": "stdout",
       "text": [
        " 0.430427735899\n",
        "27"
       ]
      },
      {
       "output_type": "stream",
       "stream": "stdout",
       "text": [
        " 0.466475205113\n",
        "29"
       ]
      },
      {
       "output_type": "stream",
       "stream": "stdout",
       "text": [
        " 0.458321896506\n",
        "31"
       ]
      },
      {
       "output_type": "stream",
       "stream": "stdout",
       "text": [
        " 0.445117613774\n",
        "33"
       ]
      },
      {
       "output_type": "stream",
       "stream": "stdout",
       "text": [
        " 0.462318552295\n",
        "35"
       ]
      },
      {
       "output_type": "stream",
       "stream": "stdout",
       "text": [
        " 0.502010068834\n",
        "37"
       ]
      },
      {
       "output_type": "stream",
       "stream": "stdout",
       "text": [
        " 0.471143971915\n",
        "39"
       ]
      },
      {
       "output_type": "stream",
       "stream": "stdout",
       "text": [
        " 0.482897687\n",
        "41"
       ]
      },
      {
       "output_type": "stream",
       "stream": "stdout",
       "text": [
        " 0.501987437725\n",
        "43"
       ]
      },
      {
       "output_type": "stream",
       "stream": "stdout",
       "text": [
        " 0.472037702178\n",
        "45"
       ]
      },
      {
       "output_type": "stream",
       "stream": "stdout",
       "text": [
        " 0.463231952629\n",
        "47"
       ]
      },
      {
       "output_type": "stream",
       "stream": "stdout",
       "text": [
        " 0.509721554004\n",
        "49"
       ]
      },
      {
       "output_type": "stream",
       "stream": "stdout",
       "text": [
        " 0.483764541524\n",
        "51"
       ]
      },
      {
       "output_type": "stream",
       "stream": "stdout",
       "text": [
        " 0.475283796479\n",
        "53"
       ]
      },
      {
       "output_type": "stream",
       "stream": "stdout",
       "text": [
        " 0.455067351197\n",
        "55"
       ]
      },
      {
       "output_type": "stream",
       "stream": "stdout",
       "text": [
        " 0.43294370923\n",
        "57"
       ]
      },
      {
       "output_type": "stream",
       "stream": "stdout",
       "text": [
        " 0.448099456041\n",
        "59"
       ]
      },
      {
       "output_type": "stream",
       "stream": "stdout",
       "text": [
        " 0.470654037323\n",
        "61"
       ]
      },
      {
       "output_type": "stream",
       "stream": "stdout",
       "text": [
        " 0.484361538009\n",
        "63"
       ]
      },
      {
       "output_type": "stream",
       "stream": "stdout",
       "text": [
        " 0.442768812418\n",
        "65"
       ]
      },
      {
       "output_type": "stream",
       "stream": "stdout",
       "text": [
        " 0.480179493184\n",
        "67"
       ]
      },
      {
       "output_type": "stream",
       "stream": "stdout",
       "text": [
        " 0.481508864639\n",
        "69"
       ]
      },
      {
       "output_type": "stream",
       "stream": "stdout",
       "text": [
        " 0.504524072226\n",
        "71"
       ]
      },
      {
       "output_type": "stream",
       "stream": "stdout",
       "text": [
        " 0.484838145712\n",
        "73"
       ]
      },
      {
       "output_type": "stream",
       "stream": "stdout",
       "text": [
        " 0.460910206917\n",
        "75"
       ]
      },
      {
       "output_type": "stream",
       "stream": "stdout",
       "text": [
        " 0.48407714349\n",
        "77"
       ]
      },
      {
       "output_type": "stream",
       "stream": "stdout",
       "text": [
        " 0.481147725167\n",
        "79"
       ]
      },
      {
       "output_type": "stream",
       "stream": "stdout",
       "text": [
        " 0.452022096082\n",
        "81"
       ]
      },
      {
       "output_type": "stream",
       "stream": "stdout",
       "text": [
        " 0.472411222524\n",
        "83"
       ]
      },
      {
       "output_type": "stream",
       "stream": "stdout",
       "text": [
        " 0.486576317717\n",
        "85"
       ]
      },
      {
       "output_type": "stream",
       "stream": "stdout",
       "text": [
        " 0.457288197149\n",
        "87"
       ]
      },
      {
       "output_type": "stream",
       "stream": "stdout",
       "text": [
        " 0.484906081203\n",
        "89"
       ]
      },
      {
       "output_type": "stream",
       "stream": "stdout",
       "text": [
        " 0.4734680412\n",
        "91"
       ]
      },
      {
       "output_type": "stream",
       "stream": "stdout",
       "text": [
        " 0.489209073151\n",
        "93"
       ]
      },
      {
       "output_type": "stream",
       "stream": "stdout",
       "text": [
        " 0.437848481256\n",
        "95"
       ]
      },
      {
       "output_type": "stream",
       "stream": "stdout",
       "text": [
        " 0.486404402102\n",
        "97"
       ]
      },
      {
       "output_type": "stream",
       "stream": "stdout",
       "text": [
        " 0.448843941644\n",
        "99"
       ]
      },
      {
       "output_type": "stream",
       "stream": "stdout",
       "text": [
        " 0.484022618167\n"
       ]
      }
     ],
     "prompt_number": 620
    },
    {
     "cell_type": "code",
     "collapsed": false,
     "input": [
      "outedragon = {}\n",
      "for k in range(1,100,2):\n",
      "    forest_importance = ForestFilter(n_estimators=10, compute_importances=True) \n",
      "    freg_param = {'filtering': SelectKBest, 'filt_param':{'score_func':forest_importance, 'k':k}, \n",
      "                              'regressor': NuSVR, 'reg_param':{'C':10}}\n",
      "    estimator = BootstrapRegressor(FilteredRegressor, freg_param, 50, 0.5)\n",
      "    estimator.fit(mytrain2.features, mytrain2.targets)\n",
      "    outedragon[k] = estimator\n",
      "    oob = estimator.oob_score_()\n",
      "    print k, oob"
     ],
     "language": "python",
     "metadata": {},
     "outputs": [
      {
       "output_type": "stream",
       "stream": "stdout",
       "text": [
        "1 0.104522906707\n",
        "3"
       ]
      },
      {
       "output_type": "stream",
       "stream": "stdout",
       "text": [
        " 0.158245709801\n",
        "5"
       ]
      },
      {
       "output_type": "stream",
       "stream": "stdout",
       "text": [
        " 0.241705149737\n",
        "7"
       ]
      },
      {
       "output_type": "stream",
       "stream": "stdout",
       "text": [
        " 0.265381002448\n",
        "9"
       ]
      },
      {
       "output_type": "stream",
       "stream": "stdout",
       "text": [
        " 0.360706963461\n",
        "11"
       ]
      },
      {
       "output_type": "stream",
       "stream": "stdout",
       "text": [
        " 0.347340120265\n",
        "13"
       ]
      },
      {
       "output_type": "stream",
       "stream": "stdout",
       "text": [
        " 0.423942336456\n",
        "15"
       ]
      },
      {
       "output_type": "stream",
       "stream": "stdout",
       "text": [
        " 0.441436113888\n",
        "17"
       ]
      },
      {
       "output_type": "stream",
       "stream": "stdout",
       "text": [
        " 0.423479401689\n",
        "19"
       ]
      },
      {
       "output_type": "stream",
       "stream": "stdout",
       "text": [
        " 0.474472093905\n",
        "21"
       ]
      },
      {
       "output_type": "stream",
       "stream": "stdout",
       "text": [
        " 0.407872609234\n",
        "23"
       ]
      },
      {
       "output_type": "stream",
       "stream": "stdout",
       "text": [
        " 0.401249319128\n",
        "25"
       ]
      },
      {
       "output_type": "stream",
       "stream": "stdout",
       "text": [
        " 0.454100217938\n",
        "27"
       ]
      },
      {
       "output_type": "stream",
       "stream": "stdout",
       "text": [
        " 0.45580392203\n",
        "29"
       ]
      },
      {
       "output_type": "stream",
       "stream": "stdout",
       "text": [
        " 0.41232613757\n",
        "31"
       ]
      },
      {
       "output_type": "stream",
       "stream": "stdout",
       "text": [
        " 0.439304291\n",
        "33"
       ]
      },
      {
       "output_type": "stream",
       "stream": "stdout",
       "text": [
        " 0.450544753198\n",
        "35"
       ]
      },
      {
       "output_type": "stream",
       "stream": "stdout",
       "text": [
        " 0.464626422998\n",
        "37"
       ]
      },
      {
       "output_type": "stream",
       "stream": "stdout",
       "text": [
        " 0.427843382523\n",
        "39"
       ]
      },
      {
       "output_type": "stream",
       "stream": "stdout",
       "text": [
        " 0.441100598215\n",
        "41"
       ]
      },
      {
       "output_type": "stream",
       "stream": "stdout",
       "text": [
        " 0.463390895446\n",
        "43"
       ]
      },
      {
       "output_type": "stream",
       "stream": "stdout",
       "text": [
        " 0.466587579158\n",
        "45"
       ]
      },
      {
       "output_type": "stream",
       "stream": "stdout",
       "text": [
        " 0.446539406834\n",
        "47"
       ]
      },
      {
       "output_type": "stream",
       "stream": "stdout",
       "text": [
        " 0.451738703111\n",
        "49"
       ]
      },
      {
       "output_type": "stream",
       "stream": "stdout",
       "text": [
        " 0.470084106927\n",
        "51"
       ]
      },
      {
       "output_type": "stream",
       "stream": "stdout",
       "text": [
        " 0.456846314278\n",
        "53"
       ]
      },
      {
       "output_type": "stream",
       "stream": "stdout",
       "text": [
        " 0.450084925897\n",
        "55"
       ]
      },
      {
       "output_type": "stream",
       "stream": "stdout",
       "text": [
        " 0.453646929016\n",
        "57"
       ]
      },
      {
       "output_type": "stream",
       "stream": "stdout",
       "text": [
        " 0.410400090116\n",
        "59"
       ]
      },
      {
       "output_type": "stream",
       "stream": "stdout",
       "text": [
        " 0.452182600926\n",
        "61"
       ]
      },
      {
       "output_type": "stream",
       "stream": "stdout",
       "text": [
        " 0.452388136229\n",
        "63"
       ]
      },
      {
       "output_type": "stream",
       "stream": "stdout",
       "text": [
        " 0.470296745018\n",
        "65"
       ]
      },
      {
       "output_type": "stream",
       "stream": "stdout",
       "text": [
        " 0.451352102697\n",
        "67"
       ]
      },
      {
       "output_type": "stream",
       "stream": "stdout",
       "text": [
        " 0.453802916325\n",
        "69"
       ]
      },
      {
       "output_type": "stream",
       "stream": "stdout",
       "text": [
        " 0.467403789669\n",
        "71"
       ]
      },
      {
       "output_type": "stream",
       "stream": "stdout",
       "text": [
        " 0.455463271897\n",
        "73"
       ]
      },
      {
       "output_type": "stream",
       "stream": "stdout",
       "text": [
        " 0.448633200647\n",
        "75"
       ]
      },
      {
       "output_type": "stream",
       "stream": "stdout",
       "text": [
        " 0.444303065576\n",
        "77"
       ]
      },
      {
       "output_type": "stream",
       "stream": "stdout",
       "text": [
        " 0.43980335769\n",
        "79"
       ]
      },
      {
       "output_type": "stream",
       "stream": "stdout",
       "text": [
        " 0.437457224361\n",
        "81"
       ]
      },
      {
       "output_type": "stream",
       "stream": "stdout",
       "text": [
        " 0.406838470256\n",
        "83"
       ]
      },
      {
       "output_type": "stream",
       "stream": "stdout",
       "text": [
        " 0.399365972852\n",
        "85"
       ]
      },
      {
       "output_type": "stream",
       "stream": "stdout",
       "text": [
        " 0.441986057467\n",
        "87"
       ]
      },
      {
       "output_type": "stream",
       "stream": "stdout",
       "text": [
        " 0.44418766872\n",
        "89"
       ]
      },
      {
       "output_type": "stream",
       "stream": "stdout",
       "text": [
        " 0.446550367261\n",
        "91"
       ]
      },
      {
       "output_type": "stream",
       "stream": "stdout",
       "text": [
        " 0.436991460433\n",
        "93"
       ]
      },
      {
       "output_type": "stream",
       "stream": "stdout",
       "text": [
        " 0.429901383018\n",
        "95"
       ]
      },
      {
       "output_type": "stream",
       "stream": "stdout",
       "text": [
        " 0.470980326309\n",
        "97"
       ]
      },
      {
       "output_type": "stream",
       "stream": "stdout",
       "text": [
        " 0.459375477399\n",
        "99"
       ]
      },
      {
       "output_type": "stream",
       "stream": "stdout",
       "text": [
        " 0.417800637465\n"
       ]
      }
     ],
     "prompt_number": 621
    },
    {
     "cell_type": "code",
     "collapsed": false,
     "input": [
      "outeva = {}\n",
      "for k in range(1,100,2):\n",
      "    forest_importance = ForestFilter(n_estimators=10, compute_importances=True) \n",
      "    freg_param = {'filtering': SelectKBest, 'filt_param':{'score_func':forest_importance, 'k':k}, \n",
      "                              'regressor': NuSVR, 'reg_param':{'C':10}}\n",
      "    estimator = BootstrapRegressor(FilteredRegressor, freg_param, 50, 0.5)\n",
      "    estimator.fit(mytrain3.features, mytrain3.targets)\n",
      "    outeva[k] = estimator\n",
      "    oob = estimator.oob_score_()\n",
      "    print k, oob"
     ],
     "language": "python",
     "metadata": {},
     "outputs": [
      {
       "output_type": "stream",
       "stream": "stdout",
       "text": [
        "1 0.0172460432162\n",
        "3"
       ]
      },
      {
       "output_type": "stream",
       "stream": "stdout",
       "text": [
        " 0.0332253581617\n",
        "5"
       ]
      },
      {
       "output_type": "stream",
       "stream": "stdout",
       "text": [
        " 0.0759773709616\n",
        "7"
       ]
      },
      {
       "output_type": "stream",
       "stream": "stdout",
       "text": [
        " 0.160234189819\n",
        "9"
       ]
      },
      {
       "output_type": "stream",
       "stream": "stdout",
       "text": [
        " 0.176412113891\n",
        "11"
       ]
      },
      {
       "output_type": "stream",
       "stream": "stdout",
       "text": [
        " 0.27957206075\n",
        "13"
       ]
      },
      {
       "output_type": "stream",
       "stream": "stdout",
       "text": [
        " 0.311427720407\n",
        "15"
       ]
      },
      {
       "output_type": "stream",
       "stream": "stdout",
       "text": [
        " 0.273795640012\n",
        "17"
       ]
      },
      {
       "output_type": "stream",
       "stream": "stdout",
       "text": [
        " 0.325616141241\n",
        "19"
       ]
      },
      {
       "output_type": "stream",
       "stream": "stdout",
       "text": [
        " 0.334573241405\n",
        "21"
       ]
      },
      {
       "output_type": "stream",
       "stream": "stdout",
       "text": [
        " 0.304123035382\n",
        "23"
       ]
      },
      {
       "output_type": "stream",
       "stream": "stdout",
       "text": [
        " 0.30106228537\n",
        "25"
       ]
      },
      {
       "output_type": "stream",
       "stream": "stdout",
       "text": [
        " 0.319150613808\n",
        "27"
       ]
      },
      {
       "output_type": "stream",
       "stream": "stdout",
       "text": [
        " 0.321943313853\n",
        "29"
       ]
      },
      {
       "output_type": "stream",
       "stream": "stdout",
       "text": [
        " 0.310010335464\n",
        "31"
       ]
      },
      {
       "output_type": "stream",
       "stream": "stdout",
       "text": [
        " 0.2694715258\n",
        "33"
       ]
      },
      {
       "output_type": "stream",
       "stream": "stdout",
       "text": [
        " 0.243230078615\n",
        "35"
       ]
      },
      {
       "output_type": "stream",
       "stream": "stdout",
       "text": [
        " 0.252723995428\n",
        "37"
       ]
      },
      {
       "output_type": "stream",
       "stream": "stdout",
       "text": [
        " 0.27832431696\n",
        "39"
       ]
      },
      {
       "output_type": "stream",
       "stream": "stdout",
       "text": [
        " 0.269161780294\n",
        "41"
       ]
      },
      {
       "output_type": "stream",
       "stream": "stdout",
       "text": [
        " 0.263275980249\n",
        "43"
       ]
      },
      {
       "output_type": "stream",
       "stream": "stdout",
       "text": [
        " 0.267443985177\n",
        "45"
       ]
      },
      {
       "output_type": "stream",
       "stream": "stdout",
       "text": [
        " 0.242334375326\n",
        "47"
       ]
      },
      {
       "output_type": "stream",
       "stream": "stdout",
       "text": [
        " 0.254109259988\n",
        "49"
       ]
      },
      {
       "output_type": "stream",
       "stream": "stdout",
       "text": [
        " 0.280044320752\n",
        "51"
       ]
      },
      {
       "output_type": "stream",
       "stream": "stdout",
       "text": [
        " 0.281246763187\n",
        "53"
       ]
      },
      {
       "output_type": "stream",
       "stream": "stdout",
       "text": [
        " 0.23183119799\n",
        "55"
       ]
      },
      {
       "output_type": "stream",
       "stream": "stdout",
       "text": [
        " 0.243702552479\n",
        "57"
       ]
      },
      {
       "output_type": "stream",
       "stream": "stdout",
       "text": [
        " 0.234316427703\n",
        "59"
       ]
      },
      {
       "output_type": "stream",
       "stream": "stdout",
       "text": [
        " 0.220309221665\n",
        "61"
       ]
      },
      {
       "output_type": "stream",
       "stream": "stdout",
       "text": [
        " 0.235542593762\n",
        "63"
       ]
      },
      {
       "output_type": "stream",
       "stream": "stdout",
       "text": [
        " 0.252262794358\n",
        "65"
       ]
      },
      {
       "output_type": "stream",
       "stream": "stdout",
       "text": [
        " 0.195355380789\n",
        "67"
       ]
      },
      {
       "output_type": "stream",
       "stream": "stdout",
       "text": [
        " 0.230501636264\n",
        "69"
       ]
      },
      {
       "output_type": "stream",
       "stream": "stdout",
       "text": [
        " 0.193213758311\n",
        "71"
       ]
      },
      {
       "output_type": "stream",
       "stream": "stdout",
       "text": [
        " 0.236365369168\n",
        "73"
       ]
      },
      {
       "output_type": "stream",
       "stream": "stdout",
       "text": [
        " 0.240181355873\n",
        "75"
       ]
      },
      {
       "output_type": "stream",
       "stream": "stdout",
       "text": [
        " 0.213154789031\n",
        "77"
       ]
      },
      {
       "output_type": "stream",
       "stream": "stdout",
       "text": [
        " 0.215418003579\n",
        "79"
       ]
      },
      {
       "output_type": "stream",
       "stream": "stdout",
       "text": [
        " 0.219453885729\n",
        "81"
       ]
      },
      {
       "output_type": "stream",
       "stream": "stdout",
       "text": [
        " 0.238972211852\n",
        "83"
       ]
      },
      {
       "output_type": "stream",
       "stream": "stdout",
       "text": [
        " 0.193800440417\n",
        "85"
       ]
      },
      {
       "output_type": "stream",
       "stream": "stdout",
       "text": [
        " 0.222195672768\n",
        "87"
       ]
      },
      {
       "output_type": "stream",
       "stream": "stdout",
       "text": [
        " 0.222051740621\n",
        "89"
       ]
      },
      {
       "output_type": "stream",
       "stream": "stdout",
       "text": [
        " 0.202857457475\n",
        "91"
       ]
      },
      {
       "output_type": "stream",
       "stream": "stdout",
       "text": [
        " 0.22050678849\n",
        "93"
       ]
      },
      {
       "output_type": "stream",
       "stream": "stdout",
       "text": [
        " 0.197771208232\n",
        "95"
       ]
      },
      {
       "output_type": "stream",
       "stream": "stdout",
       "text": [
        " 0.226202900053\n",
        "97"
       ]
      },
      {
       "output_type": "stream",
       "stream": "stdout",
       "text": [
        " 0.204660056857\n",
        "99"
       ]
      },
      {
       "output_type": "stream",
       "stream": "stdout",
       "text": [
        " 0.23233160054\n"
       ]
      }
     ],
     "prompt_number": 622
    },
    {
     "cell_type": "code",
     "collapsed": false,
     "input": [
      "outspectral = {}\n",
      "for k in range(1,100,2):\n",
      "    forest_importance = ForestFilter(n_estimators=10, compute_importances=True) \n",
      "    freg_param = {'filtering': SelectKBest, 'filt_param':{'score_func':forest_importance, 'k':k}, \n",
      "                              'regressor': NuSVR, 'reg_param':{'C':10}}\n",
      "    estimator = BootstrapRegressor(FilteredRegressor, freg_param, 50, 0.5)\n",
      "    estimator.fit(mytrain4.features, mytrain4.targets)\n",
      "    outspectral[k] = estimator\n",
      "    oob = estimator.oob_score_()\n",
      "    print k, oob"
     ],
     "language": "python",
     "metadata": {},
     "outputs": [
      {
       "output_type": "stream",
       "stream": "stdout",
       "text": [
        "1 0.0339253871591\n",
        "3"
       ]
      },
      {
       "output_type": "stream",
       "stream": "stdout",
       "text": [
        " 0.0286969349676\n",
        "5"
       ]
      },
      {
       "output_type": "stream",
       "stream": "stdout",
       "text": [
        " 0.0925170077302\n",
        "7"
       ]
      },
      {
       "output_type": "stream",
       "stream": "stdout",
       "text": [
        " 0.121557055333\n",
        "9"
       ]
      },
      {
       "output_type": "stream",
       "stream": "stdout",
       "text": [
        " 0.259259385986\n",
        "11"
       ]
      },
      {
       "output_type": "stream",
       "stream": "stdout",
       "text": [
        " 0.271483036538\n",
        "13"
       ]
      },
      {
       "output_type": "stream",
       "stream": "stdout",
       "text": [
        " 0.302174000467\n",
        "15"
       ]
      },
      {
       "output_type": "stream",
       "stream": "stdout",
       "text": [
        " 0.302421952006\n",
        "17"
       ]
      },
      {
       "output_type": "stream",
       "stream": "stdout",
       "text": [
        " 0.303570120051\n",
        "19"
       ]
      },
      {
       "output_type": "stream",
       "stream": "stdout",
       "text": [
        " 0.350798812241\n",
        "21"
       ]
      },
      {
       "output_type": "stream",
       "stream": "stdout",
       "text": [
        " 0.319527973951\n",
        "23"
       ]
      },
      {
       "output_type": "stream",
       "stream": "stdout",
       "text": [
        " 0.361724379763\n",
        "25"
       ]
      },
      {
       "output_type": "stream",
       "stream": "stdout",
       "text": [
        " 0.366512183121\n",
        "27"
       ]
      },
      {
       "output_type": "stream",
       "stream": "stdout",
       "text": [
        " 0.294865992114\n",
        "29"
       ]
      },
      {
       "output_type": "stream",
       "stream": "stdout",
       "text": [
        " 0.379870194963\n",
        "31"
       ]
      },
      {
       "output_type": "stream",
       "stream": "stdout",
       "text": [
        " 0.338485642332\n",
        "33"
       ]
      },
      {
       "output_type": "stream",
       "stream": "stdout",
       "text": [
        " 0.356987888288\n",
        "35"
       ]
      },
      {
       "output_type": "stream",
       "stream": "stdout",
       "text": [
        " 0.344874541864\n",
        "37"
       ]
      },
      {
       "output_type": "stream",
       "stream": "stdout",
       "text": [
        " 0.345477618867\n",
        "39"
       ]
      },
      {
       "output_type": "stream",
       "stream": "stdout",
       "text": [
        " 0.373003030276\n",
        "41"
       ]
      },
      {
       "output_type": "stream",
       "stream": "stdout",
       "text": [
        " 0.337069207165\n",
        "43"
       ]
      },
      {
       "output_type": "stream",
       "stream": "stdout",
       "text": [
        " 0.328021713241\n",
        "45"
       ]
      },
      {
       "output_type": "stream",
       "stream": "stdout",
       "text": [
        " 0.325788376018\n",
        "47"
       ]
      },
      {
       "output_type": "stream",
       "stream": "stdout",
       "text": [
        " 0.324486060689\n",
        "49"
       ]
      },
      {
       "output_type": "stream",
       "stream": "stdout",
       "text": [
        " 0.358304150891\n",
        "51"
       ]
      },
      {
       "output_type": "stream",
       "stream": "stdout",
       "text": [
        " 0.317594599627\n",
        "53"
       ]
      },
      {
       "output_type": "stream",
       "stream": "stdout",
       "text": [
        " 0.340991758982\n",
        "55"
       ]
      },
      {
       "output_type": "stream",
       "stream": "stdout",
       "text": [
        " 0.349844430308\n",
        "57"
       ]
      },
      {
       "output_type": "stream",
       "stream": "stdout",
       "text": [
        " 0.373625966901\n",
        "59"
       ]
      },
      {
       "output_type": "stream",
       "stream": "stdout",
       "text": [
        " 0.339001533829\n",
        "61"
       ]
      },
      {
       "output_type": "stream",
       "stream": "stdout",
       "text": [
        " 0.313056586627\n",
        "63"
       ]
      },
      {
       "output_type": "stream",
       "stream": "stdout",
       "text": [
        " 0.316627059718\n",
        "65"
       ]
      },
      {
       "output_type": "stream",
       "stream": "stdout",
       "text": [
        " 0.339166661152\n",
        "67"
       ]
      },
      {
       "output_type": "stream",
       "stream": "stdout",
       "text": [
        " 0.296192712444\n",
        "69"
       ]
      },
      {
       "output_type": "stream",
       "stream": "stdout",
       "text": [
        " 0.288964078259\n",
        "71"
       ]
      },
      {
       "output_type": "stream",
       "stream": "stdout",
       "text": [
        " 0.341527630386\n",
        "73"
       ]
      },
      {
       "output_type": "stream",
       "stream": "stdout",
       "text": [
        " 0.31714153725\n",
        "75"
       ]
      },
      {
       "output_type": "stream",
       "stream": "stdout",
       "text": [
        " 0.335284845237\n",
        "77"
       ]
      },
      {
       "output_type": "stream",
       "stream": "stdout",
       "text": [
        " 0.318573474998\n",
        "79"
       ]
      },
      {
       "output_type": "stream",
       "stream": "stdout",
       "text": [
        " 0.340901611601\n",
        "81"
       ]
      },
      {
       "output_type": "stream",
       "stream": "stdout",
       "text": [
        " 0.339848480737\n",
        "83"
       ]
      },
      {
       "output_type": "stream",
       "stream": "stdout",
       "text": [
        " 0.311677479033\n",
        "85"
       ]
      },
      {
       "output_type": "stream",
       "stream": "stdout",
       "text": [
        " 0.325684254436\n",
        "87"
       ]
      },
      {
       "output_type": "stream",
       "stream": "stdout",
       "text": [
        " 0.291982586298\n",
        "89"
       ]
      },
      {
       "output_type": "stream",
       "stream": "stdout",
       "text": [
        " 0.323394218216\n",
        "91"
       ]
      },
      {
       "output_type": "stream",
       "stream": "stdout",
       "text": [
        " 0.316409076651\n",
        "93"
       ]
      },
      {
       "output_type": "stream",
       "stream": "stdout",
       "text": [
        " 0.330364250891\n",
        "95"
       ]
      },
      {
       "output_type": "stream",
       "stream": "stdout",
       "text": [
        " 0.332950142188\n",
        "97"
       ]
      },
      {
       "output_type": "stream",
       "stream": "stdout",
       "text": [
        " 0.333587159137\n",
        "99"
       ]
      },
      {
       "output_type": "stream",
       "stream": "stdout",
       "text": [
        " 0.337010671495\n"
       ]
      }
     ],
     "prompt_number": 636
    },
    {
     "cell_type": "code",
     "collapsed": false,
     "input": [
      "x,y,z = [],[],[]\n",
      "for k in outall:\n",
      "    x.append(outall[k].oob_score_())\n",
      "    y.append(outedragon[k].oob_score_())\n",
      "    z.append(outeva[k].oob_score_())\n",
      "plt.plot(x,z,'o')\n",
      "plt.plot([0,0.5],[0,0.5], '-')\n",
      "plt.show()"
     ],
     "language": "python",
     "metadata": {},
     "outputs": [],
     "prompt_number": 632
    },
    {
     "cell_type": "code",
     "collapsed": false,
     "input": [
      "plt.plot([0,0.5],[0,0.5], ':')\n",
      "plt.show()"
     ],
     "language": "python",
     "metadata": {},
     "outputs": [],
     "prompt_number": 629
    },
    {
     "cell_type": "code",
     "collapsed": false,
     "input": [
      "p = estimator.predict(combi_feat.data)"
     ],
     "language": "python",
     "metadata": {},
     "outputs": [],
     "prompt_number": 598
    },
    {
     "cell_type": "code",
     "collapsed": false,
     "input": [
      "e = estimator.regressors[2]\n",
      "[combi_feat.feat_name[i] for i in np.where(e.filtering.get_support())[0]]"
     ],
     "language": "python",
     "metadata": {},
     "outputs": [
      {
       "output_type": "pyout",
       "prompt_number": 617,
       "text": [
        "['pureband50_375',\n",
        " 'pureband50_450',\n",
        " 'pureband50_475',\n",
        " 'pureband50_625',\n",
        " 'pureband50_650',\n",
        " 'pureband50_675',\n",
        " 'pureband50_1025',\n",
        " 'pureband50_2175',\n",
        " 'pureband50_3175',\n",
        " 'pureband100_550',\n",
        " 'pureband100_1650',\n",
        " 'pureband100_2650',\n",
        " 'pureband100_2850',\n",
        " 'pureband200_2000',\n",
        " 'pureband200_2100',\n",
        " 'pureband200_2200',\n",
        " 'VP ACD mmHG25',\n",
        " 'P2m',\n",
        " 'P2e',\n",
        " 'E1p',\n",
        " 'MATS1p',\n",
        " 'HATS6u',\n",
        " 'RARS',\n",
        " 'REIG',\n",
        " 'R6u+',\n",
        " 'R2v+',\n",
        " 'DISPm',\n",
        " 'SHP2',\n",
        " 'X3Av',\n",
        " 'BEHm1',\n",
        " 'BEHp1',\n",
        " 'EEig01d',\n",
        " 'ESpm09d',\n",
        " 'RDF035u',\n",
        " 'RDF035v',\n",
        " 'Mor21u',\n",
        " 'Mor03m',\n",
        " 'Mor06m',\n",
        " 'Mor14m',\n",
        " 'Mor31m',\n",
        " 'Mor23v',\n",
        " 'Mor30v',\n",
        " 'Mor11e',\n",
        " 'Mor24e',\n",
        " 'Mor03p',\n",
        " 'Mor16p']"
       ]
      }
     ],
     "prompt_number": 617
    },
    {
     "cell_type": "code",
     "collapsed": false,
     "input": [
      "[edragon_all.obj_name[i] for i in np.argsort(p)[-1:-15:-1]]"
     ],
     "language": "python",
     "metadata": {},
     "outputs": [
      {
       "output_type": "pyout",
       "prompt_number": 599,
       "text": [
        "[73, 977, 158, 115, 156, 78, 390, 259, 246, 118, 722, 560, 978, 398]"
       ]
      }
     ],
     "prompt_number": 599
    },
    {
     "cell_type": "code",
     "collapsed": false,
     "input": [
      "e = estimator.regressors[0]\n",
      "e.filtering.scores_"
     ],
     "language": "python",
     "metadata": {},
     "outputs": [
      {
       "output_type": "pyout",
       "prompt_number": 315,
       "text": [
        "array([  1.48833102e-04,   1.42277991e-04,   4.32617300e-05, ...,\n",
        "         2.55452950e-05,   1.28154994e-04,   3.94528426e-05])"
       ]
      }
     ],
     "prompt_number": 315
    },
    {
     "cell_type": "code",
     "collapsed": false,
     "input": [
      "scores = np.vstack([e.filtering.scores_ for e in estimator.regressors[1:]])\n",
      "#plt.plot(np.median(scores, 0))\n",
      "plt.plot(np.mean(scores,0))\n",
      "plt.plot(-estimator.regressors[0].filtering.scores_)\n",
      "plt.show()"
     ],
     "language": "python",
     "metadata": {},
     "outputs": [],
     "prompt_number": 324
    },
    {
     "cell_type": "code",
     "collapsed": false,
     "input": [
      "plt.plot(mytrain.targets, estimator.oob_prediction_(), 'x')\n",
      "plt.show()"
     ],
     "language": "python",
     "metadata": {},
     "outputs": [],
     "prompt_number": 600
    },
    {
     "cell_type": "code",
     "collapsed": false,
     "input": [
      "plt.plot(mytrain.targets, rfr.oob_prediction_, 'x')\n",
      "plt.show()"
     ],
     "language": "python",
     "metadata": {},
     "outputs": [],
     "prompt_number": 249
    },
    {
     "cell_type": "code",
     "collapsed": false,
     "input": [
      "plt.plot(rfr.feature_importances_)\n",
      "plt.show()"
     ],
     "language": "python",
     "metadata": {},
     "outputs": [],
     "prompt_number": 250
    },
    {
     "cell_type": "code",
     "collapsed": false,
     "input": [
      "mol_pos = np.array([edragon_all.obj_name.index(int(i)) for i in available])"
     ],
     "language": "python",
     "metadata": {},
     "outputs": [],
     "prompt_number": 224
    },
    {
     "cell_type": "code",
     "collapsed": false,
     "input": [
      "from scipy.spatial.distance import pdist, squareform\n",
      "from scipy.cluster.hierarchy import dendrogram, linkage\n",
      "from sklearn.manifold import MDS, LocallyLinearEmbedding"
     ],
     "language": "python",
     "metadata": {},
     "outputs": [],
     "prompt_number": 145
    },
    {
     "cell_type": "code",
     "collapsed": false,
     "input": [
      "#mydist = lambda u,v: 1-np.exp(-((u-v)**2).sum()/len(edragon_all.feat_name))\n",
      "mydist = lambda u,v: 1-np.exp(-((u-v)**2).sum()/len(edragon_all.feat_name))\n",
      "mydata = edragon_all.data[mol_pos]\n",
      "rbf_dist = pdist(mydata, mydist)"
     ],
     "language": "python",
     "metadata": {},
     "outputs": [],
     "prompt_number": 226
    },
    {
     "cell_type": "code",
     "collapsed": false,
     "input": [
      "reorder = np.argsort(resp_available)\n",
      "\n",
      "nn = squareform(rbf_dist)\n",
      "nn = nn[reorder][:,reorder]\n",
      "\n",
      "fig = plt.figure()\n",
      "ax = fig.add_subplot(111)\n",
      "ax.imshow(nn, interpolation='none')\n",
      "ax.set_xticks(range(nn.shape[0]))\n",
      "ax.set_xticklabels([available[i] for i in reorder], rotation='45', size=6)\n",
      "plt.show()\n",
      "\n",
      "\n"
     ],
     "language": "python",
     "metadata": {},
     "outputs": [],
     "prompt_number": 236
    },
    {
     "cell_type": "code",
     "collapsed": false,
     "input": [
      "fig = plt.figure()\n",
      "ax = fig.add_subplot(111)\n",
      "\n",
      "d = dendrogram(linkage(rbf_dist, 'single'), labels=mor182_spec.keys())\n",
      "for l_ind, l in enumerate(ax.xaxis.get_ticklabels()):\n",
      "    mode = d['ivl'][l_ind]    \n",
      "    mycolor = plt.cm.RdYlGn(mor182_spec[str(mode)]) if str(mode) in mor182_spec else '0.5' \n",
      "    l.set_color(mycolor)\n",
      "ax.xaxis.set_tick_params(labelsize=10)\n",
      "\n",
      "plt.show()"
     ],
     "language": "python",
     "metadata": {},
     "outputs": [],
     "prompt_number": 170
    },
    {
     "cell_type": "code",
     "collapsed": false,
     "input": [
      "mor182_spec[str(162)]"
     ],
     "language": "python",
     "metadata": {},
     "outputs": [
      {
       "output_type": "pyout",
       "prompt_number": 155,
       "text": [
        "1.0"
       ]
      }
     ],
     "prompt_number": 155
    },
    {
     "cell_type": "code",
     "collapsed": false,
     "input": [
      "embedding = MDS(dissimilarity='precomputed', n_components=2, random_state=4, metric=False)\n",
      "out = embedding.fit_transform(squareform(rbf_dist))"
     ],
     "language": "python",
     "metadata": {},
     "outputs": [],
     "prompt_number": 142
    },
    {
     "cell_type": "code",
     "collapsed": false,
     "input": [
      "rbf_dist2 = pdist(out, mydist)"
     ],
     "language": "python",
     "metadata": {},
     "outputs": [],
     "prompt_number": 143
    },
    {
     "cell_type": "code",
     "collapsed": false,
     "input": [
      "plt.plot(rbf_dist, rbf_dist2, 'x')\n",
      "plt.show()"
     ],
     "language": "python",
     "metadata": {},
     "outputs": [],
     "prompt_number": 144
    },
    {
     "cell_type": "code",
     "collapsed": false,
     "input": [
      "plt.scatter(out[mol_pos,0], out[mol_pos,1], s=50, linewidths=1,\n",
      "           facecolor= [plt.cm.RdYlGn(i) if i>0 else 'none' for i in mor182_spec.values()],\n",
      "           edgecolor= 'k', alpha=0.5)\n",
      "plt.scatter(out[:,0], out[:,1], s=10, linewidths=1,\n",
      "           facecolor= '0.5',\n",
      "           edgecolor= 'none', alpha=1)\n",
      "plt.show()"
     ],
     "language": "python",
     "metadata": {},
     "outputs": [],
     "prompt_number": 56
    },
    {
     "cell_type": "code",
     "collapsed": false,
     "input": [
      "plt.scatter(out[:,0], out[:,1], s=50, linewidths=1,\n",
      "           facecolor= [plt.cm.RdYlGn(i) if i>0 else 'none' for i in mor182_spec.values()],\n",
      "           edgecolor= 'k', alpha=0.5)\n",
      "for j,(x,y) in enumerate(zip(out[:,0], out[:,1])):\n",
      "    plt.text(x,y,mor182_spec.keys()[j], size=12)\n",
      "plt.show()"
     ],
     "language": "python",
     "metadata": {},
     "outputs": [],
     "prompt_number": 164
    },
    {
     "cell_type": "code",
     "collapsed": false,
     "input": [
      "plt.plot(edragon_all.data[edragon_all.obj_name.index(162)], edragon_all.data[edragon_all.obj_name.index(978)], 'k.')\n",
      "plt.show()\n"
     ],
     "language": "python",
     "metadata": {},
     "outputs": [],
     "prompt_number": 82
    },
    {
     "cell_type": "code",
     "collapsed": false,
     "input": [
      "print mydist(edragon_all.data[edragon_all.obj_name.index(162)], edragon_all.data[edragon_all.obj_name.index(978)])\n",
      "print mydist(edragon_all.data[edragon_all.obj_name.index(162)], edragon_all.data[edragon_all.obj_name.index(73)])\n",
      "\n",
      "print mydist(out[mor182_spec.keys().index(str(162))], out[mor182_spec.keys().index(str(978))])\n",
      "print mydist(out[mor182_spec.keys().index(str(162))], out[mor182_spec.keys().index(str(73))])"
     ],
     "language": "python",
     "metadata": {},
     "outputs": [
      {
       "output_type": "stream",
       "stream": "stdout",
       "text": [
        "0.998729746401\n",
        "0.516440478089\n",
        "5.06586036664e-05\n",
        "0.00836335154935\n"
       ]
      }
     ],
     "prompt_number": 103
    },
    {
     "cell_type": "code",
     "collapsed": false,
     "input": [
      "dendr\n",
      "    "
     ],
     "language": "python",
     "metadata": {},
     "outputs": [
      {
       "output_type": "stream",
       "stream": "stdout",
       "text": [
        "[-0.35921665  0.64118908]\n",
        "[-0.23161178 -0.66793744]\n",
        "[-0.30859182  0.72991936]\n"
       ]
      }
     ],
     "prompt_number": 97
    },
    {
     "cell_type": "code",
     "collapsed": false,
     "input": [],
     "language": "python",
     "metadata": {},
     "outputs": []
    }
   ],
   "metadata": {}
  }
 ]
}