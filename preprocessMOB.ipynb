{
 "metadata": {
  "name": "preprocessMOB"
 },
 "nbformat": 3,
 "nbformat_minor": 0,
 "worksheets": [
  {
   "cells": [
    {
     "cell_type": "heading",
     "level": 1,
     "metadata": {},
     "source": [
      "Load MOB data and preprocess"
     ]
    },
    {
     "cell_type": "markdown",
     "metadata": {},
     "source": [
      "Preprocessing Script for data from J. Schumacher (H. Sports). In general there a two types of measurements: First IOS functional imaging and second synapto-pHluorin functional imaging (containing \"FRV\" in datafolder name). Often a experiments.txt gives a short documentation of the measurements. \n",
      "\n",
      "Regarding the IOS data, the general procedure was to take GFP and green images between functional IOS measurements to trac MOR18-2 (GFP) and blood vessel (green) position throughout the measurements and control for animal movement. IOS recordings of individual stimuli are stored in .mat files. The mapping of .mat files and stimulus is noted in 'Measurement.xlxs'. Two setups (i.e. cameras) have been used for recording. The setup was changed in February 2010.\n",
      "\n",
      "This script reads in this data and converts it to a TimeSeries object (as defined in FUimaging). It also applies some preprocessing to reduce the data to less than 2GB."
     ]
    },
    {
     "cell_type": "code",
     "collapsed": false,
     "input": [
      "import sys\n",
      "sys.path.append('/home/jan/workspace/FUimaging/')"
     ],
     "language": "python",
     "metadata": {},
     "outputs": [],
     "prompt_number": 1
    },
    {
     "cell_type": "code",
     "collapsed": false,
     "input": [
      "import os\n",
      "import sys\n",
      "sys.path.append(os.path.join(os.environ['HOME'],'Projects','MouseBulb','code','FUImaging'))"
     ],
     "language": "python",
     "metadata": {},
     "outputs": [],
     "prompt_number": 2
    },
    {
     "cell_type": "code",
     "collapsed": false,
     "input": [
      "import csv, os, shutil\n",
      "import numpy as np\n",
      "from scipy.io import loadmat\n",
      "from configobj import ConfigObj\n",
      "from PIL import Image\n",
      "\n",
      "import ImageAnalysisComponents as ia #please have the FUimaging directory in your pythonpath\n",
      "import dataimport"
     ],
     "language": "python",
     "metadata": {},
     "outputs": [],
     "prompt_number": 3
    },
    {
     "cell_type": "heading",
     "level": 3,
     "metadata": {},
     "source": [
      "Specify parameter"
     ]
    },
    {
     "cell_type": "code",
     "collapsed": false,
     "input": [
      "animal = '100317'\n",
      "datakey = 'conds' #Matlab variablename of the data (old IOS 'conds', IOS 100212:  (conds, 'binned'), sph: 'Channel2')\n",
      "basepath = os.path.join(os.environ['HOME'], 'Documents/NewAnalysis/') #'Projects', 'MouseBulb', 'HartwigData')\n",
      "rawpath = os.path.join(basepath, 'MOBraw', animal, 'raw') #if 'raw' is not working, look in datafolder for subfolder like raw1, rawpre, ...\n",
      "savepath = os.path.join(basepath, 'MOBconverted', animal)\n",
      "config_file = os.path.join(basepath, 'configfiles', 'prepro', 'ios_meas.ini') #ios_meas.ini for IOS measurements, sph_meas.ini for synapto-pHluorin\n",
      "datadictspath = os.path.join(basepath, 'DataDicts')"
     ],
     "language": "python",
     "metadata": {},
     "outputs": [],
     "prompt_number": 4
    },
    {
     "cell_type": "heading",
     "level": 3,
     "metadata": {},
     "source": [
      "Create preprocessing procedure with parameters from config file"
     ]
    },
    {
     "cell_type": "code",
     "collapsed": false,
     "input": [
      "cfg = ConfigObj(config_file, unrepr=True)\n",
      "def preprocess(ts):\n",
      "    if 'signal_cut' in cfg:\n",
      "        ts = ia.CutOut(cfg['signal_cut'])(ts) #trim data to frame window defined in signal cut\n",
      "    f0 =  ia.TrialMean()(ia.CutOut(cfg['baseline_cut'])(ts)) #calc resting activity\n",
      "    if cfg['normalization'] == 'rel_change':\n",
      "        ts = ia.RelativeChange()(ia.TrialMean(cfg['temporal_down'])(ts), f0) #calulate activity change divided by resting activity\n",
      "    elif cfg['normalization'] == 'diff':\n",
      "        ts = ia.Combine(np.subtract)(ia.TrialMean(cfg['temporal_down'])(ts), f0) #calulate activity change\n",
      "    ts_temp = ts.copy()\n",
      "    if cfg['lowfilt']:\n",
      "        ts = ia.Filter(cfg['lowfilt'], cfg['lowfiltextend'], downscale=cfg['spatial_down'])(ts) #apply a lowpass filter\n",
      "    if cfg['highfilt']:\n",
      "        ts = ia.Combine(np.subtract)(ts, ia.Filter(cfg['highfilt'], cfg['highfiltextend'], downscale=cfg['spatial_down'])(ts_temp)) #apply a highpass filter\n",
      "    if cfg['scale_factor']:\n",
      "        ts._series *= cfg['scale_factor'] #scale data\n",
      "    return ts"
     ],
     "language": "python",
     "metadata": {},
     "outputs": [
      {
       "output_type": "stream",
       "stream": "stderr",
       "text": [
        "/home/jan/virt_env/march2013/local/lib/python2.7/site-packages/configobj.py:145: DeprecationWarning: The compiler package is deprecated and removed in Python 3.x.\n",
        "  import compiler\n"
       ]
      }
     ],
     "prompt_number": 5
    },
    {
     "cell_type": "heading",
     "level": 3,
     "metadata": {},
     "source": [
      "Load dictionary which maps Odornames used by Jan Schumi to CAS numbers of the MombaertsLab odor list"
     ]
    },
    {
     "cell_type": "markdown",
     "metadata": {},
     "source": [
      "This file keeps track of odors used in any measurement"
     ]
    },
    {
     "cell_type": "code",
     "collapsed": false,
     "input": [
      "name2cas = {l[1]:l[0] for l in csv.reader(open(os.path.join(datadictspath, 'Name2MomCas.tab')),  delimiter='\\t')}"
     ],
     "language": "python",
     "metadata": {},
     "outputs": [],
     "prompt_number": 6
    },
    {
     "cell_type": "heading",
     "level": 3,
     "metadata": {},
     "source": [
      "Load Measurement.csv which contains the odor info for each measurment file"
     ]
    },
    {
     "cell_type": "markdown",
     "metadata": {},
     "source": [
      "You have to manually create Measurement.csv from the Measurement.xlxs in the raw data folder (use tab as delimiter). Please label each column in the first row with\n",
      "\n",
      "* __filename__ for relative path of measurement *.mat files\n",
      "* __stimulus__ for blank (b) or odor (o) measurement\n",
      "* __name__ for odor name\n",
      "* __bulb__ for side of bulb\n",
      "* [__concentration__] for dilution values 1:x\n",
      "* [__extraInfo__] for all other information\n",
      " "
     ]
    },
    {
     "cell_type": "heading",
     "level": 4,
     "metadata": {},
     "source": [
      "Read in Measurement.csv"
     ]
    },
    {
     "cell_type": "code",
     "collapsed": false,
     "input": [
      "filedata = csv.reader(open(os.path.join(rawpath, 'Measurement.csv')), delimiter='\\t')\n",
      "properties = filedata.next()\n",
      "metadata = [i for i in filedata]\n",
      "print properties"
     ],
     "language": "python",
     "metadata": {},
     "outputs": [
      {
       "output_type": "stream",
       "stream": "stdout",
       "text": [
        "['filename', 'stimulus', 'name', 'bulb']\n"
       ]
      }
     ],
     "prompt_number": 24
    },
    {
     "cell_type": "heading",
     "level": 3,
     "metadata": {},
     "source": [
      "Check consistency of odor names "
     ]
    },
    {
     "cell_type": "markdown",
     "metadata": {},
     "source": [
      "Run following cell. If errors appear fix either spell errors in Measurement.csv or add the odor to the 'Name2MomCas.tab' file (assure that it is a unique new odor)."
     ]
    },
    {
     "cell_type": "code",
     "collapsed": false,
     "input": [
      "name_pos = properties.index('name')\n",
      "filename_pos = properties.index('filename')\n",
      "bulb_pos =  properties.index('bulb')\n",
      "blank_pos = properties.index('stimulus')\n",
      "\n",
      "errors = 0\n",
      "for l_number, m in enumerate(metadata):\n",
      "    odor = m[name_pos].strip()\n",
      "    if odor not in name2cas:\n",
      "        errors += 1\n",
      "        print '!! line %d: no cas entry for %s !!'%(l_number+1, odor)\n",
      "if errors > 0:\n",
      "    print '====================================\\n Errors, please correct'\n",
      "else:\n",
      "    print 'Measurment.csv correct, please proceed'"
     ],
     "language": "python",
     "metadata": {},
     "outputs": [
      {
       "output_type": "stream",
       "stream": "stdout",
       "text": [
        "Measurment.csv correct, please proceed\n"
       ]
      }
     ],
     "prompt_number": 25
    },
    {
     "cell_type": "heading",
     "level": 3,
     "metadata": {},
     "source": [
      "Get data and preprocess according to config"
     ]
    },
    {
     "cell_type": "markdown",
     "metadata": {},
     "source": [
      "get image shape metadata"
     ]
    },
    {
     "cell_type": "code",
     "collapsed": false,
     "input": [
      "try:\n",
      "    param = loadmat(os.path.join(rawpath, 'Parameter.mat'))\n",
      "except IOError:\n",
      "    try:\n",
      "        param = loadmat(os.path.join(rawpath, 'parameter.mat'))\n",
      "    except IOError:\n",
      "        filepath = metadata[0][filename_pos]\n",
      "        filepath = os.path.join(rawpath, *filepath.split('\\\\')) \n",
      "        param = loadmat(filepath)\n",
      "shape = (int(param['ys'][0, 0]), int(param['xs'][0, 0]))"
     ],
     "language": "python",
     "metadata": {},
     "outputs": [],
     "prompt_number": 26
    },
    {
     "cell_type": "markdown",
     "metadata": {},
     "source": [
      "create concatenated measurement file (load files and preprocess)"
     ]
    },
    {
     "cell_type": "code",
     "collapsed": false,
     "input": [
      "ts_all = None\n",
      "for l_number, m in enumerate(metadata):\n",
      "    filepath = m[filename_pos]\n",
      "    #convert relative filepath (windows style) to absolute path (current os style)\n",
      "    filepath = os.path.join(rawpath, *filepath.split('\\\\')) \n",
      "    \n",
      "    matdata = loadmat(filepath)\n",
      "    if isinstance(datakey, tuple):\n",
      "        for dk in datakey:\n",
      "            if dk in matdata:\n",
      "                imagedata = matdata[dk].astype(float)\n",
      "                continue\n",
      "    else:\n",
      "        imagedata = matdata[datakey].astype(float)\n",
      "    stim_types = m[blank_pos].strip()\n",
      "    # create stimulus label\n",
      "    stimulus = name2cas[m[name_pos].strip()]\n",
      "    stimulus_add = ''\n",
      "    if 'concentration' in properties:\n",
      "        stimulus_add += '_' + m[properties.index('concentration')]\n",
      "    if 'extraInfo' in properties:\n",
      "        stimulus_add += '_' + m[properties.index('extraInfo')]\n",
      "    # check if only one measurment in file\n",
      "    if len(stim_types)==1: #than add third axes for compatibility\n",
      "        imagedata = imagedata[:,:,np.newaxis]\n",
      "    \n",
      "    # convert each file and concatenate\n",
      "    for ix, blank_or_odor in enumerate(stim_types):\n",
      "        # to save memory skip all blanks\n",
      "        if cfg['skip_blank'] and blank_or_odor != 'o':\n",
      "            continue\n",
      "        full_stimulus = ('_'.join([stimulus, blank_or_odor])+stimulus_add).strip('_')\n",
      "        ts = ia.TimeSeries(imagedata[:,:,ix].T, label_stimuli=[full_stimulus], shape=shape,\n",
      "                           name='_'.join([animal,m[bulb_pos]])) \n",
      "        ts = preprocess(ts)\n",
      "        ts_all = ia.SampleConcat()([ts_all, ts]) if (ts_all != None) else ts\n",
      "\n",
      "if ('correct_bleach' in cfg) and cfg['correct_bleach']:\n",
      "    # subtract mean blank timecourse\n",
      "    mask = np.array(['b' in i for i in ts_all.label_stimuli])\n",
      "    blank  = ts_all.trial_shaped()[mask]\n",
      "    ts_all.set_series((ts_all.trial_shaped()-np.mean(blank,0)[np.newaxis]))    \n",
      "        \n",
      "if not os.path.exists(savepath): os.makedirs(savepath)\n",
      "ts_all.save(os.path.join(savepath, os.path.splitext(os.path.basename(config_file))[0]))"
     ],
     "language": "python",
     "metadata": {},
     "outputs": [],
     "prompt_number": 28
    },
    {
     "cell_type": "heading",
     "level": 3,
     "metadata": {},
     "source": [
      "Create background image"
     ]
    },
    {
     "cell_type": "markdown",
     "metadata": {},
     "source": [
      "look for manually converted bg.png images, if sucessfull proceed with next section. If bg image is tiff file, please convert manually. If it is matfile use one of the 2 options below"
     ]
    },
    {
     "cell_type": "code",
     "collapsed": false,
     "input": [
      "if os.path.exists(os.path.join(rawpath, 'bg.png')):\n",
      "    shutil.copy2(os.path.join(rawpath, 'bg.png'), savepath)\n",
      "    print 'bg.png found, please proceed'\n",
      "elif os.path.exists('/'+os.path.join(*(rawpath.split('/')[:-1]+['bg.png']))):\n",
      "    shutil.copy2('/'+os.path.join(*(rawpath.split('/')[:-1]+['bg.png'])), savepath)\n",
      "    print 'bg.png found, please proceed'\n",
      "else:\n",
      "    print '!!! no bg available, please create !!!'"
     ],
     "language": "python",
     "metadata": {},
     "outputs": [
      {
       "output_type": "stream",
       "stream": "stdout",
       "text": [
        "bg.png found, please proceed\n"
       ]
      }
     ],
     "prompt_number": 29
    },
    {
     "cell_type": "heading",
     "level": 4,
     "metadata": {},
     "source": [
      "(1) create bg from mat file (for old IOS measurements)"
     ]
    },
    {
     "cell_type": "code",
     "collapsed": false,
     "input": [
      "bgfile =  'GFP9.A'\n",
      "im_mat = loadmat(os.path.join(rawpath, bgfile))\n",
      "im_data = im_mat[datakey]\n",
      "shape = (int(im_mat['ys']), int(im_mat['xs']))\n",
      "\n",
      "im = Image.fromarray(np.mean(im_data,1).reshape(shape))\n",
      "im = im.convert('L')\n",
      "im.save(os.path.join(savepath, 'bg.png'))"
     ],
     "language": "python",
     "metadata": {},
     "outputs": []
    },
    {
     "cell_type": "heading",
     "level": 4,
     "metadata": {},
     "source": [
      "(2) create bg from restingfluo.mat file (for FRV measurements)"
     ]
    },
    {
     "cell_type": "code",
     "collapsed": false,
     "input": [
      "im_data = loadmat(os.path.join(rawpath, 'restingfluo.mat'))['restingfluo']\n",
      "im_data /= np.max(im_data)\n",
      "im = Image.fromarray(im_data*256)\n",
      "im = im.convert('L')\n",
      "im.save(os.path.join(savepath, 'bg.png'))"
     ],
     "language": "python",
     "metadata": {},
     "outputs": []
    },
    {
     "cell_type": "heading",
     "level": 3,
     "metadata": {},
     "source": [
      "Convert available handdrawn rois to python"
     ]
    },
    {
     "cell_type": "code",
     "collapsed": false,
     "input": [
      "roipath = '/'+os.path.join(*(rawpath.split('/')[:-1]))\n",
      "shape_keys = ('nxis', 'nyis') #('xis', 'yis')\n",
      "roifile = 'nrois.mat' #rois.mat\n",
      "baseshape = 1024 #1024 for *sph measurements, 128 for *FRV measurements\n",
      "roiload = dataimport.LoadRoi(roipath, roifile, shape_keys, baseshape)\n",
      "rois = roiload(ts_all.shape)\n",
      "rois.save(os.path.join(savepath, 'rois'))"
     ],
     "language": "python",
     "metadata": {},
     "outputs": []
    },
    {
     "cell_type": "heading",
     "level": 4,
     "metadata": {},
     "source": [
      "show ROI outlines just to check"
     ]
    },
    {
     "cell_type": "code",
     "collapsed": false,
     "input": [
      "for roi in rois.shaped2D():\n",
      "    plt.contour(roi,[0.5])"
     ],
     "language": "python",
     "metadata": {},
     "outputs": []
    }
   ],
   "metadata": {}
  }
 ]
}