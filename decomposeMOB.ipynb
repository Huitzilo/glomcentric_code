{
 "metadata": {
  "name": "decomposeMOB"
 },
 "nbformat": 3,
 "nbformat_minor": 0,
 "worksheets": [
  {
   "cells": [
    {
     "cell_type": "heading",
     "level": 1,
     "metadata": {},
     "source": [
      "Decompose MOB data"
     ]
    },
    {
     "cell_type": "code",
     "collapsed": false,
     "input": [
      "import sys\n",
      "sys.path.append('/home/jan/workspace/FUimaging')"
     ],
     "language": "python",
     "metadata": {},
     "outputs": []
    },
    {
     "cell_type": "code",
     "collapsed": false,
     "input": [
      "from configobj import ConfigObj\n",
      "import os, glob\n",
      "import numpy as np\n",
      "import ImageAnalysisComponents as ia\n",
      "from scipy.spatial.distance import pdist"
     ],
     "language": "python",
     "metadata": {},
     "outputs": []
    },
    {
     "cell_type": "heading",
     "level": 3,
     "metadata": {},
     "source": [
      "Specify parameter"
     ]
    },
    {
     "cell_type": "code",
     "collapsed": false,
     "input": [
      "datapath = '/home/jan/Documents/NewAnalysis/MOBconverted/'\n",
      "savepath = '/home/jan/Documents/NewAnalysis/MOBdecomposed/'\n",
      "cfgfile = '/home/jan/Documents/NewAnalysis/configfiles/decompose/sica200.ini' #nnmf_200_sm2_convex_neg.ini'\n",
      "datafile = 'ios_meas'\n",
      "response_window = (3,5) #define frames to calculate odor response"
     ],
     "language": "python",
     "metadata": {},
     "outputs": []
    },
    {
     "cell_type": "code",
     "collapsed": false,
     "input": [
      "animals =  [ani for ani in os.listdir(datapath) if ('FRV' not in ani)]"
     ],
     "language": "python",
     "metadata": {},
     "outputs": []
    },
    {
     "cell_type": "heading",
     "level": 3,
     "metadata": {},
     "source": [
      "NMF factorization"
     ]
    },
    {
     "cell_type": "markdown",
     "metadata": {},
     "source": [
      "Start with sparseness parameter 'sparse_start'. Increase sparseness with 'sparse_increase' steps until spatial component correlation of stimulus dependent components drops below 0.5"
     ]
    },
    {
     "cell_type": "code",
     "collapsed": false,
     "input": [
      "sparse_start = 0.5 #inital sparseness strength\n",
      "sparse_increase = 0.1 #sparsness increase\n",
      "redo = False # redo factorization if it already exists\n",
      "assert 'nnmf' in cfgfile\n",
      "\n",
      "for animal in animals:\n",
      "    \n",
      "    cfg = ConfigObj(cfgfile, unrepr=True)\n",
      "    savelocation = os.path.join(savepath, animal)\n",
      "    savename = os.path.splitext(os.path.basename(cfgfile))[0] + '_sp%02d'%(cfg['sparse_param']*10)+'_'+datafile\n",
      "    if os.path.exists(savelocation):\n",
      "        if os.path.exists(os.path.join(savelocation, savename)) and not(redo):\n",
      "            print '%s already done'%animal\n",
      "            continue\n",
      "    else:\n",
      "        os.makedirs(savelocation)\n",
      "        \n",
      "    filename = os.path.join(datapath, animal, datafile)\n",
      "    ts = ia.TimeSeries()\n",
      "    try:\n",
      "        ts.load(filename)\n",
      "    except IOError:\n",
      "        print '!!! No data for animal %s !!!'%animal\n",
      "        continue\n",
      "    \n",
      "    \n",
      "    cor = 1\n",
      "    while cor>0.5:\n",
      "        # set sparsness level\n",
      "        if 'sparse_param' in cfg:\n",
      "            cfg['sparse_param'] += sparse_increase\n",
      "        else:\n",
      "            cfg['sparse_param'] = sparse_start\n",
      "        \n",
      "        # perform decomposition\n",
      "        decomposer = ia.NNMF(**cfg)\n",
      "        decomposition = decomposer(ts)\n",
      "        decomposition.base._series[np.isnan(decomposition.base._series)] = 0 #clear nans\n",
      "            \n",
      "        # calc spatial cor of stimulus driven components\n",
      "        signal = ia.TrialMean()(ia.CutOut(response_window)(decomposition))\n",
      "        mode_cor = ia.CalcStimulusDrive()(signal)\n",
      "        mask = mode_cor._series.squeeze()<0.5\n",
      "        selected_modes = ia.SelectObjects()(decomposition, mask)   \n",
      "        cor = np.nanmax(1-pdist(selected_modes.base._series, 'correlation'))\n",
      "    \n",
      "    decomposition.save(os.path.join(savelocation, savename))\n",
      "    print '%s done'%animal"
     ],
     "language": "python",
     "metadata": {},
     "outputs": []
    },
    {
     "cell_type": "heading",
     "level": 3,
     "metadata": {},
     "source": [
      "sICA factorization"
     ]
    },
    {
     "cell_type": "code",
     "collapsed": false,
     "input": [
      "redo = False\n",
      "assert 'sica' in cfgfile\n",
      "\n",
      "for animal in animals:\n",
      "    \n",
      "    savelocation = os.path.join(savepath, animal)\n",
      "    savename = os.path.splitext(os.path.basename(cfgfile))[0] + '_' + datafile\n",
      "    if os.path.exists(savelocation):\n",
      "        if os.path.exists(os.path.join(savelocation, savename)) and not(redo):\n",
      "            print '%s already done'%animal\n",
      "            continue\n",
      "    else:\n",
      "        os.makedirs(savelocation)\n",
      "        \n",
      "    filename = os.path.join(datapath, animal, datafile)\n",
      "    ts = ia.TimeSeries()\n",
      "    try:\n",
      "        ts.load(filename)\n",
      "    except IOError:\n",
      "        print '!!! No data for animal %s !!!'%animal\n",
      "        continue\n",
      "    cfg = ConfigObj(cfgfile, unrepr=True)    \n",
      "        \n",
      "    # perform decomposition\n",
      "    decomposer = ia.sICA(**cfg)\n",
      "    decomposition = decomposer(ts)\n",
      "    decomposition.base._series[np.isnan(decomposition.base._series)] = 0 #clear nans\n",
      "   \n",
      "    decomposition.save(os.path.join(savelocation, savename))\n",
      "    print '%s done'%animal"
     ],
     "language": "python",
     "metadata": {},
     "outputs": []
    }
   ],
   "metadata": {}
  }
 ]
}