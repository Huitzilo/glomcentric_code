{
 "cells": [
  {
   "cell_type": "code",
   "execution_count": 1,
   "metadata": {
    "collapsed": false
   },
   "outputs": [],
   "source": [
    "#import sys\n",
    "#sys.path.append('/home/jan/Dokumente/Code/FUImaging/')"
   ]
  },
  {
   "cell_type": "code",
   "execution_count": 2,
   "metadata": {
    "collapsed": false
   },
   "outputs": [],
   "source": [
    "import os, csv, glob, json\n",
    "import scipy, matplotlib\n",
    "import pylab as plt\n",
    "import numpy as np\n",
    "from matplotlib import gridspec\n",
    "from collections import defaultdict\n",
    "from scipy.io import loadmat\n",
    "\n",
    "import regnmf.ImageAnalysisComponents as ia"
   ]
  },
  {
   "cell_type": "code",
   "execution_count": 3,
   "metadata": {
    "collapsed": false
   },
   "outputs": [],
   "source": [
    "fig_dim = (7.48,9.4)\n",
    "global_fs= 8 "
   ]
  },
  {
   "cell_type": "code",
   "execution_count": 4,
   "metadata": {
    "collapsed": false
   },
   "outputs": [],
   "source": [
    "stim_cut =  (8,12) #(3,5) \n",
    "\n",
    "savefile = 'Fig_sPH_new.pdf'\n",
    "#basepath = os.path.join(os.path.pardir, 'glomcentric_data_preprocessed')\n",
    "basepath = os.path.realpath(os.path.join(os.path.pardir, 'glomcentric_data'))\n",
    "datadict_path = os.path.join(basepath, 'DataDicts')\n",
    "\n",
    "cas2name = {l[0]:l[1] for l in csv.reader(open(os.path.join(datadict_path,'Name2MomCas.tab')),  delimiter='\\t')}\n",
    "cas2name['7440-37-1'] = 'Argon (Control)'"
   ]
  },
  {
   "cell_type": "markdown",
   "metadata": {},
   "source": [
    "## Helper functions"
   ]
  },
  {
   "cell_type": "code",
   "execution_count": 5,
   "metadata": {
    "collapsed": false
   },
   "outputs": [],
   "source": [
    "def no_ticks(ax):\n",
    "    ax.set_xticks([])\n",
    "    ax.set_yticks([])\n",
    "  \n",
    "# timecourses plotter\n",
    "rep_param = defaultdict(lambda: {'linewidth':1, 'ls':'--', 'color':'0.8'})\n",
    "rep_param.update({0:{'linewidth':0.6, 'ls':'--' , 'color':'k','marker':'.', 'ms':2, 'dashes':(2,2)}, \n",
    "           1:{'linewidth':0.6, 'ls':'--', 'color':'0.4', 'marker':'.','ms':2, 'dashes':(2,2), 'mec':'0.4'}})\n",
    "def timeplot(ax, data, mode):\n",
    "    xtime = np.arange(12)\n",
    "    stimpos_dict = defaultdict(list)\n",
    "    for lab_ind, lab in enumerate(data.label_stimuli):\n",
    "        stimpos_dict[lab].append(lab_ind)\n",
    "    for stim_num, stim in enumerate(stimpos_dict.keys()):\n",
    "        for stimrep, stimpos in enumerate(stimpos_dict[stim]):\n",
    "            xpoints = xtime + stim_num*12\n",
    "            # only 2 repitions\n",
    "            if stimrep >1:\n",
    "                break          \n",
    "            \n",
    "            if stim_num == 0: # plot with legend\n",
    "                ax.plot(xpoints, data.trial_shaped()[stimpos,:,mode], label='trial %d'%(stimrep+1), **rep_param[stimrep])\n",
    "            else:\n",
    "                ax.plot(xpoints, data.trial_shaped()[stimpos,:,mode],**rep_param[stimrep])\n",
    "\n",
    "    myxticks = np.hstack([xtime+i*12 for i in range(len(stimpos_dict))])\n",
    "    yticks = [0,1,2]\n",
    "    ax.set_yticks(yticks)\n",
    "    ax.set_yticklabels(yticks)\n",
    "    ax.yaxis.set_tick_params(labelsize=7)\n",
    "    ax.set_xticks(range(0, len(stimpos_dict)*12, 12))\n",
    "    ax.set_xticks(myxticks, minor=True)\n",
    "    ax.set_xticklabels([])\n",
    "    ax.set_xlim((0,len(stimpos_dict)*12))\n",
    "    ax.yaxis.set_ticks_position('right')\n",
    "\n",
    "def base_overlay(ax, bg, toplot, alpha_thres=0.3):\n",
    "    raise(Exception(\"fix the temp figure paths - look at the Fig1 notebooks.\"))\n",
    "    fig_temp = plt.figure()\n",
    "    ax_temp = fig_temp.add_subplot(111)\n",
    "    toplot_rgba = plt.cm.jet(toplot) #cmap_bases((toplot+1)/2.)\n",
    "    alpha =0.8*np.ones(toplot.shape)\n",
    "    alpha[np.abs(toplot)<alpha_thres]=0\n",
    "    toplot_rgba[:,:,3]=alpha\n",
    "    ax_temp.imshow(bg, interpolation='none', cmap=plt.cm.bone, \n",
    "                   extent=[-0.5,toplot.shape[0]-0.5,toplot.shape[1]-0.5,-0.5], vmin=-0.1)\n",
    "    ax_temp.hold(True)\n",
    "    ax_temp.imshow(toplot_rgba, interpolation='none')\n",
    "    ax_temp.set_axis_off()\n",
    "    no_ticks(ax_temp)\n",
    "    fig_temp.savefig('/home/jan/mytemp.png', bbox_inches='tight', pad_inches=0)\n",
    "    plt.close(fig_temp)\n",
    "    im = plt.imread('/home/jan/mytemp.png')\n",
    "    ax.imshow(im, interpolation='nearest', extent=[-0.5,toplot.shape[0]-0.5,toplot.shape[1]-0.5,-0.5])\n",
    "    no_ticks(ax)\n",
    "    \n",
    "def condense_list_dict(dic, reducefct=np.mean):\n",
    "    ''' apply reducefct to every value of dictionary'''\n",
    "    reduced_dict = {}\n",
    "    for k, v in dic.items():\n",
    "        reduced_dict[k] = reducefct(v)\n",
    "    return reduced_dict"
   ]
  },
  {
   "cell_type": "markdown",
   "metadata": {},
   "source": [
    "### Get the data"
   ]
  },
  {
   "cell_type": "code",
   "execution_count": 6,
   "metadata": {
    "collapsed": false
   },
   "outputs": [],
   "source": [
    "animal = '120309FRV'\n",
    "method =  'nnmf_20_sm5_convex_negTimelowSP_sp*_sph_meas'\n",
    "#method =  'nnmf_20_sm5_convex_negTimelowSP_sp01_sph_meas'\n",
    "\n",
    "#filt_data_file = os.path.join(basepath, 'MOBconverted', animal, 'sph_meas') #?\n",
    "#bg_file = os.path.join(basepath, 'MOBconverted', animal, 'bg.png') #?\n",
    "#green_file = os.path.join(basepath, 'MOBconverted', animal, 'green.png') # green image\n",
    "#mf_filename = glob.glob(os.path.join(basepath, 'MOBdecomposed', animal, method+'.npy'))\n",
    "\n",
    "filt_data_file = os.path.join(basepath, 'FRV', 'converted', animal, 'sph_meas') #?\n",
    "bg_file = os.path.join(basepath, 'FRV', 'converted', animal, 'bg.png') #?\n",
    "green_file = os.path.join(basepath,  'converted', animal, 'green.png') # green image\n",
    "mf_filename = os.path.join(basepath, 'FRV', 'decomposed', animal, method+'.npy')\n",
    "mf_filename_globbed = glob.glob(mf_filename)\n",
    "assert len(mf_filename_globbed)==1, \"mf_filename was '{}', glob result {}\".format(\n",
    "                                                    mf_filename, mf_filename_globbed)\n",
    "mf_filename = mf_filename_globbed[0].split('.')[0]\n",
    "\n",
    "frv_file = os.path.join(basepath, 'MOBraw', animal, '2p', 'zstack1.mat')\n",
    "frv_filepre = os.path.join(basepath, 'MOBraw', animal, '2p', 'zstack0.mat')"
   ]
  },
  {
   "cell_type": "markdown",
   "metadata": {},
   "source": [
    "#### Load example data"
   ]
  },
  {
   "cell_type": "code",
   "execution_count": 14,
   "metadata": {
    "collapsed": false
   },
   "outputs": [
    {
     "name": "stderr",
     "output_type": "stream",
     "text": [
      "regnmf/ImageAnalysisComponents.py:74: FutureWarning: elementwise comparison failed; returning scalar instead, but in the future will perform elementwise comparison\n",
      "  if not(series == ''):\n"
     ]
    },
    {
     "ename": "IOError",
     "evalue": "[Errno 2] No such file or directory: '/Volumes/FiniteStuff/ResearchData/glomcentric_data/MOBraw/120309FRV/2p/zstack1.mat'",
     "output_type": "error",
     "traceback": [
      "\u001b[0;31m---------------------------------------------------------------------------\u001b[0m",
      "\u001b[0;31mIOError\u001b[0m                                   Traceback (most recent call last)",
      "\u001b[0;32m<ipython-input-14-03948eac3419>\u001b[0m in \u001b[0;36m<module>\u001b[0;34m()\u001b[0m\n\u001b[1;32m     14\u001b[0m \u001b[0;34m\u001b[0m\u001b[0m\n\u001b[1;32m     15\u001b[0m \u001b[0mbg\u001b[0m \u001b[0;34m=\u001b[0m \u001b[0mplt\u001b[0m\u001b[0;34m.\u001b[0m\u001b[0mimread\u001b[0m\u001b[0;34m(\u001b[0m\u001b[0mbg_file\u001b[0m\u001b[0;34m)\u001b[0m\u001b[0;34m\u001b[0m\u001b[0m\n\u001b[0;32m---> 16\u001b[0;31m \u001b[0mfrv\u001b[0m \u001b[0;34m=\u001b[0m \u001b[0mloadmat\u001b[0m\u001b[0;34m(\u001b[0m\u001b[0mfrv_file\u001b[0m\u001b[0;34m)\u001b[0m\u001b[0;34m\u001b[0m\u001b[0m\n\u001b[0m\u001b[1;32m     17\u001b[0m \u001b[0mfrvpre\u001b[0m \u001b[0;34m=\u001b[0m \u001b[0mloadmat\u001b[0m\u001b[0;34m(\u001b[0m\u001b[0mfrv_filepre\u001b[0m\u001b[0;34m)\u001b[0m\u001b[0;34m\u001b[0m\u001b[0m\n\u001b[1;32m     18\u001b[0m \u001b[0;34m\u001b[0m\u001b[0m\n",
      "\u001b[0;32m/Users/micha/anaconda/lib/python2.7/site-packages/scipy/io/matlab/mio.pyc\u001b[0m in \u001b[0;36mloadmat\u001b[0;34m(file_name, mdict, appendmat, **kwargs)\u001b[0m\n\u001b[1;32m    132\u001b[0m     \"\"\"\n\u001b[1;32m    133\u001b[0m     \u001b[0mvariable_names\u001b[0m \u001b[0;34m=\u001b[0m \u001b[0mkwargs\u001b[0m\u001b[0;34m.\u001b[0m\u001b[0mpop\u001b[0m\u001b[0;34m(\u001b[0m\u001b[0;34m'variable_names'\u001b[0m\u001b[0;34m,\u001b[0m \u001b[0mNone\u001b[0m\u001b[0;34m)\u001b[0m\u001b[0;34m\u001b[0m\u001b[0m\n\u001b[0;32m--> 134\u001b[0;31m     \u001b[0mMR\u001b[0m \u001b[0;34m=\u001b[0m \u001b[0mmat_reader_factory\u001b[0m\u001b[0;34m(\u001b[0m\u001b[0mfile_name\u001b[0m\u001b[0;34m,\u001b[0m \u001b[0mappendmat\u001b[0m\u001b[0;34m,\u001b[0m \u001b[0;34m**\u001b[0m\u001b[0mkwargs\u001b[0m\u001b[0;34m)\u001b[0m\u001b[0;34m\u001b[0m\u001b[0m\n\u001b[0m\u001b[1;32m    135\u001b[0m     \u001b[0mmatfile_dict\u001b[0m \u001b[0;34m=\u001b[0m \u001b[0mMR\u001b[0m\u001b[0;34m.\u001b[0m\u001b[0mget_variables\u001b[0m\u001b[0;34m(\u001b[0m\u001b[0mvariable_names\u001b[0m\u001b[0;34m)\u001b[0m\u001b[0;34m\u001b[0m\u001b[0m\n\u001b[1;32m    136\u001b[0m     \u001b[0;32mif\u001b[0m \u001b[0mmdict\u001b[0m \u001b[0;32mis\u001b[0m \u001b[0;32mnot\u001b[0m \u001b[0mNone\u001b[0m\u001b[0;34m:\u001b[0m\u001b[0;34m\u001b[0m\u001b[0m\n",
      "\u001b[0;32m/Users/micha/anaconda/lib/python2.7/site-packages/scipy/io/matlab/mio.pyc\u001b[0m in \u001b[0;36mmat_reader_factory\u001b[0;34m(file_name, appendmat, **kwargs)\u001b[0m\n\u001b[1;32m     55\u001b[0m        \u001b[0mtype\u001b[0m \u001b[0mdetected\u001b[0m \u001b[0;32min\u001b[0m \u001b[0;34m`\u001b[0m\u001b[0mfilename\u001b[0m\u001b[0;34m`\u001b[0m\u001b[0;34m.\u001b[0m\u001b[0;34m\u001b[0m\u001b[0m\n\u001b[1;32m     56\u001b[0m     \"\"\"\n\u001b[0;32m---> 57\u001b[0;31m     \u001b[0mbyte_stream\u001b[0m \u001b[0;34m=\u001b[0m \u001b[0m_open_file\u001b[0m\u001b[0;34m(\u001b[0m\u001b[0mfile_name\u001b[0m\u001b[0;34m,\u001b[0m \u001b[0mappendmat\u001b[0m\u001b[0;34m)\u001b[0m\u001b[0;34m\u001b[0m\u001b[0m\n\u001b[0m\u001b[1;32m     58\u001b[0m     \u001b[0mmjv\u001b[0m\u001b[0;34m,\u001b[0m \u001b[0mmnv\u001b[0m \u001b[0;34m=\u001b[0m \u001b[0mget_matfile_version\u001b[0m\u001b[0;34m(\u001b[0m\u001b[0mbyte_stream\u001b[0m\u001b[0;34m)\u001b[0m\u001b[0;34m\u001b[0m\u001b[0m\n\u001b[1;32m     59\u001b[0m     \u001b[0;32mif\u001b[0m \u001b[0mmjv\u001b[0m \u001b[0;34m==\u001b[0m \u001b[0;36m0\u001b[0m\u001b[0;34m:\u001b[0m\u001b[0;34m\u001b[0m\u001b[0m\n",
      "\u001b[0;32m/Users/micha/anaconda/lib/python2.7/site-packages/scipy/io/matlab/mio.pyc\u001b[0m in \u001b[0;36m_open_file\u001b[0;34m(file_like, appendmat)\u001b[0m\n\u001b[1;32m     21\u001b[0m     \u001b[0;32mif\u001b[0m \u001b[0misinstance\u001b[0m\u001b[0;34m(\u001b[0m\u001b[0mfile_like\u001b[0m\u001b[0;34m,\u001b[0m \u001b[0mstring_types\u001b[0m\u001b[0;34m)\u001b[0m\u001b[0;34m:\u001b[0m\u001b[0;34m\u001b[0m\u001b[0m\n\u001b[1;32m     22\u001b[0m         \u001b[0;32mtry\u001b[0m\u001b[0;34m:\u001b[0m\u001b[0;34m\u001b[0m\u001b[0m\n\u001b[0;32m---> 23\u001b[0;31m             \u001b[0;32mreturn\u001b[0m \u001b[0mopen\u001b[0m\u001b[0;34m(\u001b[0m\u001b[0mfile_like\u001b[0m\u001b[0;34m,\u001b[0m \u001b[0;34m'rb'\u001b[0m\u001b[0;34m)\u001b[0m\u001b[0;34m\u001b[0m\u001b[0m\n\u001b[0m\u001b[1;32m     24\u001b[0m         \u001b[0;32mexcept\u001b[0m \u001b[0mIOError\u001b[0m \u001b[0;32mas\u001b[0m \u001b[0me\u001b[0m\u001b[0;34m:\u001b[0m\u001b[0;34m\u001b[0m\u001b[0m\n\u001b[1;32m     25\u001b[0m             \u001b[0;32mif\u001b[0m \u001b[0mappendmat\u001b[0m \u001b[0;32mand\u001b[0m \u001b[0;32mnot\u001b[0m \u001b[0mfile_like\u001b[0m\u001b[0;34m.\u001b[0m\u001b[0mendswith\u001b[0m\u001b[0;34m(\u001b[0m\u001b[0;34m'.mat'\u001b[0m\u001b[0;34m)\u001b[0m\u001b[0;34m:\u001b[0m\u001b[0;34m\u001b[0m\u001b[0m\n",
      "\u001b[0;31mIOError\u001b[0m: [Errno 2] No such file or directory: '/Volumes/FiniteStuff/ResearchData/glomcentric_data/MOBraw/120309FRV/2p/zstack1.mat'"
     ]
    }
   ],
   "source": [
    "filt_data_raw = ia.TimeSeries()\n",
    "filt_data_raw.load(filt_data_file)\n",
    "filt_data = ia.TrialMean()(ia.CutOut(stim_cut)(filt_data_raw))\n",
    "odor_mask = np.array(['o' in lab for lab in filt_data.label_stimuli])\n",
    "filt_data = ia.SelectTrials()(filt_data, odor_mask)\n",
    "filt_data.label_stimuli = [i.split('_')[0] for i in filt_data.label_stimuli]\n",
    "filt_data = ia.SingleSampleResponse()(filt_data)\n",
    "\n",
    "mf = ia.TimeSeries()\n",
    "mf.load(mf_filename)\n",
    "odor_mask = np.array(['o' in lab for lab in mf.label_stimuli])\n",
    "mf = ia.SelectTrials()(mf, odor_mask)\n",
    "mf.label_stimuli = [i.split('_')[0] for i in mf.label_stimuli]\n",
    "\n",
    "bg = plt.imread(bg_file)\n",
    "frv = loadmat(frv_file)\n",
    "frvpre = loadmat(frv_filepre)\n",
    "\n",
    "rois = ia.TimeSeries()\n",
    "#rois.load(os.path.join(basepath, 'MOBconverted', animal, 'rois'))\n",
    "rois.load(os.path.join(basepath, 'FRV', 'converted', animal, 'rois'))"
   ]
  },
  {
   "cell_type": "markdown",
   "metadata": {},
   "source": [
    "#### Load sph spectrum"
   ]
  },
  {
   "cell_type": "code",
   "execution_count": 10,
   "metadata": {
    "collapsed": false
   },
   "outputs": [
    {
     "ename": "KeyError",
     "evalue": "'nnmf_50_sm5_convex_negTimelowSP_sp*_sph_measnormed'",
     "output_type": "error",
     "traceback": [
      "\u001b[0;31m---------------------------------------------------------------------------\u001b[0m",
      "\u001b[0;31mKeyError\u001b[0m                                  Traceback (most recent call last)",
      "\u001b[0;32m<ipython-input-10-e2be8d0f9d34>\u001b[0m in \u001b[0;36m<module>\u001b[0;34m()\u001b[0m\n\u001b[1;32m      7\u001b[0m \u001b[0;34m\u001b[0m\u001b[0m\n\u001b[1;32m      8\u001b[0m \u001b[0;31m#Select only pure odors\u001b[0m\u001b[0;34m\u001b[0m\u001b[0;34m\u001b[0m\u001b[0m\n\u001b[0;32m----> 9\u001b[0;31m \u001b[0mpure_odors\u001b[0m \u001b[0;34m=\u001b[0m \u001b[0;34m[\u001b[0m\u001b[0mo\u001b[0m \u001b[0;32mfor\u001b[0m \u001b[0mo\u001b[0m \u001b[0;32min\u001b[0m \u001b[0mmor182spec\u001b[0m\u001b[0;34m[\u001b[0m\u001b[0mmethod\u001b[0m\u001b[0;34m]\u001b[0m\u001b[0;34m.\u001b[0m\u001b[0mkeys\u001b[0m\u001b[0;34m(\u001b[0m\u001b[0;34m)\u001b[0m \u001b[0;32mif\u001b[0m \u001b[0;34m(\u001b[0m\u001b[0mlen\u001b[0m\u001b[0;34m(\u001b[0m\u001b[0mo\u001b[0m\u001b[0;34m.\u001b[0m\u001b[0msplit\u001b[0m\u001b[0;34m(\u001b[0m\u001b[0;34m'_'\u001b[0m\u001b[0;34m)\u001b[0m\u001b[0;34m)\u001b[0m\u001b[0;34m<\u001b[0m\u001b[0;36m2\u001b[0m\u001b[0;34m)\u001b[0m\u001b[0;34m]\u001b[0m\u001b[0;34m\u001b[0m\u001b[0m\n\u001b[0m\u001b[1;32m     10\u001b[0m \u001b[0mpure_odor_resp\u001b[0m \u001b[0;34m=\u001b[0m \u001b[0;34m[\u001b[0m\u001b[0maverage_function\u001b[0m\u001b[0;34m(\u001b[0m\u001b[0mmor182spec\u001b[0m\u001b[0;34m[\u001b[0m\u001b[0mmethod\u001b[0m\u001b[0;34m]\u001b[0m\u001b[0;34m[\u001b[0m\u001b[0mo\u001b[0m\u001b[0;34m]\u001b[0m\u001b[0;34m)\u001b[0m \u001b[0;32mfor\u001b[0m \u001b[0mo\u001b[0m \u001b[0;32min\u001b[0m \u001b[0mpure_odors\u001b[0m\u001b[0;34m]\u001b[0m\u001b[0;34m\u001b[0m\u001b[0m\n\u001b[1;32m     11\u001b[0m \u001b[0modors_sorted\u001b[0m \u001b[0;34m=\u001b[0m \u001b[0;34m[\u001b[0m\u001b[0mpure_odors\u001b[0m\u001b[0;34m[\u001b[0m\u001b[0mi\u001b[0m\u001b[0;34m]\u001b[0m \u001b[0;32mfor\u001b[0m \u001b[0mi\u001b[0m \u001b[0;32min\u001b[0m \u001b[0mnp\u001b[0m\u001b[0;34m.\u001b[0m\u001b[0margsort\u001b[0m\u001b[0;34m(\u001b[0m\u001b[0mpure_odor_resp\u001b[0m\u001b[0;34m)\u001b[0m\u001b[0;34m]\u001b[0m\u001b[0;34m\u001b[0m\u001b[0m\n",
      "\u001b[0;31mKeyError\u001b[0m: 'nnmf_50_sm5_convex_negTimelowSP_sp*_sph_measnormed'"
     ]
    }
   ],
   "source": [
    "average_function = np.median\n",
    "#method =  'nnmf_20_sm5_convex_negTimelowSP_sp*_sph_measnormed'\n",
    "method =  'nnmf_50_sm5_convex_negTimelowSP_sp*_sph_measnormed'\n",
    "mor182spec_file = os.path.join(basepath, 'DataDicts', 'MOR18-2spec_sph.json')\n",
    "#mor182spec_file = os.path.join(basepath, 'DataDicts', 'MOR18-2spec.json')\n",
    "mor182spec = json.load(open(mor182spec_file))\n",
    "\n",
    "#Select only pure odors\n",
    "pure_odors = [o for o in mor182spec[method].keys() if (len(o.split('_'))<2)]\n",
    "pure_odor_resp = [average_function(mor182spec[method][o]) for o in pure_odors]\n",
    "odors_sorted = [pure_odors[i] for i in np.argsort(pure_odor_resp)]\n",
    "spec = [average_function(mor182spec[method][i]) for i in odors_sorted]"
   ]
  },
  {
   "cell_type": "code",
   "execution_count": 39,
   "metadata": {
    "collapsed": false
   },
   "outputs": [
    {
     "data": {
      "text/plain": [
       "'nnmf_20_sm5_convex_negTimelowSP_sp01_sph_measnormed'"
      ]
     },
     "execution_count": 39,
     "metadata": {},
     "output_type": "execute_result"
    }
   ],
   "source": [
    "method"
   ]
  },
  {
   "cell_type": "markdown",
   "metadata": {},
   "source": [
    "#### Load ios spectrum"
   ]
  },
  {
   "cell_type": "code",
   "execution_count": 9,
   "metadata": {
    "collapsed": false
   },
   "outputs": [],
   "source": [
    "methodIOS =  'nnmf_200_sm2_convex_negTimelowSP_sp*_ios_measnormed'\n",
    "mor182specIOS_file = os.path.join(basepath, 'DataDicts', 'MOR18-2spec.json')\n",
    "mor182specIOS = json.load(open(mor182specIOS_file))\n",
    "\n",
    "#Get response for odors included in SPH measurements\n",
    "IOSspec = [average_function(mor182specIOS[methodIOS][o]) for o in odors_sorted]\n",
    "\n",
    "#mask to exclude odors with less than 3 IOS measurements\n",
    "num_IOS = [len(mor182specIOS[methodIOS][o]) for o in odors_sorted]\n",
    "mask = np.array(num_IOS)>3"
   ]
  },
  {
   "cell_type": "markdown",
   "metadata": {},
   "source": [
    "## Plot the data"
   ]
  },
  {
   "cell_type": "code",
   "execution_count": 11,
   "metadata": {
    "collapsed": false
   },
   "outputs": [],
   "source": [
    "\n",
    "layout = {   'axes.labelsize': 8,\n",
    "             'axes.linewidth': .5, \n",
    "             'xtick.major.size': 2,     # major tick size in points\n",
    "             'xtick.minor.size': 1,     # minor tick size in points\n",
    "             'xtick.labelsize': 7,       # fontsize of the tick labels\n",
    "             'xtick.major.pad': 2,  \n",
    "             \n",
    "             'ytick.major.size': 2,      # major tick size in points\n",
    "             'ytick.minor.size': 1,     # minor tick size in points\n",
    "             'ytick.labelsize':7,       # fontsize of the tick labels\n",
    "             'ytick.major.pad': 2,\n",
    "             'mathtext.default' : 'regular'\n",
    "             }\n",
    "\n",
    "import matplotlib as mpl\n",
    "for k, v in layout.items():\n",
    "    mpl.rcParams[k] = v "
   ]
  },
  {
   "cell_type": "code",
   "execution_count": 47,
   "metadata": {
    "collapsed": false
   },
   "outputs": [],
   "source": [
    "fig  = plt.figure(figsize=fig_dim)\n",
    "global_fs= 8 \n",
    "\n",
    "\n",
    "cas2plot =['7440-37-1', '591-87-7', '109-60-4', '554-12-1',  '105-37-3', '623-36-9']\n",
    "\n",
    "bottom_line1 = 0.88\n",
    "# plot resting fluo0 \n",
    "gs = gridspec.GridSpec(1,1)\n",
    "gs.update(**{'left':0.015, 'right':0.125, 'top':0.97, 'bottom':bottom_line1})\n",
    "fig.text(0.005, 0.97, '(a)', fontweight='bold', fontsize=global_fs, ha='left', va='bottom')\n",
    "\n",
    "ax = fig.add_subplot(gs[0])\n",
    "im_h = ax.imshow(np.mean(frvpre['ch2'][:,:,10:], axis=2), interpolation='none', cmap=plt.cm.bone)\n",
    "imsize = frvpre['ch2'].shape[:2]\n",
    "for roi in rois.shaped2D():\n",
    "    ax.contour(roi, [0.5], colors=['y'], extent=[0,imsize[0],0,imsize[1]])\n",
    "no_ticks(ax)\n",
    "ax.arrow(398+65,415+65, -50, -50, head_width=20, head_length=20, fc='r', ec='r')\n",
    "\n",
    "\n",
    "# plot image maps\n",
    "gs = gridspec.GridSpec(1,6)\n",
    "gs.update(**{'left':0.145, 'right':0.815, 'top':0.97, 'bottom':bottom_line1, 'wspace':0.})\n",
    "fig.text(0.15, 0.97, '(b)', fontweight='bold', fontsize=global_fs, ha='right', va='bottom')\n",
    "\n",
    "\n",
    "for ix, cas in enumerate(cas2plot):\n",
    "    toplot = filt_data.shaped2D()[filt_data.label_stimuli.index(cas)]\n",
    "    ax = fig.add_subplot(gs[0,ix])\n",
    "    im_h = ax.imshow(toplot, interpolation='none', vmin=-1.2, vmax=1.2)\n",
    "    ax.set_title(cas2name[cas], size=6)\n",
    "    # draw rois\n",
    "    for roi in rois.shaped2D():\n",
    "        ax.contour(roi, [0.5], colors=['w'])\n",
    "    no_ticks(ax)\n",
    "    \n",
    "# add colorbar\n",
    "axbar = fig.add_axes([0.82, bottom_line1, 0.01, 0.97-bottom_line1])\n",
    "cbar = fig.colorbar(im_h, axbar)\n",
    "cbar.set_ticks([-1,0,1])\n",
    "cbar.set_label(r'$\\Delta F/F$'+ u' [%]', size=global_fs, labelpad=-1)\n",
    "axbar.yaxis.set_tick_params(labelsize=global_fs, pad=2)\n",
    "      \n",
    "# plot resting fluo post mortem\n",
    "gs = gridspec.GridSpec(1,1)\n",
    "gs.update(**{'left':0.89, 'right':0.99, 'top':0.97, 'wspace':0., 'bottom':bottom_line1})\n",
    "'''\n",
    "ax = fig.add_subplot(gs[0])\n",
    "im_h = ax.imshow(np.mean(frv['ch2'], axis=2), interpolation='none', cmap=plt.cm.bone)\n",
    "no_ticks(ax)\n",
    "'''\n",
    "ax = fig.add_subplot(gs[0])\n",
    "fig.text(0.89, 0.97, '(c)', fontweight='bold', fontsize=global_fs, ha='right', va='bottom')\n",
    "im_h = ax.imshow(np.mean(frv['ch1'], axis=2), interpolation='none', cmap=plt.cm.bone)\n",
    "ax.arrow(402+65,185+65, -50, -50, head_width=20, head_length=20, fc='r', ec='r')\n",
    "no_ticks(ax)\n",
    "\n",
    "#plt.show()"
   ]
  },
  {
   "cell_type": "code",
   "execution_count": 48,
   "metadata": {
    "collapsed": false
   },
   "outputs": [
    {
     "data": {
      "text/plain": [
       "<matplotlib.text.Text at 0xe08ba8c>"
      ]
     },
     "execution_count": 48,
     "metadata": {},
     "output_type": "execute_result"
    }
   ],
   "source": [
    "#fig  = plt.figure(figsize=fig_dim)\n",
    "\n",
    "components2plot = [1,2]\n",
    "\n",
    "gs = gridspec.GridSpec(2,2, width_ratios=[1.1,5])\n",
    "gs.update(**{'left':0.015, 'right':0.66, 'top':0.85, 'bottom':0.67, 'wspace':0.01, 'hspace':0.05})\n",
    "\n",
    "fig.text(0.01, 0.85, '(d)', fontweight='bold', fontsize=global_fs, ha='left', va='bottom')\n",
    "\n",
    "\n",
    "for ix, comp in enumerate(components2plot):\n",
    "    ax = fig.add_subplot(gs[ix,0])\n",
    "    base_overlay(ax, bg, mf.base.shaped2D()[comp], alpha_thres=0.1)\n",
    "    for roi in rois.shaped2D():\n",
    "        ax.contour(roi, [0.5], colors=['y'])\n",
    "    ax = fig.add_subplot(gs[ix,1])\n",
    "    timeplot(ax, mf, comp)\n",
    "    ax.set_ylabel('$a_k$' + u'[%]', size=global_fs, labelpad=2)\n",
    "    ax.set_ylim([-0.2,1.2])\n",
    "    ax.yaxis.set_tick_params(pad=2)\n",
    "    ax.yaxis.set_label_position('right')\n",
    "ax.set_xlabel('f', size=global_fs)\n",
    "\n",
    "# make legend\n",
    "ax.legend(loc = 'upper left', numpoints=2, ncol=2, prop={'size':6}, columnspacing=0.5, \n",
    "          handlelength=2, handletextpad=0.3, frameon=False, borderaxespad=0.5)\n",
    "\n",
    "# colormap\n",
    "jetcmap = plt.cm.get_cmap(\"jet\", 20) #generate a jet map with 20 values\n",
    "jet_vals = jetcmap(np.arange(20)) #extract those values as an array\n",
    "jet_vals[0] = [0.5, 0.5, 0.5, 1] #change the first value\n",
    "jet_vals[1] = [0.5, 0.5, 0.5, 1] #change the first value\n",
    "newcmap = mpl.colors.LinearSegmentedColormap.from_list(\"newjet\", jet_vals)\n",
    "    \n",
    "# colorbar\n",
    "axbar = fig.add_axes([0.03,0.66,0.08,0.005])\n",
    "colordata = np.linspace(0,1,101)\n",
    "colordata[0:10]=0\n",
    "axbar.imshow(colordata[:,np.newaxis].T, cmap=newcmap, aspect='auto')\n",
    "axbar.set_yticks([])\n",
    "axbar.xaxis.set_tick_params(labelsize=global_fs, pad=2)\n",
    "axbar.set_xticks([10, 101])\n",
    "axbar.set_xticklabels([0.1,1])\n",
    "axbar.set_xlabel('$x_{k}$', size=global_fs, labelpad=-2)\n",
    "\n",
    "#plt.show()"
   ]
  },
  {
   "cell_type": "code",
   "execution_count": 49,
   "metadata": {
    "collapsed": false
   },
   "outputs": [],
   "source": [
    "gs = matplotlib.gridspec.GridSpec(1,1, top=0.85, bottom=0.67, left=0.75, right=0.98)\n",
    "fig.text(0.73, 0.85, '(e)', fontweight='bold', fontsize=global_fs, ha='right', va='bottom')\n",
    "\n",
    "ax = fig.add_subplot(gs[0])\n",
    "ax.plot(np.array(spec)[mask], np.array(IOSspec)[mask], 'o', mfc='none', mec='k', ms=4, mew=1)\n",
    "ax.plot([-0.2,1.2],[-0.2,1.2],':k')\n",
    "#ax.plot(iso_r.X_, iso_r.y_)\n",
    "ax.xaxis.set_tick_params(labelsize=global_fs)\n",
    "ax.set_xticks([0,1])\n",
    "#ax.set_yticks(np.array(IOSspec)[mask], minor=True)\n",
    "#ax.set_yticklabels([cas2name[odors_sorted[i]].decode(\"utf8\") for i in np.where(mask)[0]], size=6, minor=True)\n",
    "ax.yaxis.set_tick_params(labelsize=global_fs)#label2On=True, label1On=False)\n",
    "ax.set_yticks([0,1])\n",
    "ax.set_ylabel('$a_{rel}^{IOS}$', size=global_fs, labelpad=-2)\n",
    "ax.set_xlabel('$a_{rel}^{SPH}$', size=global_fs, labelpad=-2)\n",
    "\n",
    "fig.savefig(savefile, bbox_inches='tight')\n",
    "plt.show()"
   ]
  }
 ],
 "metadata": {
  "kernelspec": {
   "display_name": "Python 2",
   "language": "python",
   "name": "python2"
  },
  "language_info": {
   "codemirror_mode": {
    "name": "ipython",
    "version": 2
   },
   "file_extension": ".py",
   "mimetype": "text/x-python",
   "name": "python",
   "nbconvert_exporter": "python",
   "pygments_lexer": "ipython2",
   "version": "2.7.10"
  }
 },
 "nbformat": 4,
 "nbformat_minor": 0
}
