{
 "metadata": {
  "name": "AssignMOR18-2mode"
 },
 "nbformat": 3,
 "nbformat_minor": 0,
 "worksheets": [
  {
   "cells": [
    {
     "cell_type": "heading",
     "level": 1,
     "metadata": {},
     "source": [
      "Manually assign MOR18-2 modes in factorization"
     ]
    },
    {
     "cell_type": "code",
     "collapsed": false,
     "input": [
      "import sys\n",
      "sys.path.append('/home/jan/workspace/FUimaging/')\n",
      "sys.path.append('/home/jan/workspace/CleanAnalysis/')"
     ],
     "language": "python",
     "metadata": {},
     "outputs": []
    },
    {
     "cell_type": "code",
     "collapsed": false,
     "input": [
      "import matplotlib.pyplot as plt\n",
      "import matplotlib\n",
      "import numpy as np\n",
      "import os, glob, json, pickle\n",
      "from scipy.spatial.distance import pdist, squareform\n",
      "from scipy.cluster.hierarchy import linkage, dendrogram\n",
      "from collections import defaultdict\n",
      "from PIL import Image\n",
      "\n",
      "import ImageAnalysisComponents as ia\n",
      "from ModeSelector import AssignMode"
     ],
     "language": "python",
     "metadata": {},
     "outputs": []
    },
    {
     "cell_type": "heading",
     "level": 3,
     "metadata": {},
     "source": [
      "Specify parameter"
     ]
    },
    {
     "cell_type": "code",
     "collapsed": false,
     "input": [
      "data_location = '/home/jan/Documents/NewAnalysis/MOBdecomposed'\n",
      "bg_location = '/home/jan/Documents/NewAnalysis/MOBconverted'\n",
      "method = 'nnmf_200_sm2_convex_neg_sp*_ios_meas'\n",
      "aliasfile = '/home/jan/Documents/NewAnalysis/DataDicts/alias.json'\n",
      "savepath182modes = '/home/jan/Documents/NewAnalysis/Vis/MOR18-2modes/'\n",
      "mor182spec_file = '/home/jan/Documents/NewAnalysis/DataDicts/MOR18-2spec.json'\n",
      "stim_window = (3,5)"
     ],
     "language": "python",
     "metadata": {},
     "outputs": [],
     "prompt_number": 24
    },
    {
     "cell_type": "code",
     "collapsed": false,
     "input": [
      "animals = [a for a in os.listdir(data_location) if 'sph' not in a]\n",
      "animals.remove('110616c') # no repeated measurements"
     ],
     "language": "python",
     "metadata": {},
     "outputs": []
    },
    {
     "cell_type": "heading",
     "level": 3,
     "metadata": {},
     "source": [
      "GUI to assign MOR18-2 mode"
     ]
    },
    {
     "cell_type": "markdown",
     "metadata": {},
     "source": [
      "Load or create dictionary with mode label (alias)"
     ]
    },
    {
     "cell_type": "code",
     "collapsed": false,
     "input": [
      "if os.path.exists(aliasfile):\n",
      "    alias_dict = json.load(open(aliasfile))\n",
      "else:\n",
      "    alias_dict = {}\n",
      "if method not in alias_dict:\n",
      "    alias_dict[method]={}"
     ],
     "language": "python",
     "metadata": {},
     "outputs": []
    },
    {
     "cell_type": "markdown",
     "metadata": {},
     "source": [
      "Left panel shows all extracted modes (blue modes with high stimulus correlation >0.5, grey all others). Right panel shows currently selected mode. Press any pixel to select the mode, most strongly participation in this pixel. Hit button to mark current mode as MOR18-2 mode (becomes red-yellow)"
     ]
    },
    {
     "cell_type": "code",
     "collapsed": false,
     "input": [
      "for animal in np.sort(animals):\n",
      "    bg = plt.imread(os.path.join(bg_location, animal, 'bg.png'))\n",
      "    ts = ia.TimeSeries()\n",
      "\n",
      "    filename = glob.glob(os.path.join(data_location, animal, method+'.npy'))\n",
      "    assert len(filename)!=1\n",
      "    filename = filename[0].split('.')[0]\n",
      "    ts.load(filename)\n",
      "    \n",
      "    odor_response = ia.TrialMean()(ia.CutOut(stim_window)(ts))\n",
      "    ts.t2t = ia.CalcStimulusDrive()(odor_response)._series.squeeze() \n",
      "      \n",
      "    if (animal in alias_dict[method]):\n",
      "        alias_method = alias_dict[method][animal]\n",
      "    else:\n",
      "        alias_method = {}\n",
      "    selector = AssignMode({'mf':ts, 'bg':bg, 'alias':alias_method})\n",
      "    plt.show()\n",
      "    if selector.alias:\n",
      "        alias_dict[method][animal]=selector.alias   \n",
      "    \n",
      "json.dump(alias_dict, open(aliasfile, 'w'))"
     ],
     "language": "python",
     "metadata": {},
     "outputs": []
    },
    {
     "cell_type": "heading",
     "level": 3,
     "metadata": {},
     "source": [
      "Plot all extracted MOR18-2 modes"
     ]
    },
    {
     "cell_type": "code",
     "collapsed": false,
     "input": [
      "methods = alias_dict.keys()\n",
      "\n",
      "for method in methods:\n",
      "    fig = plt.figure(figsize=(20, 3*len(alias_dict[method])))\n",
      "    gs = matplotlib.gridspec.GridSpec(len(alias_dict[method]),1, left=0.02, hspace=0.7, top=0.97, right=0.99)\n",
      "    \n",
      "    modecolors = ['g','b','c']\n",
      "    for ix, animal in enumerate(np.sort(alias_dict[method].keys())):\n",
      "        gs_inner = matplotlib.gridspec.GridSpecFromSubplotSpec(1,2, subplot_spec=gs[ix], width_ratios=(2,8))\n",
      "        ax = fig.add_subplot(gs_inner[0])    \n",
      "        bg = Image.open(os.path.join(bg_location, animal, 'bg.png'))\n",
      "        bg = bg.convert('L')\n",
      "        \n",
      "        mf = ia.TimeSeries()\n",
      "        filename = glob.glob(os.path.join(data_location, animal, method+'.npy'))\n",
      "        assert len(filename) == 1\n",
      "        filename = filename[0].split('.')[0]\n",
      "        mf.load(filename)\n",
      "        \n",
      "        bg = bg.resize(mf.base.shape[::-1])\n",
      "        bg = np.asarray(bg)\n",
      "        \n",
      "        mf = ia.SingleSampleResponse()(ia.TrialMean()(ia.CutOut(stim_window)(mf)))\n",
      "        order_ix = np.argsort(mf.label_stimuli)\n",
      "        mf = ia.SelectTrials()(mf, order_ix)\n",
      "        \n",
      "        myextent = np.array([0, mf.base.shape[1], mf.base.shape[0], 0])-0.5\n",
      "        ax.imshow(bg, interpolation='none', extent=myextent, cmap=plt.cm.bone)\n",
      "        for ix, base_ix in enumerate(alias_dict[method][animal]['MOR18-2']):\n",
      "            ax.contour(mf.base.shaped2D()[base_ix], [-0.3,0.3,0.7], colors=['m']+2*[modecolors[ix]], lw=2)\n",
      "        ax.set_xticks([])\n",
      "        ax.set_yticks([])\n",
      "        ax.set_ylabel(animal)\n",
      "        \n",
      "        ax = fig.add_subplot(gs_inner[1])\n",
      "        for ix, base_ix in enumerate(alias_dict[method][animal]['MOR18-2']):\n",
      "            ax.plot(mf.matrix_shaped()[:,base_ix], color=modecolors[ix])\n",
      "        ax.set_xticks(range(len(order_ix)))\n",
      "        ax.set_xticklabels(mf.label_stimuli, rotation='45', ha='right', size=10)\n",
      "        ax.set_xlim((-0.5,len(order_ix)-0.5))\n",
      "        ax.set_yticks([0,0.5])\n",
      "        \n",
      "    fig.savefig(os.path.join(savepath182modes, method+'.pdf'))\n",
      "    plt.close('all')"
     ],
     "language": "python",
     "metadata": {},
     "outputs": [],
     "prompt_number": 18
    },
    {
     "cell_type": "heading",
     "level": 3,
     "metadata": {},
     "source": [
      "Collect and norm 18-2 response spectra "
     ]
    },
    {
     "cell_type": "code",
     "collapsed": false,
     "input": [
      "norm_to = '554-12-1' #Methyl propionate\n",
      "skip = []"
     ],
     "language": "python",
     "metadata": {},
     "outputs": [],
     "prompt_number": 32
    },
    {
     "cell_type": "code",
     "collapsed": false,
     "input": [
      "to_remove = ['rechts','links','re','li','50grad','old', 'o']\n",
      "\n",
      "def clear_label(label):\n",
      "    if '_' in label:\n",
      "        label_split = label.split('_')\n",
      "    for remove in set(to_remove).intersection(label_split):\n",
      "        label_split.remove(remove)\n",
      "    label = '_'.join(label_split)\n",
      "    return label"
     ],
     "language": "python",
     "metadata": {},
     "outputs": [],
     "prompt_number": 33
    },
    {
     "cell_type": "code",
     "collapsed": false,
     "input": [
      "response_dict = defaultdict(list)\n",
      "for ix, animal in enumerate(np.sort(alias_dict[method].keys())):\n",
      "    if animal in skip: \n",
      "        continue\n",
      "    \n",
      "    mf = ia.TimeSeries()\n",
      "    filename = glob.glob(os.path.join(data_location, animal, method+'.npy'))\n",
      "    assert len(filename) == 1\n",
      "    filename = filename[0].split('.')[0]\n",
      "    mf.load(filename)\n",
      "  \n",
      "    mf.label_stimuli = [clear_label(i) for i in mf.label_stimuli]\n",
      "    #mf = ia.SelectTrials()(mf, np.array(mf.label_stimuli).astype('bool'))\n",
      "    mf = ia.SingleSampleResponse()(ia.TrialMean()(ia.CutOut(stim_window)(mf)))\n",
      "    \n",
      "   \n",
      "    for ix, base_ix in enumerate(alias_dict[method][animal]['MOR18-2']):\n",
      "        resp = mf._series[:,base_ix]\n",
      "        # normieren\n",
      "        resp /= resp[mf.label_stimuli.index(norm_to)]\n",
      "        [response_dict[k].append(v) for k,v in zip(mf.label_stimuli, resp)]       "
     ],
     "language": "python",
     "metadata": {},
     "outputs": [],
     "prompt_number": 34
    },
    {
     "cell_type": "code",
     "collapsed": false,
     "input": [
      "mor182spec = json.load(open(mor182spec_file))\n",
      "mor182spec[method] = response_dict\n",
      "json.dump(mor182spec, open(mor182spec_file, 'w'))"
     ],
     "language": "python",
     "metadata": {},
     "outputs": []
    },
    {
     "cell_type": "code",
     "collapsed": false,
     "input": [],
     "language": "python",
     "metadata": {},
     "outputs": [
      {
       "output_type": "pyout",
       "prompt_number": 40,
       "text": [
        "0"
       ]
      }
     ],
     "prompt_number": 40
    },
    {
     "cell_type": "code",
     "collapsed": false,
     "input": [],
     "language": "python",
     "metadata": {},
     "outputs": []
    }
   ],
   "metadata": {}
  }
 ]
}